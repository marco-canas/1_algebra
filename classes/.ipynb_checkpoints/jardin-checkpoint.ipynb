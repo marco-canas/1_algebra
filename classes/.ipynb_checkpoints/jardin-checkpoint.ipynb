{
 "cells": [
  {
   "cell_type": "code",
   "execution_count": null,
   "id": "59e380c1",
   "metadata": {},
   "outputs": [],
   "source": []
  },
  {
   "cell_type": "markdown",
   "id": "df0bc7de",
   "metadata": {},
   "source": [
    "## Jardin"
   ]
  },
  {
   "cell_type": "markdown",
   "id": "f7bc6582",
   "metadata": {},
   "source": [
    "41. Dimensiones de un jardín Un granjero tiene un terreno rectangular para jardín, rodeado por una cerca de 200 pies.\n",
    "Determine la longitud y la anchura del jardín si el área es de 2 400 pies cuadrados."
   ]
  },
  {
   "cell_type": "code",
   "execution_count": null,
   "id": "e14f60b9",
   "metadata": {},
   "outputs": [],
   "source": []
  },
  {
   "cell_type": "code",
   "execution_count": null,
   "id": "2bcee381",
   "metadata": {},
   "outputs": [],
   "source": []
  },
  {
   "cell_type": "code",
   "execution_count": null,
   "id": "92addfc6",
   "metadata": {},
   "outputs": [],
   "source": []
  },
  {
   "cell_type": "code",
   "execution_count": null,
   "id": "560cd2b1",
   "metadata": {},
   "outputs": [],
   "source": []
  }
 ],
 "metadata": {
  "kernelspec": {
   "display_name": "Python 3 (ipykernel)",
   "language": "python",
   "name": "python3"
  },
  "language_info": {
   "codemirror_mode": {
    "name": "ipython",
    "version": 3
   },
   "file_extension": ".py",
   "mimetype": "text/x-python",
   "name": "python",
   "nbconvert_exporter": "python",
   "pygments_lexer": "ipython3",
   "version": "3.9.12"
  }
 },
 "nbformat": 4,
 "nbformat_minor": 5
}
