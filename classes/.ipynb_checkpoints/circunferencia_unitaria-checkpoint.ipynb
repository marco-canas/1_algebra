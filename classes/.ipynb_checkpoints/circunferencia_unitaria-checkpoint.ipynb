{
 "cells": [
  {
   "cell_type": "markdown",
   "id": "192384d7",
   "metadata": {
    "slideshow": {
     "slide_type": "slide"
    }
   },
   "source": [
    "<table align=\"left\">\n",
    "  <td>\n",
    "    <a href=\"https://colab.research.google.com/github/marco-canas/algebra/blob/main/circunferencia_unitaria.ipynb\" target=\"_parent\"><img src=\"https://colab.research.google.com/assets/colab-badge.svg\" alt=\"Open In Colab\"/></a>\n",
    "  </td>\n",
    "</table>"
   ]
  },
  {
   "cell_type": "markdown",
   "id": "fa152ab5",
   "metadata": {
    "slideshow": {
     "slide_type": "slide"
    }
   },
   "source": [
    "# La circunferencia unitaria"
   ]
  },
  {
   "cell_type": "markdown",
   "id": "a712cd37",
   "metadata": {
    "slideshow": {
     "slide_type": "slide"
    }
   },
   "source": [
    "$$ \\left( \\frac{5}{13}, \\frac{-12}{13} \\right) \\in C(O, 1) $$"
   ]
  },
  {
   "cell_type": "code",
   "execution_count": 4,
   "id": "d73f5a53",
   "metadata": {
    "slideshow": {
     "slide_type": "slide"
    }
   },
   "outputs": [
    {
     "data": {
      "text/plain": [
       "1.0000000000000002"
      ]
     },
     "execution_count": 4,
     "metadata": {},
     "output_type": "execute_result"
    }
   ],
   "source": [
    "(5/13)**2 + (-12/13)**2 "
   ]
  },
  {
   "cell_type": "markdown",
   "id": "05af8773",
   "metadata": {
    "slideshow": {
     "slide_type": "slide"
    }
   },
   "source": [
    "Entonces este punto si pertenece a la circunferencia unitaria. "
   ]
  },
  {
   "cell_type": "markdown",
   "id": "a57ed6a6",
   "metadata": {
    "slideshow": {
     "slide_type": "slide"
    }
   },
   "source": [
    "$$ \\left( \\frac{5}{13} \\right)^{2} + \\left( \\frac{-12}{13} \\right)^{2} $$"
   ]
  },
  {
   "cell_type": "markdown",
   "id": "65740f79",
   "metadata": {
    "slideshow": {
     "slide_type": "slide"
    }
   },
   "source": [
    "$$ \\frac{25}{169} + \\frac{144}{169} $$"
   ]
  },
  {
   "cell_type": "markdown",
   "id": "3403dc7d",
   "metadata": {
    "slideshow": {
     "slide_type": "slide"
    }
   },
   "source": [
    "$$ \\frac{25 + 144}{169} = \\frac{169}{169}  $$"
   ]
  },
  {
   "cell_type": "markdown",
   "id": "37c15cb5",
   "metadata": {
    "slideshow": {
     "slide_type": "slide"
    }
   },
   "source": [
    "Efectivamente el punto dado si pertenece a la circunferencia unitaria dado que la suma de los cuadrados de sus componentes dio 1. "
   ]
  },
  {
   "cell_type": "code",
   "execution_count": 10,
   "id": "a18a9c50",
   "metadata": {
    "slideshow": {
     "slide_type": "slide"
    }
   },
   "outputs": [
    {
     "data": {
      "image/png": "[encoded data removed]",
      "text/plain": [
       "<Figure size 432x288 with 1 Axes>"
      ]
     },
     "metadata": {
      "needs_background": "light"
     },
     "output_type": "display_data"
    }
   ],
   "source": [
    "import numpy as np \n",
    "import matplotlib.pyplot as plt \n",
    "\n",
    "theta = np.linspace(0, 2*np.pi)\n",
    "\n",
    "x = np.cos(theta)\n",
    "y = np.sin(theta)\n",
    "plt.plot(x,y, 'b-')     # trazo circunferencia unitaria\n",
    "plt.axis('equal')\n",
    "plt.plot([5/13], [-12/13], 'ro') # trazo del punto P dado.\n",
    "plt.plot([-1.5,1.5],[0,0],'g--')    # trazo del eje x\n",
    "plt.plot([0,0],[-1.5,1.5],'g--')    # trazo del eje y\n",
    "plt.grid(alpha = 0.4)\n",
    "plt.savefig('punto_circunferencia.png')\n",
    "plt.show() "
   ]
  },
  {
   "cell_type": "markdown",
   "id": "7e9d8f29",
   "metadata": {
    "slideshow": {
     "slide_type": "slide"
    }
   },
   "source": [
    "Concluimos que efectivamente el punto si pertenece a la circunferencia unitaria. "
   ]
  },
  {
   "cell_type": "code",
   "execution_count": null,
   "id": "c3a29e62",
   "metadata": {},
   "outputs": [],
   "source": []
  }
 ],
 "metadata": {
  "celltoolbar": "Slideshow",
  "kernelspec": {
   "display_name": "Python 3 (ipykernel)",
   "language": "python",
   "name": "python3"
  },
  "language_info": {
   "codemirror_mode": {
    "name": "ipython",
    "version": 3
   },
   "file_extension": ".py",
   "mimetype": "text/x-python",
   "name": "python",
   "nbconvert_exporter": "python",
   "pygments_lexer": "ipython3",
   "version": "3.9.12"
  },
  "rise": {
   "theme": "sky",
   "transition": "zoom"
  }
 },
 "nbformat": 4,
 "nbformat_minor": 5
}
