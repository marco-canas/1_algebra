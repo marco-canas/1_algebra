{
 "cells": [
  {
   "attachments": {},
   "cell_type": "markdown",
   "id": "e638b6a9",
   "metadata": {
    "slideshow": {
     "slide_type": "slide"
    }
   },
   "source": [
    "<table align=\"left\">\n",
    "  <td>\n",
    "    <a href=\"https://colab.research.google.com/github/marco-canas/algebra/blob/main/circunferencia_unitaria.ipynb\" target=\"_parent\"><img src=\"https://colab.research.google.com/assets/colab-badge.svg\" alt=\"Open In Colab\"/></a>\n",
    "  </td>\n",
    "</table>"
   ]
  },
  {
   "attachments": {},
   "cell_type": "markdown",
   "id": "a1c14084",
   "metadata": {},
   "source": [
    "[]()"
   ]
  },
  {
   "attachments": {},
   "cell_type": "markdown",
   "id": "df0bc7de",
   "metadata": {
    "slideshow": {
     "slide_type": "slide"
    }
   },
   "source": [
    "## Jardin"
   ]
  },
  {
   "attachments": {},
   "cell_type": "markdown",
   "id": "f7bc6582",
   "metadata": {
    "slideshow": {
     "slide_type": "slide"
    }
   },
   "source": [
    "41. Dimensiones de un jardín  \n",
    "\n",
    "Un granjero tiene un terreno rectangular para jardín, rodeado por una cerca de 200 pies.\n",
    "Determine la longitud y la anchura del jardín si el área es de 2 400 pies cuadrados."
   ]
  },
  {
   "attachments": {},
   "cell_type": "markdown",
   "id": "c3476c3e",
   "metadata": {
    "slideshow": {
     "slide_type": "slide"
    }
   },
   "source": [
    "## Solución"
   ]
  },
  {
   "attachments": {},
   "cell_type": "markdown",
   "id": "43d11876",
   "metadata": {},
   "source": [
    "## Visualizar el terreno utilizando matplotlib\n",
    "\n"
   ]
  },
  {
   "cell_type": "code",
   "execution_count": 2,
   "id": "2bcee381",
   "metadata": {
    "slideshow": {
     "slide_type": "slide"
    }
   },
   "outputs": [],
   "source": [
    "def calcula_longitud_anchura(perimetro, area):\n",
    "    from sympy import Eq, solve, var\n",
    "    ancho, largo = var('ancho, largo')\n",
    "    ecuacion1 = Eq(perimetro/2, ancho + largo)\n",
    "    ecuacion2 = Eq(area, ancho*largo)\n",
    "    return solve([ecuacion1, ecuacion2], (ancho, largo))\n",
    "    "
   ]
  },
  {
   "cell_type": "code",
   "execution_count": 3,
   "id": "92addfc6",
   "metadata": {
    "slideshow": {
     "slide_type": "slide"
    }
   },
   "outputs": [
    {
     "data": {
      "text/plain": [
       "[(40.0000000000000, 60.0000000000000), (60.0000000000000, 40.0000000000000)]"
      ]
     },
     "execution_count": 3,
     "metadata": {},
     "output_type": "execute_result"
    }
   ],
   "source": [
    "calcula_longitud_anchura(200, 2400)"
   ]
  },
  {
   "attachments": {},
   "cell_type": "markdown",
   "id": "560cd2b1",
   "metadata": {
    "slideshow": {
     "slide_type": "slide"
    }
   },
   "source": [
    "Las dimensiones del terreno deben ser 40 pies y 60 pies. "
   ]
  },
  {
   "cell_type": "code",
   "execution_count": null,
   "id": "781c6d35",
   "metadata": {},
   "outputs": [],
   "source": []
  },
  {
   "cell_type": "code",
   "execution_count": null,
   "id": "6669ac25",
   "metadata": {},
   "outputs": [],
   "source": []
  },
  {
   "cell_type": "code",
   "execution_count": null,
   "id": "09c46b53",
   "metadata": {},
   "outputs": [],
   "source": []
  },
  {
   "cell_type": "code",
   "execution_count": null,
   "id": "5e28a776",
   "metadata": {},
   "outputs": [],
   "source": []
  },
  {
   "cell_type": "code",
   "execution_count": null,
   "id": "38a7ec8e",
   "metadata": {},
   "outputs": [],
   "source": []
  },
  {
   "cell_type": "code",
   "execution_count": null,
   "id": "1df8c962",
   "metadata": {},
   "outputs": [],
   "source": []
  }
 ],
 "metadata": {
  "celltoolbar": "Slideshow",
  "kernelspec": {
   "display_name": "Python 3 (ipykernel)",
   "language": "python",
   "name": "python3"
  },
  "language_info": {
   "codemirror_mode": {
    "name": "ipython",
    "version": 3
   },
   "file_extension": ".py",
   "mimetype": "text/x-python",
   "name": "python",
   "nbconvert_exporter": "python",
   "pygments_lexer": "ipython3",
   "version": "3.10.11"
  }
 },
 "nbformat": 4,
 "nbformat_minor": 5
}
