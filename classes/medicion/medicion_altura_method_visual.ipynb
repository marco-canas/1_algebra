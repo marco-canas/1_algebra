{
 "cells": [
  {
   "cell_type": "code",
   "execution_count": 22,
   "id": "12160d21",
   "metadata": {},
   "outputs": [],
   "source": [
    "from medicion_visual import medir_altura_visual"
   ]
  },
  {
   "cell_type": "code",
   "execution_count": 23,
   "id": "1fc8298e",
   "metadata": {},
   "outputs": [
    {
     "data": {
      "text/plain": [
       "(altura_arbol*(-altura_arbol*dap + altura_persona*dap + altura_persona*dpa)/(altura_persona*dpa),\n",
       " -altura_arbol*dpa/(altura_arbol - altura_persona))"
      ]
     },
     "execution_count": 23,
     "metadata": {},
     "output_type": "execute_result"
    }
   ],
   "source": [
    "medir_altura_visual(1,2,3,4)"
   ]
  },
  {
   "cell_type": "code",
   "execution_count": null,
   "id": "564fee62",
   "metadata": {},
   "outputs": [],
   "source": []
  },
  {
   "cell_type": "code",
   "execution_count": null,
   "id": "34e739e2",
   "metadata": {},
   "outputs": [],
   "source": []
  },
  {
   "cell_type": "code",
   "execution_count": null,
   "id": "354793c1",
   "metadata": {},
   "outputs": [],
   "source": []
  },
  {
   "cell_type": "code",
   "execution_count": null,
   "id": "ee67761d",
   "metadata": {},
   "outputs": [],
   "source": []
  },
  {
   "cell_type": "code",
   "execution_count": null,
   "id": "c388d6fc",
   "metadata": {},
   "outputs": [],
   "source": []
  }
 ],
 "metadata": {
  "kernelspec": {
   "display_name": "Python 3 (ipykernel)",
   "language": "python",
   "name": "python3"
  },
  "language_info": {
   "codemirror_mode": {
    "name": "ipython",
    "version": 3
   },
   "file_extension": ".py",
   "mimetype": "text/x-python",
   "name": "python",
   "nbconvert_exporter": "python",
   "pygments_lexer": "ipython3",
   "version": "3.9.12"
  }
 },
 "nbformat": 4,
 "nbformat_minor": 5
}
