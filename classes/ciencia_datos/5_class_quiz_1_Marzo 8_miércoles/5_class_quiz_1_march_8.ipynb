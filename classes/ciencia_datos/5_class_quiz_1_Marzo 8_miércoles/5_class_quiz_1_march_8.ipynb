{
 "cells": [
  {
   "cell_type": "markdown",
   "id": "82ccc260",
   "metadata": {
    "slideshow": {
     "slide_type": "slide"
    }
   },
   "source": []
  },
  {
   "cell_type": "markdown",
   "id": "ce260d4f",
   "metadata": {
    "slideshow": {
     "slide_type": "slide"
    }
   },
   "source": []
  },
  {
   "cell_type": "markdown",
   "id": "12813953",
   "metadata": {
    "slideshow": {
     "slide_type": "slide"
    }
   },
   "source": [
    "# Clase 5 del 8 de marzo de 2023"
   ]
  },
  {
   "cell_type": "markdown",
   "id": "c9d0c112",
   "metadata": {
    "slideshow": {
     "slide_type": "slide"
    }
   },
   "source": [
    "### Modelo de enseñanza:\n",
    "\n",
    "[Aula invertida](https://www3.gobiernodecanarias.org/medusa/ecoescuela/pedagotic/files/2018/11/flipped-classroom.pdf)"
   ]
  },
  {
   "cell_type": "markdown",
   "id": "e7ea96dd",
   "metadata": {
    "slideshow": {
     "slide_type": "slide"
    }
   },
   "source": [
    "## Objetivo de aprendizaje\n",
    "\n",
    "* saber graficar a mano relaciones de la vida cotidiana descritas a través de unos datos y saber interpretarlos.  \n",
    "\n",
    "* Ajustar un modelo lineal a una colección de datos de la vida cotidiana.\n",
    "* Ajustar un modelo cuadrático a una colección de datos de la vida cotidiana.\n",
    "* Ajustar un modelo trigonométrico a una colección de datos de la vida cotidiana\n",
    "\n",
    "Página 44 de [Stewart](https://udeaeduco-my.sharepoint.com/:b:/g/personal/marco_canas_udea_edu_co/EZgXZjAp8QxPqOAim2hs6LcBNPLGjSHf-xwYnUVYkwa04w?e=VHQdQ3)"
   ]
  },
  {
   "cell_type": "markdown",
   "id": "85e296ba",
   "metadata": {
    "slideshow": {
     "slide_type": "slide"
    }
   },
   "source": [
    "## Se da una descripción de la función en palabras:  \n",
    "\n",
    "$P(t)$ es la población humana del mundo en el tiempo $t$.  \n",
    "Ahora medirá $t$, así que $t = 0$ corresponde al año 1900.  \n",
    "\n",
    "La \n",
    "tabla de valores de la población mundial proporciona una representación adecuada \n",
    "de esta función. Si se gra\u001fcan estos valores, se obtiene la grá\u001fca (llamada grá\u001fca de \n",
    "dispersión) en la \u001fgura 9. También es una representación útil porque la grá\u001fca per\u0002mite disponer de todos los datos a la vez. ¿Qué pasa con una fórmula? Por supuesto, \n",
    "es imposible concebir una fórmula explícita que proporcione la población humana \n",
    "exacta P(t) en cualquier tiempo t. Pero es posible encontrar una expresión para una \n",
    "función que se aproxime a P(t). De hecho, utilizando los métodos que se explican en \n",
    "la sección 1.2, se obtiene la aproximación\n",
    "Pstd < fstd − s1.43653 3 109\n",
    "d ∙ s1.01395d\n",
    "t\n",
    "La figura 10 muestra que es un “ajuste” razonablemente bueno. La función f se llama \n",
    "modelo matemático para el crecimiento de la población. En otras palabras, es una fun\u0002ción con una fórmula explícita que aproxima el comportamiento de la función dada. \n",
    "Sin embargo, se verá que las ideas del cálculo también pueden aplicarse a una tabla de \n",
    "valores; una fórmula explícita no es necesaria. "
   ]
  },
  {
   "cell_type": "markdown",
   "id": "0e229cc2",
   "metadata": {
    "slideshow": {
     "slide_type": "slide"
    }
   },
   "source": [
    "<img src = 'https://github.com/marco-canas/1_algebra/blob/main/classes/ciencia_datos/5_class_quiz_1_Marzo%208_mi%C3%A9rcoles/tabla_pagina_44_stewart.png?raw=true'>\n",
    "\n",
    "tabla "
   ]
  },
  {
   "cell_type": "markdown",
   "id": "fbea6710",
   "metadata": {
    "slideshow": {
     "slide_type": "slide"
    }
   },
   "source": [
    "<img src = 'https://github.com/marco-canas/1_algebra/blob/main/classes/ciencia_datos/5_class_quiz_1_Marzo%208_mi%C3%A9rcoles/fig_9_y_10_pagina_44_stewart.png?raw=true'>\n",
    "\n",
    "figuras 9 y 10"
   ]
  },
  {
   "cell_type": "code",
   "execution_count": null,
   "id": "51c05430",
   "metadata": {
    "slideshow": {
     "slide_type": "slide"
    }
   },
   "outputs": [],
   "source": []
  },
  {
   "cell_type": "code",
   "execution_count": null,
   "id": "c291bb09",
   "metadata": {
    "slideshow": {
     "slide_type": "slide"
    }
   },
   "outputs": [],
   "source": []
  },
  {
   "cell_type": "code",
   "execution_count": null,
   "id": "3b5c9bbf",
   "metadata": {},
   "outputs": [],
   "source": []
  },
  {
   "cell_type": "markdown",
   "id": "9f957dd8",
   "metadata": {
    "slideshow": {
     "slide_type": "slide"
    }
   },
   "source": [
    "## Representaciones interactivas con plotly"
   ]
  },
  {
   "cell_type": "code",
   "execution_count": null,
   "id": "a3ca08b1",
   "metadata": {
    "slideshow": {
     "slide_type": "slide"
    }
   },
   "outputs": [],
   "source": [
    "import pandas as pd \n",
    "import plotly.express as px\n",
    "fig = px.line(tabla,x = tabla.keys()[0], y = tabla.keys()[1],\\\n",
    "              title=r'Relación entre {} y {}'.format(tabla.keys()[0], tabla.keys()[1]))\n",
    "fig.show()"
   ]
  },
  {
   "cell_type": "code",
   "execution_count": null,
   "id": "d6ed3181",
   "metadata": {},
   "outputs": [],
   "source": []
  },
  {
   "cell_type": "code",
   "execution_count": null,
   "id": "6b50b8fc",
   "metadata": {},
   "outputs": [],
   "source": []
  },
  {
   "cell_type": "code",
   "execution_count": null,
   "id": "728ad495",
   "metadata": {},
   "outputs": [],
   "source": []
  },
  {
   "cell_type": "code",
   "execution_count": null,
   "id": "3232e584",
   "metadata": {},
   "outputs": [],
   "source": []
  }
 ],
 "metadata": {
  "celltoolbar": "Slideshow",
  "kernelspec": {
   "display_name": "Python 3 (ipykernel)",
   "language": "python",
   "name": "python3"
  },
  "language_info": {
   "codemirror_mode": {
    "name": "ipython",
    "version": 3
   },
   "file_extension": ".py",
   "mimetype": "text/x-python",
   "name": "python",
   "nbconvert_exporter": "python",
   "pygments_lexer": "ipython3",
   "version": "3.9.13"
  }
 },
 "nbformat": 4,
 "nbformat_minor": 5
}
