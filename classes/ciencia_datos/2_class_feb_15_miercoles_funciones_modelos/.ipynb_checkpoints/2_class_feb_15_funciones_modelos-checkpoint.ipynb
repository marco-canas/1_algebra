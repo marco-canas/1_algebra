{
 "cells": [
  {
   "cell_type": "markdown",
   "id": "841b7dd1",
   "metadata": {
    "slideshow": {
     "slide_type": "slide"
    }
   },
   "source": [
    "<table align=\"left\">\n",
    "  <td>\n",
    "    <a href=\"https://colab.research.google.com/github/marco-canas/cielo/blob/main/actas_quincenales/acta_enero_25.ipynb\" target=\"_parent\"><img src=\"https://colab.research.google.com/assets/colab-badge.svg\" alt=\"Open In Colab\"/></a>\n",
    "  </td>\n",
    "</table>"
   ]
  },
  {
   "cell_type": "markdown",
   "id": "e92ad292",
   "metadata": {
    "slideshow": {
     "slide_type": "slide"
    }
   },
   "source": [
    "## [Video de apoyo]() "
   ]
  },
  {
   "cell_type": "markdown",
   "id": "81fd4620",
   "metadata": {
    "slideshow": {
     "slide_type": "slide"
    }
   },
   "source": [
    "# Clase 2 Funciones como modelos\n",
    "  \n",
    "\n"
   ]
  },
  {
   "cell_type": "markdown",
   "id": "8248763a",
   "metadata": {
    "slideshow": {
     "slide_type": "slide"
    }
   },
   "source": [
    "# Noticias  \n",
    "\n",
    "Proxima clase de febrero 22 Miércoles hay quiz. \n"
   ]
  },
  {
   "cell_type": "markdown",
   "id": "8e992b06",
   "metadata": {
    "slideshow": {
     "slide_type": "slide"
    }
   },
   "source": [
    "# Gráficos de ecuaciones y funciones "
   ]
  },
  {
   "cell_type": "markdown",
   "id": "84e6c99d",
   "metadata": {
    "slideshow": {
     "slide_type": "slide"
    }
   },
   "source": [
    "* Gráficos de comportamientos lineales \n",
    "* Gráficos de comportamientos crecientes\n",
    "* Gráficos de comportamientos decrecientes\n",
    "* Gráficos de comportamientos invariantes o constantes "
   ]
  },
  {
   "cell_type": "markdown",
   "id": "1ab0dbef",
   "metadata": {
    "slideshow": {
     "slide_type": "slide"
    }
   },
   "source": [
    "## Ecuciones lineales\n",
    "\n",
    "$$ x+1 = 3 $$"
   ]
  },
  {
   "cell_type": "markdown",
   "id": "fb4b75ec",
   "metadata": {},
   "source": [
    "## Ecuaciones cuadráticas\n",
    "\n",
    "$$ x^{2} = 1 $$\n"
   ]
  },
  {
   "cell_type": "markdown",
   "id": "c9a41e40",
   "metadata": {},
   "source": [
    "## Intersecciones de los gráficos con los ejes coordenados y su significado para el ingeniero agropecuaria "
   ]
  },
  {
   "cell_type": "markdown",
   "id": "db2df04e",
   "metadata": {},
   "source": [
    "* A veces el intersecto con el eje vertical significa la población inicial \n",
    "* A veces el intersecto con el eje horizontal significa el tiempo que tarda en exinguirse una plaga."
   ]
  },
  {
   "cell_type": "markdown",
   "id": "dd7a1be3",
   "metadata": {},
   "source": [
    "# Recomendaciones para experimentar con la relación entre fórmula y gráfico"
   ]
  },
  {
   "cell_type": "markdown",
   "id": "c39518fe",
   "metadata": {
    "slideshow": {
     "slide_type": "slide"
    }
   },
   "source": [
    "Intale [Geogebra](https://www.geogebra.org/download): "
   ]
  },
  {
   "cell_type": "markdown",
   "id": "a3d1c18b",
   "metadata": {
    "slideshow": {
     "slide_type": "slide"
    }
   },
   "source": [
    "# El problema de predecir el índice de precios al consumidor en 2010"
   ]
  },
  {
   "cell_type": "markdown",
   "id": "774220f3",
   "metadata": {},
   "source": [
    "### Modelado matemático   "
   ]
  },
  {
   "cell_type": "markdown",
   "id": "a78658b8",
   "metadata": {
    "slideshow": {
     "slide_type": "slide"
    }
   },
   "source": [
    "En la tabla se muestra el Índice de Precios al Consumidor (IPC) para una selección de varios años. (Fuente: Bureau of Labor Statistics.)"
   ]
  },
  {
   "cell_type": "markdown",
   "id": "940d54b1",
   "metadata": {},
   "source": [
    "a) Utilizar una herramienta de graficación para el cálculo de regresión con el fin de encontrar un modelo matemático de \n",
    "la forma $y = at^{2} + bt + c$ para los datos. En este modelo, \n",
    "y representa el IPC y t representa el año, donde t \u0015 5 co\u0002rresponde a 1975.  \n",
    "\n",
    "b) Representar el modelo en la calculadora y comparar los  datos.  \n",
    " \n",
    "c) Utilizar el modelo para predecir el IPC del año 2010"
   ]
  },
  {
   "cell_type": "code",
   "execution_count": 3,
   "id": "32fec6ad",
   "metadata": {
    "slideshow": {
     "slide_type": "slide"
    }
   },
   "outputs": [],
   "source": [
    "import pandas as pd \n",
    "import numpy as np "
   ]
  },
  {
   "cell_type": "code",
   "execution_count": 7,
   "id": "145e6765",
   "metadata": {},
   "outputs": [],
   "source": [
    "edad_prfesor = 48 "
   ]
  },
  {
   "cell_type": "code",
   "execution_count": 8,
   "id": "8a679cc2",
   "metadata": {
    "slideshow": {
     "slide_type": "slide"
    }
   },
   "outputs": [
    {
     "data": {
      "text/plain": [
       "int"
      ]
     },
     "execution_count": 8,
     "metadata": {},
     "output_type": "execute_result"
    }
   ],
   "source": [
    "type(edad_prfesor) "
   ]
  },
  {
   "cell_type": "code",
   "execution_count": 4,
   "id": "0c4795b7",
   "metadata": {
    "slideshow": {
     "slide_type": "slide"
    }
   },
   "outputs": [
    {
     "data": {
      "text/plain": [
       "array([ 5, 10, 15, 20, 25, 30, 35])"
      ]
     },
     "execution_count": 4,
     "metadata": {},
     "output_type": "execute_result"
    }
   ],
   "source": [
    "años = np.arange(5, 40, 5)\n",
    "años "
   ]
  },
  {
   "cell_type": "code",
   "execution_count": 5,
   "id": "6ef35298",
   "metadata": {
    "slideshow": {
     "slide_type": "slide"
    }
   },
   "outputs": [],
   "source": [
    "ipc = [53.8, 82.4, 107.6, 130.7, 152.4, 172.2, 195.3]"
   ]
  },
  {
   "cell_type": "code",
   "execution_count": 6,
   "id": "97ff3f35",
   "metadata": {},
   "outputs": [],
   "source": [
    "diccionario = {'Tiempo en años':años, 'El indice de precios al consumidor':ipc}"
   ]
  },
  {
   "cell_type": "code",
   "execution_count": 9,
   "id": "2d22123c",
   "metadata": {},
   "outputs": [],
   "source": [
    "tablita_datos = pd.DataFrame(diccionario) "
   ]
  },
  {
   "cell_type": "code",
   "execution_count": 10,
   "id": "e299dc5d",
   "metadata": {},
   "outputs": [
    {
     "data": {
      "text/html": [
       "<div>\n",
       "<style scoped>\n",
       "    .dataframe tbody tr th:only-of-type {\n",
       "        vertical-align: middle;\n",
       "    }\n",
       "\n",
       "    .dataframe tbody tr th {\n",
       "        vertical-align: top;\n",
       "    }\n",
       "\n",
       "    .dataframe thead th {\n",
       "        text-align: right;\n",
       "    }\n",
       "</style>\n",
       "<table border=\"1\" class=\"dataframe\">\n",
       "  <thead>\n",
       "    <tr style=\"text-align: right;\">\n",
       "      <th></th>\n",
       "      <th>Tiempo en años</th>\n",
       "      <th>El indice de precios al consumidor</th>\n",
       "    </tr>\n",
       "  </thead>\n",
       "  <tbody>\n",
       "    <tr>\n",
       "      <th>0</th>\n",
       "      <td>5</td>\n",
       "      <td>53.8</td>\n",
       "    </tr>\n",
       "    <tr>\n",
       "      <th>1</th>\n",
       "      <td>10</td>\n",
       "      <td>82.4</td>\n",
       "    </tr>\n",
       "    <tr>\n",
       "      <th>2</th>\n",
       "      <td>15</td>\n",
       "      <td>107.6</td>\n",
       "    </tr>\n",
       "    <tr>\n",
       "      <th>3</th>\n",
       "      <td>20</td>\n",
       "      <td>130.7</td>\n",
       "    </tr>\n",
       "    <tr>\n",
       "      <th>4</th>\n",
       "      <td>25</td>\n",
       "      <td>152.4</td>\n",
       "    </tr>\n",
       "    <tr>\n",
       "      <th>5</th>\n",
       "      <td>30</td>\n",
       "      <td>172.2</td>\n",
       "    </tr>\n",
       "    <tr>\n",
       "      <th>6</th>\n",
       "      <td>35</td>\n",
       "      <td>195.3</td>\n",
       "    </tr>\n",
       "  </tbody>\n",
       "</table>\n",
       "</div>"
      ],
      "text/plain": [
       "   Tiempo en años  El indice de precios al consumidor\n",
       "0               5                                53.8\n",
       "1              10                                82.4\n",
       "2              15                               107.6\n",
       "3              20                               130.7\n",
       "4              25                               152.4\n",
       "5              30                               172.2\n",
       "6              35                               195.3"
      ]
     },
     "execution_count": 10,
     "metadata": {},
     "output_type": "execute_result"
    }
   ],
   "source": [
    "tablita_datos"
   ]
  },
  {
   "cell_type": "markdown",
   "id": "7b83eee5",
   "metadata": {},
   "source": [
    "Gráfico de dispersión o scatter "
   ]
  },
  {
   "cell_type": "code",
   "execution_count": 11,
   "id": "977b8d58",
   "metadata": {},
   "outputs": [],
   "source": [
    "import matplotlib.pyplot as plt "
   ]
  },
  {
   "cell_type": "code",
   "execution_count": 32,
   "id": "292bc5a4",
   "metadata": {
    "scrolled": true,
    "slideshow": {
     "slide_type": "slide"
    }
   },
   "outputs": [
    {
     "data": {
      "image/png": "[encoded data removed]",
      "text/plain": [
       "<Figure size 400x400 with 1 Axes>"
      ]
     },
     "metadata": {},
     "output_type": "display_data"
    }
   ],
   "source": [
    "plt.figure(figsize = (4, 4)) \n",
    "plt.scatter(años, ipc, color = 'blue')\n",
    "plt.scatter([40], [212], color = 'red' )\n",
    "\n",
    "plt.xlabel('Tiempo en años')\n",
    "\n",
    "plt.ylabel('el indice de precios al consumidor')\n",
    "\n",
    "\n",
    "plt.grid(alpha = 0.3)  "
   ]
  },
  {
   "cell_type": "markdown",
   "id": "109ae9dd",
   "metadata": {},
   "source": [
    "# Cambio de dimensión a los años"
   ]
  },
  {
   "cell_type": "code",
   "execution_count": 19,
   "id": "bc540d6d",
   "metadata": {},
   "outputs": [],
   "source": [
    "años_2D = años.reshape(-1,1)"
   ]
  },
  {
   "cell_type": "code",
   "execution_count": 20,
   "id": "bcdd6c97",
   "metadata": {},
   "outputs": [],
   "source": [
    "from sklearn.preprocessing import PolynomialFeatures\n",
    "poly_features = PolynomialFeatures(degree=2, include_bias=False)\n",
    "X_poly = poly_features.fit_transform(años_2D) "
   ]
  },
  {
   "cell_type": "code",
   "execution_count": 23,
   "id": "f10a3447",
   "metadata": {},
   "outputs": [],
   "source": [
    "from sklearn.linear_model import LinearRegression"
   ]
  },
  {
   "cell_type": "code",
   "execution_count": 24,
   "id": "9e6d9750",
   "metadata": {},
   "outputs": [
    {
     "data": {
      "text/plain": [
       "(26.8857142857142, array([ 5.72642857, -0.02728571]))"
      ]
     },
     "execution_count": 24,
     "metadata": {},
     "output_type": "execute_result"
    }
   ],
   "source": [
    "lin_reg = LinearRegression()\n",
    "lin_reg.fit(X_poly, ipc)\n",
    "lin_reg.intercept_, lin_reg.coef_\n"
   ]
  },
  {
   "cell_type": "code",
   "execution_count": 26,
   "id": "7c7a44a7",
   "metadata": {},
   "outputs": [],
   "source": [
    "x_new_poli = poly_features.transform(np.array([[40]])) "
   ]
  },
  {
   "cell_type": "code",
   "execution_count": 27,
   "id": "17b97526",
   "metadata": {},
   "outputs": [
    {
     "data": {
      "text/plain": [
       "array([212.28571429])"
      ]
     },
     "execution_count": 27,
     "metadata": {},
     "output_type": "execute_result"
    }
   ],
   "source": [
    "lin_reg.predict(x_new_poli) "
   ]
  },
  {
   "cell_type": "code",
   "execution_count": null,
   "id": "ffd5d52e",
   "metadata": {},
   "outputs": [],
   "source": []
  },
  {
   "cell_type": "code",
   "execution_count": null,
   "id": "b6f2969e",
   "metadata": {},
   "outputs": [],
   "source": []
  },
  {
   "cell_type": "code",
   "execution_count": null,
   "id": "20d0e646",
   "metadata": {},
   "outputs": [],
   "source": []
  },
  {
   "cell_type": "markdown",
   "id": "e06eecdb",
   "metadata": {},
   "source": [
    "# Tarea\n",
    "\n",
    "Realice en el ciaderno el diagrama de dispersión y el diagrama de líneas "
   ]
  },
  {
   "cell_type": "markdown",
   "id": "a28c4210",
   "metadata": {},
   "source": [
    "## Posiblke preguta para quiz"
   ]
  },
  {
   "cell_type": "markdown",
   "id": "140dfc86",
   "metadata": {},
   "source": [
    "QUé es una función lineal y de ejemplos\n",
    "* que es una función cuadrática y de ejemplos y grafiquelos manualmente "
   ]
  },
  {
   "cell_type": "code",
   "execution_count": null,
   "id": "380dd476",
   "metadata": {},
   "outputs": [],
   "source": []
  }
 ],
 "metadata": {
  "celltoolbar": "Slideshow",
  "kernelspec": {
   "display_name": "Python 3 (ipykernel)",
   "language": "python",
   "name": "python3"
  },
  "language_info": {
   "codemirror_mode": {
    "name": "ipython",
    "version": 3
   },
   "file_extension": ".py",
   "mimetype": "text/x-python",
   "name": "python",
   "nbconvert_exporter": "python",
   "pygments_lexer": "ipython3",
   "version": "3.9.13"
  }
 },
 "nbformat": 4,
 "nbformat_minor": 5
}
