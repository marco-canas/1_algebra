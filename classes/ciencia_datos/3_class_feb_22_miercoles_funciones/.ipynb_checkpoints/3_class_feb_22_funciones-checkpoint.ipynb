{
 "cells": [
  {
   "cell_type": "markdown",
   "id": "3038c45b",
   "metadata": {
    "slideshow": {
     "slide_type": "slide"
    }
   },
   "source": [
    "<table align=\"left\">\n",
    "  <td>\n",
    "    <a href=\"https://colab.research.google.com/github/marco-canas/1_algebra/blob/main/classes/ciencia_datos/3_class_feb_22_miercoles_modelos_quiz_1/3_class_feb_22_funciones.ipynb\" target=\"_parent\"><img src=\"https://colab.research.google.com/assets/colab-badge.svg\" alt=\"Open In Colab\"/></a>\n",
    "  </td>\n",
    "</table>"
   ]
  },
  {
   "cell_type": "markdown",
   "id": "b737e122",
   "metadata": {
    "slideshow": {
     "slide_type": "slide"
    }
   },
   "source": [
    "## [videito de apoyo al aprendizaje](https://www.youtube.com/watch?v=mSBKSZOcqzU&list=PLbk60veMSVKsgeJxkjCctPCS79cC4VdNz&index=5)"
   ]
  },
  {
   "cell_type": "markdown",
   "id": "6e299fa0",
   "metadata": {
    "slideshow": {
     "slide_type": "slide"
    }
   },
   "source": [
    "# Clase 3 Miércoles 22 de Febrero de 2023. Funciones y sus gráficos"
   ]
  },
  {
   "cell_type": "markdown",
   "id": "4799da94",
   "metadata": {
    "slideshow": {
     "slide_type": "slide"
    }
   },
   "source": [
    "## Objetivo de formación consistente con el objetivo del núcleo de pensamiento variacional"
   ]
  },
  {
   "cell_type": "markdown",
   "id": "f5984a81",
   "metadata": {
    "slideshow": {
     "slide_type": "slide"
    }
   },
   "source": [
    "1. Desarrollar competencias analíticas, sintéticas, operativas, interpretativas y gráficas, en el estudio de temas propios de las matemáticas y el cálculo.  \n",
    "\n",
    "2. Discutir situaciones contextuales, fenómenos, problemas intra o extramatemáticos, de naturaleza variacional, que favorezcan la comprensión y utilización de conceptos y representaciones matemáticas variacionales que los modelen."
   ]
  },
  {
   "cell_type": "markdown",
   "id": "b57d464a",
   "metadata": {
    "slideshow": {
     "slide_type": "slide"
    }
   },
   "source": [
    "## Propuesta de evaluación"
   ]
  },
  {
   "cell_type": "markdown",
   "id": "ebcc9c79",
   "metadata": {
    "slideshow": {
     "slide_type": "slide"
    }
   },
   "source": [
    "Parciales: 60% (3 o 4, dependiendo del curso).\n",
    "Seguimiento: 15% (quices, pruebas cortas, tareas, trabajos, talleres, participación, pequeña presentación).\n",
    "Trabajo final: 20% (video explicando alguna aplicación o ejercicio, ensayo sobre artículo en inglés, exposición, trabajo sobre uso de herramienta digital…)."
   ]
  },
  {
   "cell_type": "markdown",
   "id": "69b0cd1b",
   "metadata": {
    "slideshow": {
     "slide_type": "slide"
    }
   },
   "source": [
    "## Prerrequisitos conceptuales a repasar para lograr los objetivos de esta clase  \n",
    "\n"
   ]
  },
  {
   "cell_type": "markdown",
   "id": "34155dfe",
   "metadata": {},
   "source": [
    "### el libro guía lo encuentra [aquí](https://udeaeduco-my.sharepoint.com/:b:/g/personal/marco_canas_udea_edu_co/ES71ChFeO9ZDhW3TwC5Ijk8BjxUK3Pdqz_fjHxTTFAfIAg?e=HhuvrK)"
   ]
  },
  {
   "cell_type": "markdown",
   "id": "7377698a",
   "metadata": {},
   "source": [
    "En esta clase trabajaremos las páginas 49."
   ]
  },
  {
   "cell_type": "markdown",
   "id": "fdbdbbf0",
   "metadata": {
    "slideshow": {
     "slide_type": "slide"
    }
   },
   "source": [
    "# Lectura a Rondon Barragan sobre pensamiento computacional"
   ]
  },
  {
   "cell_type": "markdown",
   "id": "e6b73158",
   "metadata": {
    "slideshow": {
     "slide_type": "slide"
    }
   },
   "source": [
    "## Introducción  \n",
    "\n",
    "La humanidad ha vivido momentos en los que sus procesos de desarrollo tecnológico, son sometidos a cambios tan acelerados, que implican grandes transformaciones a nivel social y cultural. "
   ]
  },
  {
   "cell_type": "markdown",
   "id": "911bf252",
   "metadata": {
    "slideshow": {
     "slide_type": "slide"
    }
   },
   "source": [
    "Estos traen consigo nuevas necesidades en diversos aspectos socioeconómicos y de bienestar humano. A nivel tecnológico los cambios han sido tan acelerados en todas las industrias, no solo del ámbito digital, sino de otros sectores económicos, que la necesidad de profesionales relacionados con TIC no \n",
    "se ha logrado suplir. "
   ]
  },
  {
   "cell_type": "markdown",
   "id": "3ef635b6",
   "metadata": {
    "slideshow": {
     "slide_type": "slide"
    }
   },
   "source": [
    "Vemos también, que la sociedad integra cada vez más el internet a sus vidas, exige más soluciones de entretenimiento digital, permanece más tiempo conectada e integra la tecnología a una mayor cantidad de campos (Aho, 2012)."
   ]
  },
  {
   "cell_type": "markdown",
   "id": "06617dde",
   "metadata": {
    "slideshow": {
     "slide_type": "slide"
    }
   },
   "source": [
    "Todos estos cambios no son ajenos a la educación, pues es con la ayuda de esta que las personas logran responder a cambios y generan soluciones a las necesidades de sus comunidades. "
   ]
  },
  {
   "cell_type": "markdown",
   "id": "baf74ceb",
   "metadata": {
    "slideshow": {
     "slide_type": "slide"
    }
   },
   "source": [
    "Es gracias a los espacios que se crean dentro del ámbito educativo, que se desarrollan en los estudiantes habilidades o destrezas que les permiten superarse, de tal forma que puedan aportar a su bienestar, al de su comunidad y a una sociedad globalizada (García-peñalvo, 2018; Ripani, 2017). "
   ]
  },
  {
   "cell_type": "markdown",
   "id": "387019bf",
   "metadata": {
    "slideshow": {
     "slide_type": "slide"
    }
   },
   "source": [
    "En este sentido, algunos proponen el desarrollo de habilidades relacionadas a la tecnología y la resolución de problemas, pero útiles también en cualquier área y aspecto cotidiano. "
   ]
  },
  {
   "cell_type": "markdown",
   "id": "1a5d1d36",
   "metadata": {
    "slideshow": {
     "slide_type": "slide"
    }
   },
   "source": [
    "Surgen así, iniciativas que promueven la enseñanza de la programación desde la escuela, como lo hicieran Papert (1980, 1993) y Papert y Harel (1991) con el lenguaje Logo y el construccionismo, Resnick et al. (2009) con el lenguaje Scratch, y las iniciativas para promover el pensamiento computacional surgidas a partir de los trabajos de Wing (2006, 2008)."
   ]
  },
  {
   "cell_type": "markdown",
   "id": "ecff5658",
   "metadata": {
    "slideshow": {
     "slide_type": "slide"
    }
   },
   "source": [
    "A partir de esto, el desarrollo del pensamiento computacional se erige como una habilidad determinante para responder a todas estas necesidades, para algunos, al nivel de la lectura y la escritura (Wing, 2006). "
   ]
  },
  {
   "cell_type": "markdown",
   "id": "c2c58916",
   "metadata": {
    "slideshow": {
     "slide_type": "slide"
    }
   },
   "source": [
    "Pero el desarrollo de este, ha traído consigo una \n",
    "gran cantidad de retos, como la inclusión en el currículo, el enfoque para desarrollarlo, su \n",
    "conceptualización, métodos de evaluación, entre otros (García-peñalvo, 2018). Debido a \n",
    "su estrecha relación con las habilidades exhibidas por los programadores y los perfiles \n",
    "asociados a las ciencias de la computación, se podría suponer que es necesario que este se \n",
    "desarrolle únicamente a través de la tecnología."
   ]
  },
  {
   "cell_type": "markdown",
   "id": "f1571312",
   "metadata": {
    "slideshow": {
     "slide_type": "slide"
    }
   },
   "source": [
    " \n",
    "Ya Valverde y Garrido (2015), en torno a esto, manifestaban que esta no debe ser \n",
    "un requisito indispensable para abordar el pensamiento computacional. En este sentido, \n",
    "se requieren propuestas que brinden a los docentes recursos que les permitan abordar el \n",
    "pensamiento computacional como las de Bell et al. (2009), Csizmadia et al. (2015), \n",
    "Resnick et al. (2009) y Lockwood (2019), pero vistas desde el contexto nacional.\n",
    "También, estudios que aporten a las discusiones en torno a las estrategias que favorecen \n",
    "su desarrollo y su aplicación en el aula como las de Atmatzidou y Demetriadis (2016), \n",
    "Delal y Oner (2020) y Folk et al. (2015).\n",
    "De acuerdo con lo anterior, el presente estudio brinda una estrategia basada en \n",
    "secuencias didácticas que permiten la introducción del pensamiento computacional en el \n",
    "aula. Esto puede darse desde la complementariedad de esta con la enseñanza de \n",
    "programación, abordando algunos conceptos básicos, o incluso sin necesidad de"
   ]
  },
  {
   "cell_type": "code",
   "execution_count": 3,
   "id": "0585fb65",
   "metadata": {
    "scrolled": true,
    "slideshow": {
     "slide_type": "slide"
    }
   },
   "outputs": [
    {
     "data": {
      "image/png": "[encoded data removed]",
      "text/plain": [
       "<Figure size 640x480 with 4 Axes>"
      ]
     },
     "metadata": {},
     "output_type": "display_data"
    }
   ],
   "source": [
    "import numpy as np \n",
    "import matplotlib.pyplot as plt \n",
    "# dominio y rectángulo de visualizacion\n",
    "a,b = 4,6\n",
    "axes = [-a,a,-b,b]\n",
    "x = np.linspace(-1.4, 1.4, 30) # conjunto de abscisas \n",
    "\n",
    "b_ = 2\n",
    "plt.subplot(2, 2, 1)  # 2 rows, 2 columns, 1st subplot = top left La función constante \n",
    "plt.plot(x, b_ + 0*x)\n",
    "plt.axis(axes)\n",
    "#ejes coordenados\n",
    "plt.plot([-a,a],[0,0], 'g-', alpha = 0.4)\n",
    "plt.plot([0,0],[-b,b], 'g-', alpha = 0.4)         \n",
    "plt.grid()\n",
    "\n",
    "\n",
    "plt.subplot(2, 2, 2)  # 2 rows, 2 columns, 2nd subplot = top right\n",
    "plt.plot(x, x, label = 'función identidad')\n",
    "plt.axis(axes)\n",
    "#ejes coordenados\n",
    "plt.plot([-a,a],[0,0], 'g-', alpha = 0.4)\n",
    "plt.plot([0,0],[-b,b], 'g-', alpha = 0.4)   \n",
    "plt.grid()\n",
    "\n",
    "plt.subplot(2, 2, 3)  # 2 rows, 2 columns, 3rd subplot = bottom left\n",
    "plt.plot(x, x**2, label = 'la función elevar al cuadrado') \n",
    "plt.axis(axes)\n",
    "#ejes coordenados\n",
    "plt.plot([-a,a],[0,0], 'g-', alpha = 0.4)\n",
    "plt.plot([0,0],[-b,b], 'g-', alpha = 0.4)   \n",
    "plt.grid()\n",
    "\n",
    "plt.subplot(2, 2, 4)  # 2 rows, 2 columns, 4th subplot = bottom right\n",
    "plt.plot(x, x**3)\n",
    "plt.axis(axes)\n",
    "#ejes coordenados\n",
    "plt.plot([-a,a],[0,0], 'g-', alpha = 0.4)\n",
    "plt.plot([0,0],[-b,b], 'g-', alpha = 0.4)   \n",
    "plt.grid()\n",
    "\n",
    "\n",
    "plt.savefig('matriz_potencias_de_x.jpg') \n",
    "\n",
    "plt.show()"
   ]
  },
  {
   "cell_type": "markdown",
   "id": "0fdecd64",
   "metadata": {
    "slideshow": {
     "slide_type": "slide"
    }
   },
   "source": [
    "# Gráficos con plotly"
   ]
  },
  {
   "cell_type": "code",
   "execution_count": 1,
   "id": "edb199d9",
   "metadata": {
    "slideshow": {
     "slide_type": "slide"
    }
   },
   "outputs": [],
   "source": [
    "\n",
    "#import plotly.express as px\n",
    "# la función que duplica\n",
    "#fig = px.line(x=[1,2,3], y=[2, 4, 6])\n",
    "#fig.write_html('first_figure.html', auto_open=True)\n",
    "\n",
    "\n"
   ]
  },
  {
   "cell_type": "code",
   "execution_count": 2,
   "id": "d8cf91ce",
   "metadata": {
    "scrolled": true,
    "slideshow": {
     "slide_type": "slide"
    }
   },
   "outputs": [],
   "source": [
    "import pandas as pd \n",
    "#import plotly.express as px\n",
    "x = [1,2,3]\n",
    "y = [2,4,6]\n",
    "df = pd.DataFrame({'abscisas':x, 'ordenadas':y})\n",
    "#fig = px.line(df, x='abscisas', y='ordenadas', title=r'Función lineal')\n",
    "#fig.show()"
   ]
  },
  {
   "cell_type": "markdown",
   "id": "d110170b",
   "metadata": {
    "slideshow": {
     "slide_type": "slide"
    }
   },
   "source": [
    "# Funciones y modelo\n",
    "\n",
    "Página 40 del Stewart\n"
   ]
  },
  {
   "cell_type": "markdown",
   "id": "8de9ceb5",
   "metadata": {
    "slideshow": {
     "slide_type": "slide"
    }
   },
   "source": [
    "A menudo una gráfica es la mejor manera de representar una función porque transmite \n",
    "mucha información en un vistazo. Se muestra la gráfica \n",
    "de la aceleración vertical del \n",
    "suelo, creada por el terremoto \n",
    "de 2011 cerca de Tohoku en \n",
    "Japón. El terremoto tuvo una \n",
    "magnitud de 9.0 en la escala \n",
    "de Ritcher y fue tan fuerte que \n",
    "movió el norte de Japón 2.4 \n",
    "metros más cerca de América \n",
    "del Norte."
   ]
  },
  {
   "cell_type": "markdown",
   "id": "75affd79",
   "metadata": {
    "slideshow": {
     "slide_type": "slide"
    }
   },
   "source": [
    "LOS OBJETOS FUNDAMENTALES CON LOS que trata el cálculo son las funciones. Este capí\u0002tulo prepara el camino para el cálculo discutiendo las ideas básicas sobre las grá\u001f cas de funcio\u0002nes y la manera de transformarlas y combinarlas. Se destaca que una función puede representarse \n",
    "de diferentes maneras: mediante una ecuación, una tabla, una grá\u001f ca o con palabras. Se verán \n",
    "los principales tipos de funciones que se presentan en el cálculo y se describirán cómo se utilizan \n",
    "estas funciones para modelar matemáticamente fenómenos del mundo real. "
   ]
  },
  {
   "cell_type": "markdown",
   "id": "e4fbcc9d",
   "metadata": {
    "slideshow": {
     "slide_type": "slide"
    }
   },
   "source": [
    "# 1.1 Cuatro maneras de representar una función\n",
    "\n",
    "Página 41 del stewart"
   ]
  },
  {
   "cell_type": "markdown",
   "id": "73d6ac95",
   "metadata": {
    "slideshow": {
     "slide_type": "slide"
    }
   },
   "source": [
    "Las funciones surgen siempre que una cantidad depende de otra. Considere las cuatro \n",
    "situaciones siguientes:\n",
    "A. El área A de un círculo depende de su radio r. La regla que relaciona A con r está \n",
    "dada por la ecuación $A = \\pi r^{2}$. Con cada número positivo $r$ hay asociado un valor de \n",
    "A, por lo que se dice que A es una función de r."
   ]
  },
  {
   "cell_type": "markdown",
   "id": "73741c68",
   "metadata": {
    "slideshow": {
     "slide_type": "slide"
    }
   },
   "source": [
    "B. La población humana del mundo P depende del tiempo t. La tabla muestra las estimaciones de la población mundial $P(t)$ en el tiempo $t$, para algunos años. Por ejemplo,\n",
    "P(1950) < 2 560 000 000\n",
    "Pero para cada valor del tiempo t hay un valor correspondiente de P, por lo que se \n",
    "dice que $P$ es una función de t."
   ]
  },
  {
   "cell_type": "markdown",
   "id": "0f20e9b8",
   "metadata": {
    "slideshow": {
     "slide_type": "slide"
    }
   },
   "source": [
    "C. El costo C de envío de un paquete por correo depende de su peso w. Aunque no hay \n",
    "alguna fórmula simple que relacione a w con C, la o\u001f cina de correos tiene una regla \n",
    "para determinar C cuando se conoce w."
   ]
  },
  {
   "cell_type": "markdown",
   "id": "f300ecad",
   "metadata": {
    "slideshow": {
     "slide_type": "slide"
    }
   },
   "source": [
    "D. La aceleración vertical a del suelo, medida por un sismógrafo durante un terremoto, es una función del tiempo transcurrido t. La figura 1 muestra una gráfica generada por la actividad sísmica durante el terremoto de Northridge que sacudió Los Ángeles en 1994. Para un determinado valor de t, la grá\u001f ca proporciona un valor correspondiente de a"
   ]
  },
  {
   "cell_type": "code",
   "execution_count": null,
   "id": "e8464de2",
   "metadata": {
    "slideshow": {
     "slide_type": "slide"
    }
   },
   "outputs": [],
   "source": []
  },
  {
   "cell_type": "code",
   "execution_count": null,
   "id": "1f771697",
   "metadata": {
    "slideshow": {
     "slide_type": "slide"
    }
   },
   "outputs": [],
   "source": []
  },
  {
   "cell_type": "markdown",
   "id": "6ac34465",
   "metadata": {
    "slideshow": {
     "slide_type": "slide"
    }
   },
   "source": [
    "##  Tareas de fijación de comceptos y adquisición de habilidades"
   ]
  },
  {
   "cell_type": "markdown",
   "id": "7f22af39",
   "metadata": {
    "slideshow": {
     "slide_type": "slide"
    }
   },
   "source": []
  },
  {
   "cell_type": "markdown",
   "id": "a4296aca",
   "metadata": {
    "slideshow": {
     "slide_type": "slide"
    }
   },
   "source": [
    "## Evaluación"
   ]
  },
  {
   "cell_type": "markdown",
   "id": "d037526e",
   "metadata": {
    "slideshow": {
     "slide_type": "slide"
    }
   },
   "source": []
  },
  {
   "cell_type": "markdown",
   "id": "db169f9f",
   "metadata": {
    "slideshow": {
     "slide_type": "slide"
    }
   },
   "source": [
    "## Referentes  \n",
    "\n",
    "* la función np.linspace de numpy: https://numpy.org/doc/stable/reference/generated/numpy.linspace.html\n",
    "* Sobre el módulo plotly de python: https://plotly.com/python/line-charts/"
   ]
  },
  {
   "cell_type": "code",
   "execution_count": null,
   "id": "6068ecb0",
   "metadata": {},
   "outputs": [],
   "source": []
  }
 ],
 "metadata": {
  "celltoolbar": "Slideshow",
  "kernelspec": {
   "display_name": "Python 3 (ipykernel)",
   "language": "python",
   "name": "python3"
  },
  "language_info": {
   "codemirror_mode": {
    "name": "ipython",
    "version": 3
   },
   "file_extension": ".py",
   "mimetype": "text/x-python",
   "name": "python",
   "nbconvert_exporter": "python",
   "pygments_lexer": "ipython3",
   "version": "3.9.13"
  },
  "rise": {
   "enable_chalkboard": true,
   "theme": "sky"
  }
 },
 "nbformat": 4,
 "nbformat_minor": 5
}
