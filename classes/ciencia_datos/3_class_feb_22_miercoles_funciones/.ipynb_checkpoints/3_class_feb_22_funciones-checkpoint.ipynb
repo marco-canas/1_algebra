{
 "cells": [
  {
   "cell_type": "markdown",
   "id": "3038c45b",
   "metadata": {
    "slideshow": {
     "slide_type": "slide"
    }
   },
   "source": [
    "<table align=\"left\">\n",
    "  <td>\n",
    "    <a href=\"https://colab.research.google.com/github/marco-canas/1_algebra/blob/main/classes/ciencia_datos/3_class_feb_22_miercoles_modelos_quiz_1/3_class_feb_22_funciones.ipynb\" target=\"_parent\"><img src=\"https://colab.research.google.com/assets/colab-badge.svg\" alt=\"Open In Colab\"/></a>\n",
    "  </td>\n",
    "</table>"
   ]
  },
  {
   "cell_type": "markdown",
   "id": "b737e122",
   "metadata": {
    "slideshow": {
     "slide_type": "slide"
    }
   },
   "source": [
    "## [videito de apoyo al aprendizaje](https://www.youtube.com/watch?v=mSBKSZOcqzU&list=PLbk60veMSVKsgeJxkjCctPCS79cC4VdNz&index=5)"
   ]
  },
  {
   "cell_type": "markdown",
   "id": "6e299fa0",
   "metadata": {
    "slideshow": {
     "slide_type": "slide"
    }
   },
   "source": [
    "# Clase 3 Miércoles 22 de Febrero de 2023. Gráficos de dispersión y gráficos de líneas"
   ]
  },
  {
   "cell_type": "markdown",
   "id": "4799da94",
   "metadata": {
    "slideshow": {
     "slide_type": "slide"
    }
   },
   "source": [
    "## Objetivo de formación consistente con el objetivo del núcleo de pensamiento variacional"
   ]
  },
  {
   "cell_type": "markdown",
   "id": "f5984a81",
   "metadata": {
    "slideshow": {
     "slide_type": "slide"
    }
   },
   "source": [
    "1. aprender a **graficar** datos en tablas y diagramas bidimensionales y saber **interpretar** estas representaciones  \n",
    "\n"
   ]
  },
  {
   "cell_type": "markdown",
   "id": "b57d464a",
   "metadata": {
    "slideshow": {
     "slide_type": "slide"
    }
   },
   "source": [
    "## Propuesta de evaluación"
   ]
  },
  {
   "cell_type": "markdown",
   "id": "ebcc9c79",
   "metadata": {
    "slideshow": {
     "slide_type": "slide"
    }
   },
   "source": [
    "Parciales: 60% (3 o 4, dependiendo del curso).\n",
    "Seguimiento: 15% (quices, pruebas cortas, tareas, trabajos, talleres, participación, pequeña presentación).\n",
    "Trabajo final: 20% (video explicando alguna aplicación o ejercicio, ensayo sobre artículo en inglés, exposición, trabajo sobre uso de herramienta digital…)."
   ]
  },
  {
   "cell_type": "markdown",
   "id": "69b0cd1b",
   "metadata": {
    "slideshow": {
     "slide_type": "slide"
    }
   },
   "source": [
    "## Prerrequisitos conceptuales a repasar para lograr los objetivos de esta clase  \n",
    "\n",
    "* saber escalar los ejes \n",
    "* Saber graficar en excel "
   ]
  },
  {
   "cell_type": "markdown",
   "id": "528dbe9d",
   "metadata": {
    "slideshow": {
     "slide_type": "subslide"
    }
   },
   "source": [
    "### el libro guía lo encuentra [aquí](https://udeaeduco-my.sharepoint.com/:b:/g/personal/marco_canas_udea_edu_co/ES71ChFeO9ZDhW3TwC5Ijk8BjxUK3Pdqz_fjHxTTFAfIAg?e=HhuvrK)"
   ]
  },
  {
   "cell_type": "markdown",
   "id": "4fb6434c",
   "metadata": {
    "slideshow": {
     "slide_type": "slide"
    }
   },
   "source": [
    "En esta clase trabajaremos las páginas 49."
   ]
  },
  {
   "cell_type": "markdown",
   "id": "1929c9e1",
   "metadata": {
    "slideshow": {
     "slide_type": "slide"
    }
   },
   "source": [
    "# Problema para graficar a mano"
   ]
  },
  {
   "cell_type": "markdown",
   "id": "d79271a3",
   "metadata": {
    "slideshow": {
     "slide_type": "slide"
    }
   },
   "source": [
    "La tabla entrega la relación de hectáreas por finca en Colombia."
   ]
  },
  {
   "cell_type": "markdown",
   "id": "f510add5",
   "metadata": {
    "slideshow": {
     "slide_type": "slide"
    }
   },
   "source": [
    "<img src = 'https://github.com/marco-canas/1_algebra/blob/main/classes/ciencia_datos/3_class_feb_22_miercoles_funciones/finca.png?raw=true'>"
   ]
  },
  {
   "cell_type": "markdown",
   "id": "3cef30d6",
   "metadata": {},
   "source": [
    "## [Video de apoyo al aprendizaje de la graficación de tablas y gráficos de dispersión con Matplotlib]"
   ]
  },
  {
   "cell_type": "code",
   "execution_count": 25,
   "id": "318529d5",
   "metadata": {
    "scrolled": true
   },
   "outputs": [
    {
     "data": {
      "text/html": [
       "<div>\n",
       "<style scoped>\n",
       "    .dataframe tbody tr th:only-of-type {\n",
       "        vertical-align: middle;\n",
       "    }\n",
       "\n",
       "    .dataframe tbody tr th {\n",
       "        vertical-align: top;\n",
       "    }\n",
       "\n",
       "    .dataframe thead th {\n",
       "        text-align: right;\n",
       "    }\n",
       "</style>\n",
       "<table border=\"1\" class=\"dataframe\">\n",
       "  <thead>\n",
       "    <tr style=\"text-align: right;\">\n",
       "      <th></th>\n",
       "      <th>tiempo en años</th>\n",
       "      <th>Área en hectáreas</th>\n",
       "    </tr>\n",
       "  </thead>\n",
       "  <tbody>\n",
       "    <tr>\n",
       "      <th>0</th>\n",
       "      <td>1955</td>\n",
       "      <td>258</td>\n",
       "    </tr>\n",
       "    <tr>\n",
       "      <th>1</th>\n",
       "      <td>1965</td>\n",
       "      <td>340</td>\n",
       "    </tr>\n",
       "    <tr>\n",
       "      <th>2</th>\n",
       "      <td>1975</td>\n",
       "      <td>420</td>\n",
       "    </tr>\n",
       "    <tr>\n",
       "      <th>3</th>\n",
       "      <td>1985</td>\n",
       "      <td>441</td>\n",
       "    </tr>\n",
       "    <tr>\n",
       "      <th>4</th>\n",
       "      <td>1995</td>\n",
       "      <td>438</td>\n",
       "    </tr>\n",
       "    <tr>\n",
       "      <th>5</th>\n",
       "      <td>2005</td>\n",
       "      <td>444</td>\n",
       "    </tr>\n",
       "  </tbody>\n",
       "</table>\n",
       "</div>"
      ],
      "text/plain": [
       "   tiempo en años  Área en hectáreas\n",
       "0            1955                258\n",
       "1            1965                340\n",
       "2            1975                420\n",
       "3            1985                441\n",
       "4            1995                438\n",
       "5            2005                444"
      ]
     },
     "execution_count": 25,
     "metadata": {},
     "output_type": "execute_result"
    }
   ],
   "source": [
    "import pandas as pd  \n",
    "\n",
    "años = [1955, 1965, 1975, 1985, 1995, 2005]\n",
    "superficie = [258, 340, 420, 441, 438, 444]\n",
    "\n",
    "diccionario = {'tiempo en años':años, 'Área en hectáreas':superficie}\n",
    "\n",
    "tabla = pd.DataFrame(diccionario) \n",
    "tabla"
   ]
  },
  {
   "cell_type": "markdown",
   "id": "d66e4624",
   "metadata": {},
   "source": [
    "## Interpretaciones de la tabla\n",
    "\n",
    "1. La relación enrre área y tiempo es creciente.\n",
    "2. \n",
    "3.  \n",
    "4. "
   ]
  },
  {
   "cell_type": "markdown",
   "id": "73b20bad",
   "metadata": {
    "slideshow": {
     "slide_type": "slide"
    }
   },
   "source": [
    "## Regresentación en diagrama de dispersión"
   ]
  },
  {
   "cell_type": "code",
   "execution_count": 10,
   "id": "f7c9a959",
   "metadata": {
    "scrolled": true,
    "slideshow": {
     "slide_type": "slide"
    }
   },
   "outputs": [
    {
     "data": {
      "image/png": "[encoded data removed]",
      "text/plain": [
       "<Figure size 640x480 with 1 Axes>"
      ]
     },
     "metadata": {},
     "output_type": "display_data"
    }
   ],
   "source": [
    "import numpy as np \n",
    "\n",
    "import matplotlib.pyplot as plt  \n",
    "\n",
    "plt.scatter(años, superficie, color = 'red')\n",
    "\n",
    "plt.axis([min(años)-10, max(años)+10, min(superficie)-10, max(superficie)+10])\n",
    "plt.grid(alpha = 0.4)\n",
    "\n",
    "\n",
    "plt.title('Relación entre área de las fincas a través de los últimos años')\n",
    "plt.ylabel('área en hectáreas')\n",
    "plt.xlabel('tiempo (años)')\n",
    "\n",
    "\n",
    "plt.savefig('area_vs_tiempo.jpg')\n",
    "\n",
    "plt.show() \n",
    "\n"
   ]
  },
  {
   "cell_type": "markdown",
   "id": "355adfd5",
   "metadata": {
    "slideshow": {
     "slide_type": "slide"
    }
   },
   "source": [
    "## Interpretaciones  del diagrama de dispersión\n",
    "\n",
    "1.   \n",
    "2.   \n",
    "3.   \n",
    "4.   \n"
   ]
  },
  {
   "cell_type": "markdown",
   "id": "10a88bed",
   "metadata": {
    "slideshow": {
     "slide_type": "slide"
    }
   },
   "source": [
    "## Diagrama de líneas"
   ]
  },
  {
   "cell_type": "code",
   "execution_count": 9,
   "id": "ba13abe9",
   "metadata": {},
   "outputs": [
    {
     "data": {
      "image/png": "[encoded data removed]",
      "text/plain": [
       "<Figure size 640x480 with 1 Axes>"
      ]
     },
     "metadata": {},
     "output_type": "display_data"
    }
   ],
   "source": [
    "import numpy as np \n",
    "\n",
    "import matplotlib.pyplot as plt  \n",
    "\n",
    "#Diagrama de dispersión \n",
    "plt.scatter(años, superficie, color = 'red')\n",
    "\n",
    "# Diagrama de líneas\n",
    "plt.plot(años, superficie, color = 'blue', alpha = 0.4)\n",
    "\n",
    "plt.axis([min(años)-10, max(años)+10, min(superficie)-10, max(superficie)+10])\n",
    "plt.grid(alpha = 0.4)\n",
    "\n",
    "plt.title('Relación entre área de las fincas a través de los últimos años')\n",
    "plt.ylabel('área en hectáreas')\n",
    "plt.xlabel('tiempo (años)')\n",
    "\n",
    "plt.savefig('area_vs_tiempo.jpg')\n",
    "\n",
    "plt.show() \n",
    "\n"
   ]
  },
  {
   "cell_type": "markdown",
   "id": "cced3c15",
   "metadata": {
    "slideshow": {
     "slide_type": "slide"
    }
   },
   "source": [
    "## Interpretaciones  del diagrama de líneas\n",
    "\n",
    "1.   \n",
    "2.   \n",
    "3.   \n",
    "4.   "
   ]
  },
  {
   "cell_type": "markdown",
   "id": "ce1337e5",
   "metadata": {
    "slideshow": {
     "slide_type": "slide"
    }
   },
   "source": [
    "# Diagrama de líneas con Plotly"
   ]
  },
  {
   "cell_type": "code",
   "execution_count": 21,
   "id": "6c8f936c",
   "metadata": {
    "slideshow": {
     "slide_type": "slide"
    }
   },
   "outputs": [
    {
     "data": {
      "text/plain": [
       "'años'"
      ]
     },
     "execution_count": 21,
     "metadata": {},
     "output_type": "execute_result"
    }
   ],
   "source": [
    "tabla.keys()[0]"
   ]
  },
  {
   "cell_type": "code",
   "execution_count": 24,
   "id": "b0a73c7c",
   "metadata": {},
   "outputs": [
    {
     "data": {
      "application/vnd.plotly.v1+json": {
       "config": {
        "plotlyServerURL": "https://plot.ly"
       },
       "data": [
        {
         "hovertemplate": "años=%{x}<br>Superficie en hectáreas=%{y}<extra></extra>",
         "legendgroup": "",
         "line": {
          "color": "#636efa",
          "dash": "solid"
         },
         "marker": {
          "symbol": "circle"
         },
         "mode": "lines",
         "name": "",
         "orientation": "v",
         "showlegend": false,
         "type": "scatter",
         "x": [
          1955,
          1965,
          1975,
          1985,
          1995,
          2005
         ],
         "xaxis": "x",
         "y": [
          258,
          340,
          420,
          441,
          438,
          444
         ],
         "yaxis": "y"
        }
       ],
       "layout": {
        "legend": {
         "tracegroupgap": 0
        },
        "template": {
         "data": {
          "bar": [
           {
            "error_x": {
             "color": "#2a3f5f"
            },
            "error_y": {
             "color": "#2a3f5f"
            },
            "marker": {
             "line": {
              "color": "#E5ECF6",
              "width": 0.5
             },
             "pattern": {
              "fillmode": "overlay",
              "size": 10,
              "solidity": 0.2
             }
            },
            "type": "bar"
           }
          ],
          "barpolar": [
           {
            "marker": {
             "line": {
              "color": "#E5ECF6",
              "width": 0.5
             },
             "pattern": {
              "fillmode": "overlay",
              "size": 10,
              "solidity": 0.2
             }
            },
            "type": "barpolar"
           }
          ],
          "carpet": [
           {
            "aaxis": {
             "endlinecolor": "#2a3f5f",
             "gridcolor": "white",
             "linecolor": "white",
             "minorgridcolor": "white",
             "startlinecolor": "#2a3f5f"
            },
            "baxis": {
             "endlinecolor": "#2a3f5f",
             "gridcolor": "white",
             "linecolor": "white",
             "minorgridcolor": "white",
             "startlinecolor": "#2a3f5f"
            },
            "type": "carpet"
           }
          ],
          "choropleth": [
           {
            "colorbar": {
             "outlinewidth": 0,
             "ticks": ""
            },
            "type": "choropleth"
           }
          ],
          "contour": [
           {
            "colorbar": {
             "outlinewidth": 0,
             "ticks": ""
            },
            "colorscale": [
             [
              0,
              "#0d0887"
             ],
             [
              0.1111111111111111,
              "#46039f"
             ],
             [
              0.2222222222222222,
              "#7201a8"
             ],
             [
              0.3333333333333333,
              "#9c179e"
             ],
             [
              0.4444444444444444,
              "#bd3786"
             ],
             [
              0.5555555555555556,
              "#d8576b"
             ],
             [
              0.6666666666666666,
              "#ed7953"
             ],
             [
              0.7777777777777778,
              "#fb9f3a"
             ],
             [
              0.8888888888888888,
              "#fdca26"
             ],
             [
              1,
              "#f0f921"
             ]
            ],
            "type": "contour"
           }
          ],
          "contourcarpet": [
           {
            "colorbar": {
             "outlinewidth": 0,
             "ticks": ""
            },
            "type": "contourcarpet"
           }
          ],
          "heatmap": [
           {
            "colorbar": {
             "outlinewidth": 0,
             "ticks": ""
            },
            "colorscale": [
             [
              0,
              "#0d0887"
             ],
             [
              0.1111111111111111,
              "#46039f"
             ],
             [
              0.2222222222222222,
              "#7201a8"
             ],
             [
              0.3333333333333333,
              "#9c179e"
             ],
             [
              0.4444444444444444,
              "#bd3786"
             ],
             [
              0.5555555555555556,
              "#d8576b"
             ],
             [
              0.6666666666666666,
              "#ed7953"
             ],
             [
              0.7777777777777778,
              "#fb9f3a"
             ],
             [
              0.8888888888888888,
              "#fdca26"
             ],
             [
              1,
              "#f0f921"
             ]
            ],
            "type": "heatmap"
           }
          ],
          "heatmapgl": [
           {
            "colorbar": {
             "outlinewidth": 0,
             "ticks": ""
            },
            "colorscale": [
             [
              0,
              "#0d0887"
             ],
             [
              0.1111111111111111,
              "#46039f"
             ],
             [
              0.2222222222222222,
              "#7201a8"
             ],
             [
              0.3333333333333333,
              "#9c179e"
             ],
             [
              0.4444444444444444,
              "#bd3786"
             ],
             [
              0.5555555555555556,
              "#d8576b"
             ],
             [
              0.6666666666666666,
              "#ed7953"
             ],
             [
              0.7777777777777778,
              "#fb9f3a"
             ],
             [
              0.8888888888888888,
              "#fdca26"
             ],
             [
              1,
              "#f0f921"
             ]
            ],
            "type": "heatmapgl"
           }
          ],
          "histogram": [
           {
            "marker": {
             "pattern": {
              "fillmode": "overlay",
              "size": 10,
              "solidity": 0.2
             }
            },
            "type": "histogram"
           }
          ],
          "histogram2d": [
           {
            "colorbar": {
             "outlinewidth": 0,
             "ticks": ""
            },
            "colorscale": [
             [
              0,
              "#0d0887"
             ],
             [
              0.1111111111111111,
              "#46039f"
             ],
             [
              0.2222222222222222,
              "#7201a8"
             ],
             [
              0.3333333333333333,
              "#9c179e"
             ],
             [
              0.4444444444444444,
              "#bd3786"
             ],
             [
              0.5555555555555556,
              "#d8576b"
             ],
             [
              0.6666666666666666,
              "#ed7953"
             ],
             [
              0.7777777777777778,
              "#fb9f3a"
             ],
             [
              0.8888888888888888,
              "#fdca26"
             ],
             [
              1,
              "#f0f921"
             ]
            ],
            "type": "histogram2d"
           }
          ],
          "histogram2dcontour": [
           {
            "colorbar": {
             "outlinewidth": 0,
             "ticks": ""
            },
            "colorscale": [
             [
              0,
              "#0d0887"
             ],
             [
              0.1111111111111111,
              "#46039f"
             ],
             [
              0.2222222222222222,
              "#7201a8"
             ],
             [
              0.3333333333333333,
              "#9c179e"
             ],
             [
              0.4444444444444444,
              "#bd3786"
             ],
             [
              0.5555555555555556,
              "#d8576b"
             ],
             [
              0.6666666666666666,
              "#ed7953"
             ],
             [
              0.7777777777777778,
              "#fb9f3a"
             ],
             [
              0.8888888888888888,
              "#fdca26"
             ],
             [
              1,
              "#f0f921"
             ]
            ],
            "type": "histogram2dcontour"
           }
          ],
          "mesh3d": [
           {
            "colorbar": {
             "outlinewidth": 0,
             "ticks": ""
            },
            "type": "mesh3d"
           }
          ],
          "parcoords": [
           {
            "line": {
             "colorbar": {
              "outlinewidth": 0,
              "ticks": ""
             }
            },
            "type": "parcoords"
           }
          ],
          "pie": [
           {
            "automargin": true,
            "type": "pie"
           }
          ],
          "scatter": [
           {
            "fillpattern": {
             "fillmode": "overlay",
             "size": 10,
             "solidity": 0.2
            },
            "type": "scatter"
           }
          ],
          "scatter3d": [
           {
            "line": {
             "colorbar": {
              "outlinewidth": 0,
              "ticks": ""
             }
            },
            "marker": {
             "colorbar": {
              "outlinewidth": 0,
              "ticks": ""
             }
            },
            "type": "scatter3d"
           }
          ],
          "scattercarpet": [
           {
            "marker": {
             "colorbar": {
              "outlinewidth": 0,
              "ticks": ""
             }
            },
            "type": "scattercarpet"
           }
          ],
          "scattergeo": [
           {
            "marker": {
             "colorbar": {
              "outlinewidth": 0,
              "ticks": ""
             }
            },
            "type": "scattergeo"
           }
          ],
          "scattergl": [
           {
            "marker": {
             "colorbar": {
              "outlinewidth": 0,
              "ticks": ""
             }
            },
            "type": "scattergl"
           }
          ],
          "scattermapbox": [
           {
            "marker": {
             "colorbar": {
              "outlinewidth": 0,
              "ticks": ""
             }
            },
            "type": "scattermapbox"
           }
          ],
          "scatterpolar": [
           {
            "marker": {
             "colorbar": {
              "outlinewidth": 0,
              "ticks": ""
             }
            },
            "type": "scatterpolar"
           }
          ],
          "scatterpolargl": [
           {
            "marker": {
             "colorbar": {
              "outlinewidth": 0,
              "ticks": ""
             }
            },
            "type": "scatterpolargl"
           }
          ],
          "scatterternary": [
           {
            "marker": {
             "colorbar": {
              "outlinewidth": 0,
              "ticks": ""
             }
            },
            "type": "scatterternary"
           }
          ],
          "surface": [
           {
            "colorbar": {
             "outlinewidth": 0,
             "ticks": ""
            },
            "colorscale": [
             [
              0,
              "#0d0887"
             ],
             [
              0.1111111111111111,
              "#46039f"
             ],
             [
              0.2222222222222222,
              "#7201a8"
             ],
             [
              0.3333333333333333,
              "#9c179e"
             ],
             [
              0.4444444444444444,
              "#bd3786"
             ],
             [
              0.5555555555555556,
              "#d8576b"
             ],
             [
              0.6666666666666666,
              "#ed7953"
             ],
             [
              0.7777777777777778,
              "#fb9f3a"
             ],
             [
              0.8888888888888888,
              "#fdca26"
             ],
             [
              1,
              "#f0f921"
             ]
            ],
            "type": "surface"
           }
          ],
          "table": [
           {
            "cells": {
             "fill": {
              "color": "#EBF0F8"
             },
             "line": {
              "color": "white"
             }
            },
            "header": {
             "fill": {
              "color": "#C8D4E3"
             },
             "line": {
              "color": "white"
             }
            },
            "type": "table"
           }
          ]
         },
         "layout": {
          "annotationdefaults": {
           "arrowcolor": "#2a3f5f",
           "arrowhead": 0,
           "arrowwidth": 1
          },
          "autotypenumbers": "strict",
          "coloraxis": {
           "colorbar": {
            "outlinewidth": 0,
            "ticks": ""
           }
          },
          "colorscale": {
           "diverging": [
            [
             0,
             "#8e0152"
            ],
            [
             0.1,
             "#c51b7d"
            ],
            [
             0.2,
             "#de77ae"
            ],
            [
             0.3,
             "#f1b6da"
            ],
            [
             0.4,
             "#fde0ef"
            ],
            [
             0.5,
             "#f7f7f7"
            ],
            [
             0.6,
             "#e6f5d0"
            ],
            [
             0.7,
             "#b8e186"
            ],
            [
             0.8,
             "#7fbc41"
            ],
            [
             0.9,
             "#4d9221"
            ],
            [
             1,
             "#276419"
            ]
           ],
           "sequential": [
            [
             0,
             "#0d0887"
            ],
            [
             0.1111111111111111,
             "#46039f"
            ],
            [
             0.2222222222222222,
             "#7201a8"
            ],
            [
             0.3333333333333333,
             "#9c179e"
            ],
            [
             0.4444444444444444,
             "#bd3786"
            ],
            [
             0.5555555555555556,
             "#d8576b"
            ],
            [
             0.6666666666666666,
             "#ed7953"
            ],
            [
             0.7777777777777778,
             "#fb9f3a"
            ],
            [
             0.8888888888888888,
             "#fdca26"
            ],
            [
             1,
             "#f0f921"
            ]
           ],
           "sequentialminus": [
            [
             0,
             "#0d0887"
            ],
            [
             0.1111111111111111,
             "#46039f"
            ],
            [
             0.2222222222222222,
             "#7201a8"
            ],
            [
             0.3333333333333333,
             "#9c179e"
            ],
            [
             0.4444444444444444,
             "#bd3786"
            ],
            [
             0.5555555555555556,
             "#d8576b"
            ],
            [
             0.6666666666666666,
             "#ed7953"
            ],
            [
             0.7777777777777778,
             "#fb9f3a"
            ],
            [
             0.8888888888888888,
             "#fdca26"
            ],
            [
             1,
             "#f0f921"
            ]
           ]
          },
          "colorway": [
           "#636efa",
           "#EF553B",
           "#00cc96",
           "#ab63fa",
           "#FFA15A",
           "#19d3f3",
           "#FF6692",
           "#B6E880",
           "#FF97FF",
           "#FECB52"
          ],
          "font": {
           "color": "#2a3f5f"
          },
          "geo": {
           "bgcolor": "white",
           "lakecolor": "white",
           "landcolor": "#E5ECF6",
           "showlakes": true,
           "showland": true,
           "subunitcolor": "white"
          },
          "hoverlabel": {
           "align": "left"
          },
          "hovermode": "closest",
          "mapbox": {
           "style": "light"
          },
          "paper_bgcolor": "white",
          "plot_bgcolor": "#E5ECF6",
          "polar": {
           "angularaxis": {
            "gridcolor": "white",
            "linecolor": "white",
            "ticks": ""
           },
           "bgcolor": "#E5ECF6",
           "radialaxis": {
            "gridcolor": "white",
            "linecolor": "white",
            "ticks": ""
           }
          },
          "scene": {
           "xaxis": {
            "backgroundcolor": "#E5ECF6",
            "gridcolor": "white",
            "gridwidth": 2,
            "linecolor": "white",
            "showbackground": true,
            "ticks": "",
            "zerolinecolor": "white"
           },
           "yaxis": {
            "backgroundcolor": "#E5ECF6",
            "gridcolor": "white",
            "gridwidth": 2,
            "linecolor": "white",
            "showbackground": true,
            "ticks": "",
            "zerolinecolor": "white"
           },
           "zaxis": {
            "backgroundcolor": "#E5ECF6",
            "gridcolor": "white",
            "gridwidth": 2,
            "linecolor": "white",
            "showbackground": true,
            "ticks": "",
            "zerolinecolor": "white"
           }
          },
          "shapedefaults": {
           "line": {
            "color": "#2a3f5f"
           }
          },
          "ternary": {
           "aaxis": {
            "gridcolor": "white",
            "linecolor": "white",
            "ticks": ""
           },
           "baxis": {
            "gridcolor": "white",
            "linecolor": "white",
            "ticks": ""
           },
           "bgcolor": "#E5ECF6",
           "caxis": {
            "gridcolor": "white",
            "linecolor": "white",
            "ticks": ""
           }
          },
          "title": {
           "x": 0.05
          },
          "xaxis": {
           "automargin": true,
           "gridcolor": "white",
           "linecolor": "white",
           "ticks": "",
           "title": {
            "standoff": 15
           },
           "zerolinecolor": "white",
           "zerolinewidth": 2
          },
          "yaxis": {
           "automargin": true,
           "gridcolor": "white",
           "linecolor": "white",
           "ticks": "",
           "title": {
            "standoff": 15
           },
           "zerolinecolor": "white",
           "zerolinewidth": 2
          }
         }
        },
        "title": {
         "text": "Relación entre área y tiempo"
        },
        "xaxis": {
         "anchor": "y",
         "domain": [
          0,
          1
         ],
         "title": {
          "text": "años"
         }
        },
        "yaxis": {
         "anchor": "x",
         "domain": [
          0,
          1
         ],
         "title": {
          "text": "Superficie en hectáreas"
         }
        }
       }
      },
      "text/html": [
       "<div>                            <div id=\"8b0a6390-3708-4796-bca6-d92c2b9f3d79\" class=\"plotly-graph-div\" style=\"height:525px; width:100%;\"></div>            <script type=\"text/javascript\">                require([\"plotly\"], function(Plotly) {                    window.PLOTLYENV=window.PLOTLYENV || {};                                    if (document.getElementById(\"8b0a6390-3708-4796-bca6-d92c2b9f3d79\")) {                    Plotly.newPlot(                        \"8b0a6390-3708-4796-bca6-d92c2b9f3d79\",                        [{\"hovertemplate\":\"a\\u00f1os=%{x}<br>Superficie en hect\\u00e1reas=%{y}<extra></extra>\",\"legendgroup\":\"\",\"line\":{\"color\":\"#636efa\",\"dash\":\"solid\"},\"marker\":{\"symbol\":\"circle\"},\"mode\":\"lines\",\"name\":\"\",\"orientation\":\"v\",\"showlegend\":false,\"x\":[1955,1965,1975,1985,1995,2005],\"xaxis\":\"x\",\"y\":[258,340,420,441,438,444],\"yaxis\":\"y\",\"type\":\"scatter\"}],                        {\"template\":{\"data\":{\"histogram2dcontour\":[{\"type\":\"histogram2dcontour\",\"colorbar\":{\"outlinewidth\":0,\"ticks\":\"\"},\"colorscale\":[[0.0,\"#0d0887\"],[0.1111111111111111,\"#46039f\"],[0.2222222222222222,\"#7201a8\"],[0.3333333333333333,\"#9c179e\"],[0.4444444444444444,\"#bd3786\"],[0.5555555555555556,\"#d8576b\"],[0.6666666666666666,\"#ed7953\"],[0.7777777777777778,\"#fb9f3a\"],[0.8888888888888888,\"#fdca26\"],[1.0,\"#f0f921\"]]}],\"choropleth\":[{\"type\":\"choropleth\",\"colorbar\":{\"outlinewidth\":0,\"ticks\":\"\"}}],\"histogram2d\":[{\"type\":\"histogram2d\",\"colorbar\":{\"outlinewidth\":0,\"ticks\":\"\"},\"colorscale\":[[0.0,\"#0d0887\"],[0.1111111111111111,\"#46039f\"],[0.2222222222222222,\"#7201a8\"],[0.3333333333333333,\"#9c179e\"],[0.4444444444444444,\"#bd3786\"],[0.5555555555555556,\"#d8576b\"],[0.6666666666666666,\"#ed7953\"],[0.7777777777777778,\"#fb9f3a\"],[0.8888888888888888,\"#fdca26\"],[1.0,\"#f0f921\"]]}],\"heatmap\":[{\"type\":\"heatmap\",\"colorbar\":{\"outlinewidth\":0,\"ticks\":\"\"},\"colorscale\":[[0.0,\"#0d0887\"],[0.1111111111111111,\"#46039f\"],[0.2222222222222222,\"#7201a8\"],[0.3333333333333333,\"#9c179e\"],[0.4444444444444444,\"#bd3786\"],[0.5555555555555556,\"#d8576b\"],[0.6666666666666666,\"#ed7953\"],[0.7777777777777778,\"#fb9f3a\"],[0.8888888888888888,\"#fdca26\"],[1.0,\"#f0f921\"]]}],\"heatmapgl\":[{\"type\":\"heatmapgl\",\"colorbar\":{\"outlinewidth\":0,\"ticks\":\"\"},\"colorscale\":[[0.0,\"#0d0887\"],[0.1111111111111111,\"#46039f\"],[0.2222222222222222,\"#7201a8\"],[0.3333333333333333,\"#9c179e\"],[0.4444444444444444,\"#bd3786\"],[0.5555555555555556,\"#d8576b\"],[0.6666666666666666,\"#ed7953\"],[0.7777777777777778,\"#fb9f3a\"],[0.8888888888888888,\"#fdca26\"],[1.0,\"#f0f921\"]]}],\"contourcarpet\":[{\"type\":\"contourcarpet\",\"colorbar\":{\"outlinewidth\":0,\"ticks\":\"\"}}],\"contour\":[{\"type\":\"contour\",\"colorbar\":{\"outlinewidth\":0,\"ticks\":\"\"},\"colorscale\":[[0.0,\"#0d0887\"],[0.1111111111111111,\"#46039f\"],[0.2222222222222222,\"#7201a8\"],[0.3333333333333333,\"#9c179e\"],[0.4444444444444444,\"#bd3786\"],[0.5555555555555556,\"#d8576b\"],[0.6666666666666666,\"#ed7953\"],[0.7777777777777778,\"#fb9f3a\"],[0.8888888888888888,\"#fdca26\"],[1.0,\"#f0f921\"]]}],\"surface\":[{\"type\":\"surface\",\"colorbar\":{\"outlinewidth\":0,\"ticks\":\"\"},\"colorscale\":[[0.0,\"#0d0887\"],[0.1111111111111111,\"#46039f\"],[0.2222222222222222,\"#7201a8\"],[0.3333333333333333,\"#9c179e\"],[0.4444444444444444,\"#bd3786\"],[0.5555555555555556,\"#d8576b\"],[0.6666666666666666,\"#ed7953\"],[0.7777777777777778,\"#fb9f3a\"],[0.8888888888888888,\"#fdca26\"],[1.0,\"#f0f921\"]]}],\"mesh3d\":[{\"type\":\"mesh3d\",\"colorbar\":{\"outlinewidth\":0,\"ticks\":\"\"}}],\"scatter\":[{\"fillpattern\":{\"fillmode\":\"overlay\",\"size\":10,\"solidity\":0.2},\"type\":\"scatter\"}],\"parcoords\":[{\"type\":\"parcoords\",\"line\":{\"colorbar\":{\"outlinewidth\":0,\"ticks\":\"\"}}}],\"scatterpolargl\":[{\"type\":\"scatterpolargl\",\"marker\":{\"colorbar\":{\"outlinewidth\":0,\"ticks\":\"\"}}}],\"bar\":[{\"error_x\":{\"color\":\"#2a3f5f\"},\"error_y\":{\"color\":\"#2a3f5f\"},\"marker\":{\"line\":{\"color\":\"#E5ECF6\",\"width\":0.5},\"pattern\":{\"fillmode\":\"overlay\",\"size\":10,\"solidity\":0.2}},\"type\":\"bar\"}],\"scattergeo\":[{\"type\":\"scattergeo\",\"marker\":{\"colorbar\":{\"outlinewidth\":0,\"ticks\":\"\"}}}],\"scatterpolar\":[{\"type\":\"scatterpolar\",\"marker\":{\"colorbar\":{\"outlinewidth\":0,\"ticks\":\"\"}}}],\"histogram\":[{\"marker\":{\"pattern\":{\"fillmode\":\"overlay\",\"size\":10,\"solidity\":0.2}},\"type\":\"histogram\"}],\"scattergl\":[{\"type\":\"scattergl\",\"marker\":{\"colorbar\":{\"outlinewidth\":0,\"ticks\":\"\"}}}],\"scatter3d\":[{\"type\":\"scatter3d\",\"line\":{\"colorbar\":{\"outlinewidth\":0,\"ticks\":\"\"}},\"marker\":{\"colorbar\":{\"outlinewidth\":0,\"ticks\":\"\"}}}],\"scattermapbox\":[{\"type\":\"scattermapbox\",\"marker\":{\"colorbar\":{\"outlinewidth\":0,\"ticks\":\"\"}}}],\"scatterternary\":[{\"type\":\"scatterternary\",\"marker\":{\"colorbar\":{\"outlinewidth\":0,\"ticks\":\"\"}}}],\"scattercarpet\":[{\"type\":\"scattercarpet\",\"marker\":{\"colorbar\":{\"outlinewidth\":0,\"ticks\":\"\"}}}],\"carpet\":[{\"aaxis\":{\"endlinecolor\":\"#2a3f5f\",\"gridcolor\":\"white\",\"linecolor\":\"white\",\"minorgridcolor\":\"white\",\"startlinecolor\":\"#2a3f5f\"},\"baxis\":{\"endlinecolor\":\"#2a3f5f\",\"gridcolor\":\"white\",\"linecolor\":\"white\",\"minorgridcolor\":\"white\",\"startlinecolor\":\"#2a3f5f\"},\"type\":\"carpet\"}],\"table\":[{\"cells\":{\"fill\":{\"color\":\"#EBF0F8\"},\"line\":{\"color\":\"white\"}},\"header\":{\"fill\":{\"color\":\"#C8D4E3\"},\"line\":{\"color\":\"white\"}},\"type\":\"table\"}],\"barpolar\":[{\"marker\":{\"line\":{\"color\":\"#E5ECF6\",\"width\":0.5},\"pattern\":{\"fillmode\":\"overlay\",\"size\":10,\"solidity\":0.2}},\"type\":\"barpolar\"}],\"pie\":[{\"automargin\":true,\"type\":\"pie\"}]},\"layout\":{\"autotypenumbers\":\"strict\",\"colorway\":[\"#636efa\",\"#EF553B\",\"#00cc96\",\"#ab63fa\",\"#FFA15A\",\"#19d3f3\",\"#FF6692\",\"#B6E880\",\"#FF97FF\",\"#FECB52\"],\"font\":{\"color\":\"#2a3f5f\"},\"hovermode\":\"closest\",\"hoverlabel\":{\"align\":\"left\"},\"paper_bgcolor\":\"white\",\"plot_bgcolor\":\"#E5ECF6\",\"polar\":{\"bgcolor\":\"#E5ECF6\",\"angularaxis\":{\"gridcolor\":\"white\",\"linecolor\":\"white\",\"ticks\":\"\"},\"radialaxis\":{\"gridcolor\":\"white\",\"linecolor\":\"white\",\"ticks\":\"\"}},\"ternary\":{\"bgcolor\":\"#E5ECF6\",\"aaxis\":{\"gridcolor\":\"white\",\"linecolor\":\"white\",\"ticks\":\"\"},\"baxis\":{\"gridcolor\":\"white\",\"linecolor\":\"white\",\"ticks\":\"\"},\"caxis\":{\"gridcolor\":\"white\",\"linecolor\":\"white\",\"ticks\":\"\"}},\"coloraxis\":{\"colorbar\":{\"outlinewidth\":0,\"ticks\":\"\"}},\"colorscale\":{\"sequential\":[[0.0,\"#0d0887\"],[0.1111111111111111,\"#46039f\"],[0.2222222222222222,\"#7201a8\"],[0.3333333333333333,\"#9c179e\"],[0.4444444444444444,\"#bd3786\"],[0.5555555555555556,\"#d8576b\"],[0.6666666666666666,\"#ed7953\"],[0.7777777777777778,\"#fb9f3a\"],[0.8888888888888888,\"#fdca26\"],[1.0,\"#f0f921\"]],\"sequentialminus\":[[0.0,\"#0d0887\"],[0.1111111111111111,\"#46039f\"],[0.2222222222222222,\"#7201a8\"],[0.3333333333333333,\"#9c179e\"],[0.4444444444444444,\"#bd3786\"],[0.5555555555555556,\"#d8576b\"],[0.6666666666666666,\"#ed7953\"],[0.7777777777777778,\"#fb9f3a\"],[0.8888888888888888,\"#fdca26\"],[1.0,\"#f0f921\"]],\"diverging\":[[0,\"#8e0152\"],[0.1,\"#c51b7d\"],[0.2,\"#de77ae\"],[0.3,\"#f1b6da\"],[0.4,\"#fde0ef\"],[0.5,\"#f7f7f7\"],[0.6,\"#e6f5d0\"],[0.7,\"#b8e186\"],[0.8,\"#7fbc41\"],[0.9,\"#4d9221\"],[1,\"#276419\"]]},\"xaxis\":{\"gridcolor\":\"white\",\"linecolor\":\"white\",\"ticks\":\"\",\"title\":{\"standoff\":15},\"zerolinecolor\":\"white\",\"automargin\":true,\"zerolinewidth\":2},\"yaxis\":{\"gridcolor\":\"white\",\"linecolor\":\"white\",\"ticks\":\"\",\"title\":{\"standoff\":15},\"zerolinecolor\":\"white\",\"automargin\":true,\"zerolinewidth\":2},\"scene\":{\"xaxis\":{\"backgroundcolor\":\"#E5ECF6\",\"gridcolor\":\"white\",\"linecolor\":\"white\",\"showbackground\":true,\"ticks\":\"\",\"zerolinecolor\":\"white\",\"gridwidth\":2},\"yaxis\":{\"backgroundcolor\":\"#E5ECF6\",\"gridcolor\":\"white\",\"linecolor\":\"white\",\"showbackground\":true,\"ticks\":\"\",\"zerolinecolor\":\"white\",\"gridwidth\":2},\"zaxis\":{\"backgroundcolor\":\"#E5ECF6\",\"gridcolor\":\"white\",\"linecolor\":\"white\",\"showbackground\":true,\"ticks\":\"\",\"zerolinecolor\":\"white\",\"gridwidth\":2}},\"shapedefaults\":{\"line\":{\"color\":\"#2a3f5f\"}},\"annotationdefaults\":{\"arrowcolor\":\"#2a3f5f\",\"arrowhead\":0,\"arrowwidth\":1},\"geo\":{\"bgcolor\":\"white\",\"landcolor\":\"#E5ECF6\",\"subunitcolor\":\"white\",\"showland\":true,\"showlakes\":true,\"lakecolor\":\"white\"},\"title\":{\"x\":0.05},\"mapbox\":{\"style\":\"light\"}}},\"xaxis\":{\"anchor\":\"y\",\"domain\":[0.0,1.0],\"title\":{\"text\":\"a\\u00f1os\"}},\"yaxis\":{\"anchor\":\"x\",\"domain\":[0.0,1.0],\"title\":{\"text\":\"Superficie en hect\\u00e1reas\"}},\"legend\":{\"tracegroupgap\":0},\"title\":{\"text\":\"Relaci\\u00f3n entre \\u00e1rea y tiempo\"}},                        {\"responsive\": true}                    ).then(function(){\n",
       "                            \n",
       "var gd = document.getElementById('8b0a6390-3708-4796-bca6-d92c2b9f3d79');\n",
       "var x = new MutationObserver(function (mutations, observer) {{\n",
       "        var display = window.getComputedStyle(gd).display;\n",
       "        if (!display || display === 'none') {{\n",
       "            console.log([gd, 'removed!']);\n",
       "            Plotly.purge(gd);\n",
       "            observer.disconnect();\n",
       "        }}\n",
       "}});\n",
       "\n",
       "// Listen for the removal of the full notebook cells\n",
       "var notebookContainer = gd.closest('#notebook-container');\n",
       "if (notebookContainer) {{\n",
       "    x.observe(notebookContainer, {childList: true});\n",
       "}}\n",
       "\n",
       "// Listen for the clearing of the current output cell\n",
       "var outputEl = gd.closest('.output');\n",
       "if (outputEl) {{\n",
       "    x.observe(outputEl, {childList: true});\n",
       "}}\n",
       "\n",
       "                        })                };                });            </script>        </div>"
      ]
     },
     "metadata": {},
     "output_type": "display_data"
    }
   ],
   "source": [
    "import pandas as pd \n",
    "import plotly.express as px\n",
    "fig = px.line(tabla,x = tabla.keys()[0], y = tabla.keys()[1],\\\n",
    "              title=r'Relación entre área y tiempo')\n",
    "fig.show()"
   ]
  },
  {
   "cell_type": "markdown",
   "id": "fdbdbbf0",
   "metadata": {
    "slideshow": {
     "slide_type": "slide"
    }
   },
   "source": [
    "# Lectura a Rondon Barragan sobre pensamiento computacional"
   ]
  },
  {
   "cell_type": "markdown",
   "id": "e6b73158",
   "metadata": {
    "slideshow": {
     "slide_type": "slide"
    }
   },
   "source": [
    "## Introducción  \n",
    "\n",
    "La humanidad ha vivido momentos en los que sus procesos de desarrollo tecnológico, son sometidos a cambios tan acelerados, que implican grandes transformaciones a nivel social y cultural. "
   ]
  },
  {
   "cell_type": "markdown",
   "id": "911bf252",
   "metadata": {
    "slideshow": {
     "slide_type": "slide"
    }
   },
   "source": [
    "Estos traen consigo nuevas necesidades en diversos aspectos socioeconómicos y de bienestar humano. A nivel tecnológico los cambios han sido tan acelerados en todas las industrias, no solo del ámbito digital, sino de otros sectores económicos, que la necesidad de profesionales relacionados con TIC no \n",
    "se ha logrado suplir. "
   ]
  },
  {
   "cell_type": "markdown",
   "id": "3ef635b6",
   "metadata": {
    "slideshow": {
     "slide_type": "slide"
    }
   },
   "source": [
    "Vemos también, que la sociedad integra cada vez más el internet a sus vidas, exige más soluciones de entretenimiento digital, permanece más tiempo conectada e integra la tecnología a una mayor cantidad de campos (Aho, 2012)."
   ]
  },
  {
   "cell_type": "markdown",
   "id": "06617dde",
   "metadata": {
    "slideshow": {
     "slide_type": "slide"
    }
   },
   "source": [
    "Todos estos cambios no son ajenos a la educación, pues es con la ayuda de esta que las personas logran responder a cambios y generan soluciones a las necesidades de sus comunidades. "
   ]
  },
  {
   "cell_type": "markdown",
   "id": "baf74ceb",
   "metadata": {
    "slideshow": {
     "slide_type": "slide"
    }
   },
   "source": [
    "Es gracias a los espacios que se crean dentro del ámbito educativo, que se desarrollan en los estudiantes habilidades o destrezas que les permiten superarse, de tal forma que puedan aportar a su bienestar, al de su comunidad y a una sociedad globalizada (García-peñalvo, 2018; Ripani, 2017). "
   ]
  },
  {
   "cell_type": "markdown",
   "id": "387019bf",
   "metadata": {
    "slideshow": {
     "slide_type": "slide"
    }
   },
   "source": [
    "En este sentido, algunos proponen el desarrollo de habilidades relacionadas a la tecnología y la resolución de problemas, pero útiles también en cualquier área y aspecto cotidiano. "
   ]
  },
  {
   "cell_type": "markdown",
   "id": "1a5d1d36",
   "metadata": {
    "slideshow": {
     "slide_type": "slide"
    }
   },
   "source": [
    "Surgen así, iniciativas que promueven la enseñanza de la programación desde la escuela, como lo hicieran Papert (1980, 1993) y Papert y Harel (1991) con el lenguaje Logo y el construccionismo, Resnick et al. (2009) con el lenguaje Scratch, y las iniciativas para promover el pensamiento computacional surgidas a partir de los trabajos de Wing (2006, 2008)."
   ]
  },
  {
   "cell_type": "markdown",
   "id": "ecff5658",
   "metadata": {
    "slideshow": {
     "slide_type": "slide"
    }
   },
   "source": [
    "A partir de esto, el desarrollo del pensamiento computacional se erige como una habilidad determinante para responder a todas estas necesidades, para algunos, al nivel de la lectura y la escritura (Wing, 2006). "
   ]
  },
  {
   "cell_type": "markdown",
   "id": "c2c58916",
   "metadata": {
    "slideshow": {
     "slide_type": "slide"
    }
   },
   "source": [
    "Pero el desarrollo de este, ha traído consigo una \n",
    "gran cantidad de retos, como la inclusión en el currículo, el enfoque para desarrollarlo, su \n",
    "conceptualización, métodos de evaluación, entre otros (García-peñalvo, 2018). Debido a \n",
    "su estrecha relación con las habilidades exhibidas por los programadores y los perfiles \n",
    "asociados a las ciencias de la computación, se podría suponer que es necesario que este se \n",
    "desarrolle únicamente a través de la tecnología."
   ]
  },
  {
   "cell_type": "markdown",
   "id": "f1571312",
   "metadata": {
    "slideshow": {
     "slide_type": "slide"
    }
   },
   "source": [
    " \n",
    "Ya Valverde y Garrido (2015), en torno a esto, manifestaban que esta no debe ser \n",
    "un requisito indispensable para abordar el pensamiento computacional. En este sentido, \n",
    "se requieren propuestas que brinden a los docentes recursos que les permitan abordar el \n",
    "pensamiento computacional como las de Bell et al. (2009), Csizmadia et al. (2015), \n",
    "Resnick et al. (2009) y Lockwood (2019), pero vistas desde el contexto nacional.\n",
    "También, estudios que aporten a las discusiones en torno a las estrategias que favorecen \n",
    "su desarrollo y su aplicación en el aula como las de Atmatzidou y Demetriadis (2016), \n",
    "Delal y Oner (2020) y Folk et al. (2015).\n",
    "De acuerdo con lo anterior, el presente estudio brinda una estrategia basada en \n",
    "secuencias didácticas que permiten la introducción del pensamiento computacional en el \n",
    "aula. Esto puede darse desde la complementariedad de esta con la enseñanza de \n",
    "programación, abordando algunos conceptos básicos, o incluso sin necesidad de"
   ]
  },
  {
   "cell_type": "code",
   "execution_count": 26,
   "id": "0585fb65",
   "metadata": {
    "scrolled": true,
    "slideshow": {
     "slide_type": "slide"
    }
   },
   "outputs": [
    {
     "name": "stderr",
     "output_type": "stream",
     "text": [
      "No artists with labels found to put in legend.  Note that artists whose label start with an underscore are ignored when legend() is called with no argument.\n"
     ]
    },
    {
     "data": {
      "image/png": "[encoded data removed]",
      "text/plain": [
       "<Figure size 640x480 with 4 Axes>"
      ]
     },
     "metadata": {},
     "output_type": "display_data"
    }
   ],
   "source": [
    "import numpy as np \n",
    "import matplotlib.pyplot as plt \n",
    "# dominio y rectángulo de visualizacion\n",
    "a,b = 4,6\n",
    "axes = [-a,a,-b,b]\n",
    "x = np.linspace(-1.4, 1.4, 30) # conjunto de abscisas \n",
    "\n",
    "b_ = 2\n",
    "plt.subplot(2, 2, 1)  # 2 rows, 2 columns, 1st subplot = top left La función constante \n",
    "plt.plot(x, b_ + 0*x)\n",
    "plt.axis(axes)\n",
    "#ejes coordenados\n",
    "plt.plot([-a,a],[0,0], 'g-', alpha = 0.4)\n",
    "plt.plot([0,0],[-b,b], 'g-', alpha = 0.4)         \n",
    "plt.grid()\n",
    "\n",
    "\n",
    "plt.subplot(2, 2, 2)  # 2 rows, 2 columns, 2nd subplot = top right\n",
    "plt.plot(x, x, label = 'función identidad')\n",
    "plt.axis(axes)\n",
    "#ejes coordenados\n",
    "plt.plot([-a,a],[0,0], 'g-', alpha = 0.4)\n",
    "plt.plot([0,0],[-b,b], 'g-', alpha = 0.4)   \n",
    "plt.grid()\n",
    "\n",
    "plt.subplot(2, 2, 3)  # 2 rows, 2 columns, 3rd subplot = bottom left\n",
    "plt.plot(x, x**2, label = 'la función elevar al cuadrado') \n",
    "plt.axis(axes)\n",
    "#ejes coordenados\n",
    "plt.plot([-a,a],[0,0], 'g-', alpha = 0.4)\n",
    "plt.plot([0,0],[-b,b], 'g-', alpha = 0.4)   \n",
    "plt.grid()\n",
    "\n",
    "plt.subplot(2, 2, 4)  # 2 rows, 2 columns, 4th subplot = bottom right\n",
    "plt.plot(x, x**3)\n",
    "plt.axis(axes)\n",
    "#ejes coordenados\n",
    "plt.plot([-a,a],[0,0], 'g-', alpha = 0.4)\n",
    "plt.plot([0,0],[-b,b], 'g-', alpha = 0.4)   \n",
    "plt.grid()\n",
    "\n",
    "\n",
    "plt.savefig('matriz_potencias_de_x.jpg') \n",
    "plt.legend() \n",
    "plt.show()"
   ]
  },
  {
   "cell_type": "markdown",
   "id": "0fdecd64",
   "metadata": {
    "slideshow": {
     "slide_type": "slide"
    }
   },
   "source": [
    "# Gráficos con plotly"
   ]
  },
  {
   "cell_type": "code",
   "execution_count": 1,
   "id": "edb199d9",
   "metadata": {
    "slideshow": {
     "slide_type": "slide"
    }
   },
   "outputs": [],
   "source": [
    "\n",
    "#import plotly.express as px\n",
    "# la función que duplica\n",
    "#fig = px.line(x=[1,2,3], y=[2, 4, 6])\n",
    "#fig.write_html('first_figure.html', auto_open=True)\n",
    "\n",
    "\n"
   ]
  },
  {
   "cell_type": "code",
   "execution_count": 2,
   "id": "d8cf91ce",
   "metadata": {
    "scrolled": true,
    "slideshow": {
     "slide_type": "slide"
    }
   },
   "outputs": [],
   "source": [
    "import pandas as pd \n",
    "#import plotly.express as px\n",
    "x = [1,2,3]\n",
    "y = [2,4,6]\n",
    "df = pd.DataFrame({'abscisas':x, 'ordenadas':y})\n",
    "#fig = px.line(df, x='abscisas', y='ordenadas', title=r'Función lineal')\n",
    "#fig.show()"
   ]
  },
  {
   "cell_type": "markdown",
   "id": "d110170b",
   "metadata": {
    "slideshow": {
     "slide_type": "slide"
    }
   },
   "source": [
    "# Funciones y modelo\n",
    "\n",
    "Página 40 del Stewart\n"
   ]
  },
  {
   "cell_type": "markdown",
   "id": "8de9ceb5",
   "metadata": {
    "slideshow": {
     "slide_type": "slide"
    }
   },
   "source": [
    "A menudo una gráfica es la mejor manera de representar una función porque transmite \n",
    "mucha información en un vistazo. Se muestra la gráfica \n",
    "de la aceleración vertical del \n",
    "suelo, creada por el terremoto \n",
    "de 2011 cerca de Tohoku en \n",
    "Japón. El terremoto tuvo una \n",
    "magnitud de 9.0 en la escala \n",
    "de Ritcher y fue tan fuerte que \n",
    "movió el norte de Japón 2.4 \n",
    "metros más cerca de América \n",
    "del Norte."
   ]
  },
  {
   "cell_type": "markdown",
   "id": "75affd79",
   "metadata": {
    "slideshow": {
     "slide_type": "slide"
    }
   },
   "source": [
    "LOS OBJETOS FUNDAMENTALES CON LOS que trata el cálculo son las funciones. Este capí\u0002tulo prepara el camino para el cálculo discutiendo las ideas básicas sobre las grá\u001f cas de funcio\u0002nes y la manera de transformarlas y combinarlas. Se destaca que una función puede representarse \n",
    "de diferentes maneras: mediante una ecuación, una tabla, una grá\u001f ca o con palabras. Se verán \n",
    "los principales tipos de funciones que se presentan en el cálculo y se describirán cómo se utilizan \n",
    "estas funciones para modelar matemáticamente fenómenos del mundo real. "
   ]
  },
  {
   "cell_type": "markdown",
   "id": "e4fbcc9d",
   "metadata": {
    "slideshow": {
     "slide_type": "slide"
    }
   },
   "source": [
    "# 1.1 Cuatro maneras de representar una función\n",
    "\n",
    "Página 41 del stewart"
   ]
  },
  {
   "cell_type": "markdown",
   "id": "73d6ac95",
   "metadata": {
    "slideshow": {
     "slide_type": "slide"
    }
   },
   "source": [
    "Las funciones surgen siempre que una cantidad depende de otra. Considere las cuatro \n",
    "situaciones siguientes:\n",
    "A. El área A de un círculo depende de su radio r. La regla que relaciona A con r está \n",
    "dada por la ecuación $A = \\pi r^{2}$. Con cada número positivo $r$ hay asociado un valor de \n",
    "A, por lo que se dice que A es una función de r."
   ]
  },
  {
   "cell_type": "markdown",
   "id": "73741c68",
   "metadata": {
    "slideshow": {
     "slide_type": "slide"
    }
   },
   "source": [
    "B. La población humana del mundo P depende del tiempo t. La tabla muestra las estimaciones de la población mundial $P(t)$ en el tiempo $t$, para algunos años. Por ejemplo,\n",
    "P(1950) < 2 560 000 000\n",
    "Pero para cada valor del tiempo t hay un valor correspondiente de P, por lo que se \n",
    "dice que $P$ es una función de t."
   ]
  },
  {
   "cell_type": "markdown",
   "id": "0f20e9b8",
   "metadata": {
    "slideshow": {
     "slide_type": "slide"
    }
   },
   "source": [
    "C. El costo C de envío de un paquete por correo depende de su peso w. Aunque no hay \n",
    "alguna fórmula simple que relacione a w con C, la o\u001f cina de correos tiene una regla \n",
    "para determinar C cuando se conoce w."
   ]
  },
  {
   "cell_type": "markdown",
   "id": "f300ecad",
   "metadata": {
    "slideshow": {
     "slide_type": "slide"
    }
   },
   "source": [
    "D. La aceleración vertical a del suelo, medida por un sismógrafo durante un terremoto, es una función del tiempo transcurrido t. La figura 1 muestra una gráfica generada por la actividad sísmica durante el terremoto de Northridge que sacudió Los Ángeles en 1994. Para un determinado valor de t, la grá\u001f ca proporciona un valor correspondiente de a"
   ]
  },
  {
   "cell_type": "code",
   "execution_count": null,
   "id": "e8464de2",
   "metadata": {
    "slideshow": {
     "slide_type": "slide"
    }
   },
   "outputs": [],
   "source": []
  },
  {
   "cell_type": "markdown",
   "id": "a0b1f01e",
   "metadata": {
    "slideshow": {
     "slide_type": "slide"
    }
   },
   "source": [
    "## [Video para aprender a instalar anaconda para trabajo en Jupyter de manera local]()"
   ]
  },
  {
   "cell_type": "markdown",
   "id": "6ac34465",
   "metadata": {
    "slideshow": {
     "slide_type": "slide"
    }
   },
   "source": [
    "##  Tareas de fijación de comceptos y adquisición de habilidades"
   ]
  },
  {
   "cell_type": "markdown",
   "id": "7f22af39",
   "metadata": {
    "slideshow": {
     "slide_type": "slide"
    }
   },
   "source": [
    "<img src = ''>\n",
    "\n",
    "ejercicio 6 de la página 53 de larson. "
   ]
  },
  {
   "cell_type": "markdown",
   "id": "a4296aca",
   "metadata": {
    "slideshow": {
     "slide_type": "slide"
    }
   },
   "source": [
    "## Evaluación (puntos parecidos a los de un quiz o un parcial)"
   ]
  },
  {
   "cell_type": "markdown",
   "id": "d037526e",
   "metadata": {
    "slideshow": {
     "slide_type": "slide"
    }
   },
   "source": [
    "Ejercicio 5 de la página 53 de larson\n",
    "\n",
    "\n",
    "<img src = ''>"
   ]
  },
  {
   "cell_type": "markdown",
   "id": "db169f9f",
   "metadata": {
    "slideshow": {
     "slide_type": "slide"
    }
   },
   "source": [
    "## Referentes  \n",
    "\n",
    "* la función np.linspace de numpy: https://numpy.org/doc/stable/reference/generated/numpy.linspace.html\n",
    "* Sobre el módulo plotly de python: https://plotly.com/python/line-charts/"
   ]
  },
  {
   "cell_type": "code",
   "execution_count": null,
   "id": "6068ecb0",
   "metadata": {},
   "outputs": [],
   "source": []
  }
 ],
 "metadata": {
  "celltoolbar": "Slideshow",
  "kernelspec": {
   "display_name": "Python 3 (ipykernel)",
   "language": "python",
   "name": "python3"
  },
  "language_info": {
   "codemirror_mode": {
    "name": "ipython",
    "version": 3
   },
   "file_extension": ".py",
   "mimetype": "text/x-python",
   "name": "python",
   "nbconvert_exporter": "python",
   "pygments_lexer": "ipython3",
   "version": "3.9.13"
  },
  "rise": {
   "enable_chalkboard": true,
   "theme": "sky"
  }
 },
 "nbformat": 4,
 "nbformat_minor": 5
}
