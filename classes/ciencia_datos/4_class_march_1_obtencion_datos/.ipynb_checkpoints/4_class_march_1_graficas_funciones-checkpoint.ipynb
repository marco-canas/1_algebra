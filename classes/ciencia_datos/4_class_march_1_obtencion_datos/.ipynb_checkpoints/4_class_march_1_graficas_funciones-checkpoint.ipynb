{
 "cells": [
  {
   "cell_type": "markdown",
   "id": "66e27190",
   "metadata": {
    "slideshow": {
     "slide_type": "slide"
    }
   },
   "source": [
    "<table align=\"left\">\n",
    "  <td>\n",
    "    <a href=\"https://colab.research.google.com/github/marco-canas/1_algebra/blob/main/classes/ciencia_datos/4_class/4_class_march_1_graficas_funciones.ipynb\" target=\"_parent\"><img src=\"https://colab.research.google.com/assets/colab-badge.svg\" alt=\"Open In Colab\"/></a>\n",
    "  </td>\n",
    "</table>"
   ]
  },
  {
   "cell_type": "markdown",
   "id": "68bb71b6",
   "metadata": {
    "slideshow": {
     "slide_type": "slide"
    }
   },
   "source": [
    "## [Video de apoyo a la lectura](https://www.youtube.com/watch?v=LI5Pu9peg80)"
   ]
  },
  {
   "cell_type": "markdown",
   "id": "297bb361",
   "metadata": {
    "slideshow": {
     "slide_type": "slide"
    }
   },
   "source": [
    "# Gráficos de funciones"
   ]
  },
  {
   "cell_type": "markdown",
   "id": "6c5f2d74",
   "metadata": {
    "slideshow": {
     "slide_type": "slide"
    }
   },
   "source": [
    "## [Modelo pedagógico de la clase: Aula invertida](https://www3.gobiernodecanarias.org/medusa/ecoescuela/pedagotic/aprendizaje-invertido-flipped-classroom/)"
   ]
  },
  {
   "cell_type": "markdown",
   "id": "c9635708",
   "metadata": {
    "slideshow": {
     "slide_type": "slide"
    }
   },
   "source": [
    "## Objetivo de aprendizaje\n",
    "\n",
    "* saber graficar a mano relaciones de la vida cotidiana descritas a través de unos datos y saber interpretarlos. "
   ]
  },
  {
   "cell_type": "markdown",
   "id": "09788f8f",
   "metadata": {
    "slideshow": {
     "slide_type": "slide"
    }
   },
   "source": [
    "* Ajustar un modelo lineal a una colección de datos de la vida cotidiana.\n",
    "* Ajustar un modelo cuadrático a una colección de datos de la vida cotidiana.\n",
    "* Ajustar un modelo trigonométrico a una colección de datos de la vida cotidiana"
   ]
  },
  {
   "cell_type": "markdown",
   "id": "00eaa403",
   "metadata": {
    "slideshow": {
     "slide_type": "slide"
    }
   },
   "source": [
    "# Los estudiantes de ingeniería agropeciaria Seccional bajo Cauca Caucasia"
   ]
  },
  {
   "cell_type": "markdown",
   "id": "c3531350",
   "metadata": {
    "slideshow": {
     "slide_type": "slide"
    }
   },
   "source": [
    "<img src = 'https://github.com/marco-canas/1_algebra/blob/main/classes/ciencia_datos/4_class_march_1_obtencion_datos/clase_ciencia_datos_ingenieria_agropeciaria_1_marzo_2023_1.jpeg?raw=true'>"
   ]
  },
  {
   "cell_type": "markdown",
   "id": "a43a58ec",
   "metadata": {
    "slideshow": {
     "slide_type": "slide"
    }
   },
   "source": [
    "# Relación de sustancia cancerígena con índice de mortalidad\n",
    "\n",
    "\n",
    "Página 53 del [larson](https://udeaeduco-my.sharepoint.com/:b:/g/personal/marco_canas_udea_edu_co/ES71ChFeO9ZDhW3TwC5Ijk8BjxUK3Pdqz_fjHxTTFAfIAg?e=0R0udW)\n",
    "\n",
    "\n"
   ]
  },
  {
   "cell_type": "markdown",
   "id": "c5fbd872",
   "metadata": {
    "slideshow": {
     "slide_type": "slide"
    }
   },
   "source": [
    "### Cancerígenos\n",
    "\n",
    "Los siguientes pares ordenados representan el índice de exposición a una sustancia cancerígena $x$ y la mortalidad por cáncer $y$ por cada $100 000$ personas de una población."
   ]
  },
  {
   "cell_type": "markdown",
   "id": "b9f87cd8",
   "metadata": {
    "slideshow": {
     "slide_type": "slide"
    }
   },
   "source": [
    "$$ (3.50, 150.1), (3.58, 133.1), (4.42, 132.9),\n",
    "(2.26, 116.7), (2.63, 140.7), (4.85, 165.5),\n",
    "(12.65, 210.7), (7.42, 181.0), (9.35, 213.4) $$\n"
   ]
  },
  {
   "cell_type": "code",
   "execution_count": 2,
   "id": "6332f2ed",
   "metadata": {
    "scrolled": true,
    "slideshow": {
     "slide_type": "slide"
    }
   },
   "outputs": [
    {
     "data": {
      "text/html": [
       "<div>\n",
       "<style scoped>\n",
       "    .dataframe tbody tr th:only-of-type {\n",
       "        vertical-align: middle;\n",
       "    }\n",
       "\n",
       "    .dataframe tbody tr th {\n",
       "        vertical-align: top;\n",
       "    }\n",
       "\n",
       "    .dataframe thead th {\n",
       "        text-align: right;\n",
       "    }\n",
       "</style>\n",
       "<table border=\"1\" class=\"dataframe\">\n",
       "  <thead>\n",
       "    <tr style=\"text-align: right;\">\n",
       "      <th></th>\n",
       "      <th>x</th>\n",
       "      <th>y</th>\n",
       "    </tr>\n",
       "  </thead>\n",
       "  <tbody>\n",
       "    <tr>\n",
       "      <th>0</th>\n",
       "      <td>3.50</td>\n",
       "      <td>150.1</td>\n",
       "    </tr>\n",
       "    <tr>\n",
       "      <th>1</th>\n",
       "      <td>3.58</td>\n",
       "      <td>133.1</td>\n",
       "    </tr>\n",
       "    <tr>\n",
       "      <th>2</th>\n",
       "      <td>4.42</td>\n",
       "      <td>132.9</td>\n",
       "    </tr>\n",
       "    <tr>\n",
       "      <th>3</th>\n",
       "      <td>2.26</td>\n",
       "      <td>116.7</td>\n",
       "    </tr>\n",
       "    <tr>\n",
       "      <th>4</th>\n",
       "      <td>2.63</td>\n",
       "      <td>140.7</td>\n",
       "    </tr>\n",
       "    <tr>\n",
       "      <th>5</th>\n",
       "      <td>4.85</td>\n",
       "      <td>165.5</td>\n",
       "    </tr>\n",
       "    <tr>\n",
       "      <th>6</th>\n",
       "      <td>12.65</td>\n",
       "      <td>210.7</td>\n",
       "    </tr>\n",
       "    <tr>\n",
       "      <th>7</th>\n",
       "      <td>7.42</td>\n",
       "      <td>181.0</td>\n",
       "    </tr>\n",
       "    <tr>\n",
       "      <th>8</th>\n",
       "      <td>9.35</td>\n",
       "      <td>213.4</td>\n",
       "    </tr>\n",
       "  </tbody>\n",
       "</table>\n",
       "</div>"
      ],
      "text/plain": [
       "       x      y\n",
       "0   3.50  150.1\n",
       "1   3.58  133.1\n",
       "2   4.42  132.9\n",
       "3   2.26  116.7\n",
       "4   2.63  140.7\n",
       "5   4.85  165.5\n",
       "6  12.65  210.7\n",
       "7   7.42  181.0\n",
       "8   9.35  213.4"
      ]
     },
     "execution_count": 2,
     "metadata": {},
     "output_type": "execute_result"
    }
   ],
   "source": [
    "import pandas as pd \n",
    "\n",
    "tabla = pd.read_excel('graficos.xlsx')  \n",
    "# los DataFrame de pandas son tablas parecidas a las hojas de cálculo de excel. \n",
    "tabla "
   ]
  },
  {
   "cell_type": "code",
   "execution_count": 7,
   "id": "31c02c2b",
   "metadata": {
    "slideshow": {
     "slide_type": "slide"
    }
   },
   "outputs": [
    {
     "data": {
      "text/plain": [
       "0    150.1\n",
       "1    133.1\n",
       "2    132.9\n",
       "3    116.7\n",
       "4    140.7\n",
       "5    165.5\n",
       "6    210.7\n",
       "7    181.0\n",
       "8    213.4\n",
       "Name: y, dtype: float64"
      ]
     },
     "execution_count": 7,
     "metadata": {},
     "output_type": "execute_result"
    }
   ],
   "source": [
    "tabla.y"
   ]
  },
  {
   "cell_type": "code",
   "execution_count": 3,
   "id": "f63c3dc7",
   "metadata": {
    "scrolled": true,
    "slideshow": {
     "slide_type": "slide"
    }
   },
   "outputs": [
    {
     "data": {
      "image/png": "[encoded data removed]",
      "text/plain": [
       "<Figure size 640x480 with 1 Axes>"
      ]
     },
     "metadata": {},
     "output_type": "display_data"
    }
   ],
   "source": [
    "import matplotlib.pyplot as plt \n",
    "\n",
    "plt.scatter(tabla.x,tabla.y) # Gráfico de dispersión o scatter\n",
    "\n",
    "plt.grid()  # ponerle cuadrícula al gráfico\n",
    "\n",
    "plt.title('Relación entre el índice de exposición y la mortalidad por cada 100_000') # Título del gráfico\n",
    "\n",
    "plt.xlabel('índice de exposición a la sustancia cancerígena') # Etiqueta para el eje horizontal\n",
    "\n",
    "plt.ylabel(\"Índice de mortalidad\") # Etiqueta para el eje vertical\n",
    "\n",
    "plt.savefig('indice_mortalidad_vs_indice_exposicion.jpg')\n",
    "            \n",
    "plt.show()    \n"
   ]
  },
  {
   "cell_type": "markdown",
   "id": "8b99dfe9",
   "metadata": {
    "slideshow": {
     "slide_type": "slide"
    }
   },
   "source": [
    "## Interpretaciones del gráfico de dispersión o scatter\n",
    "\n",
    "1. Los datos muestran un comportamiento global creciente, es decir, dicen que en general, a mayor exposición habrá mayor mortalidad. \n",
    "\n",
    "2. Parece adecuado tratar de realizar una regresión lineal.\n",
    "\n",
    "3. Los indice de exposición se mueven entre 2 y 12\n",
    "4. Los índices de mortalidad se mueven entre 100 y 220. "
   ]
  },
  {
   "cell_type": "markdown",
   "id": "578abed2",
   "metadata": {
    "slideshow": {
     "slide_type": "slide"
    }
   },
   "source": [
    "## Representación con gráfico interactivo de plotly"
   ]
  },
  {
   "cell_type": "code",
   "execution_count": null,
   "id": "6722866a",
   "metadata": {
    "slideshow": {
     "slide_type": "slide"
    }
   },
   "outputs": [],
   "source": [
    "import pandas as pd \n",
    "import plotly.express as px\n",
    "fig = px.line(tabla,x = tabla.keys()[0], y = tabla.keys()[1],\\\n",
    "              title=r'Relación entre área y tiempo')\n",
    "fig.show()"
   ]
  },
  {
   "cell_type": "markdown",
   "id": "d37b0ecf",
   "metadata": {
    "slideshow": {
     "slide_type": "slide"
    }
   },
   "source": [
    "## Observacion es en la experiencia de clase\n",
    "\n",
    "### Hecho de aula  \n",
    "\n",
    "1. No se puede actualizar el repositorio 1_algebra del GitHub cuando tiene un archivo de office de Microsoft abierto. \n",
    "\n",
    "2. Debes configurar el teclado de tu computador en *español colombia*. \n",
    "\n",
    "3. Por favor, utilice comillas dobles o simples pero verticales. Los datos str (mensajes en Python) se delimitan entre comillas dobles o sencillas pero verticales. \n",
    "\n",
    "`'Marco'`\n",
    "\n",
    "`\"Marco\"`\n",
    "\n",
    "\n",
    "\n",
    "á: nuestra tilde de nuestro lenguaje español, es una tilde inclinada a derecha. Y esta no sirve en Python para los datos str (cadenas de caracteres). \n",
    "\n",
    "4. Denotar las variables de la misma manera en que fueron creadas. \n",
    "\n",
    "5. Toda línea de código debe de correrarla cuego de escribirla. \n",
    "\n",
    "6. En los cuadernos Jupyter, las líneas de código y las líneas Markdown se hacen correr oprimiendo las teclas shift + enter o control + enter. \n",
    "\n",
    "7. [Cómo se importa numpy. Video de apoyo]()\n",
    "8. [Cómo se importa pandas. Video de apoyo]()\n",
    "\n",
    "9. [Cómo se crean variables de datos en Python]()\n",
    "10. [Cómo se crean listas y discionarios en Python.]()  \n",
    "\n"
   ]
  },
  {
   "cell_type": "markdown",
   "id": "d05b2425",
   "metadata": {
    "slideshow": {
     "slide_type": "slide"
    }
   },
   "source": [
    "## Sobre [NumPy](https://numpy.org/)\n",
    "\n",
    "### [Video de apoyo para aprender a importar numpy](https://www.youtube.com/watch?v=ODy6blnih2o)\n",
    "\n",
    "\n",
    "<img src = 'https://github.com/marco-canas/1_algebra/blob/main/classes/ciencia_datos/4_class_march_1_obtencion_datos/numpy.png?raw=true'> "
   ]
  },
  {
   "cell_type": "code",
   "execution_count": 4,
   "id": "dcb2ffc7",
   "metadata": {
    "slideshow": {
     "slide_type": "slide"
    }
   },
   "outputs": [],
   "source": [
    "import numpy as np "
   ]
  },
  {
   "cell_type": "code",
   "execution_count": 9,
   "id": "f1dbfaef",
   "metadata": {
    "slideshow": {
     "slide_type": "slide"
    }
   },
   "outputs": [
    {
     "data": {
      "text/plain": [
       "array([[ 0.,  1.,  2.,  3.,  4.],\n",
       "       [ 5.,  6.,  7.,  8.,  9.],\n",
       "       [10., 11., 12., 13., 14.]])"
      ]
     },
     "execution_count": 9,
     "metadata": {},
     "output_type": "execute_result"
    }
   ],
   "source": [
    "x = np.arange(15, dtype = np.float64).reshape(3,5)\n",
    "x "
   ]
  },
  {
   "cell_type": "code",
   "execution_count": 16,
   "id": "c2f8490d",
   "metadata": {
    "slideshow": {
     "slide_type": "slide"
    }
   },
   "outputs": [
    {
     "data": {
      "text/plain": [
       "array([[10., 11., 12., 13., 14.]])"
      ]
     },
     "execution_count": 16,
     "metadata": {},
     "output_type": "execute_result"
    }
   ],
   "source": [
    "x[2:, ::1] # "
   ]
  },
  {
   "cell_type": "markdown",
   "id": "b6278a89",
   "metadata": {
    "slideshow": {
     "slide_type": "slide"
    }
   },
   "source": [
    "## Importación de pandas "
   ]
  },
  {
   "cell_type": "code",
   "execution_count": null,
   "id": "8bc5d098",
   "metadata": {
    "slideshow": {
     "slide_type": "slide"
    }
   },
   "outputs": [],
   "source": []
  },
  {
   "cell_type": "code",
   "execution_count": null,
   "id": "a1748ea8",
   "metadata": {
    "slideshow": {
     "slide_type": "slide"
    }
   },
   "outputs": [],
   "source": []
  },
  {
   "cell_type": "markdown",
   "id": "554c7ec0",
   "metadata": {
    "slideshow": {
     "slide_type": "slide"
    }
   },
   "source": [
    "## Tareas a realizar en clase\n",
    "\n",
    "* Debates\n",
    "* Modelaciones\n"
   ]
  },
  {
   "cell_type": "markdown",
   "id": "eaa2f6d5",
   "metadata": {
    "slideshow": {
     "slide_type": "slide"
    }
   },
   "source": [
    "## Actividades de desarrollo de competencias en comunicación científica"
   ]
  },
  {
   "cell_type": "markdown",
   "id": "6f28235e",
   "metadata": {
    "slideshow": {
     "slide_type": "slide"
    }
   },
   "source": [
    "### Vocabulary\n",
    "\n",
    "* heigth: altura \n",
    "\n",
    "* forecasting: pronóstico.\n",
    "\n",
    "* tide: marea.\n",
    "\n",
    "* label: etiqueta\n",
    "* grid: red.\n",
    "\n",
    "* to try: intentar o probar.\n",
    "\n",
    "\n",
    "\n"
   ]
  },
  {
   "cell_type": "markdown",
   "id": "e97ab8fd",
   "metadata": {
    "slideshow": {
     "slide_type": "slide"
    }
   },
   "source": [
    "## Cuestionario para actividades fuera de clase\n",
    "\n",
    "1. ¿Cómo se lee una tabla de datos?\n",
    "2. ¿Cómo se lee un gráfico de dispersión?"
   ]
  },
  {
   "cell_type": "markdown",
   "id": "82e5b866",
   "metadata": {
    "slideshow": {
     "slide_type": "slide"
    }
   },
   "source": [
    "## Referentes  \n",
    "\n",
    "* [larson](https://udeaeduco-my.sharepoint.com/:b:/g/personal/marco_canas_udea_edu_co/ES71ChFeO9ZDhW3TwC5Ijk8BjxUK3Pdqz_fjHxTTFAfIAg?e=B0VdRo). Cálculo. Página 50. Ajuste de modelos a colecciones de datos. "
   ]
  },
  {
   "cell_type": "markdown",
   "id": "c2066c36",
   "metadata": {
    "slideshow": {
     "slide_type": "slide"
    }
   },
   "source": [
    "[Evaluemos al profesor aquí](https://forms.office.com/Pages/ResponsePage.aspx?id=IefhmYRxjkmK_7KtTlPBwkanXIs1i1FEujpsZgO6dXpUREJPV1kxUk1JV1ozTFJIQVNIQjY5WEY3US4u)"
   ]
  },
  {
   "cell_type": "code",
   "execution_count": null,
   "id": "fc24f26f",
   "metadata": {
    "slideshow": {
     "slide_type": "slide"
    }
   },
   "outputs": [],
   "source": []
  }
 ],
 "metadata": {
  "celltoolbar": "Slideshow",
  "kernelspec": {
   "display_name": "Python 3 (ipykernel)",
   "language": "python",
   "name": "python3"
  },
  "language_info": {
   "codemirror_mode": {
    "name": "ipython",
    "version": 3
   },
   "file_extension": ".py",
   "mimetype": "text/x-python",
   "name": "python",
   "nbconvert_exporter": "python",
   "pygments_lexer": "ipython3",
   "version": "3.9.13"
  }
 },
 "nbformat": 4,
 "nbformat_minor": 5
}
