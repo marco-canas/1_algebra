{
 "cells": [
  {
   "cell_type": "markdown",
   "id": "2a8c3547",
   "metadata": {
    "slideshow": {
     "slide_type": "slide"
    }
   },
   "source": [
    "<table align=\"left\">\n",
    "  <td>\n",
    "    <a href=\"https://colab.research.google.com/github/marco-canas/1_algebra/blob/main/classes/ciencia_datos/6_class_march_15_quiz_1/5_class_march_15.ipynb\" target=\"_parent\"><img src=\"https://colab.research.google.com/assets/colab-badge.svg\" alt=\"Open In Colab\"/></a>\n",
    "  </td>\n",
    "</table>"
   ]
  },
  {
   "cell_type": "markdown",
   "id": "b6291108",
   "metadata": {
    "slideshow": {
     "slide_type": "slide"
    }
   },
   "source": [
    "## [Descripción de la lista de reproducción asociada ]()\n",
    "\n"
   ]
  },
  {
   "cell_type": "markdown",
   "id": "6f572950",
   "metadata": {
    "slideshow": {
     "slide_type": "slide"
    }
   },
   "source": [
    "Los ingenieros agropecuarios de la Seccional Bajo Cauca son de alta calidad humana y académica\n",
    "\n",
    "<img src = 'https://github.com/marco-canas/1_algebra/blob/main/classes/ciencia_datos/6_class_march_15_quiz_1/ing__2023_1.jpeg?raw=true'>"
   ]
  },
  {
   "cell_type": "markdown",
   "id": "650cac1b",
   "metadata": {
    "slideshow": {
     "slide_type": "slide"
    }
   },
   "source": [
    "### Modelo pedagógico para la clase y todo el curso\n",
    "\n",
    "[Aula invertida](https://www3.gobiernodecanarias.org/medusa/ecoescuela/pedagotic/aprendizaje-invertido-flipped-classroom/)"
   ]
  },
  {
   "cell_type": "markdown",
   "id": "fb7023ba",
   "metadata": {
    "slideshow": {
     "slide_type": "slide"
    }
   },
   "source": [
    "<img src = 'https://i0.wp.com/docentesaldia.com/wp-content/uploads/2020/07/El-aula-invertida.jpg'>"
   ]
  },
  {
   "cell_type": "markdown",
   "id": "b6249758",
   "metadata": {
    "slideshow": {
     "slide_type": "slide"
    }
   },
   "source": [
    "# Actividades de lectura, memorización y sintesis por fuera de clase"
   ]
  },
  {
   "cell_type": "markdown",
   "id": "b708e34b",
   "metadata": {
    "slideshow": {
     "slide_type": "slide"
    }
   },
   "source": [
    "## Ajuste de modelos a colecciones de datos\n",
    "\n",
    "Página 50 del [Larson](https://udeaeduco-my.sharepoint.com/:b:/g/personal/marco_canas_udea_edu_co/ES71ChFeO9ZDhW3TwC5Ijk8BjxUK3Pdqz_fjHxTTFAfIAg?e=y1jTtp)"
   ]
  },
  {
   "cell_type": "markdown",
   "id": "bb242969",
   "metadata": {
    "slideshow": {
     "slide_type": "slide"
    }
   },
   "source": [
    "### Objetivo de aprendizaje \n",
    "\n",
    "* aprender a construir modelos cuadráticos y a hacer predicciones con ellos. "
   ]
  },
  {
   "cell_type": "markdown",
   "id": "66ec28ec",
   "metadata": {
    "slideshow": {
     "slide_type": "slide"
    }
   },
   "source": [
    "Una de las premisas básicas de la ciencia es que gran parte de la realidad física puede describirse matemáticamente y que muchos de los fenómenos físicos son predecibles. "
   ]
  },
  {
   "cell_type": "markdown",
   "id": "ae6bdf49",
   "metadata": {
    "slideshow": {
     "slide_type": "slide"
    }
   },
   "source": [
    "Esta perspectiva científica constituyó parte de la revolución científica que tuvo lugar en Europa \n",
    "a finales del siglo XVI. "
   ]
  },
  {
   "cell_type": "markdown",
   "id": "06ccb592",
   "metadata": {
    "slideshow": {
     "slide_type": "slide"
    }
   },
   "source": [
    "Dos de las primeras publicaciones ligadas a esta revolución fueron On the Revolutions of the Heavenly Spheres, del astrónomo polaco Nicolaus Copernicus, y On the Structure of the Human Body, del anatomista belga Andreas Vesalius. "
   ]
  },
  {
   "cell_type": "markdown",
   "id": "acc2b3a7",
   "metadata": {
    "slideshow": {
     "slide_type": "slide"
    }
   },
   "source": [
    "Publicados ambos en 1543, rompían con la tradición al sugerir el uso de un método científico en lugar de la confianza ciega en la autoridad."
   ]
  },
  {
   "cell_type": "markdown",
   "id": "a769b9b0",
   "metadata": {
    "slideshow": {
     "slide_type": "slide"
    }
   },
   "source": [
    "Una técnica fundamental de la ciencia moderna consiste en recopilar datos y luego describirlos por medio de un modelo matemático. Por ejemplo, los datos del ejemplo 1 están inspirados en el famoso dibujo de Leonardo da Vinci que indica que la altura de una persona y su envergadura son iguales."
   ]
  },
  {
   "cell_type": "code",
   "execution_count": null,
   "id": "f48771d8",
   "metadata": {
    "slideshow": {
     "slide_type": "slide"
    }
   },
   "outputs": [],
   "source": []
  },
  {
   "cell_type": "code",
   "execution_count": null,
   "id": "28347d97",
   "metadata": {
    "slideshow": {
     "slide_type": "slide"
    }
   },
   "outputs": [],
   "source": []
  },
  {
   "cell_type": "markdown",
   "id": "a609344d",
   "metadata": {
    "slideshow": {
     "slide_type": "slide"
    }
   },
   "source": [
    "## Tareas para realizar en clase"
   ]
  },
  {
   "cell_type": "markdown",
   "id": "f1682b15",
   "metadata": {
    "slideshow": {
     "slide_type": "slide"
    }
   },
   "source": [
    "### Situación problemática: Ajuste de un modelo cuadrático a los datos\n",
    "\n",
    "Página 51 del Larson. "
   ]
  },
  {
   "cell_type": "markdown",
   "id": "40a0484d",
   "metadata": {
    "slideshow": {
     "slide_type": "slide"
    }
   },
   "source": [
    "Una función que define la altura $s$ de un objeto que cae en términos del tiempo $t$ se llama función de posición. "
   ]
  },
  {
   "cell_type": "markdown",
   "id": "addf77aa",
   "metadata": {
    "slideshow": {
     "slide_type": "slide"
    }
   },
   "source": [
    "Si no se considera la resistencia del aire, la posición de un objeto que cae admite el modelo  \n",
    "\n",
    "$$ s(t) = \\frac{1}{2} gt^{2} + v_{0} t + s_{0} $$  \n",
    "\n",
    "\n",
    "donde $g$ denota la aceleración de la gravedad, $v_{0}$ la velocidad inicial y $s_{0}$ la altura inicial. "
   ]
  },
  {
   "cell_type": "markdown",
   "id": "3f1df305",
   "metadata": {
    "slideshow": {
     "slide_type": "slide"
    }
   },
   "source": [
    "El valor de g depende de dónde se deja caer el objeto. En la Tierra, g vale \u001232 piesYs\n",
    "2\n",
    ", o \n",
    "\u00129.8 mYs\n",
    "2\n",
    ".\n",
    "Para descubrir el valor de g experimental, se pueden registrar en varios instantes las \n",
    "alturas de un objeto cayendo, como se muestra en el ejemplo 2."
   ]
  },
  {
   "cell_type": "markdown",
   "id": "34599312",
   "metadata": {
    "slideshow": {
     "slide_type": "slide"
    }
   },
   "source": [
    "## EJEMPLO 2 Ajuste de un modelo cuadrático a los datos"
   ]
  },
  {
   "cell_type": "markdown",
   "id": "4746a069",
   "metadata": {
    "slideshow": {
     "slide_type": "slide"
    }
   },
   "source": [
    "Se deja caer un balón de basquetbol desde una altura de 5 ,I pies. Se mide la altura del balón 23 veces, a intervalos de aproximadamente 0.02 s.* Los resultados se muestran en la siguiente tabla."
   ]
  },
  {
   "cell_type": "markdown",
   "id": "9c63b2ab",
   "metadata": {
    "slideshow": {
     "slide_type": "slide"
    }
   },
   "source": [
    "## Hablar de cómo nos entregan los datos el IDEAM y cómo los podemos leer u obtener. "
   ]
  },
  {
   "cell_type": "markdown",
   "id": "06bcfe16",
   "metadata": {
    "slideshow": {
     "slide_type": "slide"
    }
   },
   "source": [
    "* Primero, la información no la entregan comprimida en en archivo .zip  \n",
    "* Segundo, descomprimimos la información con la aplicación RaR zip. \n",
    "* La información la encontrará en archivos de extensión .xlsx, .xlsm, .csv (Valores Separados por Comas)"
   ]
  },
  {
   "cell_type": "code",
   "execution_count": null,
   "id": "cd8c9911",
   "metadata": {},
   "outputs": [],
   "source": []
  },
  {
   "cell_type": "markdown",
   "id": "4c0beace",
   "metadata": {},
   "source": [
    "## Actividades a realizar en clase"
   ]
  },
  {
   "cell_type": "markdown",
   "id": "2e0eeda9",
   "metadata": {
    "slideshow": {
     "slide_type": "slide"
    }
   },
   "source": [
    "* ¿Qué son las ecuaciones lineales?\n",
    "* ¿Cómo se resuelven?"
   ]
  },
  {
   "cell_type": "code",
   "execution_count": null,
   "id": "72a6c6a5",
   "metadata": {},
   "outputs": [],
   "source": []
  },
  {
   "cell_type": "code",
   "execution_count": null,
   "id": "c4e70615",
   "metadata": {},
   "outputs": [],
   "source": []
  },
  {
   "cell_type": "code",
   "execution_count": null,
   "id": "a9faa6d9",
   "metadata": {},
   "outputs": [],
   "source": []
  },
  {
   "cell_type": "code",
   "execution_count": null,
   "id": "92fb5572",
   "metadata": {},
   "outputs": [],
   "source": []
  },
  {
   "cell_type": "markdown",
   "id": "99d89c64",
   "metadata": {
    "slideshow": {
     "slide_type": "slide"
    }
   },
   "source": [
    "## Actividades de desarrollo de competencias en comunicación científica"
   ]
  },
  {
   "cell_type": "code",
   "execution_count": null,
   "id": "4181c808",
   "metadata": {
    "slideshow": {
     "slide_type": "slide"
    }
   },
   "outputs": [],
   "source": []
  },
  {
   "cell_type": "code",
   "execution_count": null,
   "id": "6747a7bb",
   "metadata": {
    "slideshow": {
     "slide_type": "slide"
    }
   },
   "outputs": [],
   "source": []
  },
  {
   "cell_type": "markdown",
   "id": "7d8fb0cf",
   "metadata": {
    "slideshow": {
     "slide_type": "slide"
    }
   },
   "source": [
    "## Tareas para realizar fuera de clase"
   ]
  },
  {
   "cell_type": "markdown",
   "id": "cb7708c4",
   "metadata": {
    "slideshow": {
     "slide_type": "slide"
    }
   },
   "source": [
    "Realizar ejercicios de ecuaciones lineales y funciones lineales. Realice por lo menos 10 de cada tema:\n",
    "\n",
    "1. Realizar 10 ejercicios de ecuaciones lineales.\n",
    "2. Realizar 10 ejercicios de funciones lineales.\n",
    "\n",
    "Los ejercicios los encuentra [aquí](https://udeaeduco-my.sharepoint.com/:b:/g/personal/marco_canas_udea_edu_co/ERHIq62I6qFNrmxy6LZb8ZMBci7kUsyNME1nIh9yCBMJ_w?e=e9NRy5). Página 55 del stewart precálculo. "
   ]
  },
  {
   "cell_type": "markdown",
   "id": "a4ecd075",
   "metadata": {
    "slideshow": {
     "slide_type": "slide"
    }
   },
   "source": [
    "Resolver ecuaciones cuadráticas: \n",
    "\n",
    "$$ x^{2}  = 1  $$\n"
   ]
  },
  {
   "cell_type": "markdown",
   "id": "9a17cef0",
   "metadata": {
    "slideshow": {
     "slide_type": "slide"
    }
   },
   "source": [
    "### Cuestionario"
   ]
  },
  {
   "cell_type": "markdown",
   "id": "82ca3ecb",
   "metadata": {
    "slideshow": {
     "slide_type": "slide"
    }
   },
   "source": [
    "1. ¿Qué es una modelo matemático para un ingeniero agropecuario?"
   ]
  },
  {
   "cell_type": "markdown",
   "id": "504377ab",
   "metadata": {
    "slideshow": {
     "slide_type": "slide"
    }
   },
   "source": [
    "2. ¿Qué es una modelo cuadrático para un ingeniero agropecuario?"
   ]
  },
  {
   "cell_type": "markdown",
   "id": "15c01c21",
   "metadata": {
    "slideshow": {
     "slide_type": "slide"
    }
   },
   "source": [
    "## Referentes"
   ]
  },
  {
   "cell_type": "markdown",
   "id": "a91b7a28",
   "metadata": {
    "slideshow": {
     "slide_type": "slide"
    }
   },
   "source": [
    "## [Evaluación para el profesor en esta clase]()"
   ]
  },
  {
   "cell_type": "code",
   "execution_count": null,
   "id": "7f47ff7d",
   "metadata": {},
   "outputs": [],
   "source": []
  }
 ],
 "metadata": {
  "celltoolbar": "Slideshow",
  "kernelspec": {
   "display_name": "Python 3 (ipykernel)",
   "language": "python",
   "name": "python3"
  },
  "language_info": {
   "codemirror_mode": {
    "name": "ipython",
    "version": 3
   },
   "file_extension": ".py",
   "mimetype": "text/x-python",
   "name": "python",
   "nbconvert_exporter": "python",
   "pygments_lexer": "ipython3",
   "version": "3.9.13"
  },
  "rise": {
   "enable_chalkboard": true,
   "theme": "sky"
  }
 },
 "nbformat": 4,
 "nbformat_minor": 5
}
