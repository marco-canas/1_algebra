{
 "cells": [
  {
   "cell_type": "markdown",
   "id": "2a8c3547",
   "metadata": {
    "slideshow": {
     "slide_type": "slide"
    }
   },
   "source": [
    "<table align=\"left\">\n",
    "  <td>\n",
    "    <a href=\"https://colab.research.google.com/github/marco-canas/algebra/blob/main/classes/ciencia_datos/1_class/1_class.ipynb\" target=\"_parent\"><img src=\"https://colab.research.google.com/assets/colab-badge.svg\" alt=\"Open In Colab\"/></a>\n",
    "  </td>\n",
    "</table>"
   ]
  },
  {
   "cell_type": "markdown",
   "id": "b6291108",
   "metadata": {
    "slideshow": {
     "slide_type": "slide"
    }
   },
   "source": [
    "## [Descripción de la lista de reproducción asociada ]()\n",
    "\n"
   ]
  },
  {
   "cell_type": "markdown",
   "id": "f502697a",
   "metadata": {
    "slideshow": {
     "slide_type": "slide"
    }
   },
   "source": [
    "### Modelo pedagógico para la clase y todo el curso\n",
    "\n",
    "[Aula invertida](https://www3.gobiernodecanarias.org/medusa/ecoescuela/pedagotic/aprendizaje-invertido-flipped-classroom/)"
   ]
  },
  {
   "cell_type": "markdown",
   "id": "a331ee76",
   "metadata": {
    "slideshow": {
     "slide_type": "slide"
    }
   },
   "source": [
    "<img src = 'https://i0.wp.com/docentesaldia.com/wp-content/uploads/2020/07/El-aula-invertida.jpg'>"
   ]
  },
  {
   "cell_type": "markdown",
   "id": "64d30dd5",
   "metadata": {
    "slideshow": {
     "slide_type": "slide"
    }
   },
   "source": [
    "## Ajuste de modelos a colecciones de datos\n",
    "\n",
    "Página 50 del [Larson](https://udeaeduco-my.sharepoint.com/:b:/g/personal/marco_canas_udea_edu_co/ES71ChFeO9ZDhW3TwC5Ijk8BjxUK3Pdqz_fjHxTTFAfIAg?e=y1jTtp)"
   ]
  },
  {
   "cell_type": "code",
   "execution_count": null,
   "id": "4005ad7a",
   "metadata": {
    "slideshow": {
     "slide_type": "slide"
    }
   },
   "outputs": [],
   "source": []
  },
  {
   "cell_type": "code",
   "execution_count": null,
   "id": "f48771d8",
   "metadata": {
    "slideshow": {
     "slide_type": "slide"
    }
   },
   "outputs": [],
   "source": []
  },
  {
   "cell_type": "code",
   "execution_count": null,
   "id": "28347d97",
   "metadata": {
    "slideshow": {
     "slide_type": "slide"
    }
   },
   "outputs": [],
   "source": []
  },
  {
   "cell_type": "markdown",
   "id": "95fb3ef3",
   "metadata": {
    "slideshow": {
     "slide_type": "slide"
    }
   },
   "source": [
    "## Tareas para realizar en clase"
   ]
  },
  {
   "cell_type": "markdown",
   "id": "2b77fdf5",
   "metadata": {
    "slideshow": {
     "slide_type": "slide"
    }
   },
   "source": [
    "### Ajuste de un modelo cuadrático a los datos"
   ]
  },
  {
   "cell_type": "markdown",
   "id": "6b2902c9",
   "metadata": {},
   "source": [
    "Una función que define la altura s de un objeto que cae en términos del tiempo t se llama \n",
    "función de posición. Si no se considera la resistencia del aire, la posición de un objeto que \n",
    "cae admite el modelo\n",
    "s t gt v t s ( ) \u001d",
    " \u000b",
    "\u000b",
    " 1\n",
    "2\n",
    "2\n",
    "0 0\n",
    "donde g denota la aceleración de la gravedad, v0\n",
    " la velocidad inicial y s0\n",
    " la altura inicial. \n",
    "El valor de g depende de dónde se deja caer el objeto. En la Tierra, g vale \u001232 piesYs\n",
    "2\n",
    ", o \n",
    "\u00129.8 mYs\n",
    "2\n",
    ".\n",
    "Para descubrir el valor de g experimental, se pueden registrar en varios instantes las \n",
    "alturas de un objeto cayendo, como se muestra en el ejemplo 2."
   ]
  },
  {
   "cell_type": "markdown",
   "id": "0115c978",
   "metadata": {
    "slideshow": {
     "slide_type": "slide"
    }
   },
   "source": [
    "## Tereas para realizar fuera de clase"
   ]
  },
  {
   "cell_type": "markdown",
   "id": "3bc0d895",
   "metadata": {
    "slideshow": {
     "slide_type": "slide"
    }
   },
   "source": [
    "### Cuestionario"
   ]
  },
  {
   "cell_type": "code",
   "execution_count": null,
   "id": "ed5a8b07",
   "metadata": {
    "slideshow": {
     "slide_type": "slide"
    }
   },
   "outputs": [],
   "source": []
  },
  {
   "cell_type": "markdown",
   "id": "a4ea2693",
   "metadata": {},
   "source": [
    "## Referentes"
   ]
  },
  {
   "cell_type": "markdown",
   "id": "5ea1ff93",
   "metadata": {
    "slideshow": {
     "slide_type": "slide"
    }
   },
   "source": [
    "## [Evaluación para el profesor en esta clase]()"
   ]
  },
  {
   "cell_type": "code",
   "execution_count": null,
   "id": "9dbe96f8",
   "metadata": {},
   "outputs": [],
   "source": []
  }
 ],
 "metadata": {
  "celltoolbar": "Slideshow",
  "kernelspec": {
   "display_name": "Python 3 (ipykernel)",
   "language": "python",
   "name": "python3"
  },
  "language_info": {
   "codemirror_mode": {
    "name": "ipython",
    "version": 3
   },
   "file_extension": ".py",
   "mimetype": "text/x-python",
   "name": "python",
   "nbconvert_exporter": "python",
   "pygments_lexer": "ipython3",
   "version": "3.9.13"
  },
  "rise": {
   "enable_chalkboard": true,
   "theme": "sky"
  }
 },
 "nbformat": 4,
 "nbformat_minor": 5
}
