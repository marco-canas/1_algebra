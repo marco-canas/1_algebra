{
 "cells": [
  {
   "cell_type": "markdown",
   "id": "2a8c3547",
   "metadata": {
    "slideshow": {
     "slide_type": "slide"
    }
   },
   "source": [
    "<table align=\"left\">\n",
    "  <td>\n",
    "    <a href=\"https://colab.research.google.com/github/marco-canas/1_algebra/blob/main/classes/ciencia_datos/6_class_march_15_quiz_1/5_class_march_15.ipynb\" target=\"_parent\"><img src=\"https://colab.research.google.com/assets/colab-badge.svg\" alt=\"Open In Colab\"/></a>\n",
    "  </td>\n",
    "</table>"
   ]
  },
  {
   "cell_type": "markdown",
   "id": "b6291108",
   "metadata": {
    "slideshow": {
     "slide_type": "slide"
    }
   },
   "source": [
    "## [Descripción de la lista de reproducción asociada ]()\n",
    "\n"
   ]
  },
  {
   "cell_type": "markdown",
   "id": "88049f22",
   "metadata": {
    "slideshow": {
     "slide_type": "slide"
    }
   },
   "source": [
    "Los ingenieros agropecuarios de la Seccional Bajo Cauca son de alta calidad humana y académica\n",
    "\n",
    "<img src = 'https://github.com/marco-canas/1_algebra/blob/main/classes/ciencia_datos/6_class_march_15_quiz_1/ing__2023_1.jpeg?raw=true'>"
   ]
  },
  {
   "cell_type": "markdown",
   "id": "e50e51b9",
   "metadata": {
    "slideshow": {
     "slide_type": "slide"
    }
   },
   "source": [
    "### Modelo pedagógico para la clase y todo el curso\n",
    "\n",
    "[Aula invertida](https://www3.gobiernodecanarias.org/medusa/ecoescuela/pedagotic/aprendizaje-invertido-flipped-classroom/)"
   ]
  },
  {
   "cell_type": "markdown",
   "id": "50a55c67",
   "metadata": {
    "slideshow": {
     "slide_type": "slide"
    }
   },
   "source": [
    "<img src = 'https://i0.wp.com/docentesaldia.com/wp-content/uploads/2020/07/El-aula-invertida.jpg'>"
   ]
  },
  {
   "cell_type": "markdown",
   "id": "a2b2ddea",
   "metadata": {
    "slideshow": {
     "slide_type": "slide"
    }
   },
   "source": [
    "## Ajuste de modelos a colecciones de datos\n",
    "\n",
    "Página 50 del [Larson](https://udeaeduco-my.sharepoint.com/:b:/g/personal/marco_canas_udea_edu_co/ES71ChFeO9ZDhW3TwC5Ijk8BjxUK3Pdqz_fjHxTTFAfIAg?e=y1jTtp)"
   ]
  },
  {
   "cell_type": "code",
   "execution_count": null,
   "id": "4005ad7a",
   "metadata": {
    "slideshow": {
     "slide_type": "slide"
    }
   },
   "outputs": [],
   "source": []
  },
  {
   "cell_type": "code",
   "execution_count": null,
   "id": "f48771d8",
   "metadata": {
    "slideshow": {
     "slide_type": "slide"
    }
   },
   "outputs": [],
   "source": []
  },
  {
   "cell_type": "code",
   "execution_count": null,
   "id": "28347d97",
   "metadata": {
    "slideshow": {
     "slide_type": "slide"
    }
   },
   "outputs": [],
   "source": []
  },
  {
   "cell_type": "markdown",
   "id": "161e1f85",
   "metadata": {
    "slideshow": {
     "slide_type": "slide"
    }
   },
   "source": [
    "## Tareas para realizar en clase"
   ]
  },
  {
   "cell_type": "markdown",
   "id": "0b08e89f",
   "metadata": {
    "slideshow": {
     "slide_type": "slide"
    }
   },
   "source": [
    "### Ajuste de un modelo cuadrático a los datos"
   ]
  },
  {
   "cell_type": "markdown",
   "id": "98d49b26",
   "metadata": {},
   "source": [
    "Una función que define la altura s de un objeto que cae en términos del tiempo t se llama \n",
    "función de posición. Si no se considera la resistencia del aire, la posición de un objeto que \n",
    "cae admite el modelo  \n",
    "\n",
    "$$ s(t) =  gt v t s ( ) \u001d",
    " \u000b",
    "\u000b",
    " 1 $$  \n",
    "\n",
    "\n",
    "donde g denota la aceleración de la gravedad, v0\n",
    " la velocidad inicial y s0\n",
    " la altura inicial. \n",
    "El valor de g depende de dónde se deja caer el objeto. En la Tierra, g vale \u001232 piesYs\n",
    "2\n",
    ", o \n",
    "\u00129.8 mYs\n",
    "2\n",
    ".\n",
    "Para descubrir el valor de g experimental, se pueden registrar en varios instantes las \n",
    "alturas de un objeto cayendo, como se muestra en el ejemplo 2."
   ]
  },
  {
   "cell_type": "markdown",
   "id": "1b2d5e7b",
   "metadata": {
    "slideshow": {
     "slide_type": "slide"
    }
   },
   "source": [
    "## EJEMPLO 2 Ajuste de un modelo cuadrático a los datos"
   ]
  },
  {
   "cell_type": "markdown",
   "id": "249b197e",
   "metadata": {
    "slideshow": {
     "slide_type": "slide"
    }
   },
   "source": [
    "Se deja caer un balón de basquetbol desde una altura de 5 ,I pies. Se mide la altura del balón 23 veces, a intervalos de aproximadamente 0.02 s.* Los resultados se muestran en la siguiente tabla."
   ]
  },
  {
   "cell_type": "markdown",
   "id": "3eda1c8c",
   "metadata": {
    "slideshow": {
     "slide_type": "slide"
    }
   },
   "source": [
    "## Hablar de cómo nos entregan los datos el IDEAM y cómo los podemos leer u obtener. "
   ]
  },
  {
   "cell_type": "markdown",
   "id": "42be1f48",
   "metadata": {
    "slideshow": {
     "slide_type": "slide"
    }
   },
   "source": [
    "* Primero, la información no la entregan comprimida en en archivo .zip  \n",
    "* Segundo, descomprimimos la información con la aplicación RaR zip. \n",
    "* La información la encontrará en archivos de extensión .xlsx, .xlsm, .csv (Valores Separados por Comas)"
   ]
  },
  {
   "cell_type": "code",
   "execution_count": null,
   "id": "10151018",
   "metadata": {
    "slideshow": {
     "slide_type": "slide"
    }
   },
   "outputs": [],
   "source": []
  },
  {
   "cell_type": "markdown",
   "id": "862d384b",
   "metadata": {
    "slideshow": {
     "slide_type": "slide"
    }
   },
   "source": [
    "## Actividades de desarrollo de competencias en comunicación científica"
   ]
  },
  {
   "cell_type": "code",
   "execution_count": null,
   "id": "2fd1b3b4",
   "metadata": {},
   "outputs": [],
   "source": []
  },
  {
   "cell_type": "code",
   "execution_count": null,
   "id": "55125f66",
   "metadata": {},
   "outputs": [],
   "source": []
  },
  {
   "cell_type": "markdown",
   "id": "adb82af2",
   "metadata": {
    "slideshow": {
     "slide_type": "slide"
    }
   },
   "source": [
    "## Tareas para realizar fuera de clase"
   ]
  },
  {
   "cell_type": "markdown",
   "id": "4d42c0cc",
   "metadata": {
    "slideshow": {
     "slide_type": "slide"
    }
   },
   "source": [
    "Resolver ecuaciones cuadráticas: \n",
    "\n",
    "$$ x^{2}  = 1  $$\n"
   ]
  },
  {
   "cell_type": "markdown",
   "id": "ea98da6a",
   "metadata": {
    "slideshow": {
     "slide_type": "slide"
    }
   },
   "source": [
    "### Cuestionario"
   ]
  },
  {
   "cell_type": "markdown",
   "id": "86ed8d30",
   "metadata": {
    "slideshow": {
     "slide_type": "slide"
    }
   },
   "source": [
    "1. ¿Qué es una modelo matemático para un ingeniero agropecuario?"
   ]
  },
  {
   "cell_type": "markdown",
   "id": "f87b72f7",
   "metadata": {
    "slideshow": {
     "slide_type": "slide"
    }
   },
   "source": [
    "2. ¿Qué es una modelo cuadrático para un ingeniero agropecuario?"
   ]
  },
  {
   "cell_type": "markdown",
   "id": "0f95a168",
   "metadata": {
    "slideshow": {
     "slide_type": "slide"
    }
   },
   "source": [
    "## Referentes"
   ]
  },
  {
   "cell_type": "markdown",
   "id": "3467a7f7",
   "metadata": {
    "slideshow": {
     "slide_type": "slide"
    }
   },
   "source": [
    "## [Evaluación para el profesor en esta clase]()"
   ]
  },
  {
   "cell_type": "code",
   "execution_count": null,
   "id": "05cefb20",
   "metadata": {},
   "outputs": [],
   "source": []
  }
 ],
 "metadata": {
  "celltoolbar": "Slideshow",
  "kernelspec": {
   "display_name": "Python 3 (ipykernel)",
   "language": "python",
   "name": "python3"
  },
  "language_info": {
   "codemirror_mode": {
    "name": "ipython",
    "version": 3
   },
   "file_extension": ".py",
   "mimetype": "text/x-python",
   "name": "python",
   "nbconvert_exporter": "python",
   "pygments_lexer": "ipython3",
   "version": "3.9.13"
  },
  "rise": {
   "enable_chalkboard": true,
   "theme": "sky"
  }
 },
 "nbformat": 4,
 "nbformat_minor": 5
}
