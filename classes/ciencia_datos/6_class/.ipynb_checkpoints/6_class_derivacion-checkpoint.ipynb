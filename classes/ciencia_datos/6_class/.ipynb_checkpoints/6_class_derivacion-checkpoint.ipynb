{
 "cells": [
  {
   "cell_type": "markdown",
   "id": "5da72e3e",
   "metadata": {
    "slideshow": {
     "slide_type": "slide"
    }
   },
   "source": [
    "<table align=\"left\">\n",
    "  <td>\n",
    "    <a href=\"https://colab.research.google.com/github/marco-canas/algebra/blob/main/classes/ciencia_datos/1_class/1_class.ipynb\" target=\"_parent\"><img src=\"https://colab.research.google.com/assets/colab-badge.svg\" alt=\"Open In Colab\"/></a>\n",
    "  </td>\n",
    "</table>"
   ]
  },
  {
   "cell_type": "markdown",
   "id": "e4ece2ce",
   "metadata": {
    "slideshow": {
     "slide_type": "slide"
    }
   },
   "source": [
    "## [Descripción de la lista de reproducción asociada a la conceptualización de la derivada]()\n",
    "\n"
   ]
  },
  {
   "cell_type": "markdown",
   "id": "4d787212",
   "metadata": {
    "slideshow": {
     "slide_type": "slide"
    }
   },
   "source": [
    "# Derivación según Larson (Página 114)"
   ]
  },
  {
   "cell_type": "markdown",
   "id": "e39a7f2c",
   "metadata": {
    "slideshow": {
     "slide_type": "slide"
    }
   },
   "source": [
    "## La derivada y el problema de la recta tangente"
   ]
  },
  {
   "cell_type": "markdown",
   "id": "a44b1c6b",
   "metadata": {
    "slideshow": {
     "slide_type": "slide"
    }
   },
   "source": [
    "* Hallar la pendiente de la recta tangente a una curva en un punto.\n",
    "* Usar la definición de límite para calcular la derivada de una función.\n",
    "* Comprobar la relación entre derivabilidad y continuidad."
   ]
  },
  {
   "cell_type": "markdown",
   "id": "e308c8c3",
   "metadata": {
    "slideshow": {
     "slide_type": "slide"
    }
   },
   "source": [
    "## Ejemplo ilustrativo 1: La derivada utilizando la definición para una función constante\n",
    "\n",
    "\n",
    "$$ f(x) = 5 $$\n"
   ]
  },
  {
   "cell_type": "markdown",
   "id": "f5063e27",
   "metadata": {
    "slideshow": {
     "slide_type": "slide"
    }
   },
   "source": [
    "## Ejemplo ilustrativo 1: La derivada utilizando la definición para una función lineal que pasa por el origen\n",
    "\n",
    "\n",
    "$$ f(x) = 4x $$\n"
   ]
  },
  {
   "cell_type": "markdown",
   "id": "c0003fbb",
   "metadata": {
    "slideshow": {
     "slide_type": "slide"
    }
   },
   "source": [
    "## Ejemplo ilustrativo 1: La derivada utilizando la definición para una función cuadrática (La función elevar al cuadrado) \n",
    "\n",
    "\n",
    "$$ f(x) = x^{2} $$\n"
   ]
  },
  {
   "cell_type": "markdown",
   "id": "eac79a52",
   "metadata": {
    "slideshow": {
     "slide_type": "slide"
    }
   },
   "source": [
    "## Ejemplo ilustrativo 1: La derivada utilizando la aditividad del operador derivada para una función cuadrática\n",
    "\n",
    "\n",
    "$$ f(x) = x^{2} - 4x + 5 $$\n"
   ]
  },
  {
   "cell_type": "markdown",
   "id": "f8244104",
   "metadata": {
    "slideshow": {
     "slide_type": "slide"
    }
   },
   "source": [
    "## La propiedad de homogeneidad del operador derivada\n",
    "\n",
    "La derivada del doble de la función es el doble de la derivada de la función. \n"
   ]
  },
  {
   "cell_type": "code",
   "execution_count": null,
   "id": "e5791f8c",
   "metadata": {
    "slideshow": {
     "slide_type": "slide"
    }
   },
   "outputs": [],
   "source": []
  },
  {
   "cell_type": "code",
   "execution_count": null,
   "id": "0e7c9b12",
   "metadata": {
    "slideshow": {
     "slide_type": "slide"
    }
   },
   "outputs": [],
   "source": []
  },
  {
   "cell_type": "code",
   "execution_count": null,
   "id": "6c11ac39",
   "metadata": {},
   "outputs": [],
   "source": []
  },
  {
   "cell_type": "code",
   "execution_count": null,
   "id": "edbc41e4",
   "metadata": {},
   "outputs": [],
   "source": []
  },
  {
   "cell_type": "code",
   "execution_count": null,
   "id": "3126adb0",
   "metadata": {},
   "outputs": [],
   "source": []
  },
  {
   "cell_type": "code",
   "execution_count": null,
   "id": "1cd12eb8",
   "metadata": {},
   "outputs": [],
   "source": []
  },
  {
   "cell_type": "code",
   "execution_count": null,
   "id": "ee6564a8",
   "metadata": {},
   "outputs": [],
   "source": []
  },
  {
   "cell_type": "code",
   "execution_count": null,
   "id": "51487322",
   "metadata": {},
   "outputs": [],
   "source": []
  },
  {
   "cell_type": "code",
   "execution_count": null,
   "id": "cb14dd15",
   "metadata": {},
   "outputs": [],
   "source": []
  },
  {
   "cell_type": "code",
   "execution_count": null,
   "id": "0203684c",
   "metadata": {},
   "outputs": [],
   "source": []
  }
 ],
 "metadata": {
  "celltoolbar": "Slideshow",
  "kernelspec": {
   "display_name": "Python 3 (ipykernel)",
   "language": "python",
   "name": "python3"
  },
  "language_info": {
   "codemirror_mode": {
    "name": "ipython",
    "version": 3
   },
   "file_extension": ".py",
   "mimetype": "text/x-python",
   "name": "python",
   "nbconvert_exporter": "python",
   "pygments_lexer": "ipython3",
   "version": "3.9.13"
  }
 },
 "nbformat": 4,
 "nbformat_minor": 5
}
