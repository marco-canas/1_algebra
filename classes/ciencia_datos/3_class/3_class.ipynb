{
 "cells": [
  {
   "cell_type": "markdown",
   "id": "3038c45b",
   "metadata": {
    "slideshow": {
     "slide_type": "slide"
    }
   },
   "source": [
    "<table align=\"left\">\n",
    "  <td>\n",
    "    <a href=\"https://colab.research.google.com/github/marco-canas/1_algebra/blob/main/classes/ciencia_datos/3_class/3_class.ipynb\" target=\"_parent\"><img src=\"https://colab.research.google.com/assets/colab-badge.svg\" alt=\"Open In Colab\"/></a>\n",
    "  </td>\n",
    "</table>"
   ]
  },
  {
   "cell_type": "markdown",
   "id": "b737e122",
   "metadata": {
    "slideshow": {
     "slide_type": "slide"
    }
   },
   "source": [
    "## [Lista de reproducción de apoyo a la lectura experimental e interactiva de este cuaderno]()"
   ]
  },
  {
   "cell_type": "markdown",
   "id": "6e299fa0",
   "metadata": {
    "slideshow": {
     "slide_type": "slide"
    }
   },
   "source": [
    "# 1.3 Cálculo analítico de límites"
   ]
  },
  {
   "cell_type": "markdown",
   "id": "4799da94",
   "metadata": {
    "slideshow": {
     "slide_type": "slide"
    }
   },
   "source": [
    "## Objetivo de formación consistente con el objetivo del núcleo de pensamiento variacional"
   ]
  },
  {
   "cell_type": "markdown",
   "id": "4c51689a",
   "metadata": {
    "slideshow": {
     "slide_type": "slide"
    }
   },
   "source": [
    "* Evaluar un límite mediante el uso de las propiedades de los límites.\n",
    "* Desarrollar y usar una estrategia para el cálculo de límites.\n",
    "* Evaluar un límite mediante el uso de técnicas de cancelación y de racionalización.\n",
    "* Evaluar un límite mediante el uso del teorema del encaje.\n",
    "* Representar graficamente una tendencia. \n",
    "* Interpretar el límite calculado como la descripción de una tendencia de la variable dependiente a medida que la independiente se aproxima a un valor dado. "
   ]
  },
  {
   "cell_type": "markdown",
   "id": "69b0cd1b",
   "metadata": {
    "slideshow": {
     "slide_type": "slide"
    }
   },
   "source": [
    "## Prerrequisitos conceptuales a repasar para lograr los objetivos de esta clase  \n",
    "\n",
    "1. La función constante: para describir cosas que no cambian en el tiempo. \n",
    "2. La función identidad. \n",
    "3. La función potencia de x. \n",
    "4. Librerías numpy, matplotlib y pandas. \n",
    "5. La función linspace de numpy y el concepto de progresión aritmética. \n",
    "6. Matriz t de arreglo matricial de gráficos. \n",
    "7. la función plot de matplotlib. \n"
   ]
  },
  {
   "cell_type": "code",
   "execution_count": 9,
   "id": "0585fb65",
   "metadata": {
    "slideshow": {
     "slide_type": "slide"
    }
   },
   "outputs": [
    {
     "data": {
      "image/png": "[encoded data removed]",
      "text/plain": [
       "<Figure size 640x480 with 4 Axes>"
      ]
     },
     "metadata": {},
     "output_type": "display_data"
    }
   ],
   "source": [
    "import numpy as np \n",
    "import matplotlib.pyplot as plt \n",
    "\n",
    "x = np.linspace(-1.4, 1.4, 30) # conjunto de abscisas \n",
    "\n",
    "b = 2\n",
    "plt.subplot(2, 2, 1)  # 2 rows, 2 columns, 1st subplot = top left La función constante \n",
    "plt.plot(x, b+ 0*x)\n",
    "\n",
    "\n",
    "plt.subplot(2, 2, 2)  # 2 rows, 2 columns, 2nd subplot = top right\n",
    "plt.plot(x, x, label = 'función identidad')\n",
    "\n",
    "plt.subplot(2, 2, 3)  # 2 rows, 2 columns, 3rd subplot = bottom left\n",
    "plt.plot(x, x**2, label = 'la función elevar al cuadrado')   \n",
    "plt.subplot(2, 2, 4)  # 2 rows, 2 columns, 4th subplot = bottom right\n",
    "plt.plot(x, x**3)\n",
    "\n",
    "plt.savefig('matriz_potencias_de_x.jpg') \n",
    "\n",
    "plt.show()"
   ]
  },
  {
   "cell_type": "markdown",
   "id": "f7739b76",
   "metadata": {
    "slideshow": {
     "slide_type": "slide"
    }
   },
   "source": [
    "## Propiedades de los límites"
   ]
  },
  {
   "cell_type": "markdown",
   "id": "bf68dd70",
   "metadata": {
    "slideshow": {
     "slide_type": "slide"
    }
   },
   "source": [
    "En la sección 1.2 se vio que el límite de $f(x)$ cuando $x$ se aproxima a $c$ no depende del valor de $f$ en $x= c$. Sin embargo, puede darse el caso de que este límite sea $f(c)$. En esta situación, se puede evaluar el límite por sustitución directa. Esto es:\n",
    "\n",
    "$$ \\lim_{x \\to c} f(x) = f(c) $$\n",
    "\n",
    "Las funciones con este buen comportamiento son continuas en $c$. En la sección 1.4 se examinará con más detalle este concepto.\n"
   ]
  },
  {
   "cell_type": "markdown",
   "id": "1ed2408a",
   "metadata": {
    "slideshow": {
     "slide_type": "slide"
    }
   },
   "source": [
    "<img src = 'https://github.com/marco-canas/1_algebra/blob/main/classes/ciencia_datos/3_class/fig_1_16.png?raw=true'>"
   ]
  },
  {
   "cell_type": "markdown",
   "id": "63015095",
   "metadata": {
    "slideshow": {
     "slide_type": "slide"
    }
   },
   "source": [
    "## Teorema 1.1 Algunos límites básicos"
   ]
  },
  {
   "cell_type": "markdown",
   "id": "30a36824",
   "metadata": {
    "slideshow": {
     "slide_type": "slide"
    }
   },
   "source": [
    "$$ \\lim_{x \\to c} b = b, \\ \\ \\ \\ \\lim_{x \\to c } x = c, \\ \\ \\ \\lim_{x \\to c} x^{n} = c^{n} $$"
   ]
  },
  {
   "cell_type": "markdown",
   "id": "5ebcf11f",
   "metadata": {
    "slideshow": {
     "slide_type": "slide"
    }
   },
   "source": [
    "## Teorema 1.2 Propiedades de los límites"
   ]
  },
  {
   "cell_type": "markdown",
   "id": "1404fb83",
   "metadata": {
    "slideshow": {
     "slide_type": "slide"
    }
   },
   "source": [
    "Si $b$ y $c$ son números reales y $n$ un entero positivo, $f$ y $g$ son funciones con los límites siguientes:  \n",
    "\n",
    "$$ \\lim_{x \\to c} f(x) = L, \\ \\hspace{1cm} \\ \\ \\ \\ \\lim_{x \\to c} g(x) = K $$\n",
    "\n",
    "1. El límite de un múltiplo escalar: $\\lim_{x \\to c} bf(x) = bL$. \n",
    "2. "
   ]
  },
  {
   "cell_type": "markdown",
   "id": "1431140a",
   "metadata": {
    "slideshow": {
     "slide_type": "slide"
    }
   },
   "source": [
    "## Ejemplo 2. Límite de un polinomio"
   ]
  },
  {
   "cell_type": "markdown",
   "id": "216ce864",
   "metadata": {
    "slideshow": {
     "slide_type": "slide"
    }
   },
   "source": [
    "$$ \\lim_{x \\to 2} 4x^{2} + 3 $$"
   ]
  },
  {
   "cell_type": "code",
   "execution_count": 10,
   "id": "b4930a97",
   "metadata": {
    "slideshow": {
     "slide_type": "slide"
    }
   },
   "outputs": [],
   "source": [
    "def f(x):\n",
    "    return 4*x**2+3"
   ]
  },
  {
   "cell_type": "code",
   "execution_count": 14,
   "id": "162134d7",
   "metadata": {
    "slideshow": {
     "slide_type": "slide"
    }
   },
   "outputs": [
    {
     "data": {
      "text/plain": [
       "18.9998400004"
      ]
     },
     "execution_count": 14,
     "metadata": {},
     "output_type": "execute_result"
    }
   ],
   "source": [
    "f(1.99999)"
   ]
  },
  {
   "cell_type": "markdown",
   "id": "3d020dab",
   "metadata": {},
   "source": [
    "Conclusión: el límite parece ser 19"
   ]
  },
  {
   "cell_type": "markdown",
   "id": "900f48a9",
   "metadata": {
    "slideshow": {
     "slide_type": "slide"
    }
   },
   "source": [
    "## Representación tabular del límite en 2 de $f(x) = 4x^{2}+3$"
   ]
  },
  {
   "cell_type": "code",
   "execution_count": 25,
   "id": "b92d587b",
   "metadata": {
    "slideshow": {
     "slide_type": "slide"
    }
   },
   "outputs": [
    {
     "data": {
      "text/plain": [
       "array([1.  , 1.05, 1.1 , 1.15, 1.2 , 1.25, 1.3 , 1.35, 1.4 , 1.45, 1.5 ,\n",
       "       1.55, 1.6 , 1.65, 1.7 , 1.75, 1.8 , 1.85, 1.9 , 1.95])"
      ]
     },
     "execution_count": 25,
     "metadata": {},
     "output_type": "execute_result"
    }
   ],
   "source": [
    "import pandas as pd \n",
    "X_2izq = np.linspace(start = 1, stop = 2, num = 20, endpoint = False) \n",
    "X_2izq "
   ]
  },
  {
   "cell_type": "code",
   "execution_count": 26,
   "id": "52210c82",
   "metadata": {
    "scrolled": true
   },
   "outputs": [
    {
     "data": {
      "text/html": [
       "<div>\n",
       "<style scoped>\n",
       "    .dataframe tbody tr th:only-of-type {\n",
       "        vertical-align: middle;\n",
       "    }\n",
       "\n",
       "    .dataframe tbody tr th {\n",
       "        vertical-align: top;\n",
       "    }\n",
       "\n",
       "    .dataframe thead th {\n",
       "        text-align: right;\n",
       "    }\n",
       "</style>\n",
       "<table border=\"1\" class=\"dataframe\">\n",
       "  <thead>\n",
       "    <tr style=\"text-align: right;\">\n",
       "      <th></th>\n",
       "      <th>tencencia izquiera hacia 2</th>\n",
       "      <th>Ordenadas</th>\n",
       "    </tr>\n",
       "  </thead>\n",
       "  <tbody>\n",
       "    <tr>\n",
       "      <th>0</th>\n",
       "      <td>1.00</td>\n",
       "      <td>7.00</td>\n",
       "    </tr>\n",
       "    <tr>\n",
       "      <th>1</th>\n",
       "      <td>1.05</td>\n",
       "      <td>7.41</td>\n",
       "    </tr>\n",
       "    <tr>\n",
       "      <th>2</th>\n",
       "      <td>1.10</td>\n",
       "      <td>7.84</td>\n",
       "    </tr>\n",
       "    <tr>\n",
       "      <th>3</th>\n",
       "      <td>1.15</td>\n",
       "      <td>8.29</td>\n",
       "    </tr>\n",
       "    <tr>\n",
       "      <th>4</th>\n",
       "      <td>1.20</td>\n",
       "      <td>8.76</td>\n",
       "    </tr>\n",
       "    <tr>\n",
       "      <th>5</th>\n",
       "      <td>1.25</td>\n",
       "      <td>9.25</td>\n",
       "    </tr>\n",
       "    <tr>\n",
       "      <th>6</th>\n",
       "      <td>1.30</td>\n",
       "      <td>9.76</td>\n",
       "    </tr>\n",
       "    <tr>\n",
       "      <th>7</th>\n",
       "      <td>1.35</td>\n",
       "      <td>10.29</td>\n",
       "    </tr>\n",
       "    <tr>\n",
       "      <th>8</th>\n",
       "      <td>1.40</td>\n",
       "      <td>10.84</td>\n",
       "    </tr>\n",
       "    <tr>\n",
       "      <th>9</th>\n",
       "      <td>1.45</td>\n",
       "      <td>11.41</td>\n",
       "    </tr>\n",
       "    <tr>\n",
       "      <th>10</th>\n",
       "      <td>1.50</td>\n",
       "      <td>12.00</td>\n",
       "    </tr>\n",
       "    <tr>\n",
       "      <th>11</th>\n",
       "      <td>1.55</td>\n",
       "      <td>12.61</td>\n",
       "    </tr>\n",
       "    <tr>\n",
       "      <th>12</th>\n",
       "      <td>1.60</td>\n",
       "      <td>13.24</td>\n",
       "    </tr>\n",
       "    <tr>\n",
       "      <th>13</th>\n",
       "      <td>1.65</td>\n",
       "      <td>13.89</td>\n",
       "    </tr>\n",
       "    <tr>\n",
       "      <th>14</th>\n",
       "      <td>1.70</td>\n",
       "      <td>14.56</td>\n",
       "    </tr>\n",
       "    <tr>\n",
       "      <th>15</th>\n",
       "      <td>1.75</td>\n",
       "      <td>15.25</td>\n",
       "    </tr>\n",
       "    <tr>\n",
       "      <th>16</th>\n",
       "      <td>1.80</td>\n",
       "      <td>15.96</td>\n",
       "    </tr>\n",
       "    <tr>\n",
       "      <th>17</th>\n",
       "      <td>1.85</td>\n",
       "      <td>16.69</td>\n",
       "    </tr>\n",
       "    <tr>\n",
       "      <th>18</th>\n",
       "      <td>1.90</td>\n",
       "      <td>17.44</td>\n",
       "    </tr>\n",
       "    <tr>\n",
       "      <th>19</th>\n",
       "      <td>1.95</td>\n",
       "      <td>18.21</td>\n",
       "    </tr>\n",
       "  </tbody>\n",
       "</table>\n",
       "</div>"
      ],
      "text/plain": [
       "    tencencia izquiera hacia 2  Ordenadas\n",
       "0                         1.00       7.00\n",
       "1                         1.05       7.41\n",
       "2                         1.10       7.84\n",
       "3                         1.15       8.29\n",
       "4                         1.20       8.76\n",
       "5                         1.25       9.25\n",
       "6                         1.30       9.76\n",
       "7                         1.35      10.29\n",
       "8                         1.40      10.84\n",
       "9                         1.45      11.41\n",
       "10                        1.50      12.00\n",
       "11                        1.55      12.61\n",
       "12                        1.60      13.24\n",
       "13                        1.65      13.89\n",
       "14                        1.70      14.56\n",
       "15                        1.75      15.25\n",
       "16                        1.80      15.96\n",
       "17                        1.85      16.69\n",
       "18                        1.90      17.44\n",
       "19                        1.95      18.21"
      ]
     },
     "execution_count": 26,
     "metadata": {},
     "output_type": "execute_result"
    }
   ],
   "source": [
    "y_2izq = np.array([f(x) for x in X_2izq])\n",
    "\n",
    "df = pd.DataFrame({'tencencia izquiera hacia 2': X_2izq, 'Ordenadas':y_2izq})\n",
    "df "
   ]
  },
  {
   "cell_type": "code",
   "execution_count": 29,
   "id": "545b245a",
   "metadata": {
    "scrolled": true,
    "slideshow": {
     "slide_type": "slide"
    }
   },
   "outputs": [
    {
     "data": {
      "text/html": [
       "<div>\n",
       "<style scoped>\n",
       "    .dataframe tbody tr th:only-of-type {\n",
       "        vertical-align: middle;\n",
       "    }\n",
       "\n",
       "    .dataframe tbody tr th {\n",
       "        vertical-align: top;\n",
       "    }\n",
       "\n",
       "    .dataframe thead th {\n",
       "        text-align: right;\n",
       "    }\n",
       "</style>\n",
       "<table border=\"1\" class=\"dataframe\">\n",
       "  <thead>\n",
       "    <tr style=\"text-align: right;\">\n",
       "      <th></th>\n",
       "      <th>tencencia izquiera hacia 2</th>\n",
       "      <th>Ordenadas</th>\n",
       "    </tr>\n",
       "  </thead>\n",
       "  <tbody>\n",
       "    <tr>\n",
       "      <th>0</th>\n",
       "      <td>2.010000</td>\n",
       "      <td>19.160400</td>\n",
       "    </tr>\n",
       "    <tr>\n",
       "      <th>1</th>\n",
       "      <td>2.062105</td>\n",
       "      <td>20.009112</td>\n",
       "    </tr>\n",
       "    <tr>\n",
       "      <th>2</th>\n",
       "      <td>2.114211</td>\n",
       "      <td>20.879545</td>\n",
       "    </tr>\n",
       "    <tr>\n",
       "      <th>3</th>\n",
       "      <td>2.166316</td>\n",
       "      <td>21.771696</td>\n",
       "    </tr>\n",
       "    <tr>\n",
       "      <th>4</th>\n",
       "      <td>2.218421</td>\n",
       "      <td>22.685568</td>\n",
       "    </tr>\n",
       "    <tr>\n",
       "      <th>5</th>\n",
       "      <td>2.270526</td>\n",
       "      <td>23.621159</td>\n",
       "    </tr>\n",
       "    <tr>\n",
       "      <th>6</th>\n",
       "      <td>2.322632</td>\n",
       "      <td>24.578470</td>\n",
       "    </tr>\n",
       "    <tr>\n",
       "      <th>7</th>\n",
       "      <td>2.374737</td>\n",
       "      <td>25.557500</td>\n",
       "    </tr>\n",
       "    <tr>\n",
       "      <th>8</th>\n",
       "      <td>2.426842</td>\n",
       "      <td>26.558250</td>\n",
       "    </tr>\n",
       "    <tr>\n",
       "      <th>9</th>\n",
       "      <td>2.478947</td>\n",
       "      <td>27.580720</td>\n",
       "    </tr>\n",
       "    <tr>\n",
       "      <th>10</th>\n",
       "      <td>2.531053</td>\n",
       "      <td>28.624910</td>\n",
       "    </tr>\n",
       "    <tr>\n",
       "      <th>11</th>\n",
       "      <td>2.583158</td>\n",
       "      <td>29.690819</td>\n",
       "    </tr>\n",
       "    <tr>\n",
       "      <th>12</th>\n",
       "      <td>2.635263</td>\n",
       "      <td>30.778448</td>\n",
       "    </tr>\n",
       "    <tr>\n",
       "      <th>13</th>\n",
       "      <td>2.687368</td>\n",
       "      <td>31.887796</td>\n",
       "    </tr>\n",
       "    <tr>\n",
       "      <th>14</th>\n",
       "      <td>2.739474</td>\n",
       "      <td>33.018864</td>\n",
       "    </tr>\n",
       "    <tr>\n",
       "      <th>15</th>\n",
       "      <td>2.791579</td>\n",
       "      <td>34.171652</td>\n",
       "    </tr>\n",
       "    <tr>\n",
       "      <th>16</th>\n",
       "      <td>2.843684</td>\n",
       "      <td>35.346160</td>\n",
       "    </tr>\n",
       "    <tr>\n",
       "      <th>17</th>\n",
       "      <td>2.895789</td>\n",
       "      <td>36.542387</td>\n",
       "    </tr>\n",
       "    <tr>\n",
       "      <th>18</th>\n",
       "      <td>2.947895</td>\n",
       "      <td>37.760334</td>\n",
       "    </tr>\n",
       "    <tr>\n",
       "      <th>19</th>\n",
       "      <td>3.000000</td>\n",
       "      <td>39.000000</td>\n",
       "    </tr>\n",
       "  </tbody>\n",
       "</table>\n",
       "</div>"
      ],
      "text/plain": [
       "    tencencia izquiera hacia 2  Ordenadas\n",
       "0                     2.010000  19.160400\n",
       "1                     2.062105  20.009112\n",
       "2                     2.114211  20.879545\n",
       "3                     2.166316  21.771696\n",
       "4                     2.218421  22.685568\n",
       "5                     2.270526  23.621159\n",
       "6                     2.322632  24.578470\n",
       "7                     2.374737  25.557500\n",
       "8                     2.426842  26.558250\n",
       "9                     2.478947  27.580720\n",
       "10                    2.531053  28.624910\n",
       "11                    2.583158  29.690819\n",
       "12                    2.635263  30.778448\n",
       "13                    2.687368  31.887796\n",
       "14                    2.739474  33.018864\n",
       "15                    2.791579  34.171652\n",
       "16                    2.843684  35.346160\n",
       "17                    2.895789  36.542387\n",
       "18                    2.947895  37.760334\n",
       "19                    3.000000  39.000000"
      ]
     },
     "execution_count": 29,
     "metadata": {},
     "output_type": "execute_result"
    }
   ],
   "source": [
    "import pandas as pd \n",
    "X_2derecha = np.linspace(start = 2.01, stop = 3, num = 20, endpoint = True) \n",
    "y_2derecha = np.array([f(x) for x in X_2derecha])\n",
    "\n",
    "df = pd.DataFrame({'tencencia izquiera hacia 2': X_2derecha, 'Ordenadas':y_2derecha})\n",
    "df "
   ]
  },
  {
   "cell_type": "markdown",
   "id": "0e2e2978",
   "metadata": {},
   "source": [
    "**Conclusión 2 o de la observación tabular**: \n",
    "\n",
    "$$ \\lim_{x \\to 2} f(x) = 19 $$\n"
   ]
  },
  {
   "cell_type": "code",
   "execution_count": null,
   "id": "ef9ad529",
   "metadata": {},
   "outputs": [],
   "source": []
  },
  {
   "cell_type": "code",
   "execution_count": 43,
   "id": "6dec0cf4",
   "metadata": {
    "slideshow": {
     "slide_type": "slide"
    }
   },
   "outputs": [
    {
     "data": {
      "image/png": "[encoded data removed]",
      "text/plain": [
       "<Figure size 1000x1200 with 1 Axes>"
      ]
     },
     "metadata": {},
     "output_type": "display_data"
    }
   ],
   "source": [
    "import numpy as np \n",
    "\n",
    "import matplotlib.pyplot as plt\n",
    "\n",
    "plt.figure(figsize = (10, 12))\n",
    "\n",
    "plt.plot(X_2izq, y_2izq)\n",
    "\n",
    "plt.arrow(1.25, 12.5, 1.9-1.25, 21-11, head_width=0.1)\n",
    "\n",
    "plt.plot(X_2derecha, y_2derecha)\n",
    "\n",
    "plt.yticks(np.arange(np.min(y_2izq), np.max(y_2izq))) \n",
    "\n",
    "plt.savefig('limite_en_2.jpg')\n",
    "plt.grid() \n"
   ]
  },
  {
   "cell_type": "code",
   "execution_count": null,
   "id": "65140081",
   "metadata": {
    "slideshow": {
     "slide_type": "slide"
    }
   },
   "outputs": [],
   "source": []
  },
  {
   "cell_type": "markdown",
   "id": "6ac34465",
   "metadata": {
    "slideshow": {
     "slide_type": "slide"
    }
   },
   "source": [
    "##  Tareas de fijación de comceptos y adquisición de habilidades"
   ]
  },
  {
   "cell_type": "markdown",
   "id": "7f22af39",
   "metadata": {
    "slideshow": {
     "slide_type": "slide"
    }
   },
   "source": [
    "1. $$ \\lim_{x = 1} \\frac{x^{2} + x + 2}{x+1} $$\n",
    "\n",
    "* determine el límite aproximandose puntualmente o eveluando puntualmente,\n",
    "* determine el límite hacien las tables de aproximación izquierda y derecha\n",
    "* corrobore el límite graficando el límite de $f$ en $x = 1$. \n"
   ]
  },
  {
   "cell_type": "markdown",
   "id": "a4296aca",
   "metadata": {
    "slideshow": {
     "slide_type": "slide"
    }
   },
   "source": [
    "## Evaluación"
   ]
  },
  {
   "cell_type": "markdown",
   "id": "d037526e",
   "metadata": {},
   "source": [
    "$$ \\lim_{x \\to 0} \\sqrt{x^{2} + 4}  $$\n",
    "\n",
    "* determine el límite aproximandose puntualmente o eveluando puntualmente,\n",
    "* determine el límite hacien las tables de aproximación izquierda y derecha\n",
    "* corrobore el límite graficando el límite de $f$ en $x = 1$. "
   ]
  },
  {
   "cell_type": "markdown",
   "id": "db169f9f",
   "metadata": {
    "slideshow": {
     "slide_type": "slide"
    }
   },
   "source": [
    "## Referentes  \n",
    "\n",
    "* la función np.linspace de numpy: https://numpy.org/doc/stable/reference/generated/numpy.linspace.html"
   ]
  },
  {
   "cell_type": "code",
   "execution_count": null,
   "id": "6068ecb0",
   "metadata": {},
   "outputs": [],
   "source": []
  }
 ],
 "metadata": {
  "celltoolbar": "Slideshow",
  "kernelspec": {
   "display_name": "Python 3 (ipykernel)",
   "language": "python",
   "name": "python3"
  },
  "language_info": {
   "codemirror_mode": {
    "name": "ipython",
    "version": 3
   },
   "file_extension": ".py",
   "mimetype": "text/x-python",
   "name": "python",
   "nbconvert_exporter": "python",
   "pygments_lexer": "ipython3",
   "version": "3.9.13"
  },
  "rise": {
   "enable_chalkboard": true,
   "theme": "sky"
  }
 },
 "nbformat": 4,
 "nbformat_minor": 5
}
