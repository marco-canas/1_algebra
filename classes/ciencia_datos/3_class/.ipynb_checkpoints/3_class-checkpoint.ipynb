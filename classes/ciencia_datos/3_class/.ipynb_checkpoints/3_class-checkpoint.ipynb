{
 "cells": [
  {
   "cell_type": "markdown",
   "id": "cead0847",
   "metadata": {
    "slideshow": {
     "slide_type": "slide"
    }
   },
   "source": [
    "<table align=\"left\">\n",
    "  <td>\n",
    "    <a href=\"https://colab.research.google.com/github/marco-canas/10_pygame/blob/main/1_capitulo_instalar_pygame.ipynb\" target=\"_parent\"><img src=\"https://colab.research.google.com/assets/colab-badge.svg\" alt=\"Open In Colab\"/></a>\n",
    "  </td>\n",
    "</table>"
   ]
  },
  {
   "cell_type": "markdown",
   "id": "fc986ad5",
   "metadata": {
    "slideshow": {
     "slide_type": "slide"
    }
   },
   "source": [
    "## [Lista de reproducción de apoyo a la lectura experimental e interactiva de este cuaderno]()"
   ]
  },
  {
   "cell_type": "markdown",
   "id": "cb78e8e8",
   "metadata": {
    "slideshow": {
     "slide_type": "slide"
    }
   },
   "source": [
    "# 1.3 Cálculo analítico de límites"
   ]
  },
  {
   "cell_type": "markdown",
   "id": "98c41bfa",
   "metadata": {
    "slideshow": {
     "slide_type": "slide"
    }
   },
   "source": [
    "## Objetivo de formación consistente con el objetivo del núcleo de pensamiento variacional"
   ]
  },
  {
   "cell_type": "markdown",
   "id": "10c2b822",
   "metadata": {
    "slideshow": {
     "slide_type": "slide"
    }
   },
   "source": [
    "* Evaluar un límite mediante el uso de las propiedades de los límites.\n",
    "* Desarrollar y usar una estrategia para el cálculo de límites.\n",
    "* Evaluar un límite mediante el uso de técnicas de cancelación y de racionalización.\n",
    "* Evaluar un límite mediante el uso del teorema del encaje.\n",
    "* Representar graficamente una tendencia. \n",
    "* Interpretar el límite calculado como la descripción de una tendencia de la variable dependiente a medida que la independiente se aproxima a un valor dado. "
   ]
  },
  {
   "cell_type": "markdown",
   "id": "0bd572e9",
   "metadata": {
    "slideshow": {
     "slide_type": "slide"
    }
   },
   "source": [
    "## Propiedades de los límites"
   ]
  },
  {
   "cell_type": "markdown",
   "id": "2b79f2d9",
   "metadata": {
    "slideshow": {
     "slide_type": "slide"
    }
   },
   "source": [
    "En la sección 1.2 se vio que el límite de $f(x)$ cuando $x$ se aproxima a $c$ no depende del valor de $f$ en $x= c$. Sin embargo, puede darse el caso de que este límite sea $f(c)$. En esta situación, se puede evaluar el límite por sustitución directa. Esto es:\n",
    "\n",
    "$$ \\lim_{x \\to c} f(x) = f(c) $$\n",
    "\n",
    "Las funciones con este buen comportamiento son continuas en $c$. En la sección 1.4 se examinará con más detalle este concepto.\n"
   ]
  },
  {
   "cell_type": "markdown",
   "id": "fc5c3975",
   "metadata": {
    "slideshow": {
     "slide_type": "slide"
    }
   },
   "source": [
    "<img src = ''>"
   ]
  },
  {
   "cell_type": "markdown",
   "id": "cd385c5c",
   "metadata": {
    "slideshow": {
     "slide_type": "slide"
    }
   },
   "source": [
    "## Teorema 1.1 Algunos límites básicos"
   ]
  },
  {
   "cell_type": "markdown",
   "id": "57e931a0",
   "metadata": {
    "slideshow": {
     "slide_type": "slide"
    }
   },
   "source": [
    "$$ \\lim_{x \\to c} b = b, \\ \\ \\ \\ \\lim_{x \\to c } x = c, \\ \\ \\ \\lim_{x \\to c} x^{n} = c^{n} $$"
   ]
  },
  {
   "cell_type": "markdown",
   "id": "80036826",
   "metadata": {
    "slideshow": {
     "slide_type": "slide"
    }
   },
   "source": []
  },
  {
   "cell_type": "code",
   "execution_count": null,
   "id": "6f885250",
   "metadata": {},
   "outputs": [],
   "source": []
  },
  {
   "cell_type": "markdown",
   "id": "6bf1e822",
   "metadata": {
    "slideshow": {
     "slide_type": "slide"
    }
   },
   "source": [
    "##  Tareas de fijación de comceptos y adquisición de habilidades"
   ]
  },
  {
   "cell_type": "code",
   "execution_count": null,
   "id": "8d8c6e41",
   "metadata": {
    "slideshow": {
     "slide_type": "slide"
    }
   },
   "outputs": [],
   "source": []
  },
  {
   "cell_type": "markdown",
   "id": "e98f4dcb",
   "metadata": {
    "slideshow": {
     "slide_type": "slide"
    }
   },
   "source": [
    "## Evaluación"
   ]
  },
  {
   "cell_type": "code",
   "execution_count": null,
   "id": "8390f8ea",
   "metadata": {},
   "outputs": [],
   "source": []
  },
  {
   "cell_type": "markdown",
   "id": "a5bc21de",
   "metadata": {
    "slideshow": {
     "slide_type": "slide"
    }
   },
   "source": [
    "## Referentes"
   ]
  },
  {
   "cell_type": "code",
   "execution_count": null,
   "id": "89fb40f0",
   "metadata": {},
   "outputs": [],
   "source": []
  }
 ],
 "metadata": {
  "celltoolbar": "Slideshow",
  "kernelspec": {
   "display_name": "Python 3 (ipykernel)",
   "language": "python",
   "name": "python3"
  },
  "language_info": {
   "codemirror_mode": {
    "name": "ipython",
    "version": 3
   },
   "file_extension": ".py",
   "mimetype": "text/x-python",
   "name": "python",
   "nbconvert_exporter": "python",
   "pygments_lexer": "ipython3",
   "version": "3.9.13"
  },
  "rise": {
   "enable_chalkboard": true,
   "theme": "sky"
  }
 },
 "nbformat": 4,
 "nbformat_minor": 5
}
