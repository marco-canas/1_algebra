{
 "cells": [
  {
   "cell_type": "markdown",
   "id": "038811f0",
   "metadata": {
    "slideshow": {
     "slide_type": "slide"
    }
   },
   "source": [
    "<table align=\"left\">\n",
    "  <td>\n",
    "    <a href=\"https://colab.research.google.com/github/marco-canas/algebra/blob/main/circunferencia_unitaria.ipynb\" target=\"_parent\"><img src=\"https://colab.research.google.com/assets/colab-badge.svg\" alt=\"Open In Colab\"/></a>\n",
    "  </td>\n",
    "</table>"
   ]
  },
  {
   "cell_type": "markdown",
   "id": "b84425e7",
   "metadata": {
    "slideshow": {
     "slide_type": "slide"
    }
   },
   "source": [
    "# La circunferencia unitaria"
   ]
  },
  {
   "cell_type": "markdown",
   "id": "9f0be37d",
   "metadata": {
    "slideshow": {
     "slide_type": "slide"
    }
   },
   "source": [
    "$$ \\left( \\frac{5}{13}, \\frac{-12}{3} \\right) \\in C(O, 1) $$"
   ]
  },
  {
   "cell_type": "code",
   "execution_count": 2,
   "id": "f4db6ecf",
   "metadata": {
    "slideshow": {
     "slide_type": "slide"
    }
   },
   "outputs": [
    {
     "data": {
      "text/plain": [
       "False"
      ]
     },
     "execution_count": 2,
     "metadata": {},
     "output_type": "execute_result"
    }
   ],
   "source": [
    "5/13**2 + (-12/3)**2 == 1"
   ]
  },
  {
   "cell_type": "markdown",
   "id": "4c2f0a69",
   "metadata": {
    "slideshow": {
     "slide_type": "slide"
    }
   },
   "source": [
    "Entonces este punto no pertenece a la circunferencia unitaria. "
   ]
  },
  {
   "cell_type": "markdown",
   "id": "1a3c1825",
   "metadata": {
    "slideshow": {
     "slide_type": "slide"
    }
   },
   "source": [
    "$$ \\left( \\frac{5}{13} \\right)^{2} + \\left( \\frac{-12}{3} \\right)^{2} $$"
   ]
  },
  {
   "cell_type": "markdown",
   "id": "d003cbc6",
   "metadata": {
    "slideshow": {
     "slide_type": "slide"
    }
   },
   "source": [
    "$$ \\frac{25}{169} + \\frac{144}{9} $$"
   ]
  },
  {
   "cell_type": "markdown",
   "id": "4c321bff",
   "metadata": {
    "slideshow": {
     "slide_type": "slide"
    }
   },
   "source": [
    "$$ \\frac{25(9) + 144(169)}{169(9)} =  $$"
   ]
  },
  {
   "cell_type": "code",
   "execution_count": 3,
   "id": "ddeb0f4f",
   "metadata": {
    "slideshow": {
     "slide_type": "slide"
    }
   },
   "outputs": [
    {
     "data": {
      "text/plain": [
       "24561"
      ]
     },
     "execution_count": 3,
     "metadata": {},
     "output_type": "execute_result"
    }
   ],
   "source": [
    "25*9+144*169"
   ]
  },
  {
   "cell_type": "code",
   "execution_count": 4,
   "id": "251bc4b5",
   "metadata": {
    "slideshow": {
     "slide_type": "slide"
    }
   },
   "outputs": [
    {
     "data": {
      "text/plain": [
       "1521"
      ]
     },
     "execution_count": 4,
     "metadata": {},
     "output_type": "execute_result"
    }
   ],
   "source": [
    "169*9"
   ]
  },
  {
   "cell_type": "markdown",
   "id": "6d630587",
   "metadata": {
    "slideshow": {
     "slide_type": "slide"
    }
   },
   "source": [
    "$$ \\frac{24561}{1521} > 1 $$"
   ]
  },
  {
   "cell_type": "code",
   "execution_count": 5,
   "id": "a6c443bf",
   "metadata": {},
   "outputs": [
    {
     "data": {
      "text/plain": [
       "16.14792899408284"
      ]
     },
     "execution_count": 5,
     "metadata": {},
     "output_type": "execute_result"
    }
   ],
   "source": [
    "24561/1521\n"
   ]
  },
  {
   "cell_type": "markdown",
   "id": "08fde681",
   "metadata": {
    "slideshow": {
     "slide_type": "slide"
    }
   },
   "source": [
    "Efectivamente el punto dado no pertenece a la circunferencia unitaria dado que la suma de los cuadrados de sus componentes no dio 1. "
   ]
  },
  {
   "cell_type": "code",
   "execution_count": 9,
   "id": "ab498cb0",
   "metadata": {
    "slideshow": {
     "slide_type": "slide"
    }
   },
   "outputs": [
    {
     "data": {
      "image/png": "[encoded data removed]",
      "text/plain": [
       "<Figure size 432x288 with 1 Axes>"
      ]
     },
     "metadata": {
      "needs_background": "light"
     },
     "output_type": "display_data"
    }
   ],
   "source": [
    "import numpy as np \n",
    "import matplotlib.pyplot as plt \n",
    "\n",
    "theta = np.linspace(0, 2*np.pi)\n",
    "\n",
    "x = np.cos(theta)\n",
    "y = np.sin(theta)\n",
    "plt.plot(x,y)\n",
    "plt.axis('equal')\n",
    "plt.plot([5/13], [-12/3], 'ro')\n",
    "plt.savefig('punto_circunferencia.png')\n",
    "plt.show() "
   ]
  },
  {
   "cell_type": "markdown",
   "id": "a505f4db",
   "metadata": {
    "slideshow": {
     "slide_type": "slide"
    }
   },
   "source": [
    "Concluimos que efectivamente el punto no pertenece a la circunferencia unitaria. "
   ]
  },
  {
   "cell_type": "code",
   "execution_count": null,
   "id": "a246b280",
   "metadata": {},
   "outputs": [],
   "source": []
  }
 ],
 "metadata": {
  "celltoolbar": "Slideshow",
  "kernelspec": {
   "display_name": "Python 3 (ipykernel)",
   "language": "python",
   "name": "python3"
  },
  "language_info": {
   "codemirror_mode": {
    "name": "ipython",
    "version": 3
   },
   "file_extension": ".py",
   "mimetype": "text/x-python",
   "name": "python",
   "nbconvert_exporter": "python",
   "pygments_lexer": "ipython3",
   "version": "3.9.12"
  },
  "rise": {
   "theme": "sky",
   "transition": "zoom"
  }
 },
 "nbformat": 4,
 "nbformat_minor": 5
}
