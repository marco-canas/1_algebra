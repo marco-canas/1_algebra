{
  "nbformat": 4,
  "nbformat_minor": 0,
  "metadata": {
    "colab": {
      "provenance": [],
      "authorship_tag": "ABX9TyM9W3wMUvrUnCvgp3Xmi80m",
      "include_colab_link": true
    },
    "kernelspec": {
      "name": "python3",
      "display_name": "Python 3"
    },
    "language_info": {
      "name": "python"
    }
  },
  "cells": [
    {
      "cell_type": "markdown",
      "metadata": {
        "id": "view-in-github",
        "colab_type": "text"
      },
      "source": [
        "<a href=\"https://colab.research.google.com/github/marco-canas/algebra/blob/main/Porcentage1.ipynb\" target=\"_parent\"><img src=\"https://colab.research.google.com/assets/colab-badge.svg\" alt=\"Open In Colab\"/></a>"
      ]
    },
    {
      "cell_type": "markdown",
      "source": [
        "# [Video de apoyo a la lectura experimental e interactia de este cuaderno]()"
      ],
      "metadata": {
        "id": "pv6xIdXMtpWs"
      }
    },
    {
      "cell_type": "markdown",
      "source": [
        "# Aplicaciones de las matemáticas a la economía\n",
        "\n",
        "En los ejemplos y ejercicios que siguen planteamos ecuaciones que modelan problemas en muchas situaciones distintas de la vida cotidiana.  \n",
        "\n",
        "## Ejemplo 2 Interés de una inversión\n",
        "María Camila hereda 450 millones de pesos y los invierte en dos certificados de depósito a término. Uno\n",
        "de los certificados paga el 6% y el otro paga $ 4.5 \\%$ de interés anual **simple**. Si el\n",
        "interés total de María Camila es 22'491.900 pesos por año, **¿cuánto dinero está invertido en cada tasa?**"
      ],
      "metadata": {
        "id": "13nYh22GL0oB"
      }
    },
    {
      "cell_type": "markdown",
      "source": [
        "## Conceptos asociados al problemas \n",
        "\n",
        "* La propiedad distributiva de la multiplicación con respecto a la suma.\n",
        "\n",
        "* Interés simple e interés compuesto. \n",
        "\n",
        "* Propiedad de la balanza o propiedad uniforme. \n",
        "\n",
        "* Transponer términos y factores. \n"
      ],
      "metadata": {
        "id": "tSpAGlNWqoQI"
      }
    },
    {
      "cell_type": "code",
      "source": [
        "5025*4476"
      ],
      "metadata": {
        "colab": {
          "base_uri": "https://localhost:8080/"
        },
        "id": "hC45Z822Nt4v",
        "outputId": "7868504e-4530-47d0-c15a-c0a25857af29"
      },
      "execution_count": 1,
      "outputs": [
        {
          "output_type": "execute_result",
          "data": {
            "text/plain": [
              "22491900"
            ]
          },
          "metadata": {},
          "execution_count": 1
        }
      ]
    },
    {
      "cell_type": "markdown",
      "source": [
        "El modelo de esta situción económica es:\n",
        "\n",
        "$$ x(0.06) + (450-x)(0.045) = 22.491 $$\n"
      ],
      "metadata": {
        "id": "u6u6nuRPUi8O"
      }
    },
    {
      "cell_type": "code",
      "source": [
        "from sympy import * \n",
        "\n",
        "x = var('x') \n",
        "modelo = Eq(x*0.06+ (450-x)*0.045, 22.4919)\n",
        "solve(modelo, x)[0]"
      ],
      "metadata": {
        "colab": {
          "base_uri": "https://localhost:8080/",
          "height": 37
        },
        "id": "hBAZ3RmXVF0r",
        "outputId": "62e03233-22e9-4c35-d046-b44f923a01aa"
      },
      "execution_count": 2,
      "outputs": [
        {
          "output_type": "execute_result",
          "data": {
            "text/plain": [
              "149.460000000000"
            ],
            "text/latex": "$\\displaystyle 149.46$"
          },
          "metadata": {},
          "execution_count": 2
        }
      ]
    },
    {
      "cell_type": "code",
      "source": [
        "450-solve(modelo, x)[0]"
      ],
      "metadata": {
        "colab": {
          "base_uri": "https://localhost:8080/",
          "height": 37
        },
        "id": "GtpPcvA1WLI-",
        "outputId": "3ca6ab92-0913-4a34-ede6-76d72e9ba0e0"
      },
      "execution_count": 3,
      "outputs": [
        {
          "output_type": "execute_result",
          "data": {
            "text/plain": [
              "300.540000000000"
            ],
            "text/latex": "$\\displaystyle 300.54$"
          },
          "metadata": {},
          "execution_count": 3
        }
      ]
    },
    {
      "cell_type": "markdown",
      "source": [
        "Lo invertido al 6% efectivo anual es 149'460.000 y lo invertido al 4.5% es 300'540.000 y me parece muy desacertado lo que hizo María Camila pues es mejor invertir más a una tasa más alta de interés. "
      ],
      "metadata": {
        "id": "UxA7OGh3V3He"
      }
    },
    {
      "cell_type": "code",
      "source": [
        "300*0.06"
      ],
      "metadata": {
        "colab": {
          "base_uri": "https://localhost:8080/"
        },
        "id": "ji9swJ5AXTRq",
        "outputId": "68982ae3-61ec-450f-aa62-e7586741e4ad"
      },
      "execution_count": 4,
      "outputs": [
        {
          "output_type": "execute_result",
          "data": {
            "text/plain": [
              "18.0"
            ]
          },
          "metadata": {},
          "execution_count": 4
        }
      ]
    },
    {
      "cell_type": "code",
      "source": [
        "150*0.045"
      ],
      "metadata": {
        "colab": {
          "base_uri": "https://localhost:8080/"
        },
        "id": "0nG_5APPXWYh",
        "outputId": "9a2747a0-0309-498c-97b6-24600baa9665"
      },
      "execution_count": 5,
      "outputs": [
        {
          "output_type": "execute_result",
          "data": {
            "text/plain": [
              "6.75"
            ]
          },
          "metadata": {},
          "execution_count": 5
        }
      ]
    },
    {
      "cell_type": "code",
      "source": [
        "300*0.06+150*0.045"
      ],
      "metadata": {
        "colab": {
          "base_uri": "https://localhost:8080/"
        },
        "id": "1FI-LHb9Xb55",
        "outputId": "bd2dc012-38e7-4d0d-9172-af053c94c2ed"
      },
      "execution_count": 6,
      "outputs": [
        {
          "output_type": "execute_result",
          "data": {
            "text/plain": [
              "24.75"
            ]
          },
          "metadata": {},
          "execution_count": 6
        }
      ]
    },
    {
      "cell_type": "markdown",
      "source": [
        "Note que hubiera ganado casi 25 millones de interés si hubiera invertido mas dinero a una tasa más alta. "
      ],
      "metadata": {
        "id": "FHMXBiYaX0i1"
      }
    }
  ]
}