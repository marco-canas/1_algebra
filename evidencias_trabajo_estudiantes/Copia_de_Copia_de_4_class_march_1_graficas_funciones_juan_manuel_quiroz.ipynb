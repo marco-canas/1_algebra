{
  "cells": [
    {
      "cell_type": "markdown",
      "metadata": {
        "id": "ebf86521"
      },
      "source": [
        "<table align=\"left\">\n",
        "  <td>\n",
        "    <a href=\"https://colab.research.google.com/github/marco-canas/1_algebra/blob/main/classes/ciencia_datos/4_class/4_class_march_1_graficas_funciones.ipynb\" target=\"_parent\"><img src=\"https://colab.research.google.com/assets/colab-badge.svg\" alt=\"Open In Colab\"/></a>\n",
        "  </td>\n",
        "</table>"
      ],
      "id": "ebf86521"
    },
    {
      "cell_type": "markdown",
      "metadata": {
        "id": "1C5nBXXCjjxs"
      },
      "source": [
        "este es mi cuaderno juan manuel quriroz\n",
        "ingeniera agropecuaria\n"
      ],
      "id": "1C5nBXXCjjxs"
    },
    {
      "cell_type": "code",
      "execution_count": null,
      "metadata": {
        "id": "08b5ba45"
      },
      "outputs": [],
      "source": [],
      "id": "08b5ba45"
    },
    {
      "cell_type": "markdown",
      "metadata": {
        "id": "37cda332"
      },
      "source": [
        "\n",
        "# Gráficos de funciones"
      ],
      "id": "37cda332"
    },
    {
      "cell_type": "code",
      "execution_count": null,
      "metadata": {
        "id": "PBHrMAJXppVF"
      },
      "outputs": [],
      "source": [
        "\n"
      ],
      "id": "PBHrMAJXppVF"
    },
    {
      "cell_type": "markdown",
      "metadata": {
        "id": "25c0785b"
      },
      "source": [
        "## Objetivo de aprendizaje\n",
        "\n",
        "* saber graficar a mano unos datos y saber interpretarlos. "
      ],
      "id": "25c0785b"
    },
    {
      "cell_type": "code",
      "execution_count": null,
      "metadata": {
        "id": "ef24f87e",
        "outputId": "00d1df8c-c076-4fdb-8ce9-e03902712654"
      },
      "outputs": [
        {
          "data": {
            "text/plain": [
              "15"
            ]
          },
          "execution_count": 1,
          "metadata": {},
          "output_type": "execute_result"
        }
      ],
      "source": [
        "5*3"
      ],
      "id": "ef24f87e"
    },
    {
      "cell_type": "markdown",
      "metadata": {
        "id": "160056a6"
      },
      "source": [
        "# Relación de sustancia cancerígena con índice de mortalidad\n",
        "\n",
        "*Marco*\n",
        "\n",
        "**Marco**"
      ],
      "id": "160056a6"
    },
    {
      "cell_type": "code",
      "execution_count": null,
      "metadata": {
        "id": "0c0553a2"
      },
      "outputs": [],
      "source": [
        "indice_exposicion = [3.5, 3.58, 4.42, 2.26, 2.63, 4.85, 12.65, 7.42, 9,35]"
      ],
      "id": "0c0553a2"
    },
    {
      "cell_type": "code",
      "execution_count": null,
      "metadata": {
        "id": "c1be8e8f"
      },
      "outputs": [],
      "source": [
        "indice_mortalidad = [150.1, 133.1, 132.9, 116.7, 140.7, 165.5, 210.7, 181.0, 231.4]"
      ],
      "id": "c1be8e8f"
    },
    {
      "cell_type": "code",
      "execution_count": null,
      "metadata": {
        "colab": {
          "background_save": true,
          "base_uri": "https://localhost:8080/"
        },
        "id": "efd33eba",
        "outputId": "8186e402-1084-4c8e-add0-b9942122e0cb"
      },
      "outputs": [
        {
          "data": {
            "text/plain": [
              "False"
            ]
          },
          "execution_count": 8,
          "metadata": {},
          "output_type": "execute_result"
        }
      ],
      "source": [
        "len(indice_exposicion)==len(indice_mortalidad)"
      ],
      "id": "efd33eba"
    },
    {
      "cell_type": "code",
      "execution_count": null,
      "metadata": {
        "id": "5de2727c"
      },
      "outputs": [],
      "source": [],
      "id": "5de2727c"
    },
    {
      "cell_type": "code",
      "execution_count": null,
      "metadata": {
        "id": "d7679e10"
      },
      "outputs": [],
      "source": [],
      "id": "d7679e10"
    },
    {
      "cell_type": "markdown",
      "metadata": {
        "id": "3031ee87"
      },
      "source": [
        "[Evaluemos al profesor aquí](https://forms.office.com/Pages/ResponsePage.aspx?id=IefhmYRxjkmK_7KtTlPBwkanXIs1i1FEujpsZgO6dXpUREJPV1kxUk1JV1ozTFJIQVNIQjY5WEY3US4u)"
      ],
      "id": "3031ee87"
    },
    {
      "cell_type": "code",
      "execution_count": null,
      "metadata": {
        "id": "86cd15b1"
      },
      "outputs": [],
      "source": [],
      "id": "86cd15b1"
    }
  ],
  "metadata": {
    "colab": {
      "provenance": []
    },
    "kernelspec": {
      "display_name": "Python 3 (ipykernel)",
      "language": "python",
      "name": "python3"
    },
    "language_info": {
      "codemirror_mode": {
        "name": "ipython",
        "version": 3
      },
      "file_extension": ".py",
      "mimetype": "text/x-python",
      "name": "python",
      "nbconvert_exporter": "python",
      "pygments_lexer": "ipython3",
      "version": "3.9.13"
    }
  },
  "nbformat": 4,
  "nbformat_minor": 5
}