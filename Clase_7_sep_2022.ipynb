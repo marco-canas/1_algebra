{
  "nbformat": 4,
  "nbformat_minor": 0,
  "metadata": {
    "colab": {
      "provenance": [],
      "authorship_tag": "ABX9TyOHgcDUvWBOW34HW82Qq13k",
      "include_colab_link": true
    },
    "kernelspec": {
      "name": "python3",
      "display_name": "Python 3"
    },
    "language_info": {
      "name": "python"
    }
  },
  "cells": [
    {
      "cell_type": "markdown",
      "metadata": {
        "id": "view-in-github",
        "colab_type": "text"
      },
      "source": [
        "<a href=\"https://colab.research.google.com/github/marco-canas/algebra/blob/main/Clase_7_sep_2022.ipynb\" target=\"_parent\"><img src=\"https://colab.research.google.com/assets/colab-badge.svg\" alt=\"Open In Colab\"/></a>"
      ]
    },
    {
      "cell_type": "markdown",
      "source": [
        "[Vídeo de apoyo a la lectura experimental e interactiva de este cuaderno]()"
      ],
      "metadata": {
        "id": "jFdHk9QAM_Bj"
      }
    },
    {
      "cell_type": "markdown",
      "source": [
        "# Construcción de modelos en aplicaciones de las matemáticas a la economía  \n",
        "En los ejemplos y ejercicios que siguen planteamos ecuacioes que modelan problemas en muchas situaciones distintas de la vida cotidiana.  \n",
        "## Ejemplo 2 Interés de una inversión  \n",
        "Leonardo hereda 450 millones de pesos y los invierte en dos certificados de depósito a término. Uno de los certificados paga el 6% y el otro paga $4.5$% de interés anual simple.   Si el interés total de Leonardo es $22'491.900 pesos por año, ¿cuánto dinero está invertido en cada tasa?  \n",
        "1) Mire la pregunta y de ahí, defina la incógnita  \n",
        "\n",
        "##Conceptos asociados al problema  \n",
        "* La propiedad distributiva de la multiplicación con respecto a la suma. \n",
        "* Interés simple e interés compuesto.  \n",
        "* Propiedad de la balaza o propiedad uniforme.  \n",
        "* Transponer términos y factores."
      ],
      "metadata": {
        "id": "q9snbp0MNDaY"
      }
    },
    {
      "cell_type": "markdown",
      "source": [
        "X: lo invertido al 6  \n",
        "\n",
        "450 - X es lo invertido al 4,5$%   \n",
        "\n",
        "Modelo:\n",
        "\n",
        "Lo invertido al 6% + Lo invetido al 4,5% = 450 Millones (Total)  \n",
        "\n",
        "X + (450 - X) = 450  \n",
        "\n",
        "Interés de lo invertido al 6% + Interés de lo invertido al 4.5% = Inversión total (22,491)    \n",
        "## El modelo de esta situación económica es:\n",
        "\n",
        "$$X(0,06) + (450 . X) (0,045)= 22,491$$ interés total \n",
        "\n"
      ],
      "metadata": {
        "id": "5q5w7aSQRUDS"
      }
    },
    {
      "cell_type": "code",
      "source": [
        "from sympy import *\n",
        "\n",
        "x = var('x')\n",
        "modelo = Eq(x*0.06+ (450-x)*0.045, 22.4919)\n",
        "solve(modelo, x)[0]"
      ],
      "metadata": {
        "colab": {
          "base_uri": "https://localhost:8080/",
          "height": 37
        },
        "id": "zK9cjTwjVM7Z",
        "outputId": "eee74adf-8d6f-41d2-80db-9d864007c9a6"
      },
      "execution_count": 5,
      "outputs": [
        {
          "output_type": "execute_result",
          "data": {
            "text/plain": [
              "149.460000000000"
            ],
            "text/latex": "$\\displaystyle 149.46$"
          },
          "metadata": {},
          "execution_count": 5
        }
      ]
    },
    {
      "cell_type": "code",
      "source": [
        "450-solve(modelo, x)[0]"
      ],
      "metadata": {
        "colab": {
          "base_uri": "https://localhost:8080/",
          "height": 37
        },
        "id": "Zzfca4pcWW0i",
        "outputId": "77decfe0-5d3b-449c-c825-fcd24aab9962"
      },
      "execution_count": 6,
      "outputs": [
        {
          "output_type": "execute_result",
          "data": {
            "text/plain": [
              "300.540000000000"
            ],
            "text/latex": "$\\displaystyle 300.54$"
          },
          "metadata": {},
          "execution_count": 6
        }
      ]
    },
    {
      "cell_type": "markdown",
      "source": [
        "Lo invertido al 6% efectivo anual es de $149'460.000 y lo invetido al 4.5% es $$300'540.000 y me parece muy desascertado lo que hizo Leonardo pues es mejor invertir más a una tasa más alta de interés."
      ],
      "metadata": {
        "id": "Re4PuqKrV3cY"
      }
    },
    {
      "cell_type": "code",
      "source": [
        "300*0.06"
      ],
      "metadata": {
        "colab": {
          "base_uri": "https://localhost:8080/"
        },
        "id": "kJTr63fnX3Su",
        "outputId": "28acdeb3-b5c7-4c6a-af5a-dcb9fff774d2"
      },
      "execution_count": 7,
      "outputs": [
        {
          "output_type": "execute_result",
          "data": {
            "text/plain": [
              "18.0"
            ]
          },
          "metadata": {},
          "execution_count": 7
        }
      ]
    },
    {
      "cell_type": "code",
      "source": [
        "150*0.045"
      ],
      "metadata": {
        "colab": {
          "base_uri": "https://localhost:8080/"
        },
        "id": "b2iOnyihX6js",
        "outputId": "b2e222dd-621c-4bb3-dc4f-2f2815184cfb"
      },
      "execution_count": 8,
      "outputs": [
        {
          "output_type": "execute_result",
          "data": {
            "text/plain": [
              "6.75"
            ]
          },
          "metadata": {},
          "execution_count": 8
        }
      ]
    },
    {
      "cell_type": "code",
      "source": [
        "300*0.06+150*0.045"
      ],
      "metadata": {
        "colab": {
          "base_uri": "https://localhost:8080/"
        },
        "id": "dvmK_LboX-vU",
        "outputId": "949c333f-fdea-4bd4-a38e-d54cc40125ec"
      },
      "execution_count": 9,
      "outputs": [
        {
          "output_type": "execute_result",
          "data": {
            "text/plain": [
              "24.75"
            ]
          },
          "metadata": {},
          "execution_count": 9
        }
      ]
    },
    {
      "cell_type": "markdown",
      "source": [
        "Note que hubiera ganado casi 25 millones de interés si hubiera invertido más dinero a una tasa más alta."
      ],
      "metadata": {
        "id": "WQvr3URlYFTT"
      }
    }
  ]
}