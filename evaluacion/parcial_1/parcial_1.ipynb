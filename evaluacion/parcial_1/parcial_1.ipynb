{
 "cells": [
  {
   "cell_type": "markdown",
   "id": "b719236c",
   "metadata": {
    "slideshow": {
     "slide_type": "slide"
    }
   },
   "source": []
  },
  {
   "cell_type": "markdown",
   "id": "49f53c34",
   "metadata": {
    "slideshow": {
     "slide_type": "slide"
    }
   },
   "source": [
    "# Parcial 1 de Álgebra y trigonometría"
   ]
  },
  {
   "cell_type": "markdown",
   "id": "208dda28",
   "metadata": {
    "slideshow": {
     "slide_type": "slide"
    }
   },
   "source": [
    "Altura de un árbol Un aserrador estima la altura de un árbol alto midiendo primero un árbol pequeño alejado 125 pies del árbol alto; luego se desplaza de tal manera que sus ojos estén en la visual de las copas de los árboles y mide después qué tan lejos está del árbol pequeño (véase la figura).  \n",
    "\n",
    "Suponga que el árbol pequeño mide 20 pies de altura, el hombre está a 25 pies del árbol pequeño y sus ojos están a\n",
    "5 pies por arriba del suelo. ¿Cuánto mide el árbol más alto?\n",
    "\n",
    "<img src = 'https://github.com/marco-canas/algebra/blob/main/classes/medicion/metodo_visual_altura.png?raw=true'>"
   ]
  },
  {
   "cell_type": "code",
   "execution_count": null,
   "id": "1fcb7d98",
   "metadata": {
    "slideshow": {
     "slide_type": "slide"
    }
   },
   "outputs": [],
   "source": []
  },
  {
   "cell_type": "code",
   "execution_count": null,
   "id": "55ac27c0",
   "metadata": {},
   "outputs": [],
   "source": []
  },
  {
   "cell_type": "code",
   "execution_count": null,
   "id": "aa3dc2df",
   "metadata": {},
   "outputs": [],
   "source": []
  }
 ],
 "metadata": {
  "celltoolbar": "Slideshow",
  "kernelspec": {
   "display_name": "Python 3 (ipykernel)",
   "language": "python",
   "name": "python3"
  },
  "language_info": {
   "codemirror_mode": {
    "name": "ipython",
    "version": 3
   },
   "file_extension": ".py",
   "mimetype": "text/x-python",
   "name": "python",
   "nbconvert_exporter": "python",
   "pygments_lexer": "ipython3",
   "version": "3.9.12"
  }
 },
 "nbformat": 4,
 "nbformat_minor": 5
}
