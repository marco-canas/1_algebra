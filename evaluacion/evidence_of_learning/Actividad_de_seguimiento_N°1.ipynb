{
  "nbformat": 4,
  "nbformat_minor": 0,
  "metadata": {
    "colab": {
      "provenance": []
    },
    "kernelspec": {
      "name": "python3",
      "display_name": "Python 3"
    },
    "language_info": {
      "name": "python"
    }
  },
  "cells": [
    {
      "cell_type": "markdown",
      "source": [
        "#**ACTIVIDAD DE REPASO**"
      ],
      "metadata": {
        "id": "kTVzs2zxRsDa"
      }
    },
    {
      "cell_type": "markdown",
      "source": [
        "A continuación encontrará ejercicios que deberán ser resueltos y entregados para el día lunes, antes de la próxima clase.\n",
        "\n",
        "Cada estudiante deberá enviar su archivo colab (notebook) con sus ejercicios resueltos al correo."
      ],
      "metadata": {
        "id": "A_eadajxSGh6"
      }
    },
    {
      "cell_type": "markdown",
      "source": [
        "**Ejercicio 1**\n",
        "Generar una matriz identidad de dimensión 5x5 (identidad quiere decir que tiene 1 en la diagonal principal y cero por encima y por debajo)\n",
        "Sugerencia. Usar la función eye de numpy.\n",
        "\n",
        "**Matrix identidad 5x5**\n",
        "![image.png](data:image/png;base64,iVBORw0KGgoAAAANSUhEUgAAARcAAAD0CAYAAACxdGJMAAAAAXNSR0IArs4c6QAAAARnQU1BAACxjwv8YQUAAAAJcEhZcwAADsMAAA7DAcdvqGQAADCMSURBVHhe7d37z11V1S/wWRDkUhQKtLTc79iWW2/QUkBuhQhFbUywRpBEiGBiYkhMkDfnPf4NRo1B4w8KIRgiPdzKvbTQlhbaUnqDtiBQWpCLWC6iInD4zPPMng0pvoLP3Guth/FNZvaz917tHnPMMb5jzDHnWnPY1jfefD8FAoHAIGOHgddAIBAYVAS5BAKBKghyCQQCVRDkEggEqiDIJRAIVMGHVov+9Kc/pfXr1w+8q4Phw3dP++yzT27Dhw8f+DQQCPQLb7/9t/Tan/+cXnrppfSXrVsHPh18fIhc5sy5Of2v//qvgXd18KWxY9OMc85JM2bMSGM/+DsQCPQXzz77XHrwwQXp1ttuS0uXLBn4dPDxIXK5/rrr0vevvCKNHj06jRw5MrcddhjcmdNhhx2Wpk2blqZOnZoOP/zwgU8DgUC/sGXLlrR8+fI0f/78tGrVqoFPBw+vvvpqzoq2Sy4cf9KkSWnChAlpp512Gvh2cLDXXnulAw44ILcRI0YMfBoIBPqFN954I73wwgsfZDDPZhIYbKxZsyYtW7Zs++Ty9a9/PZ1//vnp3HPPTZ///OcHvh0c7Ljjjvn/1D73uc8NfBoIBPqFd999N/3jH/9If//739M777wz8Ong4cEHH0xz587dPrnMnj07zZo1K82cOXPQySUQCAxt3H///WnOnDmxFB0IBOogyCUQCFRBkEsgEKiCIJdAIFAFQS6BQKAKglwCgUAVBLkEAoEqCHIJBAJVEOQSCASqIMglEAhUQZBLIBCogiCXQCBQBUEugUCgCoJcAoFAFQS5BAKBKug0uXjYzWuvvZbWrVuXnn766bR169YqD7+pDXJ7KphHDnr84GOPPZafFPb2228PXNE+vPXWW+mPf/xjWr16dVqxYkWWncweQvTee+8NXNV/+H2PWfQ0NHKtXLkyPfXUU+nPf/7zwBXNwRPgnn/++W3jTLbNmzenN998c+CKoYUdf3zNNT8Z+DutevzxdPvtt6Vjjz02felLX0pHH310q58WZ7A2bdqUH07DePbYY4+06667du4BV88991x2hCVLlmSj27BhQ9p9993TF77whdaekPDiiy+mhx9+OD/OkOzPPPNMfiSq5y6zGU8cbAJsAundd999WS669Nkuu+yS9ttvv4GrmgEiQXqe1EY2AZGudtttt7TnnnsOXNV90P8TTzzR7czl9ddfz8Zzww035MfqMfC//vWvA992B7KWe++9N/3mN79JP/3pT9Mvf/nL9Mgjj+QI3FY4hubuu+9Ov/3tb9PPf/7zLDtyFIU9RrEpIBKZ7O9+97v0i1/8Il177bXp1ltvTU8++eTAFc0BuSxcuHDbOP/qV79KixYtyg/MHorodObyl7/8JaeZDzzwQPriF7+YjjvuuHxygQym7fjb3/6Wo/+8efPSxo0b81TikEMOSccff3zWvyyAo5rm7bzzzjmTaRqmQi+//HJ66KGH8tRt2LBh6aCDDkrjx4/PtkJOjoJcZI/9zLpMLQUapCzIjBo1Ko0bNy432RQ9InEylmc49wuCBJ05E4wODz744DzOjtaRUfnM9N4YD4WzvErm0hlyef/993MzEAxJhDLHZ0iLFy/Oh6ydcMIJrScXjqdW9Morr+RagCmdOgGDc+rCSSedlHWvbxwVCTE6zVhwaK2foHdyeFI8w1mwYEEmRo7rhIgpU6bkI2M4kRoMOU1PyexomppTJKSMhAUZv63985//TGeccUaW65hjjskOLNNS6zD9IJvPyDbYR+cUGGdyyK7ZqCDCZp14cdppp+VxPvLII3OAJBt9+g650FcT4zxY6By5MCKDJeVdunRpNhTNHFZDKgy97eSCHJHG4x/oeu3atTmiiv6c4Kijjkr7779/Pn7F9A4JMU7Ow7kZn8hbyyE+DhyFg5hacF5ykVOmiFQcEyNz1BdFaGSpn1rtuhGbYAfkQjBI49BDD822UI6vkQWSjU7Jp5VTKBBNDRgvdUC1FfLRhZoPQkHK9Fd0pg++RzRefW6c2zxr+FfoXM1F9GTkUltzewc6KShyUBGhyRWKTwIGrg+PPvpoJhhTIcZ2xBFHpL333js7IuNC8AiHo1pV0Gf9pIN+g24ZDCchCycReRHLvvvum8mc7KZHsi/XCwLGp3bdqJCLQrjfIpMzt0yFEJtMRVZInzJbCwCuNUVB3LVQMj3TIWOH5AQPQbuMsyBiaqT5HhEp9spqjXvX0amCbknPGYWpkVdMz+F81wWI+oxOfQDJHHjggdkhZFylDiCqir4ayBpEAsTURD+RhbSdHJp6Bmf1KvLLpMheakbeyyIQDEKsCWOP+Ewx6adkgVZgyCFrMWV2uicSl024lnyurwXkIBORVcv4EAqSI18ZZ7J5b/x9XwicbSPNrqMz5FIM+JRTTklXXHFF+tGPfpSuvPLK9LWvfS0beVdTyEBgqKIz5KK4JaKPGTMmz/UnT56co6TpRCkcBgKB9qBT5KJJJaXi0l6vshnE0tXKeiAwVBHhPhAIVEGQS59RpncyMHUiS5GKfwp4ZcVL0dZnZcXAtZYmm8zOiswaWRWmi8zk9aovCu7e61u/ls2LXPRDBrIVuTRy0qXPS5GXfLX16bfoQFN4JpvWO85l/H1PrpKJDwUEufQZDIcBWYo0tbPnwqoFp+w1Op+V1QzXlc1VTcH+EXJonNRKndeyNE528lrpAFNWS9S1C+0IgkzqbvRDn723IJCL81pVtHLF0V1Lvpr6LCRW9vmQgX7IV8a56EzzvX643r8bCgTT+e3/7tewl8BSXhd26AIDZ0gM3E2LnIExkZsTMzT7HWyx58DGwd4NxWv/pgnD48R+m3xl9zAn9R5Z6oPNjXYcc2zLqxMnTsybxmqPB32Qxe9a5rffpSzt06UlXrcFuK/HvhwLAuVWEeNQC0hC3+21oTM6kqmwVXpDNOSyv4Ud0NXJJ5+cl9L9O/++i+jcJrqhAsZsv4Ot6QjDvTo2dNkTYt8LsrTRy34Hg8TI7DZldKJaE9mL30QWVucQhqyFQ9i/Yd+LPSNkL5vs9JHzTps2LTtSTQh+fos+rSTSH9nojlycln5ttvRqv4uVRoRts2ItIA8b+U499dS8fUJmSiY7ics4k817e558rw+nn356JkDE2HVE5tJnyADo9KPzayTDWct2cXUCG+w4TtlkVYildq1geyCzxmm8kpvMHAOhkF1ULjflcWJO4tra8tKlJiM0pZTt2ShnB7RNbLIZWRebRtS23rMR+qwlm//X/2+MezMQNyiK6sYZ4SEVJGSDn5265ZEV/n0T4zwYGBKZi0FjJHaGilpl3t1mMBiOyUntHJW9cER9cQObZ3yIaMiEM0iVpdXFEZowuCIzB0UYSFwAIpOt6rIXstvCLvqavvm7pvMW+P/9jroGYnMLglc7cUuGYLpkJ6wMArGwE/2pKZv/u8gmQxIk6IW92u1snE0tZaNuC/B9r85qytYvdJpcRAXGLhpxRIMjenUBohOjIzejk3ExevJzYoQpc3Tznc/bALJxBnKJsnZGcxbjQEZOzUnIzNn7CWRNHo6KkMlJrkKICFxG1cSUwzSRTMZZNko3pe6G9HyntTnj/jQYtvWNN7fdrHL9ddel7195RZo9e3aaNWtWmjlzZt8H4pNAsU5RTHpusNwIxsh609AuwCqGVRYFP9MhUVVWw0H0p42wwqFwSv+mQyIucjcG/taHJsAmrAyxCXKRgxMj8qaf9lZWrEznjTM90RdSaUsAGQwo6s+ZM6fb5BIIBNqHQi6xWhQIBKogyCUQCFRBkEsgEKiCIJdAIFAFQS6BQKAKglwCgUAVBLkEAoEqCHIJBAJVEOQSCASqIMglEAhUQZBLIBCogiCXQCBQBUEugUCgCoJcAoFAFQS5BAKBKghyCQQCVRDkEggEqiDIJRAIVEGQSyAQqIIgl0AgUAVBLoFAoAqCXAKBQBUEuQQCgSoIcgkEAlXQSXJxkl45hH7jxo25OXfXiXZOsusi3nvvvXx6oTOXHaLurGMHqrcVDlB35rFzounf4eNkpn99aQps4/XXX8/nRNNjOZPZSYdNw/g6W5uu6Ixs3vt8KKKT5MLpGMyqVavSQw89lNvatWuzcTvOs4vgkJyC0S1evDht2rQpH5naVnDW9evXp2XLlqVFixalRx55JB+gb2zef3/bIZ59h99/6aWX0vLly7NcDz/8cFq3bl0+3rVpOLIXsdAVm12yZEkmQeM+FLHjj6+55icDf6dVjz+ebr/9tnTsscfmA9IdOO7A9DaAwWpYHrE89thj2QkXLlyYnnjiiRxJy9nKjqBti9z/LpAi57zvvvvSzTffnEaOHJmbs4TbAgQoM5Ehygrmz5+fHcVYIEPnde+9995Z985B1vqFd999NxOLbGrNmjXpzjvvTCtWrMhyOoObXTh/e9iwYbn18yzrorMNGzZk0nvggQeyzhCLc83J5ixrMvVTZ7WAQPlkZzIXxMKAGPHq1atzB0SCAlmLDon8phZdQ8lcGGBbMxcESOcyAVmjbACpGxuOjRw5tFcO3U+UaRoboENBiFwcm22wC45NZrL2E8bxySefzHI9//zz27JrUzjvfae1Yeo2mOgMuXA+RiHVnTt3bjbe6dOnp6uvvjq3E044Ia1cuTKnm14Dgw/RF3HIrGQthx9+eLrooovSVVddlS655JJ8zU033ZSnIrLLfuK1117L5OEQdDLOmjUr/fCHP0zf+9730vHHH5/J+te//nXOavo9DUFot956aybk3XffPeuKzV5++eU5y0bIvn/hhRcG/sXQQCemRSKP4tfSpUuz4UgljzrqqDRu3Lh0zDHHpH333TeTjwjhVRRT8JVi7rrrrjndlAq3CaKXfkmPZWKPf6B7Rua9aIY49c3UqGmUjFF0JStHHjVqVJo4cWI64ogj0kEHHZSnpPRuDOhb/2QP9K/VgsxEtkIuxWU4+OCD08knn5zlGjFiRLZh8pRsSpBiDz7n3DVAF/SEUDTZtLGkL2R34IEH5qmQ62QwdEUur7vtttu2qWUX0alpESeUit91113ZeBHf2LFj0wEHHJCNWmNQJ554YjYmkeKOO+7I822DJz1uGxiUfom2CxYsyLWWRx99NK+AtQ3IRX1A1EeCyByxHHroodlhOInPjMmkSZO2ObxgoI814bcQC1K28lLsgFx77rlntgefsZnx48dnknStKUrNDIbdsUNTXHogi0xPwFD7YbNk814Q9z25ZN76UaZOXUYnyMU8X+aieCszYcQiQG+xk3Efd9xx+ZXRPPjggzkDEA3aSC5kQjD69uqrr+Ym22KUbQOdIz1krY0ePTo78H777ZejrExFBsB5kI73yEjE7q2L1QByUU+RVZm2HXLIITmjNf0ghyyXTch0ZQwc17UyYNfXAruTuZiiI2WEgozJV7IlBXCfHXnkkfl7/ZC9+ndso+voBLkwIBkLpcMee+yRjcfgFBgw0cCrSCtitjVrAUYvcon0Z5xxRjr77LPTSSedlLOxNoKzGAOtrG54lbqbYng1JiKw99J7BUpjVxtkQhTGHdmxA9OKsirEJoYPH54/57SuJZ/ra6EED4HOdIwM9EO+Mt0hm/dk8z25XE9nbbXbT4LOFHSHGhjTmDFj0nnnnZe+9a1vpUsvvTRdcMEFOcIGAkMBQS6BQKAKglwCgUAVBLkEAoEq6AS5KBzaVq6yrkhnJ6ZlPoW8AsVDKxpe1TOsXCgudnWvQJtA5wq4VjQ0K0BW4hQfLZmW4qWVGKswVpes5FlVMnY1QTYyWXpW4LfqZjOaAjQ5FG3ZhPuN2IeiqmvJ17sgMNhgd4q1+++/f15VU9SlH/KVlSCFW+/J5nurWgr6ZW9W19GJHjAEewHOPPPMrHTLe/a9GKwCm5TcROeVI5xzzjl52Y9xM8DApwed2/RlDDTEYheuVyscnNjqi70tdlB7X5ala98bZVWo7GGxili2+XNWciC/cr+R+6AQi2vJ5/paKAFx8uTJefc4u3SjJ/nKdgOy2W/jplvf64cVQ6uINYmvX+gEuWB+g3TxxRdnY5o3b17enMS4C+wKdLOaV5HM6oudxmUfRuDTozgww9eQiO3qnEUWIzvgzO7ydWuAiGwfzLnnnpvHriYs6U+dOjWdeuqp2SkFmHvuuSdvWyAHR2YT9ki5bcSGOtdyeNfXAruThZx//vnprLPOyjIgt0J8QDYbJxGy76dNm5YuvPDCvIpYO+PrBzqx/V/mQQ7THWxfMhGZi4hk45FNW66xuY7sNiZh/0Isbc9epMrSebs09alN2/9Bmk+XdGoa5NW0tGyWk0kiGrcFIBb697cxqa378hvkI5uMRSZAj3bvCkK+k61MmTIlZ2H2vOhTLdmKPPTkb+OLCGV6dGanc7mVwvTdWNvkh4xLf2rJVhuIUgDqDLkYKINT7lUxj9YJzmjXKDnt3LU787DDDsvpuH/TlUFifOpI0mR1C+Riz4t5eNMo+ueMIipnoO/yoCg7XtUNOAbnZTf+Fr1r677IRh71FAFIvYVdkKtkt+p1MgOv5C9OXwv+b43OyIbMkJ6AWMhYMBE8EAtClrEUndWUrTY6RS4FjKiQS0l5ZTIGRFTC/Oos5roGtUtgeGUXLBJ1452+qB+1BfTPKcsOWARvSkTXyFwtg5MgxH5PR/0W4is1NoVSn5HVVEjgcXuIOgv99tN56cfvyqrYrWmRz5AcnSEXAZHs/dRZLRRyGbb1jTe37TO+/rrr0vevvCLNnj0737I+c+bMHAnaBsVDaa9oWW6MY9Al3e3ifJWTWn0RaRUgGZuoVrPo+J/AfVDS+3I/FNKhf3UGztsUubMNNuFeNH8XJ7ZyJTNoEuRis2U1i57oq6xeDRV47MWcOXO6SS6BQKC9KOQSyyiBQKAKglwCgUAVBLkEAoEqCHIJBAJVEOQSCASqIMglEAhUQZBLIBCogiCXQCBQBUEugUCgCoJcAoFAFQS5BAKBKghyCQQCVRDkEggEqiDIJRAIVEGQSyAQqIIgl0AgUAVBLoFAoAqCXAKBQBUEuQQCgSoIcgkEAlUQ5BIIBKqgk+Ti/Jdysl5vK593DV3uS6/sReYm5S6/36vLIlvT2J5cbZGtBjpLLk4oLIeIaf529k8XB4rcDndzzk7pj/4xvLaDjGR1dpHXpvXv9x081qtLtuGzplF01cVx/jTo1ImLBc7bdZSoYzEd5O10N+cUO2PJQVNal+CQLH1wBKk+OSLVyXtOlmz7AW+OoHUA2cqVK7OjlDOYmzo5kMNu3rw5Pfzww1mXjvp1HjN5mj54jK6MrQPpyeZkQoGFvTqKdqigc8e5lohoMJxat2zZsvTAAw+ku+++Oxu26LTPPvuk4cOHd+JYTP0RsURU5wYvWLAg3XfffWnx4sX5PUcYMWLEtuNc23p2sLOtOctdd92VT110FrPXftsNXbINZzE74P0Pf/jDNl06dtbJlU6ELOcw91OfJWOhq6VLl37gY7dn8vOerZLNEcT9lqsWCrl0ZlrEGQ2Qw8UN0JYtW/J5xM7Z1RjzmjVrsmE5ZrTtMA3iCIsWLcp98n7//fffdm4wAkWaJStrK2QKIjKD0h9k2cTUSDZLhhUrVuRsxfG+RxxxRD5vm23IrpD3pk2bssz9hGN6BUPjbCwd4WqcDzrooHwc7tq1a/P3MqyhhE6QC1JxeDcjNkDFGQ3O9OnTcxs1alQ+P1rayZCcy2tuK2o0YewfB9FVfYIhPffcc9kZyC1DcZC+vpx00klZ5hIBTJtE36Yct6BEYM6CSHobfXNa1/QT9IFYkLGxlw1wYJn31KlT08SJE7Nt+EyGxTbIyzZq1mF6dSUQPv7BrMA4mgKVcSabKaRpnO+dE05O/67feqyBTpALQ+CAGF5mYjDM7TnhN7/5zdxOPPHETDiyFtetX78+O3AbCnm9YDgMSM1IXzRyH3nkkekrX/lK7otzuk3xkKnvkak+u65JcqFLjowUy1iUjAVpNgFOWIhF5iozMS07++yz0ze+8Y301a9+NZ1wwgl5mlz0LbN59dVX81S6Fnp1ZWrmdwVIWUsZ5wsvvDBnqwKH7+nU9Ui6KX0OJjpRc0EYCrfm0YVUjjvuuDxQpRBGTjUKgypCLFy4MM9jR44cmY2tLTUYhCcbefDBB7Mx6QdipGvyi2zm3aWYy3EQEQeW4psKinZNQBRGcmoGt912W57SGRfZgADAiSdMmJBl7JfdIIh77rknTys4paxgypQp2TYU+Omq1DXUsWQ2AhUdyxZLTWuw0aur5cuX56ku2caPH5+nbGWc6UqdkN0q8vo3ZPc5+buITtVcRHrRhjGLVIjPfJozFhgwjupVJOC8oljT0f6jMCV68cUXczTTJ4QhaxHBijFxCP3TwHUim0jYZLrst+kTQSJw6b4MQERuSi4RXtYiuyMHfXJgQUdA4cRs4qijjsrOjaRdK0NwfS0UPambCSJkQDDkK+NcCuDG3/eIzzTZv5Phdh2dIBeGS9miIxgURtObjXBIn3t1fZlTt4lYgDzkYnz6pB+aSN+7UlA+B9e1gSRlU6NHj85TjksvvTRddtll6fzzz8+k3mSUpR+NfuiMHfTqkk2Uz5FR7/W14P/2WzIrY1dk0LY3zr4nk+ubDCCDiU6QS0ExBqSi9Q6Sv3s/a9oR/ycU+XrlLrKXzzRwbRv6wzlNI6x0KJYqSppCy7o4SFPo1c9H9VnaR/XZLxTZPioPlL+LvL39GAroFLkEmoXsSi1ATUCNCMkcfPDBubYl8gYCvQhyCQQCVRDkEggEqqAT5GJOKiUv99kokGm9ewEUSRXDvJq/urZfy6GfBGQrxT3yKeLpC7lLIc+8u/QRXPvRImXg/6MURemntyhaahilgO5ztlR0X1uffsu4fbSQ3DvOZfx9Ty6F8VIb6jo6sc/FAFC4/QAGypZpA2Iw7HsBe0GWLFmS98S41nJk2e/g37RlwBgRo6ZXqy/2Q1ie9lnZ26C/9m3Y92AZXh8so44bN27bEmtbQN+Wym1aZDP93ufCQa0MCib0YrneVgTbFIw7Xdr5akmYffhMrcgKl3uN2FQNIBBjKpCwUXtw2CyiUxQnh3E3xhr7tSeL/si255575mu6iLLPpRPkYoA4FeVzNsZioHzOoHxm74I9ApzXcumpp56a9xQY2H5EqX8X5OAI+uPVBrQSafXH3/aOuH9KPxmi8dDshSgRui1omlzoAklrbMIeIsGH3ujSbQnkY+x0jaDp8vDDD88OTJ81QC6BwsY9Y13uaUIoxp1sdmAjPXtuyE53NlTut99++Rr20EV0ahOd3ZXuI5o8eXIaM2ZMjkY2cemA3Y8a47ZByoCWa5EM9m+TMzIaJIm4x44dmx0ROTJ895foi0cvMEb91AeR1iYw17Ypa2kDOKAVq3IjILANtwLQI+cttkF3SIXuLZ/TZy2wOwSHcJGZv5ELMi7jTDbvZVu+R3yav2uRXj/Rqee5MCREQ/mmE3Y+euyCgZIemzrYgs4RXddmMHREgzzILi2WrbgVX784jBvbRDL3GTW5Se1fAQlyENEKWZK3n5lLAduQpZrmyALs0KZPAQhJ2wU7Y8aMvOuZ/fRTPr9lDMGtB3aaG2ekJ9DwN/uGBE420XV0KnMBzmiQTHWQCOczELZwa1LPQogGqe0QmaTMhQzVCEzp9EXqrB4gitke3maiJJuakBqXbEDEbiK7QmjkoDNEIltVizH9QDgyFveklSlHP+H3yWWc3aGt7mKcezPTkrEMJQzb+sab27YEXn/dden7V16RZs+ene/MnTlzZisjJqMRAdzUZ04N6hEcUvTqGvube6sVSN05gyjsPhRRre0ZGP2T21hwXA6OOJuqF7ANMpWbKcmhtsKJmw465KIn0zbjTE/0ZZybfkreYOL+++9Pc+bM6Sa5iPAGR/qL/UHERCqym6YM+9NCP0p/yjKlSEz3/Z5efFKUMSA/eY2BzKWpOhfbIE95bAE5OHGRrUnQVRnrsppEJrINhRpLQSGXTlYHkQfnE5FkLJqU0iB1jVgAMcpQbKMv/THNazuxANnJalrnlf6bLKD7fQ5LHnpU62AbTRML0JUpUhnn8ljWoUQsvYilh0AgUAVBLoFAoAqCXAKBQBUEuQQCgSoIcgkEAlUQ5BIIBKogyCUQCFRBkEsgEKiCIJdAIFAFQS6BQKAKglwCgUAVBLkEAoEqCHIJBAJVEOQSCASqIMglEAhUQSfJxQN3PL1t48aN+SHMmiePedB1eXhUl+B5wJ4AXx4q7QHOnkznSWpthYdKe3au5/160DTZydz7wKumwR7oVXvttdcGPm0OHm25efPmbePsSJEtW7bkz4ciOkkunjLmuIiHHnooP/FK88Bjj770/NmuwaMPHYty11135b7cdttt+eHNzt9pKzjro48+mu655550yy23ZNk9lJn+20IuHidZTodwTEvT8DhQxHLnnXfmcZ47d24m5/Ko1qGGzpCLJ+R7bKEBKufQfLQ5u4gRObem7dAX0V9U3bBhw3b7IxvT37YQpgdLI3Y6Rn7bk1lfkGUbsq5ecnFKQVPwWEsZysfZrQzc923OVD8NOkMuoqEpz7p169LixYuzsXhsoKMiNDCdkKI7pqPtKFM7R2CIXpzWg5r1xfk7jI1T+K4tZInkyEz/Ti/UB49qdEIB2U2L5s2bl8eoDdG4d1rUpA7J4ZgTWYsD75wAYJw9MJw+2a3vh1oG0ylyEQGc+SKdNE+dPn16uvrqq3NzRAdiMVXy2naIUoz+xhtvzM7oKfCXXHJJ7ssPfvCDnCXoiyYTaANKpnXzzTen+fPn5+M6LrroonTVVVdl2eGmm27KU1RZQ+D/QfZp6rh69er87OfvfOc7eZwvv/zy/GxfQcT3AspQQicOReNc0kcHoGF+x0Q4u6icUSSDQTymTuQVYaXuHtbchodG9wIpyroYFGMjL10798eZTOXALo5MbtmBf6P5zsOc+30uEKKTuou8oixdknnSpEmZFD0ovchKdjIiTxGbMxmD2lAUN40UfBYuXJhrWF7J7ahXtsKu+wWZKFKR4RlrOnRcTDm/yFjSGbstPqbGJsOiLzosn3cNnToUzSCprN966605g3G4FXKRXhYwcpmMV8VG0dX8H9EgnbYAaVD+I488kh21nFIoTeaIwKj0TwPXcRoOpFbTb9B5OW5WMw368pe/nMnQqQXIjuwOUD/77LPze9mYrMvY9QOcGWnLmhSXNSsyph1NrCCyOwsMCxYsyDIJggJIOcIXnFaBbIy/78lrWklmpNN1dIJcOKQlPIbN0Bk3EnEAWoHoyUG9ut5AyXhE0zaRC3lkXwhGn2RhDnNz1IQMDEQ0/dNAFlYO+WqiL3TO4MmrqbPIBByRwUFkMmQnr9MDkYv6iwKmsegH6EyG4kgR9R9NdkCuJrJW4ywYKHwba4eeOZHSeJejRLwiFePve+RYVgllOl1HJ8iFcVN2WTVhMBqDKhDtGbpXDujaNg4Q2crBXeRjYPpC7jLdKc6qgWubJskis9arazKT16u+qCF4r29kNnb9gKmEI35lrxdccEFupm1OgSzO3G/oOx1obJUcWu84l/H3Pd3KWPqls9roBLkEAv8TTDWssjnQ/bzzzsttwoQJOYMpJB3oL4JcAoFAFQS5BAKBKugEuZQ5vTk+mP9rvXPTUpcpn/XWMNqG0h+tty+lplLqMhq4rre+1AR6Ze7VNVlLI6/P/V1k9u8+q9B3OtDoqowp/UDRmeb7oaazTpCL+bTCnGU8ireR66M3fNlTYWdu2Vth2c+qRlPFvI+D+b8VDfUBKwdWtKzAWLJV+AOGpn9lU5XrFCtLsbTf8JtWhsih2UlqJchr2V9EdhvnLP97r9Zhqbosu37WwO4cMm9vi7Fml1bQLE8r3AIi9t74+95qko2JZW9W19GJTXQGgYFboeB4NhoxYM5mOdpniGXZsmXZWV2HiBCMvTAcui3RQJQC8jAgDuozxlg2T3FYG68sS1r1Ypz6w/Ast4pw/QbyILPGESyzch66JbMlZ5sCjYH+WGJlQ2S2F6YJlHt3gBz93ETHJou+2CmdsWOwXYLO7M2xMdE4I5myF8YmOzpzTRfRqU10CGLy5Mnp4osvzgNl56WdjwjFAGki5r333pv3hMhyLr300mxMIqcBbgsYDdI+44wz8soG49IXmwRlL/rCEG284qgMbNq0aemcc87JeyGaiGh+E1GcfPLJWRZ6d2evjXLI3L6Mshv1jjvuyPqeOHFimjFjxoc2On6WwO7s+zn//PPzxkJZqF3DxtQ+J+Nc7ix3X5HvLaNfeOGFmWTYedfRicylzEVFSRmLV1EAkdjpanCk5KYbZRekaYR/U6JHW0AW/dEQhyzLK+fkrPoiaxH9pdSWU72Kdk31xW/SJZnJqzF+TiJCcRgkaUxEXcQiUzAeTWRZBU1mLmWcS+2vjLfA4WZU4+weOFkqMnFvnN26pp+ubWKcBwudylygDI4t5qeffnrOTsxh3W+kmSrZLs+wGXjbwUH1QUaCDKXRjE1fZC2MTLbG6DhpG2BKRuaSdXEMjlJuFkWA5557bh4j9a6mIXsgh9aP+5s+DvRy2mmnZfKgwzLOshZysVvf26U9lNCJzKUAm5dIzxkRjsFSZOSg5PZ3ud+lzdAXuuUA+lIyMkQinUaSbmfgGCUDaxpkIEup+yAX8pcCNVJhN+pgbahzmXqQl03I/mQITaDYqTEuOhE8is6Ms2Iue2jDOP+nKJnLsK1vvLltT/n1112Xvn/lFWn27Nlp1qxZaebMmdmZ2wZFTtMIrTynw2AxHkXGNsr8r6Coq3ZhDs5hOQTDazri/iso6JqWeiUzMimrSci/DeRebATUq5qu/7BVU0nFWwVyeqIvtus+qKGC+++/Pz9pr5PkEggE2otCLp2puQQCgW4hyCUQCFRBkEsgEKiCIJdAIFAFQS6BQKAKglwCgUAVBLkEAoEqCHIJBAJVEOQSCASqIMglEAhUQZBLIBCogiCXQCBQBUEugUCgCoJcAoFAFQS5BAKBKghyCQQCVRDkEggEqiDIJRAIVEGQSyAQqIIgl0AgUAVBLoFAoAqCXAKBQBUEuQQCgSoIcgkEAlXQCXJxKLsT6hzPqb399tv5vc+7Bke3OrDdqZGlP/72me/aDMeR0rkTFntlf+edd/J3TYLuyNGrV3LSa9OyFRQ7Ljorx/gOVXTixMUtW7ak9evXp2XLluVBcfTlkUcemQ+cd+xpl7B169Z8DOqqVavSM888kz879NBD8xnLhxxySD5nua14880389GzDlB3HrCxOPDAA/NZx848dh5yU3AULpno9YUXXsifsRFyOXu7SdkKnnvuuSyjVnTmrO02ncc+GOjEiYsyFOfqGgzk4nDr0rz3+YsvvpgjVNujPiCWzZs3p40bN6Ynn3xyW1/8vWHDhm1nL7cNdEsuTkvO7cmOKBFPvzMwv+X8ZY67PdmeeuqpLPcbb7wx8C+aAznJ9NBDD2X7lcF0Mfv+d9FqcmHQDIahcLwyEMhENlO+E1G7QC6IkswMqxygD/5++umns+Ehy7ZB6u6gfI4qM+AkZSwQ5rPPPptWrFiRHdzY9DPVJ4ffX7t2bdZhL4kgu6Lvl19+eeDT5sCeybpy5cqsK1OkoTwtah25UDaDYaQIBcsjEOnjt7/97XTZZZelCy64IO255545c5k/f36OTObY/l2bBossSM/0gXzr1q3LhsXQTzjhhNwXTXrM8JYvX56vcW2ZkzcFsmsykbfeeiuPwWOPPZbWrFmTjj766DwW3/3ud9PkyZOznPfee2+Wn0PXjshFr5yT3kyX/TY5p0+fvk2vxxxzTM4UTeMQjEy4X5kVGYsdlxpQb63ls4DWkYsBYSQl4ojkO+64Y57bT506NRvPpEmTcn1ip512yhFVNDXVkAEwuLaAgTEu5Mf4RVZ9Q4xjx47NfdH8vddee2UDlB1wFpkZZ2gSxgIRIhREzpF33333TC5lLMaPH59GjRqV+ykar169Oju0ftYCvdKV4ENXmzZtyk67zz77ZKIuekUu5C2ZYcm6+mEj5JFFsWMyLl26NAcOtuC7zwJ2/PE11/xk4O+06vHH0+2335aOPfbYXGBkRP0uNnEoRnr99dfngVH4Yignnnhidsoddtghy7T33nvn93DnnXfmKceIESPSHnvskbOcNkCU5Jyyq5/97GdZLv04/fTT08EHH7ytyOhzDrrzzjtn57zppptyYVcfkU4TKJnBwoUL81h4r4AuazzssMPS8OHD07Bhw7bJrrDO2efNm5fHSNF93333HfjfBhfkQmD33HNPuvbaa7M8p5xySjr55JPT/vvvv20RArEgHLILPrIrstIp+WsCoZkC3XjjjemGG25Id999d1q8eHGWAxHLXCdMmJD1N9QKugKRTLd1mQtDQDCMR4rNAUeOHJkdjdGCjIWB+AyZiAYyHNGyZjr+SSHCcgTRElEyKk633377ZcMv8DdH1Ceps2v9G9c3CWOhpoLsyUVOGSSdl7EwPsbBigwgGLK7vhbo1f//yiuv5EwPydEfO9lll10GrkqZQHxGXjal6Cz76kfmgDAQB33JoGSnAgpdDTUy+Ti0suYi4jMCBiGaMxIDxYjANMl7xi5KKehKQTkyh2gTCllyOP1i/IxdvwpKHzkqw+c00v6mibI4MYIhOzlli3RuLDSfGQekCWXcXF8TZfpMr+QgAx0KPAXk9JlXerVcjbD7YSNFV+PGjcuZt2xVtoJsSmY11NE6cgkEhgIQiEz0+OOPT2eeeWaaMWNGLn6rFQa5BAKBTw3TRtlLqT1pMhkZt8z7s4Agl0AgUAVBLoFAoApaRy7SSYVNqw8q64p2VoIUOUshrqzAWOZVQBw9enQaM2ZMLt61rRKvwKgflvUVcy1R2sOiCF3gb0vpZXXM6oIl1Kbn5sZCKm+Vg+zkLCsuxkLB1/gYBytKoGCpv72rNoMNBVy6sRJkeZws9juxE8XkAnL6zKvpiCVr05TPympN02gduRh4BmA/CKNW4beZztp5WT2xgsGYLUNyShu5NA5pntsWcE5G7cZERT2rRIjFVnXkWIA49VGfOLNry16SpsCB1QbsG5kyZUred0NOu105chkL42McbBIE46a/ZfWoBuiVPG5MtAqDXCzfu33CylYB0vMZeRVX7YURiBB4oD5at4muLG/aEOe3y36XskdEpOSgNpvZpGTJltGoynOEthXM9AFJ2GQmqjJ4Tiryymo4AwewC1Y/EepZZ52VyQXR9C6t9hucWAaiGInQyWenq2Vf/ZLJIBY7T8kvezQWnL4m0bOREoT8Jp3KUMhTMiZ6ReLkoneEd9ppp+XMqqkMl73SlybjGuqb6FpHLgyaUUqtkYSU1h4WxsKADAwDl7G4lnHZR8B5GX2biKU4gYyFnIhQPzip6ZFt63ZsMjqOIbravm6nqcjcJLGQnX7pFFEgd8QuC/CK9I0F2fXFmJHdcqvra2YHJQAhF1Mj2RM7KbolE72WzX+yFZlt084c5NIwufRCdJeNMCZz/d///vdp0aJF2WgYsMGRFousjM11bQaS4axIxlbwW265JS1ZsiR/p84ybdq0rPO2pe30SnZNZvDwww+nuXPn5rFAOojdbQF2oXJ4BN+vsfA75bYPxPLAAw/k20HolU24Dw1Z219Ssw707yDIpUXkInIiGIXDYqwKvdJuMnJI713j2raTC6cjpwbSc9MgfRFZy1SoTdlXAZk0Dmv3LaegeztQNfZCdvZiHPpJLn6zEBrdliK0qTLdllsWmtZrKTaThWzsGOG1cbz/ExRy6cST6KS97h8qRV2RXarrHh0ZTJcgaxFhTYnUCkDmJUPz2uZioymG6ZtpKdmNhelruXER8TSF3lUr0zRgH+SS2TQpW4FaGxm1Xp0NNXIpT6LrBLmIlJafGTeITuoRBqbJusSnAYfUH9OJcv9Nb19KVtNGWJUhv3EoN//JGshdssemQC4y0au/ochFxjbolXylGW+y9TPL6xc68ZjLAsYhDReBNGmv2kXXiAVEKUalYFv6I01u2jn/HRRSJ2+RXT9kW03LTq+mGGo+vXrlxG3RK92xYzIWnQ01YulFJ8glEAh0D0EugUCgCoJcAoFAFQS5BAKBKghyCQQCVRDkEggEqiDIJRAIVEGQSyAQqIIgl0AgUAVBLoFAoAqCXAKBQBUEuQQCgSoIcgkEAlUQ5BIIBKogyCUQCFRBkEsgEKiC7ZKLJ455Slrvk7MGs3lSmOfiBgKB/oPvlScibs8//9Pm/8Uh2yUXP+xxgZ73OtitPCLRjwcCgf6jJA98cXs++p+24uPbfYauJ7k7+uCII47Ij5gcTHiwtqfFO4bCWT6BQKC/cNqnEypXrlyZH3o/2HCEihNEP0Qut97yf9L//u//zkdeaJ5TO9jP+HR8hvN5pk6dmg4//PCBTwOBQL/gxFLH786fPz+tWrVq4NPBg+zFaQwfIpfVH/zQnXPvyA8OLg8PHmxycaSC85BkRo5+CAQC/YWjehwP46hbR7EMNky7tA+Ry18++NEtm58feFcH5Sn+ji6VGQUCgf5CTcTRt85RclRyLXyIXHb63OfSrrs0f05RIBDoPoa9H2vCgUCgAmITXSAQqICU/i8um1HWVcXjxQAAAABJRU5ErkJggg==)"
      ],
      "metadata": {
        "id": "3IXmuoHjS2Vr"
      }
    },
    {
      "cell_type": "code",
      "source": [
        "# Escribe tú código aquí"
      ],
      "metadata": {
        "id": "ead0cibnSATc"
      },
      "execution_count": null,
      "outputs": []
    },
    {
      "cell_type": "markdown",
      "source": [
        "**Ejercicio 2**: Generar una matriz de números enteros o flotantes de 4x4 y sacar el promedio a la última columna de una matriz"
      ],
      "metadata": {
        "id": "SxWWl8mHVltr"
      }
    },
    {
      "cell_type": "code",
      "source": [
        "# Escribe tú código aquí"
      ],
      "metadata": {
        "id": "-qJcz_ADVpJw"
      },
      "execution_count": null,
      "outputs": []
    },
    {
      "cell_type": "markdown",
      "source": [
        "**Ejercicio 3**\n",
        "Escribir un programa que almacene las asignaturas de un curso (por ejemplo Matemáticas, Física, Química, Historia y Lengua) en una lista, \n",
        "pregunte al usuario la nota que ha sacado en cada asignatura, y después las muestre por pantalla con el mensaje En \"asignatura\" has \"sacado nota\"."
      ],
      "metadata": {
        "id": "S5-DWmegVz-I"
      }
    },
    {
      "cell_type": "code",
      "source": [
        "# Terminar el siguiente código, de tal manera que muestre \n",
        "\n",
        "asignaturas = [\"Inglés \", \"Matemáticas \", \"Artistica \",\"Sociales \",\"Filosofia \"]\n",
        "notas=[]\n",
        "\n",
        "for i in asignaturas:\n",
        "  nota = float(input(\"Ingrese la nota : \"+\" \"+i))\n",
        "  notas.append(nota)\n",
        "\n",
        "\n",
        "print(asignaturas)"
      ],
      "metadata": {
        "colab": {
          "base_uri": "https://localhost:8080/"
        },
        "id": "-5Ee5vY_WMTa",
        "outputId": "73fd0d84-d501-43b6-8aa8-81b54b5a9805"
      },
      "execution_count": null,
      "outputs": [
        {
          "output_type": "stream",
          "name": "stdout",
          "text": [
            "Ingrese la nota :  Inglés 4\n",
            "Ingrese la nota :  Matemáticas 5\n",
            "Ingrese la nota :  Artistica 5\n",
            "Ingrese la nota :  Sociales 5\n",
            "Ingrese la nota :  Filosofia 5\n",
            "['Inglés ', 'Matemáticas ', 'Artistica ', 'Sociales ', 'Filosofia '] 5.0\n"
          ]
        }
      ]
    },
    {
      "cell_type": "markdown",
      "source": [
        "**Ejercicio 4**\n",
        "A continuación encontrará 2 listas, con las cuales usted deberá asignar de forma aleatoria a 9 personas lideres de equipos el tema de investigación para su equipo en su proyecto final.\n",
        "\n",
        "Para ello deberá crear un ciclo for que iteré sobre el rango o longitud de la lista y elija de forma aleatoria de la lista de nombres un nombre y luego lo elimine de la lista para que no se repita, lo mismo con los temas. Además, que muestre por pantalla el siguiente mensaje cada vez que haga una iteración o elección. \"El equipo i, cuyo líder es -nombre- le corresponde el tema de -temas-\"."
      ],
      "metadata": {
        "id": "g37fAsNFhG6T"
      }
    },
    {
      "cell_type": "code",
      "source": [
        "#Listas\n",
        "paises = ['Andrés', 'Laura', 'Camila', 'Chirly', 'Eduardo', 'Esteban', 'Guillermo', 'María', 'Raúl']\n",
        "temas = ['Crimenes', 'Transito', 'Covid', 'Tecnología', 'Exportaciones', 'Inversiones', 'Educación', 'Programación','Politica']"
      ],
      "metadata": {
        "id": "ZICjf284hIeP"
      },
      "execution_count": null,
      "outputs": []
    }
  ]
}