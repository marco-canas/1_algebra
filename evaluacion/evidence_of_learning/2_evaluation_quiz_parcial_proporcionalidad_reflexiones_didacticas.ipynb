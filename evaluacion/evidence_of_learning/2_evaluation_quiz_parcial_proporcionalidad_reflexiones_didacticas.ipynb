{
 "cells": [
  {
   "attachments": {},
   "cell_type": "markdown",
   "id": "dc06dec7",
   "metadata": {
    "slideshow": {
     "slide_type": "slide"
    }
   },
   "source": [
    "<table align=\"left\">\n",
    "  <td>\n",
    "    <a href=\"https://colab.research.google.com/github/marco-canas/4_didactica_aritmetica/blob/main/modelo_general_clase_aula_invertida.ipynb\" target=\"_parent\"><img src=\"https://colab.research.google.com/assets/colab-badge.svg\" alt=\"Open In Colab\"/></a>\n",
    "  </td>\n",
    "</table>"
   ]
  },
  {
   "attachments": {},
   "cell_type": "markdown",
   "id": "e0c5b198",
   "metadata": {
    "slideshow": {
     "slide_type": "slide"
    }
   },
   "source": [
    "### [Video de apoyo a la lectura interactiva y experimental de este cuaderno]()"
   ]
  },
  {
   "attachments": {},
   "cell_type": "markdown",
   "id": "41e82203",
   "metadata": {
    "slideshow": {
     "slide_type": "slide"
    }
   },
   "source": [
    "## [Vínculo al programa del curso:  ]()"
   ]
  },
  {
   "attachments": {},
   "cell_type": "markdown",
   "id": "ca46c23b",
   "metadata": {
    "slideshow": {
     "slide_type": "slide"
    }
   },
   "source": [
    "# Modelo general de clase: [aula invertida](https://www3.gobiernodecanarias.org/medusa/ecoescuela/pedagotic/aprendizaje-invertido-flipped-classroom/)\n",
    "\n",
    "## Definición y características de este modelo"
   ]
  },
  {
   "attachments": {},
   "cell_type": "markdown",
   "id": "d2b0e776",
   "metadata": {
    "slideshow": {
     "slide_type": "slide"
    }
   },
   "source": [
    "## ¿Qué es?  \n",
    "\n",
    "Flipped Learning o aprendizaje invertido es un enfoque pedagógico en el que:  \n",
    "\n",
    "* la instrucción directa se realiza fuera del aula y \n",
    "* se utiliza el tiempo de clase para llevar a cabo actividades que impliquen el desarrollo de procesos cognitivos de mayor complejidad, en las que son necesarias la ayuda y la experiencia del docente."
   ]
  },
  {
   "attachments": {},
   "cell_type": "markdown",
   "id": "5fc4f731",
   "metadata": {
    "slideshow": {
     "slide_type": "slide"
    }
   },
   "source": [
    "## ¿Para qué sirve?  \n",
    "\n",
    "Mejora el proceso de enseñanza-aprendizaje realizando,   \n",
    "\n",
    "* fuera del aula, actividades de aprendizaje sencillas (observar, memorizar, resumir, etc.) y, \n",
    "* en el aula, actividades más complejas (razonar, examinar, priorizar, argumentar, proponer, etc.) que requieren la interacción entre iguales y la ayuda del docente como facilitador."
   ]
  },
  {
   "attachments": {},
   "cell_type": "markdown",
   "id": "b42472d6",
   "metadata": {
    "slideshow": {
     "slide_type": "slide"
    }
   },
   "source": [
    "<img src = 'https://github.com/marco-canas/7_didactica_ciencia_datos/blob/main/propuesta/unidad_didac/atributos_aprendizaje_invertido.png?raw=true'>"
   ]
  },
  {
   "attachments": {},
   "cell_type": "markdown",
   "id": "8cee33b3",
   "metadata": {
    "slideshow": {
     "slide_type": "slide"
    }
   },
   "source": [
    "# Proceso Flipped Learning"
   ]
  },
  {
   "attachments": {},
   "cell_type": "markdown",
   "id": "9c61b8b5",
   "metadata": {
    "slideshow": {
     "slide_type": "slide"
    }
   },
   "source": [
    "## Fuera del Aula"
   ]
  },
  {
   "attachments": {},
   "cell_type": "markdown",
   "id": "fe20721d",
   "metadata": {
    "slideshow": {
     "slide_type": "slide"
    }
   },
   "source": [
    "### Docente:"
   ]
  },
  {
   "attachments": {},
   "cell_type": "markdown",
   "id": "5b022dc9",
   "metadata": {
    "slideshow": {
     "slide_type": "slide"
    }
   },
   "source": [
    "* Diseña y planea el proceso de enseñanza-aprendizaje del aula, integrando estrategias, modelos de enseñanza y metodologías (aprendizaje basado en proyectos, aprendizaje cooperativo y colaborativo,…).  \n",
    "\n",
    "* Diseña y planea actividades que se realizarán fuera del aula (ver vídeos, cumplimentar cuestionarios,…).  \n",
    "\n",
    "* Selecciona e integra la tecnología en actividades de aprendizaje activo.  \n",
    "\n",
    "* Diseña actividades de evaluación que promuevan el aprendizaje del alumnado."
   ]
  },
  {
   "attachments": {},
   "cell_type": "markdown",
   "id": "467fb978",
   "metadata": {
    "slideshow": {
     "slide_type": "slide"
    }
   },
   "source": [
    "### Alumnado:"
   ]
  },
  {
   "attachments": {},
   "cell_type": "markdown",
   "id": "87d6d661",
   "metadata": {
    "slideshow": {
     "slide_type": "slide"
    }
   },
   "source": [
    "* Accede, cuantas veces necesite, a las actividades facilitadas por el profesorado.\n",
    "* Realiza las actividades propuestas."
   ]
  },
  {
   "attachments": {},
   "cell_type": "markdown",
   "id": "93cd48b6",
   "metadata": {
    "slideshow": {
     "slide_type": "slide"
    }
   },
   "source": [
    "## En el Aula"
   ]
  },
  {
   "attachments": {},
   "cell_type": "markdown",
   "id": "79ea8675",
   "metadata": {
    "slideshow": {
     "slide_type": "slide"
    }
   },
   "source": [
    "### Docente:"
   ]
  },
  {
   "attachments": {},
   "cell_type": "markdown",
   "id": "d4d6f829",
   "metadata": {
    "slideshow": {
     "slide_type": "slide"
    }
   },
   "source": [
    "* Guía y facilita los procesos de aprendizaje, atendiendo a la diversidad.\n",
    "* Retroalimenta el desempeño de los equipos/grupos y del alumnado individualmente.\n",
    "* Genera espacios para la coevaluación y autoevaluación."
   ]
  },
  {
   "attachments": {},
   "cell_type": "markdown",
   "id": "7178794c",
   "metadata": {
    "slideshow": {
     "slide_type": "slide"
    }
   },
   "source": [
    "### Alumnado:"
   ]
  },
  {
   "attachments": {},
   "cell_type": "markdown",
   "id": "88d1c0f7",
   "metadata": {
    "slideshow": {
     "slide_type": "slide"
    }
   },
   "source": [
    "* Realiza las actividades (debates, exposiciones orales, informes, diario de aprendizaje, cuaderno de trabajo cooperativo,…).\n",
    "* Recibe retroalimentación inmediata del profesorado y de sus compañeros y compañeras.\n",
    "* Accede, si fuera necesario, a las actividades previas facilitadas por el profesorado."
   ]
  },
  {
   "attachments": {},
   "cell_type": "markdown",
   "id": "79c35435",
   "metadata": {
    "slideshow": {
     "slide_type": "slide"
    }
   },
   "source": [
    "# Fomento de la lectura literaria asociada a Ingeniería agropecuaria y licenciatura en Matemáticas\n"
   ]
  },
  {
   "attachments": {},
   "cell_type": "markdown",
   "id": "e91b9436",
   "metadata": {},
   "source": [
    "\n",
    "Otros aplican la CNV para crear relaciones más efectivas en su lugar de trabajo. "
   ]
  },
  {
   "attachments": {},
   "cell_type": "markdown",
   "id": "04e16bc6",
   "metadata": {},
   "source": [
    "Escribe una maestra:\n",
    "Hace un año aproximadamente que uso la CNV en mis clases de educación especial, y puedo decir que es un método que resulta efectivo incluso con niños que presentan retrasos de lenguaje y problemas de aprendizaje y trastornos de conducta. Hay en mi clase un alumno que escupe, insulta, grita y pincha a sus compañeros con el\n",
    "lápiz cuando se acercan a su mesa. Le sugiero: «Por favor, díselo de otra manera. Usa el lenguaje de la jirafa». (En algunos talleres se utilizan títeres de jirafas como un recurso pedagógico en las demostraciones prácticas de la CNV.) El niño se pone de pie inmediatamente y, muy erguido, mirando al compañero hacia el que va dirigida su rabia, le dice con toda calma: «¿Me haces el favor de apartarte de mi mesa? Siento enojo cuando te paras tan cerca de mí». "
   ]
  },
  {
   "attachments": {},
   "cell_type": "markdown",
   "id": "8201a3d8",
   "metadata": {},
   "source": [
    "Los demás\n",
    "compañeros suelen responder diciéndole algo así: «¡Lo siento! Había\n",
    "olvidado que esto te molesta».\n",
    "Estuve reflexionando sobre mi frustración con respecto a este niño\n",
    "y procuré descubrir qué era lo que yo necesitaba de él (además de\n",
    "armonía y orden). Me di cuenta de que invertía mucho tiempo en la\n",
    "planificación de las clases y que mi necesidad de actuar con creati\u0002vidad y participar más activamente se veía frustrada a causa de las\n",
    "obligaciones que me imponía su conducta. Por otra parte, me di\n",
    "cuenta también de que esto me obligaba a desatender las necesida\u0002des de los demás alumnos. Entonces, cada vez que veía que el niño\n",
    "comenzaba a actuar como tenía por costumbre, le decía: «Necesito\n",
    "que me prestes atención». Tengo que recordárselo como cien veces al\n",
    "día, pero al final acaba por captar el mensaje y suele participar en\n",
    "las actividades de la clase.\n",
    "Maestra de Chicago, Illinois\n",
    "Un médico escribe lo siguiente:\n",
    "Cada vez aplico más la CNV en la práctica de la medicina. Algunos\n",
    "de mis pacientes incluso me preguntan si soy psicólogo ya que no\n",
    "están acostumbrados a que los médicos se interesen por su vida ni\n",
    "por sus maneras de enfrentar las enfermedades que padecen. La\n",
    "CNV me ayudó a entender las necesidades de mis pacientes y a sa\u0002ber qué necesitan escuchar en un determinado momento. Esto me\n",
    "resulta particularmente útil en mi relación con quienes sufren hemo\u0002filia y sida, porque estas personas llevan tanta rabia y tanto dolor\n",
    "acumulados dentro suyo que eso acaba por afectar seriamente la re\u0002lación entre el paciente y el profesional de la salud. Hace poco, una\n",
    "mujer con sida, a la que trataba desde hacía cinco años, me dijo que\n",
    "lo que más la había ayudado en nuestra relación eran mis intentos\n",
    "24\n",
    "Marshall B. Rosenberg\n",
    "Comunicacion No Violenta 3ra 1/17/11 1:23 PM Page 24\n",
    "por encontrar maneras de que disfrutara de su vida cotidiana. En es\u0002te aspecto la CNV me resulta muy útil. Antes, cuando me enteraba\n",
    "de que uno de mis pacientes sufría una enfermedad mortal, solía de\u0002jarme arrastrar por el pronóstico y me era muy difícil darle ánimo y\n",
    "alentarlo para que siguiera adelante con su vida. Gracias a la CNV\n",
    "adquirí una nueva conciencia y un nuevo lenguaje. Me sorprende ver\n",
    "lo bien que se integra a mi práctica médica. Ahora que estoy cada\n",
    "vez más comprometido con la práctica de la CNV, disfruto más mi\n",
    "trabajo y me siento más lleno de energía en él.\n",
    "Un médico de París\n",
    "Otros utilizan este proceso en el campo político. Una ministra francesa, cuan\u0002do visitaba a una hermana suya, observó un gran cambio en la manera de comu\u0002nicarse y responderse mutuamente entre su hermana y su marido. Animada por\n",
    "las descripciones que le hicieron de la CNV, les dijo que la semana siguiente debía\n",
    "negociar ciertas delicadas cuestiones entre Francia y Argelia con respecto a los\n",
    "procedimientos para la adopción. Pese a que disponíamos de poco tiempo, envia\u0002mos a París a una persona de habla francesa, experta en CNV, para trabajar con la\n",
    "ministra. Más tarde ella misma atribuiría gran parte del éxito de las negociaciones\n",
    "que llevó a cabo en Argelia a las técnicas de comunicación recién adquiridas.\n",
    "En Jerusalén, durante un taller al que asistieron israelíes de diferentes orien\u0002taciones políticas, los participantes se sirvieron de la CNV para expresar sus opi\u0002niones con respecto a la conflictiva cuestión de Cisjordania. Muchos de los israe\u0002líes establecidos en Cisjordania consideran que al proceder así no hacen sino aca\u0002tar un mandato religioso, debido a lo cual están en conflicto no sólo con los pa\u0002lestinos, sino también con otros israelíes que reconocen la esperanza de soberanía\n",
    "nacional de los palestinos en esta región. En una sesión, uno de mis instructores y\n",
    "yo ejemplificamos la escucha empática según los métodos de la CNV, e invitamos\n",
    "a los participantes a establecer turnos para dramatizar los diferentes papeles y po\u0002nerse en el lugar del otro. A los veinte minutos, una de las residentes de la zona\n",
    "expresó que estaría dispuesta a renunciar a sus reclamos sobre el territorio y a\n",
    "abandonar Cisjordania para mudarse a la zona reconocida internacionalmente co\u0002mo perteneciente a los israelíes, si sus adversarios políticos pudieran escucharla de\n",
    "la misma manera en que acababan de hacerlo allí.\n",
    "La CNV se utiliza ahora en todo el mundo como un recurso valioso en aquellas\n",
    "comunidades que se enfrentan a conflictos violentos y a graves tensiones étnicas,\n",
    "religiosas o políticas. Me resulta particularmente satisfactorio comprobar la utili\u0002dad de la difusión de la CNV y de su aplicación a la mediación para resolver con\u0002flictos en Israel, Palestina, Nigeria, Ruanda, Sierra Leona y otros lugares. Una vez,\n",
    "25\n",
    "1. DAR DESDE EL CORAZÓN\n",
    "Comunicacion No Violenta 3ra 1/17/11 1:23 PM Page 25\n",
    "algunos de mis colaboradores estuvieron conmigo en Belgrado, donde pasamos\n",
    "tres días de intenso trabajo en un entrenamiento que ofrecimos a ciudadanos que\n",
    "trabajaban por la paz. En cuanto llegamos, lo primero que advertimos fue la expresión de desesperanza grabada visiblemente en los rostros de esa gente cuyo\n",
    "país se hallaba inmerso en una guerra brutal desatada en Bosnia y Croacia. A medida que la capacitación avanzaba, no tardamos en disfrutar oyendo sus risas, lo\n",
    "que nos permitió participar de su profunda gratitud y su alegría por haber encontrado la fuerza y el aliento que andaban buscando. En el curso de las dos semanas siguientes, durante las sesiones informativas celebradas en Croacia, Israel y\n",
    "Palestina, volvimos a tener ocasión de ver a más ciudadanos víctimas de la desesperación en países desgarrados por la guerra y pudimos comprobar que recupera\u0002ban el ánimo y la confianza gracias a la capacitación que recibieron sobre la CNV.\n",
    "Me siento afortunado por tener la oportunidad de viajar por todo el mundo en\u0002señando un proceso de comunicación que otorga poder y alegría a las personas. Y\n",
    "ahora, con este libro, siento una gran satisfacción y un enorme entusiasmo al poder\n",
    "compartir con mis lectores la riqueza que encierra la comunicación no violenta. \n",
    "\n"
   ]
  },
  {
   "attachments": {},
   "cell_type": "markdown",
   "id": "96775931",
   "metadata": {
    "slideshow": {
     "slide_type": "slide"
    }
   },
   "source": [
    "## Título de la clase: Realización de quiz o parcial  \n",
    "\n"
   ]
  },
  {
   "attachments": {},
   "cell_type": "markdown",
   "id": "1d38dd4e",
   "metadata": {
    "slideshow": {
     "slide_type": "slide"
    }
   },
   "source": [
    "### Objetivo de aprendizaje (Enunciar, de manera corta sencilla y clara para todos los asistentes)\n",
    "\n",
    "* Aprender a representar a través de una ecuación, una relación de proporcionalidad.\n",
    "* Aprender a determinar la constante de proporcionalidad\n",
    "* Enunciar el modelo particular de una situación y utilizarlo para predecir. \n",
    "* Aprender a aplicar la proporcionalidad en algunas situaciones de la física. "
   ]
  },
  {
   "attachments": {},
   "cell_type": "markdown",
   "id": "ca7261b1",
   "metadata": {
    "slideshow": {
     "slide_type": "slide"
    }
   },
   "source": [
    "## Establecimiento de prerrequisitos conceptuales para alcanzar el objetivo de aprendizaje trazado.   \n",
    "\n",
    "(Elabore una lista de preguntas al rededor de los conceptos que consideres necesarios para empezar la clase).  \n",
    "\n",
    "1. ¿Cómo duplicar el periodo de un péndulo simple?\n",
    "2. \n",
    "3. "
   ]
  },
  {
   "attachments": {},
   "cell_type": "markdown",
   "id": "2298e976",
   "metadata": {
    "slideshow": {
     "slide_type": "slide"
    }
   },
   "source": [
    "# Para el diseño de la clase tenga en cuenta algunos problemas de aprendizaje"
   ]
  },
  {
   "attachments": {},
   "cell_type": "markdown",
   "id": "523d3acf",
   "metadata": {
    "slideshow": {
     "slide_type": "slide"
    }
   },
   "source": []
  },
  {
   "attachments": {},
   "cell_type": "markdown",
   "id": "a40a4704",
   "metadata": {
    "slideshow": {
     "slide_type": "slide"
    }
   },
   "source": [
    "# Ejemplo de quiz"
   ]
  },
  {
   "attachments": {},
   "cell_type": "markdown",
   "id": "12cb2994",
   "metadata": {
    "slideshow": {
     "slide_type": "slide"
    }
   },
   "source": []
  },
  {
   "attachments": {},
   "cell_type": "markdown",
   "id": "e01461ad",
   "metadata": {
    "slideshow": {
     "slide_type": "slide"
    }
   },
   "source": []
  },
  {
   "attachments": {},
   "cell_type": "markdown",
   "id": "981c618a",
   "metadata": {
    "slideshow": {
     "slide_type": "slide"
    }
   },
   "source": [
    "# Ejemplo de parcial"
   ]
  },
  {
   "attachments": {},
   "cell_type": "markdown",
   "id": "c641f979",
   "metadata": {
    "slideshow": {
     "slide_type": "slide"
    }
   },
   "source": [
    "## Valor de un lote  \n",
    "\n",
    "El valor de un lote para construcción en la isla de Galiano es conjuntamente proporcional a su área y a la cantidad de agua producida por un pozo que está en la propiedad.   \n",
    "\n",
    "Un lote de 200 pies por 300 pies tiene un pozo que produce 10 galones de agua por minuto, y está valuado en 48,000 dólares.   \n",
    "\n",
    "1. Determine el modelo que debe utilizarse para predicciones en esta situación real\n",
    "   (Defina la función de Python que represente este modelo)  \n",
    "\n",
    "   \n",
    "2. ¿Cuál es el valor de un lote de 400 pies por 400 pies si el pozo del lote produce 4 galones de agua por minuto?"
   ]
  },
  {
   "cell_type": "code",
   "execution_count": 5,
   "id": "d3767a77",
   "metadata": {},
   "outputs": [
    {
     "data": {
      "text/plain": [
       "0.8"
      ]
     },
     "execution_count": 5,
     "metadata": {},
     "output_type": "execute_result"
    }
   ],
   "source": [
    "k = 48000/(200*300)\n",
    "k"
   ]
  },
  {
   "cell_type": "code",
   "execution_count": 8,
   "id": "15fc542f",
   "metadata": {},
   "outputs": [
    {
     "data": {
      "text/plain": [
       "0.08"
      ]
     },
     "execution_count": 8,
     "metadata": {},
     "output_type": "execute_result"
    }
   ],
   "source": [
    "2/25"
   ]
  },
  {
   "cell_type": "code",
   "execution_count": 6,
   "id": "384af1d4",
   "metadata": {},
   "outputs": [],
   "source": [
    "def modelo_valor_lote(A, G):\n",
    "    return k*A*G"
   ]
  },
  {
   "cell_type": "code",
   "execution_count": 7,
   "id": "3fc8d3df",
   "metadata": {
    "slideshow": {
     "slide_type": "slide"
    }
   },
   "outputs": [
    {
     "data": {
      "text/plain": [
       "512000.0"
      ]
     },
     "execution_count": 7,
     "metadata": {},
     "output_type": "execute_result"
    }
   ],
   "source": [
    "modelo_valor_lote(400*400,4)"
   ]
  },
  {
   "cell_type": "code",
   "execution_count": 4,
   "id": "ff2c5c68",
   "metadata": {},
   "outputs": [
    {
     "data": {
      "text/plain": [
       "80000.0"
      ]
     },
     "execution_count": 4,
     "metadata": {},
     "output_type": "execute_result"
    }
   ],
   "source": [
    "400*400*4/8"
   ]
  },
  {
   "attachments": {},
   "cell_type": "markdown",
   "id": "3b788bca",
   "metadata": {
    "slideshow": {
     "slide_type": "slide"
    }
   },
   "source": [
    "### Conclusión: El valor de un lote de 400 pies por 400 pies cuyo pozo produce 4 galones de agua por minuto es 51200. "
   ]
  },
  {
   "attachments": {},
   "cell_type": "markdown",
   "id": "63d19f42",
   "metadata": {
    "slideshow": {
     "slide_type": "slide"
    }
   },
   "source": [
    "# Programa en Python para ingresar registro de las calificaciones en archivo excel"
   ]
  },
  {
   "attachments": {},
   "cell_type": "markdown",
   "id": "e6ff3c98",
   "metadata": {
    "slideshow": {
     "slide_type": "slide"
    }
   },
   "source": [
    "# Desarrollo creciente del programa para gestión de notas\n",
    "\n"
   ]
  },
  {
   "cell_type": "code",
   "execution_count": 1,
   "id": "df0cd30a",
   "metadata": {
    "slideshow": {
     "slide_type": "slide"
    }
   },
   "outputs": [
    {
     "name": "stdout",
     "output_type": "stream",
     "text": [
      "Juan\n",
      "María\n",
      "Pedro\n",
      "Ana\n"
     ]
    }
   ],
   "source": [
    "import pandas as pd\n",
    "\n",
    "grupo = pd.read_csv('1_algebra.csv')\n",
    "\n",
    "# Iterar sobre cada fila del DataFrame\n",
    "for estudiante in df.nombre:\n",
    "    row['Nombre']\n",
    "    print(nombre)"
   ]
  },
  {
   "cell_type": "code",
   "execution_count": 9,
   "id": "b9c187ed",
   "metadata": {},
   "outputs": [
    {
     "ename": "FileNotFoundError",
     "evalue": "[Errno 2] No such file or directory: 'ruta/del/archivo.xlsx'",
     "output_type": "error",
     "traceback": [
      "\u001b[1;31m---------------------------------------------------------------------------\u001b[0m",
      "\u001b[1;31mFileNotFoundError\u001b[0m                         Traceback (most recent call last)",
      "\u001b[1;32m~\\AppData\\Local\\Temp\\ipykernel_3996\\4043350476.py\u001b[0m in \u001b[0;36m<module>\u001b[1;34m\u001b[0m\n\u001b[0;32m      6\u001b[0m \u001b[1;33m\u001b[0m\u001b[0m\n\u001b[0;32m      7\u001b[0m \u001b[1;31m# Leer el archivo .xlsx y crear un DataFrame\u001b[0m\u001b[1;33m\u001b[0m\u001b[1;33m\u001b[0m\u001b[0m\n\u001b[1;32m----> 8\u001b[1;33m \u001b[0mdataframe\u001b[0m \u001b[1;33m=\u001b[0m \u001b[0mpd\u001b[0m\u001b[1;33m.\u001b[0m\u001b[0mread_excel\u001b[0m\u001b[1;33m(\u001b[0m\u001b[0marchivo_excel\u001b[0m\u001b[1;33m)\u001b[0m\u001b[1;33m\u001b[0m\u001b[1;33m\u001b[0m\u001b[0m\n\u001b[0m\u001b[0;32m      9\u001b[0m \u001b[1;33m\u001b[0m\u001b[0m\n\u001b[0;32m     10\u001b[0m \u001b[1;31m# Imprimir el DataFrame\u001b[0m\u001b[1;33m\u001b[0m\u001b[1;33m\u001b[0m\u001b[0m\n",
      "\u001b[1;32m~\\anaconda3\\lib\\site-packages\\pandas\\util\\_decorators.py\u001b[0m in \u001b[0;36mwrapper\u001b[1;34m(*args, **kwargs)\u001b[0m\n\u001b[0;32m    309\u001b[0m                     \u001b[0mstacklevel\u001b[0m\u001b[1;33m=\u001b[0m\u001b[0mstacklevel\u001b[0m\u001b[1;33m,\u001b[0m\u001b[1;33m\u001b[0m\u001b[1;33m\u001b[0m\u001b[0m\n\u001b[0;32m    310\u001b[0m                 )\n\u001b[1;32m--> 311\u001b[1;33m             \u001b[1;32mreturn\u001b[0m \u001b[0mfunc\u001b[0m\u001b[1;33m(\u001b[0m\u001b[1;33m*\u001b[0m\u001b[0margs\u001b[0m\u001b[1;33m,\u001b[0m \u001b[1;33m**\u001b[0m\u001b[0mkwargs\u001b[0m\u001b[1;33m)\u001b[0m\u001b[1;33m\u001b[0m\u001b[1;33m\u001b[0m\u001b[0m\n\u001b[0m\u001b[0;32m    312\u001b[0m \u001b[1;33m\u001b[0m\u001b[0m\n\u001b[0;32m    313\u001b[0m         \u001b[1;32mreturn\u001b[0m \u001b[0mwrapper\u001b[0m\u001b[1;33m\u001b[0m\u001b[1;33m\u001b[0m\u001b[0m\n",
      "\u001b[1;32m~\\anaconda3\\lib\\site-packages\\pandas\\io\\excel\\_base.py\u001b[0m in \u001b[0;36mread_excel\u001b[1;34m(io, sheet_name, header, names, index_col, usecols, squeeze, dtype, engine, converters, true_values, false_values, skiprows, nrows, na_values, keep_default_na, na_filter, verbose, parse_dates, date_parser, thousands, decimal, comment, skipfooter, convert_float, mangle_dupe_cols, storage_options)\u001b[0m\n\u001b[0;32m    455\u001b[0m     \u001b[1;32mif\u001b[0m \u001b[1;32mnot\u001b[0m \u001b[0misinstance\u001b[0m\u001b[1;33m(\u001b[0m\u001b[0mio\u001b[0m\u001b[1;33m,\u001b[0m \u001b[0mExcelFile\u001b[0m\u001b[1;33m)\u001b[0m\u001b[1;33m:\u001b[0m\u001b[1;33m\u001b[0m\u001b[1;33m\u001b[0m\u001b[0m\n\u001b[0;32m    456\u001b[0m         \u001b[0mshould_close\u001b[0m \u001b[1;33m=\u001b[0m \u001b[1;32mTrue\u001b[0m\u001b[1;33m\u001b[0m\u001b[1;33m\u001b[0m\u001b[0m\n\u001b[1;32m--> 457\u001b[1;33m         \u001b[0mio\u001b[0m \u001b[1;33m=\u001b[0m \u001b[0mExcelFile\u001b[0m\u001b[1;33m(\u001b[0m\u001b[0mio\u001b[0m\u001b[1;33m,\u001b[0m \u001b[0mstorage_options\u001b[0m\u001b[1;33m=\u001b[0m\u001b[0mstorage_options\u001b[0m\u001b[1;33m,\u001b[0m \u001b[0mengine\u001b[0m\u001b[1;33m=\u001b[0m\u001b[0mengine\u001b[0m\u001b[1;33m)\u001b[0m\u001b[1;33m\u001b[0m\u001b[1;33m\u001b[0m\u001b[0m\n\u001b[0m\u001b[0;32m    458\u001b[0m     \u001b[1;32melif\u001b[0m \u001b[0mengine\u001b[0m \u001b[1;32mand\u001b[0m \u001b[0mengine\u001b[0m \u001b[1;33m!=\u001b[0m \u001b[0mio\u001b[0m\u001b[1;33m.\u001b[0m\u001b[0mengine\u001b[0m\u001b[1;33m:\u001b[0m\u001b[1;33m\u001b[0m\u001b[1;33m\u001b[0m\u001b[0m\n\u001b[0;32m    459\u001b[0m         raise ValueError(\n",
      "\u001b[1;32m~\\anaconda3\\lib\\site-packages\\pandas\\io\\excel\\_base.py\u001b[0m in \u001b[0;36m__init__\u001b[1;34m(self, path_or_buffer, engine, storage_options)\u001b[0m\n\u001b[0;32m   1374\u001b[0m                 \u001b[0mext\u001b[0m \u001b[1;33m=\u001b[0m \u001b[1;34m\"xls\"\u001b[0m\u001b[1;33m\u001b[0m\u001b[1;33m\u001b[0m\u001b[0m\n\u001b[0;32m   1375\u001b[0m             \u001b[1;32melse\u001b[0m\u001b[1;33m:\u001b[0m\u001b[1;33m\u001b[0m\u001b[1;33m\u001b[0m\u001b[0m\n\u001b[1;32m-> 1376\u001b[1;33m                 ext = inspect_excel_format(\n\u001b[0m\u001b[0;32m   1377\u001b[0m                     \u001b[0mcontent_or_path\u001b[0m\u001b[1;33m=\u001b[0m\u001b[0mpath_or_buffer\u001b[0m\u001b[1;33m,\u001b[0m \u001b[0mstorage_options\u001b[0m\u001b[1;33m=\u001b[0m\u001b[0mstorage_options\u001b[0m\u001b[1;33m\u001b[0m\u001b[1;33m\u001b[0m\u001b[0m\n\u001b[0;32m   1378\u001b[0m                 )\n",
      "\u001b[1;32m~\\anaconda3\\lib\\site-packages\\pandas\\io\\excel\\_base.py\u001b[0m in \u001b[0;36minspect_excel_format\u001b[1;34m(content_or_path, storage_options)\u001b[0m\n\u001b[0;32m   1248\u001b[0m         \u001b[0mcontent_or_path\u001b[0m \u001b[1;33m=\u001b[0m \u001b[0mBytesIO\u001b[0m\u001b[1;33m(\u001b[0m\u001b[0mcontent_or_path\u001b[0m\u001b[1;33m)\u001b[0m\u001b[1;33m\u001b[0m\u001b[1;33m\u001b[0m\u001b[0m\n\u001b[0;32m   1249\u001b[0m \u001b[1;33m\u001b[0m\u001b[0m\n\u001b[1;32m-> 1250\u001b[1;33m     with get_handle(\n\u001b[0m\u001b[0;32m   1251\u001b[0m         \u001b[0mcontent_or_path\u001b[0m\u001b[1;33m,\u001b[0m \u001b[1;34m\"rb\"\u001b[0m\u001b[1;33m,\u001b[0m \u001b[0mstorage_options\u001b[0m\u001b[1;33m=\u001b[0m\u001b[0mstorage_options\u001b[0m\u001b[1;33m,\u001b[0m \u001b[0mis_text\u001b[0m\u001b[1;33m=\u001b[0m\u001b[1;32mFalse\u001b[0m\u001b[1;33m\u001b[0m\u001b[1;33m\u001b[0m\u001b[0m\n\u001b[0;32m   1252\u001b[0m     ) as handle:\n",
      "\u001b[1;32m~\\anaconda3\\lib\\site-packages\\pandas\\io\\common.py\u001b[0m in \u001b[0;36mget_handle\u001b[1;34m(path_or_buf, mode, encoding, compression, memory_map, is_text, errors, storage_options)\u001b[0m\n\u001b[0;32m    793\u001b[0m         \u001b[1;32melse\u001b[0m\u001b[1;33m:\u001b[0m\u001b[1;33m\u001b[0m\u001b[1;33m\u001b[0m\u001b[0m\n\u001b[0;32m    794\u001b[0m             \u001b[1;31m# Binary mode\u001b[0m\u001b[1;33m\u001b[0m\u001b[1;33m\u001b[0m\u001b[0m\n\u001b[1;32m--> 795\u001b[1;33m             \u001b[0mhandle\u001b[0m \u001b[1;33m=\u001b[0m \u001b[0mopen\u001b[0m\u001b[1;33m(\u001b[0m\u001b[0mhandle\u001b[0m\u001b[1;33m,\u001b[0m \u001b[0mioargs\u001b[0m\u001b[1;33m.\u001b[0m\u001b[0mmode\u001b[0m\u001b[1;33m)\u001b[0m\u001b[1;33m\u001b[0m\u001b[1;33m\u001b[0m\u001b[0m\n\u001b[0m\u001b[0;32m    796\u001b[0m         \u001b[0mhandles\u001b[0m\u001b[1;33m.\u001b[0m\u001b[0mappend\u001b[0m\u001b[1;33m(\u001b[0m\u001b[0mhandle\u001b[0m\u001b[1;33m)\u001b[0m\u001b[1;33m\u001b[0m\u001b[1;33m\u001b[0m\u001b[0m\n\u001b[0;32m    797\u001b[0m \u001b[1;33m\u001b[0m\u001b[0m\n",
      "\u001b[1;31mFileNotFoundError\u001b[0m: [Errno 2] No such file or directory: 'ruta/del/archivo.xlsx'"
     ]
    }
   ],
   "source": [
    "# Desarrollo creciente del programa para gestión de notas\n",
    "import pandas as pd\n",
    "\n",
    "# Ruta del archivo .xlsx\n",
    "archivo_excel = 'ruta/del/archivo.xlsx'\n",
    "\n",
    "# Leer el archivo .xlsx y crear un DataFrame\n",
    "dataframe = pd.read_excel(archivo_excel)\n",
    "\n",
    "# Imprimir el DataFrame\n",
    "print(dataframe)\n"
   ]
  },
  {
   "cell_type": "code",
   "execution_count": 3,
   "id": "6f027710",
   "metadata": {
    "slideshow": {
     "slide_type": "slide"
    }
   },
   "outputs": [
    {
     "name": "stdout",
     "output_type": "stream",
     "text": [
      "Promedio general de todos los estudiantes: 4.033333333333333\n",
      "Promedio de Juan: 4.033333333333333\n"
     ]
    }
   ],
   "source": [
    "import pandas as pd \n",
    "\n",
    "\n",
    "class Estudiante:\n",
    "    def __init__(self, nombre, notas):\n",
    "        self.nombre = nombre\n",
    "        self.notas = notas\n",
    "\n",
    "    def promedio(self):\n",
    "        return sum(self.notas) / len(self.notas)\n",
    "\n",
    "class GestorEstudiantes:\n",
    "    def __init__(self):\n",
    "        self.estudiantes = []\n",
    "\n",
    "    def agregar_estudiante(self, estudiante):\n",
    "        self.estudiantes.append(estudiante)\n",
    "\n",
    "    def obtener_promedio_general(self):\n",
    "        promedios = [estudiante.promedio() for estudiante in self.estudiantes]\n",
    "        return sum(promedios) / len(promedios)\n",
    "\n",
    "    def obtener_promedio_estudiante(self, nombre):\n",
    "        for estudiante in self.estudiantes:\n",
    "            if estudiante.nombre == nombre:\n",
    "                return estudiante.promedio()\n",
    "        return None\n",
    "\n",
    "# Crear el gestor de estudiantes\n",
    "gestor = GestorEstudiantes()\n",
    "\n",
    "# Agregar estudiantes\n",
    "estudiante1 = Estudiante(\"Juan\", [4, 4.2, 3.9])\n",
    "estudiante2 = Estudiante(\"María\", [4, 4.2, 3.9])\n",
    "estudiante3 = Estudiante(\"Pedro\", [4, 4.2, 3.9])\n",
    "gestor.agregar_estudiante(estudiante1)\n",
    "gestor.agregar_estudiante(estudiante2)\n",
    "gestor.agregar_estudiante(estudiante3)\n",
    "\n",
    "# Obtener promedio general\n",
    "promedio_general = gestor.obtener_promedio_general()\n",
    "print(\"Promedio general de todos los estudiantes:\", promedio_general)\n",
    "\n",
    "# Obtener promedio de un estudiante específico\n",
    "nombre_estudiante = \"Juan\"\n",
    "promedio_estudiante = gestor.obtener_promedio_estudiante(nombre_estudiante)\n",
    "if promedio_estudiante is not None:\n",
    "    print(\"Promedio de\", nombre_estudiante + \":\", promedio_estudiante)\n",
    "else:\n",
    "    print(\"No se encontró al estudiante\", nombre_estudiante)\n"
   ]
  },
  {
   "attachments": {},
   "cell_type": "markdown",
   "id": "bf8d11a1",
   "metadata": {
    "slideshow": {
     "slide_type": "slide"
    }
   },
   "source": [
    "## Mapa conceptual de la clase elaborado en CMapTools"
   ]
  },
  {
   "attachments": {},
   "cell_type": "markdown",
   "id": "aac04d00",
   "metadata": {
    "slideshow": {
     "slide_type": "slide"
    }
   },
   "source": [
    "<img src = ''>"
   ]
  },
  {
   "attachments": {},
   "cell_type": "markdown",
   "id": "8a6f7ef9",
   "metadata": {
    "slideshow": {
     "slide_type": "slide"
    }
   },
   "source": [
    "## Tareas para realizar antes de la clase"
   ]
  },
  {
   "attachments": {},
   "cell_type": "markdown",
   "id": "90cae469",
   "metadata": {
    "slideshow": {
     "slide_type": "slide"
    }
   },
   "source": [
    "1. Ver los videos respectivos []()\n",
    "2. Memorizar las definiciones []()\n",
    "3. Sintetizar o resumir la información en mapas conceptuales. []()"
   ]
  },
  {
   "attachments": {},
   "cell_type": "markdown",
   "id": "fccb447c",
   "metadata": {
    "slideshow": {
     "slide_type": "slide"
    }
   },
   "source": [
    "# Tareas para realizar en clase"
   ]
  },
  {
   "attachments": {},
   "cell_type": "markdown",
   "id": "e5c48edf",
   "metadata": {
    "slideshow": {
     "slide_type": "slide"
    }
   },
   "source": [
    "* Modelación matemática \n",
    "* Trabajo en equipos"
   ]
  },
  {
   "attachments": {},
   "cell_type": "markdown",
   "id": "8b6b0112",
   "metadata": {
    "slideshow": {
     "slide_type": "slide"
    }
   },
   "source": [
    "# Tareas para realizar después de la realización de la clase"
   ]
  },
  {
   "attachments": {},
   "cell_type": "markdown",
   "id": "947460e3",
   "metadata": {
    "slideshow": {
     "slide_type": "slide"
    }
   },
   "source": [
    "* Actividades de memorización: \n",
    "  - escucha reiterada de grabaciones de formulas y resultados científicos. \n",
    "  - relectura de notas. \n",
    "  - ejercicios de mayor complejidad. \n",
    "  "
   ]
  },
  {
   "attachments": {},
   "cell_type": "markdown",
   "id": "935a5567",
   "metadata": {
    "slideshow": {
     "slide_type": "slide"
    }
   },
   "source": [
    "## Dificultades de aprendizaje detectados durante la clase"
   ]
  },
  {
   "attachments": {},
   "cell_type": "markdown",
   "id": "7d9c6c7f",
   "metadata": {
    "slideshow": {
     "slide_type": "slide"
    }
   },
   "source": [
    "* Comprender que en el proceso de modelamiento, se dan datos para poder determinar la constante que define el modelo particular que se utiliza para predecir. \n",
    "\n",
    "* Comprender que en la proporcionalidad directa entre dos variables, la constante de proporcionalidad se obtiene del cociente entre valores respectivos de las variables proporcionales. "
   ]
  },
  {
   "attachments": {},
   "cell_type": "markdown",
   "id": "fb9402bb",
   "metadata": {
    "slideshow": {
     "slide_type": "slide"
    }
   },
   "source": [
    "## Estrategias propuestas para la solución de las dificultades de aprendizaje detectadas"
   ]
  },
  {
   "attachments": {},
   "cell_type": "markdown",
   "id": "2dd3bd5c",
   "metadata": {
    "slideshow": {
     "slide_type": "slide"
    }
   },
   "source": [
    "* Colocar problemas de variación proporcional conjunta que el estudiante pueda evaluar la veracidad de una respuesta a través de razonamientos de compenzación. \n",
    "\n"
   ]
  },
  {
   "attachments": {},
   "cell_type": "markdown",
   "id": "d11570a2",
   "metadata": {
    "slideshow": {
     "slide_type": "slide"
    }
   },
   "source": [
    "## Cuestionario para realizar labores de memorización y observación,  a la síntesis de la información"
   ]
  },
  {
   "attachments": {},
   "cell_type": "markdown",
   "id": "540f0ec1",
   "metadata": {
    "slideshow": {
     "slide_type": "slide"
    }
   },
   "source": []
  },
  {
   "attachments": {},
   "cell_type": "markdown",
   "id": "236b43fc",
   "metadata": {
    "slideshow": {
     "slide_type": "slide"
    }
   },
   "source": [
    "## Grabaciones en audio para fomentar la capacidad de memorizar enunciados de teoremas y resultados científicos y la capacidad de parafrasear estos resultados. "
   ]
  },
  {
   "attachments": {},
   "cell_type": "markdown",
   "id": "319f2ffa",
   "metadata": {
    "slideshow": {
     "slide_type": "slide"
    }
   },
   "source": [
    "Se dispondrá de un lugar en el drive asociuado al correo institucional de la Universidad Nacional del Profesor Marso para albergar los archivosd de audio de fomento a la memoirización, enunciación y parafraseo de los resultados científicos, prtopiedades, reglas, etc. \n",
    "\n",
    "* Vocaroo"
   ]
  },
  {
   "attachments": {},
   "cell_type": "markdown",
   "id": "564fa59d",
   "metadata": {
    "slideshow": {
     "slide_type": "slide"
    }
   },
   "source": [
    "### Comparta sus cuadernos y videos, evidencias de su aprendizaje [aquí](https://forms.office.com/Pages/ResponsePage.aspx?id=IefhmYRxjkmK_7KtTlPBwkanXIs1i1FEujpsZgO6dXpUMEMwTEZVMzEwVVBPTElWNVg5OVEyWUhMUy4u)"
   ]
  },
  {
   "cell_type": "code",
   "execution_count": null,
   "id": "5fe498b3",
   "metadata": {
    "slideshow": {
     "slide_type": "slide"
    }
   },
   "outputs": [],
   "source": []
  },
  {
   "attachments": {},
   "cell_type": "markdown",
   "id": "44be6d93",
   "metadata": {
    "slideshow": {
     "slide_type": "slide"
    }
   },
   "source": [
    "# Vocabulary "
   ]
  },
  {
   "cell_type": "code",
   "execution_count": null,
   "id": "99b8dfed",
   "metadata": {
    "slideshow": {
     "slide_type": "slide"
    }
   },
   "outputs": [],
   "source": []
  },
  {
   "attachments": {},
   "cell_type": "markdown",
   "id": "ee46cb9a",
   "metadata": {
    "slideshow": {
     "slide_type": "slide"
    }
   },
   "source": [
    "## Mapa conceptual que vincula los conceptos asoaciados al objetivo de aprendizaje"
   ]
  },
  {
   "cell_type": "code",
   "execution_count": null,
   "id": "bf552488",
   "metadata": {
    "slideshow": {
     "slide_type": "slide"
    }
   },
   "outputs": [],
   "source": []
  },
  {
   "attachments": {},
   "cell_type": "markdown",
   "id": "0266e3c5",
   "metadata": {
    "slideshow": {
     "slide_type": "slide"
    }
   },
   "source": [
    "## Quiz de 5 minutos para ejercitación y adquisición de habilidades "
   ]
  },
  {
   "attachments": {},
   "cell_type": "markdown",
   "id": "3a1b127f",
   "metadata": {
    "slideshow": {
     "slide_type": "slide"
    }
   },
   "source": []
  },
  {
   "attachments": {},
   "cell_type": "markdown",
   "id": "10bce0d0",
   "metadata": {
    "slideshow": {
     "slide_type": "slide"
    }
   },
   "source": [
    "## Referentes "
   ]
  },
  {
   "attachments": {},
   "cell_type": "markdown",
   "id": "1db3c468",
   "metadata": {
    "slideshow": {
     "slide_type": "slide"
    }
   },
   "source": [
    "* [stewart precálculo](https://udeaeduco-my.sharepoint.com/:b:/g/personal/marco_canas_udea_edu_co/ERHIq62I6qFNrmxy6LZb8ZMBci7kUsyNME1nIh9yCBMJ_w?e=0zMSla)  \n",
    "\n",
    "* [stewart cálculo](https://udeaeduco-my.sharepoint.com/:b:/g/personal/marco_canas_udea_edu_co/EZgXZjAp8QxPqOAim2hs6LcBNPLGjSHf-xwYnUVYkwa04w?e=RZdTCy)  \n",
    "\n",
    "* [larson](https://udeaeduco-my.sharepoint.com/:b:/g/personal/marco_canas_udea_edu_co/ES71ChFeO9ZDhW3TwC5Ijk8BjxUK3Pdqz_fjHxTTFAfIAg?e=VDEjfu)\n",
    "\n",
    "* [uzcategui](https://udeaeduco-my.sharepoint.com/:b:/g/personal/marco_canas_udea_edu_co/ETDikm-lVl1Or8XoEo9oyh0BEti9Zs8le-f0D-dBdtZmbA?e=bBsoyQ)\n",
    "\n",
    "* [Recomendación de la UNESCO sobre ciencia abierta](https://unesdoc.unesco.org/ark:/48223/pf0000379949_spa)"
   ]
  },
  {
   "attachments": {},
   "cell_type": "markdown",
   "id": "6b9e56a8",
   "metadata": {
    "slideshow": {
     "slide_type": "slide"
    }
   },
   "source": [
    "### [Evaluamos al profesor Marco Cañas Aquí](https://forms.office.com/Pages/ResponsePage.aspx?id=IefhmYRxjkmK_7KtTlPBwkanXIs1i1FEujpsZgO6dXpUREJPV1kxUk1JV1ozTFJIQVNIQjY5WEY3US4u)"
   ]
  },
  {
   "attachments": {},
   "cell_type": "markdown",
   "id": "071afa04",
   "metadata": {
    "slideshow": {
     "slide_type": "slide"
    }
   },
   "source": [
    "## [Evaluación luego de alcanzar estos objetivos de aprendizaje]()"
   ]
  },
  {
   "attachments": {},
   "cell_type": "markdown",
   "id": "10f43536",
   "metadata": {
    "slideshow": {
     "slide_type": "slide"
    }
   },
   "source": [
    "### Continue su aprendizaje en la siguiente clase a través del siguiente [vínculo]()"
   ]
  },
  {
   "attachments": {},
   "cell_type": "markdown",
   "id": "af751e30",
   "metadata": {
    "slideshow": {
     "slide_type": "slide"
    }
   },
   "source": [
    "# Conjeturas pedagógicas fruto de la aplicación del modelo de aprendizaje invertido y del enfoque hacia la ciencia de datos con python\n",
    "\n",
    "1. Todo cálculo o resultado debe ser interpretado en una línea markdown del cuaderno Jupyter, inmediatamente después de la enunciación del resultado y después de la presentación de una tabla o gráfico bidimensional, de tal menera que el estudiante explicite la comprensión verbal del resultado y las inferencias o estrategias que este resultado le sugieren.   "
   ]
  },
  {
   "attachments": {},
   "cell_type": "markdown",
   "id": "53cc9115",
   "metadata": {
    "slideshow": {
     "slide_type": "slide"
    }
   },
   "source": [
    "## Agradecimientos  \n",
    "\n",
    "Doy gracias a Dios por la vida de mi Hijo Joseph Cañas Osorio y la madurez que ha alcanzado.\n",
    "\n",
    "Y a mi esposa Yasmira por su apoyo, orientación y acompañamiento. "
   ]
  },
  {
   "attachments": {},
   "cell_type": "markdown",
   "id": "28d61906",
   "metadata": {
    "slideshow": {
     "slide_type": "slide"
    }
   },
   "source": [
    "# [How to integrate openai in Jupyter notebook](https://www.google.com/search?client=firefox-b-d&q=chatgpt+extension+for+jupyter+of+anaconda+prompt#fpstate=ive&vld=cid:4f216dcc,vid:2izXQUoXyjA)"
   ]
  },
  {
   "cell_type": "code",
   "execution_count": 5,
   "id": "51380709",
   "metadata": {
    "slideshow": {
     "slide_type": "slide"
    }
   },
   "outputs": [],
   "source": [
    "import openai"
   ]
  },
  {
   "cell_type": "code",
   "execution_count": 7,
   "id": "58d714df",
   "metadata": {
    "slideshow": {
     "slide_type": "slide"
    }
   },
   "outputs": [],
   "source": [
    "openai.api_key = 'JosephCanasOsorio1213Yasmira_Barboza'"
   ]
  },
  {
   "cell_type": "code",
   "execution_count": null,
   "id": "1ce86413",
   "metadata": {},
   "outputs": [],
   "source": [
    "def get_gpt_response(prompt):\n",
    "    "
   ]
  },
  {
   "attachments": {},
   "cell_type": "markdown",
   "id": "0f1f3d76",
   "metadata": {
    "slideshow": {
     "slide_type": "slide"
    }
   },
   "source": [
    "# [ChatGPT para Jupyter: la extensión de ChatGPT para Jupyter Notebooks La extensión que todo científico de datos necesita.](https://artificialcorner.com/chatgpt-for-jupyter-the-chatgpt-extension-for-jupyter-notebooks-4eb9ab481bd9)"
   ]
  },
  {
   "attachments": {},
   "cell_type": "markdown",
   "id": "a3f4a119",
   "metadata": {
    "slideshow": {
     "slide_type": "slide"
    }
   },
   "source": [
    "<img src = 'https://miro.medium.com/v2/resize:fit:1100/format:webp/1*n6CsGfhhefORfPXEU3GWGw.png'>"
   ]
  },
  {
   "attachments": {},
   "cell_type": "markdown",
   "id": "73744ee3",
   "metadata": {
    "slideshow": {
     "slide_type": "slide"
    }
   },
   "source": [
    "¡Has oído bien! Puede obtener las funcionalidades de ChatGPT, como formatear, explicar, depurar, completar y revisar el código directamente desde Jupyter Notebook.\n",
    "\n",
    "¡Vamos a sumergirnos en ello!"
   ]
  },
  {
   "attachments": {},
   "cell_type": "markdown",
   "id": "fda6eb06",
   "metadata": {
    "slideshow": {
     "slide_type": "slide"
    }
   },
   "source": [
    "## Cómo instalar la extensión ChatGPT para Jupyter Notebooks"
   ]
  },
  {
   "attachments": {},
   "cell_type": "markdown",
   "id": "5d5d7867",
   "metadata": {
    "slideshow": {
     "slide_type": "slide"
    }
   },
   "source": [
    "En primer lugar, esta es una extensión de navegador impulsada por GPT-4, lo que significa que tenemos que descargar la extensión de la tienda web."
   ]
  },
  {
   "attachments": {},
   "cell_type": "markdown",
   "id": "f6ab96de",
   "metadata": {},
   "source": [
    "Si eres usuario de Chrome, ve a este sitio web e instala la extensión, mientras que si eres un Firefox puedes instalarla localmente siguiendo los pasos aquí.\n",
    "\n",
    "Después de instalar la extensión, abra la ventana de configuración. Debe seleccionar OpenAI API, elegir un modelo que desee usar e insertar su clave OpenAI API, que puede encontrar aquí."
   ]
  }
 ],
 "metadata": {
  "celltoolbar": "Slideshow",
  "kernelspec": {
   "display_name": "Python 3 (ipykernel)",
   "language": "python",
   "name": "python3"
  },
  "language_info": {
   "codemirror_mode": {
    "name": "ipython",
    "version": 3
   },
   "file_extension": ".py",
   "mimetype": "text/x-python",
   "name": "python",
   "nbconvert_exporter": "python",
   "pygments_lexer": "ipython3",
   "version": "3.10.11"
  },
  "rise": {
   "enable_chalkboard": true,
   "theme": "sky",
   "transition": "zoom"
  }
 },
 "nbformat": 4,
 "nbformat_minor": 5
}
