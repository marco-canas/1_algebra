{
 "cells": [
  {
   "attachments": {},
   "cell_type": "markdown",
   "id": "dc06dec7",
   "metadata": {
    "slideshow": {
     "slide_type": "slide"
    }
   },
   "source": [
    "<table align=\"left\">\n",
    "  <td>\n",
    "    <a href=\"https://colab.research.google.com/github/marco-canas/1_algebra/blob/main/evaluacion/evidence_of_learning/2_evaluation_quiz_parcial_proporcionalidad_reflexiones_didacticas.ipynb\" target=\"_parent\"><img src=\"https://colab.research.google.com/assets/colab-badge.svg\" alt=\"Open In Colab\"/></a>\n",
    "  </td>\n",
    "</table>"
   ]
  },
  {
   "attachments": {},
   "cell_type": "markdown",
   "id": "e0c5b198",
   "metadata": {
    "slideshow": {
     "slide_type": "slide"
    }
   },
   "source": [
    "### [Video de apoyo a la lectura interactiva y experimental de este cuaderno](https://www.youtube.com/watch?v=97zS6jQE9C0)"
   ]
  },
  {
   "attachments": {},
   "cell_type": "markdown",
   "id": "41e82203",
   "metadata": {
    "slideshow": {
     "slide_type": "slide"
    }
   },
   "source": [
    "## [Vínculo al programa del curso:  ]()"
   ]
  },
  {
   "attachments": {},
   "cell_type": "markdown",
   "id": "ca46c23b",
   "metadata": {
    "slideshow": {
     "slide_type": "slide"
    }
   },
   "source": [
    "# Modelo general de clase: [aula invertida](https://www3.gobiernodecanarias.org/medusa/ecoescuela/pedagotic/aprendizaje-invertido-flipped-classroom/)\n",
    "\n",
    "## Definición y características de este modelo"
   ]
  },
  {
   "attachments": {},
   "cell_type": "markdown",
   "id": "d2b0e776",
   "metadata": {
    "slideshow": {
     "slide_type": "slide"
    }
   },
   "source": [
    "## ¿Qué es?  \n",
    "\n",
    "Flipped Learning o aprendizaje invertido es un enfoque pedagógico en el que:  \n",
    "\n",
    "* la instrucción directa se realiza fuera del aula y \n",
    "* se utiliza el tiempo de clase para llevar a cabo actividades que impliquen el desarrollo de procesos cognitivos de mayor complejidad, en las que son necesarias la ayuda y la experiencia del docente."
   ]
  },
  {
   "attachments": {},
   "cell_type": "markdown",
   "id": "5fc4f731",
   "metadata": {
    "slideshow": {
     "slide_type": "slide"
    }
   },
   "source": [
    "## ¿Para qué sirve?  \n",
    "\n",
    "Mejora el proceso de enseñanza-aprendizaje realizando,   \n",
    "\n",
    "* fuera del aula, actividades de aprendizaje sencillas (observar, memorizar, resumir, etc.) y, \n",
    "* en el aula, actividades más complejas (razonar, examinar, priorizar, argumentar, proponer, etc.) que requieren la interacción entre iguales y la ayuda del docente como facilitador."
   ]
  },
  {
   "attachments": {},
   "cell_type": "markdown",
   "id": "b42472d6",
   "metadata": {
    "slideshow": {
     "slide_type": "slide"
    }
   },
   "source": [
    "<img src = 'https://github.com/marco-canas/7_didactica_ciencia_datos/blob/main/propuesta/unidad_didac/atributos_aprendizaje_invertido.png?raw=true'>"
   ]
  },
  {
   "attachments": {},
   "cell_type": "markdown",
   "id": "8cee33b3",
   "metadata": {
    "slideshow": {
     "slide_type": "slide"
    }
   },
   "source": [
    "# Proceso Flipped Learning"
   ]
  },
  {
   "attachments": {},
   "cell_type": "markdown",
   "id": "9c61b8b5",
   "metadata": {
    "slideshow": {
     "slide_type": "slide"
    }
   },
   "source": [
    "## Fuera del Aula"
   ]
  },
  {
   "attachments": {},
   "cell_type": "markdown",
   "id": "fe20721d",
   "metadata": {
    "slideshow": {
     "slide_type": "slide"
    }
   },
   "source": [
    "### Docente:"
   ]
  },
  {
   "attachments": {},
   "cell_type": "markdown",
   "id": "5b022dc9",
   "metadata": {
    "slideshow": {
     "slide_type": "slide"
    }
   },
   "source": [
    "* Diseña y planea el proceso de enseñanza-aprendizaje del aula, integrando estrategias, modelos de enseñanza y metodologías (aprendizaje basado en proyectos, aprendizaje cooperativo y colaborativo,…).  \n",
    "\n",
    "* Diseña y planea actividades que se realizarán fuera del aula (ver vídeos, cumplimentar cuestionarios,…).  \n",
    "\n",
    "* Selecciona e integra la tecnología en actividades de aprendizaje activo.  \n",
    "\n",
    "* Diseña actividades de evaluación que promuevan el aprendizaje del alumnado."
   ]
  },
  {
   "attachments": {},
   "cell_type": "markdown",
   "id": "467fb978",
   "metadata": {
    "slideshow": {
     "slide_type": "slide"
    }
   },
   "source": [
    "### Alumnado:"
   ]
  },
  {
   "attachments": {},
   "cell_type": "markdown",
   "id": "87d6d661",
   "metadata": {
    "slideshow": {
     "slide_type": "slide"
    }
   },
   "source": [
    "* Accede, cuantas veces necesite, a las actividades facilitadas por el profesorado.\n",
    "* Realiza las actividades propuestas."
   ]
  },
  {
   "attachments": {},
   "cell_type": "markdown",
   "id": "93cd48b6",
   "metadata": {
    "slideshow": {
     "slide_type": "slide"
    }
   },
   "source": [
    "## En el Aula"
   ]
  },
  {
   "attachments": {},
   "cell_type": "markdown",
   "id": "79ea8675",
   "metadata": {
    "slideshow": {
     "slide_type": "slide"
    }
   },
   "source": [
    "### Docente:"
   ]
  },
  {
   "attachments": {},
   "cell_type": "markdown",
   "id": "d4d6f829",
   "metadata": {
    "slideshow": {
     "slide_type": "slide"
    }
   },
   "source": [
    "* Guía y facilita los procesos de aprendizaje, atendiendo a la diversidad.\n",
    "* Retroalimenta el desempeño de los equipos/grupos y del alumnado individualmente.\n",
    "* Genera espacios para la coevaluación y autoevaluación."
   ]
  },
  {
   "attachments": {},
   "cell_type": "markdown",
   "id": "7178794c",
   "metadata": {
    "slideshow": {
     "slide_type": "slide"
    }
   },
   "source": [
    "### Alumnado:"
   ]
  },
  {
   "attachments": {},
   "cell_type": "markdown",
   "id": "88d1c0f7",
   "metadata": {
    "slideshow": {
     "slide_type": "slide"
    }
   },
   "source": [
    "* Realiza las actividades (debates, exposiciones orales, informes, diario de aprendizaje, cuaderno de trabajo cooperativo,…).\n",
    "* Recibe retroalimentación inmediata del profesorado y de sus compañeros y compañeras.\n",
    "* Accede, si fuera necesario, a las actividades previas facilitadas por el profesorado."
   ]
  },
  {
   "attachments": {},
   "cell_type": "markdown",
   "id": "79c35435",
   "metadata": {
    "slideshow": {
     "slide_type": "slide"
    }
   },
   "source": [
    "# Fomento de la lectura literaria asociada a Ingeniería agropecuaria y licenciatura en Matemáticas\n",
    "\n",
    "Otros aplican la CNV para crear relaciones más efectivas en su lugar de traba\u0002jo. Escribe una maestra:\n",
    "Hace un año aproximadamente que uso la CNV en mis clases de\n",
    "educación especial, y puedo decir que es un método que resulta\n",
    "efectivo incluso con niños que presentan retrasos de lenguaje, pro\u000223\n",
    "1. DAR DESDE EL CORAZÓN\n",
    "Comunicacion No Violenta 3ra 1/17/11 1:23 PM Page 23\n",
    "blemas de aprendizaje y trastornos de conducta. Hay en mi clase un\n",
    "alumno que escupe, insulta, grita y pincha a sus compañeros con el\n",
    "lápiz cuando se acercan a su mesa. Le sugiero: «Por favor, díselo de\n",
    "otra manera. Usa el lenguaje de la jirafa». (En algunos talleres se uti\u0002lizan títeres de jirafas como un recurso pedagógico en las demostra\u0002ciones prácticas de la CNV.) El niño se pone de pie inmediatamente\n",
    "y, muy erguido, mirando al compañero hacia el que va dirigida su ra\u0002bia, le dice con toda calma: «¿Me haces el favor de apartarte de mi\n",
    "mesa? Siento enojo cuando te paras tan cerca de mí». Los demás\n",
    "compañeros suelen responder diciéndole algo así: «¡Lo siento! Había\n",
    "olvidado que esto te molesta».\n",
    "Estuve reflexionando sobre mi frustración con respecto a este niño\n",
    "y procuré descubrir qué era lo que yo necesitaba de él (además de\n",
    "armonía y orden). Me di cuenta de que invertía mucho tiempo en la\n",
    "planificación de las clases y que mi necesidad de actuar con creati\u0002vidad y participar más activamente se veía frustrada a causa de las\n",
    "obligaciones que me imponía su conducta. Por otra parte, me di\n",
    "cuenta también de que esto me obligaba a desatender las necesida\u0002des de los demás alumnos. Entonces, cada vez que veía que el niño\n",
    "comenzaba a actuar como tenía por costumbre, le decía: «Necesito\n",
    "que me prestes atención». Tengo que recordárselo como cien veces al\n",
    "día, pero al final acaba por captar el mensaje y suele participar en\n",
    "las actividades de la clase.\n",
    "Maestra de Chicago, Illinois\n",
    "Un médico escribe lo siguiente:\n",
    "Cada vez aplico más la CNV en la práctica de la medicina. Algunos\n",
    "de mis pacientes incluso me preguntan si soy psicólogo ya que no\n",
    "están acostumbrados a que los médicos se interesen por su vida ni\n",
    "por sus maneras de enfrentar las enfermedades que padecen. La\n",
    "CNV me ayudó a entender las necesidades de mis pacientes y a sa\u0002ber qué necesitan escuchar en un determinado momento. Esto me\n",
    "resulta particularmente útil en mi relación con quienes sufren hemo\u0002filia y sida, porque estas personas llevan tanta rabia y tanto dolor\n",
    "acumulados dentro suyo que eso acaba por afectar seriamente la re\u0002lación entre el paciente y el profesional de la salud. Hace poco, una\n",
    "mujer con sida, a la que trataba desde hacía cinco años, me dijo que\n",
    "lo que más la había ayudado en nuestra relación eran mis intentos\n",
    "24\n",
    "Marshall B. Rosenberg\n",
    "Comunicacion No Violenta 3ra 1/17/11 1:23 PM Page 24\n",
    "por encontrar maneras de que disfrutara de su vida cotidiana. En es\u0002te aspecto la CNV me resulta muy útil. Antes, cuando me enteraba\n",
    "de que uno de mis pacientes sufría una enfermedad mortal, solía de\u0002jarme arrastrar por el pronóstico y me era muy difícil darle ánimo y\n",
    "alentarlo para que siguiera adelante con su vida. Gracias a la CNV\n",
    "adquirí una nueva conciencia y un nuevo lenguaje. Me sorprende ver\n",
    "lo bien que se integra a mi práctica médica. Ahora que estoy cada\n",
    "vez más comprometido con la práctica de la CNV, disfruto más mi\n",
    "trabajo y me siento más lleno de energía en él.\n",
    "Un médico de París\n",
    "Otros utilizan este proceso en el campo político. Una ministra francesa, cuan\u0002do visitaba a una hermana suya, observó un gran cambio en la manera de comu\u0002nicarse y responderse mutuamente entre su hermana y su marido. Animada por\n",
    "las descripciones que le hicieron de la CNV, les dijo que la semana siguiente debía\n",
    "negociar ciertas delicadas cuestiones entre Francia y Argelia con respecto a los\n",
    "procedimientos para la adopción. Pese a que disponíamos de poco tiempo, envia\u0002mos a París a una persona de habla francesa, experta en CNV, para trabajar con la\n",
    "ministra. Más tarde ella misma atribuiría gran parte del éxito de las negociaciones\n",
    "que llevó a cabo en Argelia a las técnicas de comunicación recién adquiridas.\n",
    "En Jerusalén, durante un taller al que asistieron israelíes de diferentes orien\u0002taciones políticas, los participantes se sirvieron de la CNV para expresar sus opi\u0002niones con respecto a la conflictiva cuestión de Cisjordania. Muchos de los israe\u0002líes establecidos en Cisjordania consideran que al proceder así no hacen sino aca\u0002tar un mandato religioso, debido a lo cual están en conflicto no sólo con los pa\u0002lestinos, sino también con otros israelíes que reconocen la esperanza de soberanía\n",
    "nacional de los palestinos en esta región. En una sesión, uno de mis instructores y\n",
    "yo ejemplificamos la escucha empática según los métodos de la CNV, e invitamos\n",
    "a los participantes a establecer turnos para dramatizar los diferentes papeles y po\u0002nerse en el lugar del otro. A los veinte minutos, una de las residentes de la zona\n",
    "expresó que estaría dispuesta a renunciar a sus reclamos sobre el territorio y a\n",
    "abandonar Cisjordania para mudarse a la zona reconocida internacionalmente co\u0002mo perteneciente a los israelíes, si sus adversarios políticos pudieran escucharla de\n",
    "la misma manera en que acababan de hacerlo allí.\n",
    "La CNV se utiliza ahora en todo el mundo como un recurso valioso en aquellas\n",
    "comunidades que se enfrentan a conflictos violentos y a graves tensiones étnicas,\n",
    "religiosas o políticas. Me resulta particularmente satisfactorio comprobar la utilidad de la difusión de la CNV y de su aplicación a la mediación para resolver conflictos en Israel, Palestina, Nigeria, Ruanda, Sierra Leona y otros lugares. Una vez,\n",
    "25\n",
    "1. DAR DESDE EL CORAZÓN\n",
    "Comunicacion No Violenta 3ra 1/17/11 1:23 PM Page 25\n",
    "algunos de mis colaboradores estuvieron conmigo en Belgrado, donde pasamos\n",
    "tres días de intenso trabajo en un entrenamiento que ofrecimos a ciudadanos que\n",
    "trabajaban por la paz. En cuanto llegamos, lo primero que advertimos fue la expresión de desesperanza grabada visiblemente en los rostros de esa gente cuyo\n",
    "país se hallaba inmerso en una guerra brutal desatada en Bosnia y Croacia. A medida que la capacitación avanzaba, no tardamos en disfrutar oyendo sus risas, lo\n",
    "que nos permitió participar de su profunda gratitud y su alegría por haber encontrado la fuerza y el aliento que andaban buscando. En el curso de las dos semanas siguientes, durante las sesiones informativas celebradas en Croacia, Israel y Palestina, volvimos a tener ocasión de ver a más ciudadanos víctimas de la desesperación en países desgarrados por la guerra y pudimos comprobar que recuperaban el ánimo y la confianza gracias a la capacitación que recibieron sobre la CNV.\n"
   ]
  },
  {
   "attachments": {},
   "cell_type": "markdown",
   "id": "a7702b86",
   "metadata": {},
   "source": [
    "Me siento afortunado por tener la oportunidad de viajar por todo el mundo enseñando un proceso de comunicación que otorga poder y alegría a las personas. Y\n",
    "ahora, con este libro, siento una gran satisfacción y un enorme entusiasmo al poder\n",
    "compartir con mis lectores la riqueza que encierra la comunicación no violenta. \n",
    "\n"
   ]
  },
  {
   "attachments": {},
   "cell_type": "markdown",
   "id": "96775931",
   "metadata": {
    "slideshow": {
     "slide_type": "slide"
    }
   },
   "source": [
    "## Título de la clase: Realización de quiz o parcial sobre aplicaciones de la proporcionalidad a ingeniería agropecuaria  \n",
    "\n"
   ]
  },
  {
   "attachments": {},
   "cell_type": "markdown",
   "id": "1d38dd4e",
   "metadata": {
    "slideshow": {
     "slide_type": "slide"
    }
   },
   "source": [
    "### Objetivo de aprendizaje (Enunciar, de manera corta sencilla y clara para todos los asistentes)\n",
    "\n",
    "* Aprender a representar a través de una ecuación, una relación de proporcionalidad\n",
    "* Aprender a determinar la constante de proporcionalidad $k$\n",
    "* Enunciar el modelo particular de una situación y utilizarlo para predecir. "
   ]
  },
  {
   "attachments": {},
   "cell_type": "markdown",
   "id": "ca7261b1",
   "metadata": {
    "slideshow": {
     "slide_type": "slide"
    }
   },
   "source": [
    "## Establecimiento de prerrequisitos conceptuales para alcanzar el objetivo de aprendizaje trazado.   \n",
    "\n",
    "(Elabore una lista de preguntas al rededor de los conceptos que consideres necesarios para empezar la clase).  \n",
    "\n",
    "1. El concepto de ecuación\n",
    "2. Saber despejar variables, al menos por el método de transposición de términos\n",
    "3. Saber simplificar fracciones. "
   ]
  },
  {
   "attachments": {},
   "cell_type": "markdown",
   "id": "2298e976",
   "metadata": {
    "slideshow": {
     "slide_type": "slide"
    }
   },
   "source": [
    "# Para el diseño de la clase tenga en cuenta algunos problemas de aprendizaje"
   ]
  },
  {
   "attachments": {},
   "cell_type": "markdown",
   "id": "523d3acf",
   "metadata": {
    "slideshow": {
     "slide_type": "slide"
    }
   },
   "source": [
    "* Despeje de variables en una ecuación "
   ]
  },
  {
   "attachments": {},
   "cell_type": "markdown",
   "id": "a40a4704",
   "metadata": {
    "slideshow": {
     "slide_type": "slide"
    }
   },
   "source": [
    "# Ejemplo de quiz"
   ]
  },
  {
   "attachments": {},
   "cell_type": "markdown",
   "id": "12cb2994",
   "metadata": {
    "slideshow": {
     "slide_type": "slide"
    }
   },
   "source": [
    "29. Ley de Hooke La Ley de Hooke dice que la fuerza necesa\u0002ria para mantener un resorte estirado x unidades más que su lon\u0002gitud natural es directamente proporcional a x. Aquí la cons\u0002tante de proporcionalidad se denomina constante de resorte.\n",
    " (a) Escriba la Ley de Hooke como una ecuación.\n",
    " (b) Si un resorte tiene una longitud natural de 10 cm y se re\u0002quiere una fuerza de 40 N para mantener estirado el resorte \n",
    "a una longitud de 15 cm, encuentre la constante de resorte.\n",
    " (c) ¿Qué fuerza es necesaria para mantener estirado el resorte a \n",
    "una longitud de 14 cm?\n",
    "\n",
    "Tomado de la página 136 del precálculo de stewart. "
   ]
  },
  {
   "attachments": {},
   "cell_type": "markdown",
   "id": "e01461ad",
   "metadata": {
    "slideshow": {
     "slide_type": "slide"
    }
   },
   "source": [
    "35. Intensidad del sonido La intensidad L de un sonido (medida en decibeles, dB) es inversamente proporcional al cuadrado \n",
    "de la distancia d desde la fuente del sonido. Una persona que se \n",
    "encuentre a 10 pies de una podadora de césped capta un nivel de \n",
    "sonido de 70 dB. ¿Cuál es la intensidad del sonido de la podadora cuando la persona esté a 100 pies de distancia?"
   ]
  },
  {
   "attachments": {},
   "cell_type": "markdown",
   "id": "981c618a",
   "metadata": {
    "slideshow": {
     "slide_type": "slide"
    }
   },
   "source": [
    "# Ejemplo de parcial"
   ]
  },
  {
   "attachments": {},
   "cell_type": "markdown",
   "id": "c641f979",
   "metadata": {
    "slideshow": {
     "slide_type": "slide"
    }
   },
   "source": [
    "## Valor de un lote  \n",
    "\n",
    "El valor de un lote $V$ para construcción en la isla de Galiano es conjuntamente proporcional a su área $A$ y a la cantidad de agua producida $G$ por un pozo que está en la propiedad.\n",
    "\n",
    "Un lote de 200 pies por 300 pies tiene un pozo que produce 10 galones de agua por minuto, y está valuado en 48,000 dólares.   \n",
    "\n",
    "1. Determine el modelo que debe utilizarse para predicciones en esta situación real\n",
    "   (Defina la función de Python que represente este modelo)  \n",
    "\n",
    "   \n",
    "2. ¿Cuál es el valor de un lote de 400 pies por 400 pies si el pozo del lote produce 4 galones de agua por minuto?"
   ]
  },
  {
   "attachments": {},
   "cell_type": "markdown",
   "id": "3e58b046",
   "metadata": {},
   "source": [
    "## Solución\n",
    "\n",
    "$$ V \\quad \\alpha \\quad AG  $$"
   ]
  },
  {
   "attachments": {},
   "cell_type": "markdown",
   "id": "b260b737",
   "metadata": {},
   "source": [
    "$$V = kAG $$"
   ]
  },
  {
   "attachments": {},
   "cell_type": "markdown",
   "id": "b745d0e4",
   "metadata": {},
   "source": [
    "$$ \\frac{V}{AG} = k $$\n",
    "\n",
    "hemos despejado la constate de proporcionalidad con el método de transposición de factores. "
   ]
  },
  {
   "cell_type": "code",
   "execution_count": 1,
   "id": "d3767a77",
   "metadata": {},
   "outputs": [
    {
     "data": {
      "text/plain": [
       "0.08"
      ]
     },
     "execution_count": 1,
     "metadata": {},
     "output_type": "execute_result"
    }
   ],
   "source": [
    "valor_lote = 48000\n",
    "area = 200*300\n",
    "galones = 10\n",
    "\n",
    "k = valor_lote/(area*galones)\n",
    "k"
   ]
  },
  {
   "cell_type": "code",
   "execution_count": 4,
   "id": "bcb92edf",
   "metadata": {},
   "outputs": [
    {
     "data": {
      "text/latex": [
       "$\\displaystyle \\frac{5764607523034235}{72057594037927936}$"
      ],
      "text/plain": [
       "5764607523034235/72057594037927936"
      ]
     },
     "execution_count": 4,
     "metadata": {},
     "output_type": "execute_result"
    }
   ],
   "source": [
    "from sympy import *\n",
    "Rational(0.08).simplify()"
   ]
  },
  {
   "cell_type": "code",
   "execution_count": 5,
   "id": "15fc542f",
   "metadata": {},
   "outputs": [
    {
     "data": {
      "text/latex": [
       "$\\displaystyle \\frac{2}{25}$"
      ],
      "text/plain": [
       "2/25"
      ]
     },
     "execution_count": 5,
     "metadata": {},
     "output_type": "execute_result"
    }
   ],
   "source": [
    "Rational(8,100)"
   ]
  },
  {
   "cell_type": "code",
   "execution_count": 6,
   "id": "384af1d4",
   "metadata": {},
   "outputs": [],
   "source": [
    "def modelo_valor_lote(A, G):\n",
    "    return k*A*G"
   ]
  },
  {
   "cell_type": "code",
   "execution_count": 7,
   "id": "3fc8d3df",
   "metadata": {
    "slideshow": {
     "slide_type": "slide"
    }
   },
   "outputs": [
    {
     "data": {
      "text/plain": [
       "51200.0"
      ]
     },
     "execution_count": 7,
     "metadata": {},
     "output_type": "execute_result"
    }
   ],
   "source": [
    "modelo_valor_lote(400*400,4)"
   ]
  },
  {
   "attachments": {},
   "cell_type": "markdown",
   "id": "3b788bca",
   "metadata": {
    "slideshow": {
     "slide_type": "slide"
    }
   },
   "source": [
    "### Conclusión: El valor de un lote de 400 pies por 400 pies cuyo pozo produce 4 galones de agua por minuto es 51200. "
   ]
  },
  {
   "attachments": {},
   "cell_type": "markdown",
   "id": "4581a45e",
   "metadata": {},
   "source": [
    "# Punto 2 del parcial. Aplicación de la proporcionalidad directa a la física  "
   ]
  },
  {
   "attachments": {},
   "cell_type": "markdown",
   "id": "9541a0dd",
   "metadata": {},
   "source": [
    "30. Ley del Péndulo El período de un péndulo (tiempo transcurrido durante una oscilación completa del péndulo) varía directamente con la raíz cuadrada de la longitud del péndulo.  \n",
    "\n",
    "(a) Exprese esta relación escribiendo una ecuación.  \n",
    "(b) Para duplicar el período, ¿cómo tendríamos que cambiar la longitud $l$?\n",
    "\n",
    "Tomado de la página 136 del precálculo de Stewart. "
   ]
  },
  {
   "attachments": {},
   "cell_type": "markdown",
   "id": "da844186",
   "metadata": {},
   "source": [
    "## Solución con SymPy"
   ]
  },
  {
   "attachments": {},
   "cell_type": "markdown",
   "id": "a74881d7",
   "metadata": {},
   "source": [
    "$$ T \\quad \\alpha \\quad \\sqrt{l} $$"
   ]
  },
  {
   "attachments": {},
   "cell_type": "markdown",
   "id": "eedcb119",
   "metadata": {},
   "source": [
    "$$ T = k\\sqrt{l} $$"
   ]
  },
  {
   "attachments": {},
   "cell_type": "markdown",
   "id": "5251a232",
   "metadata": {},
   "source": [
    "$$ 2T = 2k\\sqrt{l} $$"
   ]
  },
  {
   "attachments": {},
   "cell_type": "markdown",
   "id": "e030f579",
   "metadata": {},
   "source": [
    "$$ 2T = \\sqrt{4}k\\sqrt{l} $$"
   ]
  },
  {
   "attachments": {},
   "cell_type": "markdown",
   "id": "322d2394",
   "metadata": {},
   "source": [
    "$$ 2T = k\\sqrt{4}\\sqrt{l} $$"
   ]
  },
  {
   "attachments": {},
   "cell_type": "markdown",
   "id": "a57e9ad2",
   "metadata": {},
   "source": [
    "$$ 2T = k\\sqrt{4l} $$"
   ]
  },
  {
   "attachments": {},
   "cell_type": "markdown",
   "id": "9dd871a3",
   "metadata": {},
   "source": [
    "Luego, para duplicar el periodo, debes cuadriplicar la longuitud"
   ]
  },
  {
   "attachments": {},
   "cell_type": "markdown",
   "id": "63d19f42",
   "metadata": {
    "slideshow": {
     "slide_type": "slide"
    }
   },
   "source": [
    "# Programa en Python para ingresar registro de las calificaciones en archivo excel"
   ]
  },
  {
   "attachments": {},
   "cell_type": "markdown",
   "id": "e6ff3c98",
   "metadata": {
    "slideshow": {
     "slide_type": "slide"
    }
   },
   "source": [
    "# Desarrollo creciente del programa para gestión de notas\n",
    "\n"
   ]
  },
  {
   "cell_type": "code",
   "execution_count": 8,
   "id": "df0cd30a",
   "metadata": {
    "slideshow": {
     "slide_type": "slide"
    }
   },
   "outputs": [
    {
     "ename": "FileNotFoundError",
     "evalue": "[Errno 2] No such file or directory: '1_algebra.csv'",
     "output_type": "error",
     "traceback": [
      "\u001b[1;31m---------------------------------------------------------------------------\u001b[0m",
      "\u001b[1;31mFileNotFoundError\u001b[0m                         Traceback (most recent call last)",
      "\u001b[1;32mc:\\Users\\Marco\\Documents\\GitHub\\1_algebra\\evaluacion\\evidence_of_learning\\2_evaluation_quiz_parcial_proporcionalidad.ipynb Celda 52\u001b[0m in \u001b[0;36m3\n\u001b[0;32m      <a href='vscode-notebook-cell:/c%3A/Users/Marco/Documents/GitHub/1_algebra/evaluacion/evidence_of_learning/2_evaluation_quiz_parcial_proporcionalidad.ipynb#X52sZmlsZQ%3D%3D?line=0'>1</a>\u001b[0m \u001b[39mimport\u001b[39;00m \u001b[39mpandas\u001b[39;00m \u001b[39mas\u001b[39;00m \u001b[39mpd\u001b[39;00m\n\u001b[1;32m----> <a href='vscode-notebook-cell:/c%3A/Users/Marco/Documents/GitHub/1_algebra/evaluacion/evidence_of_learning/2_evaluation_quiz_parcial_proporcionalidad.ipynb#X52sZmlsZQ%3D%3D?line=2'>3</a>\u001b[0m grupo \u001b[39m=\u001b[39m pd\u001b[39m.\u001b[39;49mread_csv(\u001b[39m'\u001b[39;49m\u001b[39m1_algebra.csv\u001b[39;49m\u001b[39m'\u001b[39;49m)\n\u001b[0;32m      <a href='vscode-notebook-cell:/c%3A/Users/Marco/Documents/GitHub/1_algebra/evaluacion/evidence_of_learning/2_evaluation_quiz_parcial_proporcionalidad.ipynb#X52sZmlsZQ%3D%3D?line=4'>5</a>\u001b[0m \u001b[39m# Iterar sobre cada fila del DataFrame\u001b[39;00m\n\u001b[0;32m      <a href='vscode-notebook-cell:/c%3A/Users/Marco/Documents/GitHub/1_algebra/evaluacion/evidence_of_learning/2_evaluation_quiz_parcial_proporcionalidad.ipynb#X52sZmlsZQ%3D%3D?line=5'>6</a>\u001b[0m \u001b[39mfor\u001b[39;00m estudiante \u001b[39min\u001b[39;00m grupo\u001b[39m.\u001b[39mnombre:\n",
      "File \u001b[1;32m~\\AppData\\Local\\Packages\\PythonSoftwareFoundation.Python.3.10_qbz5n2kfra8p0\\LocalCache\\local-packages\\Python310\\site-packages\\pandas\\util\\_decorators.py:211\u001b[0m, in \u001b[0;36mdeprecate_kwarg.<locals>._deprecate_kwarg.<locals>.wrapper\u001b[1;34m(*args, **kwargs)\u001b[0m\n\u001b[0;32m    209\u001b[0m     \u001b[39melse\u001b[39;00m:\n\u001b[0;32m    210\u001b[0m         kwargs[new_arg_name] \u001b[39m=\u001b[39m new_arg_value\n\u001b[1;32m--> 211\u001b[0m \u001b[39mreturn\u001b[39;00m func(\u001b[39m*\u001b[39margs, \u001b[39m*\u001b[39m\u001b[39m*\u001b[39mkwargs)\n",
      "File \u001b[1;32m~\\AppData\\Local\\Packages\\PythonSoftwareFoundation.Python.3.10_qbz5n2kfra8p0\\LocalCache\\local-packages\\Python310\\site-packages\\pandas\\util\\_decorators.py:331\u001b[0m, in \u001b[0;36mdeprecate_nonkeyword_arguments.<locals>.decorate.<locals>.wrapper\u001b[1;34m(*args, **kwargs)\u001b[0m\n\u001b[0;32m    325\u001b[0m \u001b[39mif\u001b[39;00m \u001b[39mlen\u001b[39m(args) \u001b[39m>\u001b[39m num_allow_args:\n\u001b[0;32m    326\u001b[0m     warnings\u001b[39m.\u001b[39mwarn(\n\u001b[0;32m    327\u001b[0m         msg\u001b[39m.\u001b[39mformat(arguments\u001b[39m=\u001b[39m_format_argument_list(allow_args)),\n\u001b[0;32m    328\u001b[0m         \u001b[39mFutureWarning\u001b[39;00m,\n\u001b[0;32m    329\u001b[0m         stacklevel\u001b[39m=\u001b[39mfind_stack_level(),\n\u001b[0;32m    330\u001b[0m     )\n\u001b[1;32m--> 331\u001b[0m \u001b[39mreturn\u001b[39;00m func(\u001b[39m*\u001b[39margs, \u001b[39m*\u001b[39m\u001b[39m*\u001b[39mkwargs)\n",
      "File \u001b[1;32m~\\AppData\\Local\\Packages\\PythonSoftwareFoundation.Python.3.10_qbz5n2kfra8p0\\LocalCache\\local-packages\\Python310\\site-packages\\pandas\\io\\parsers\\readers.py:950\u001b[0m, in \u001b[0;36mread_csv\u001b[1;34m(filepath_or_buffer, sep, delimiter, header, names, index_col, usecols, squeeze, prefix, mangle_dupe_cols, dtype, engine, converters, true_values, false_values, skipinitialspace, skiprows, skipfooter, nrows, na_values, keep_default_na, na_filter, verbose, skip_blank_lines, parse_dates, infer_datetime_format, keep_date_col, date_parser, dayfirst, cache_dates, iterator, chunksize, compression, thousands, decimal, lineterminator, quotechar, quoting, doublequote, escapechar, comment, encoding, encoding_errors, dialect, error_bad_lines, warn_bad_lines, on_bad_lines, delim_whitespace, low_memory, memory_map, float_precision, storage_options)\u001b[0m\n\u001b[0;32m    935\u001b[0m kwds_defaults \u001b[39m=\u001b[39m _refine_defaults_read(\n\u001b[0;32m    936\u001b[0m     dialect,\n\u001b[0;32m    937\u001b[0m     delimiter,\n\u001b[1;32m   (...)\u001b[0m\n\u001b[0;32m    946\u001b[0m     defaults\u001b[39m=\u001b[39m{\u001b[39m\"\u001b[39m\u001b[39mdelimiter\u001b[39m\u001b[39m\"\u001b[39m: \u001b[39m\"\u001b[39m\u001b[39m,\u001b[39m\u001b[39m\"\u001b[39m},\n\u001b[0;32m    947\u001b[0m )\n\u001b[0;32m    948\u001b[0m kwds\u001b[39m.\u001b[39mupdate(kwds_defaults)\n\u001b[1;32m--> 950\u001b[0m \u001b[39mreturn\u001b[39;00m _read(filepath_or_buffer, kwds)\n",
      "File \u001b[1;32m~\\AppData\\Local\\Packages\\PythonSoftwareFoundation.Python.3.10_qbz5n2kfra8p0\\LocalCache\\local-packages\\Python310\\site-packages\\pandas\\io\\parsers\\readers.py:605\u001b[0m, in \u001b[0;36m_read\u001b[1;34m(filepath_or_buffer, kwds)\u001b[0m\n\u001b[0;32m    602\u001b[0m _validate_names(kwds\u001b[39m.\u001b[39mget(\u001b[39m\"\u001b[39m\u001b[39mnames\u001b[39m\u001b[39m\"\u001b[39m, \u001b[39mNone\u001b[39;00m))\n\u001b[0;32m    604\u001b[0m \u001b[39m# Create the parser.\u001b[39;00m\n\u001b[1;32m--> 605\u001b[0m parser \u001b[39m=\u001b[39m TextFileReader(filepath_or_buffer, \u001b[39m*\u001b[39m\u001b[39m*\u001b[39mkwds)\n\u001b[0;32m    607\u001b[0m \u001b[39mif\u001b[39;00m chunksize \u001b[39mor\u001b[39;00m iterator:\n\u001b[0;32m    608\u001b[0m     \u001b[39mreturn\u001b[39;00m parser\n",
      "File \u001b[1;32m~\\AppData\\Local\\Packages\\PythonSoftwareFoundation.Python.3.10_qbz5n2kfra8p0\\LocalCache\\local-packages\\Python310\\site-packages\\pandas\\io\\parsers\\readers.py:1442\u001b[0m, in \u001b[0;36mTextFileReader.__init__\u001b[1;34m(self, f, engine, **kwds)\u001b[0m\n\u001b[0;32m   1439\u001b[0m     \u001b[39mself\u001b[39m\u001b[39m.\u001b[39moptions[\u001b[39m\"\u001b[39m\u001b[39mhas_index_names\u001b[39m\u001b[39m\"\u001b[39m] \u001b[39m=\u001b[39m kwds[\u001b[39m\"\u001b[39m\u001b[39mhas_index_names\u001b[39m\u001b[39m\"\u001b[39m]\n\u001b[0;32m   1441\u001b[0m \u001b[39mself\u001b[39m\u001b[39m.\u001b[39mhandles: IOHandles \u001b[39m|\u001b[39m \u001b[39mNone\u001b[39;00m \u001b[39m=\u001b[39m \u001b[39mNone\u001b[39;00m\n\u001b[1;32m-> 1442\u001b[0m \u001b[39mself\u001b[39m\u001b[39m.\u001b[39m_engine \u001b[39m=\u001b[39m \u001b[39mself\u001b[39;49m\u001b[39m.\u001b[39;49m_make_engine(f, \u001b[39mself\u001b[39;49m\u001b[39m.\u001b[39;49mengine)\n",
      "File \u001b[1;32m~\\AppData\\Local\\Packages\\PythonSoftwareFoundation.Python.3.10_qbz5n2kfra8p0\\LocalCache\\local-packages\\Python310\\site-packages\\pandas\\io\\parsers\\readers.py:1735\u001b[0m, in \u001b[0;36mTextFileReader._make_engine\u001b[1;34m(self, f, engine)\u001b[0m\n\u001b[0;32m   1733\u001b[0m     \u001b[39mif\u001b[39;00m \u001b[39m\"\u001b[39m\u001b[39mb\u001b[39m\u001b[39m\"\u001b[39m \u001b[39mnot\u001b[39;00m \u001b[39min\u001b[39;00m mode:\n\u001b[0;32m   1734\u001b[0m         mode \u001b[39m+\u001b[39m\u001b[39m=\u001b[39m \u001b[39m\"\u001b[39m\u001b[39mb\u001b[39m\u001b[39m\"\u001b[39m\n\u001b[1;32m-> 1735\u001b[0m \u001b[39mself\u001b[39m\u001b[39m.\u001b[39mhandles \u001b[39m=\u001b[39m get_handle(\n\u001b[0;32m   1736\u001b[0m     f,\n\u001b[0;32m   1737\u001b[0m     mode,\n\u001b[0;32m   1738\u001b[0m     encoding\u001b[39m=\u001b[39;49m\u001b[39mself\u001b[39;49m\u001b[39m.\u001b[39;49moptions\u001b[39m.\u001b[39;49mget(\u001b[39m\"\u001b[39;49m\u001b[39mencoding\u001b[39;49m\u001b[39m\"\u001b[39;49m, \u001b[39mNone\u001b[39;49;00m),\n\u001b[0;32m   1739\u001b[0m     compression\u001b[39m=\u001b[39;49m\u001b[39mself\u001b[39;49m\u001b[39m.\u001b[39;49moptions\u001b[39m.\u001b[39;49mget(\u001b[39m\"\u001b[39;49m\u001b[39mcompression\u001b[39;49m\u001b[39m\"\u001b[39;49m, \u001b[39mNone\u001b[39;49;00m),\n\u001b[0;32m   1740\u001b[0m     memory_map\u001b[39m=\u001b[39;49m\u001b[39mself\u001b[39;49m\u001b[39m.\u001b[39;49moptions\u001b[39m.\u001b[39;49mget(\u001b[39m\"\u001b[39;49m\u001b[39mmemory_map\u001b[39;49m\u001b[39m\"\u001b[39;49m, \u001b[39mFalse\u001b[39;49;00m),\n\u001b[0;32m   1741\u001b[0m     is_text\u001b[39m=\u001b[39;49mis_text,\n\u001b[0;32m   1742\u001b[0m     errors\u001b[39m=\u001b[39;49m\u001b[39mself\u001b[39;49m\u001b[39m.\u001b[39;49moptions\u001b[39m.\u001b[39;49mget(\u001b[39m\"\u001b[39;49m\u001b[39mencoding_errors\u001b[39;49m\u001b[39m\"\u001b[39;49m, \u001b[39m\"\u001b[39;49m\u001b[39mstrict\u001b[39;49m\u001b[39m\"\u001b[39;49m),\n\u001b[0;32m   1743\u001b[0m     storage_options\u001b[39m=\u001b[39;49m\u001b[39mself\u001b[39;49m\u001b[39m.\u001b[39;49moptions\u001b[39m.\u001b[39;49mget(\u001b[39m\"\u001b[39;49m\u001b[39mstorage_options\u001b[39;49m\u001b[39m\"\u001b[39;49m, \u001b[39mNone\u001b[39;49;00m),\n\u001b[0;32m   1744\u001b[0m )\n\u001b[0;32m   1745\u001b[0m \u001b[39massert\u001b[39;00m \u001b[39mself\u001b[39m\u001b[39m.\u001b[39mhandles \u001b[39mis\u001b[39;00m \u001b[39mnot\u001b[39;00m \u001b[39mNone\u001b[39;00m\n\u001b[0;32m   1746\u001b[0m f \u001b[39m=\u001b[39m \u001b[39mself\u001b[39m\u001b[39m.\u001b[39mhandles\u001b[39m.\u001b[39mhandle\n",
      "File \u001b[1;32m~\\AppData\\Local\\Packages\\PythonSoftwareFoundation.Python.3.10_qbz5n2kfra8p0\\LocalCache\\local-packages\\Python310\\site-packages\\pandas\\io\\common.py:856\u001b[0m, in \u001b[0;36mget_handle\u001b[1;34m(path_or_buf, mode, encoding, compression, memory_map, is_text, errors, storage_options)\u001b[0m\n\u001b[0;32m    851\u001b[0m \u001b[39melif\u001b[39;00m \u001b[39misinstance\u001b[39m(handle, \u001b[39mstr\u001b[39m):\n\u001b[0;32m    852\u001b[0m     \u001b[39m# Check whether the filename is to be opened in binary mode.\u001b[39;00m\n\u001b[0;32m    853\u001b[0m     \u001b[39m# Binary mode does not support 'encoding' and 'newline'.\u001b[39;00m\n\u001b[0;32m    854\u001b[0m     \u001b[39mif\u001b[39;00m ioargs\u001b[39m.\u001b[39mencoding \u001b[39mand\u001b[39;00m \u001b[39m\"\u001b[39m\u001b[39mb\u001b[39m\u001b[39m\"\u001b[39m \u001b[39mnot\u001b[39;00m \u001b[39min\u001b[39;00m ioargs\u001b[39m.\u001b[39mmode:\n\u001b[0;32m    855\u001b[0m         \u001b[39m# Encoding\u001b[39;00m\n\u001b[1;32m--> 856\u001b[0m         handle \u001b[39m=\u001b[39m \u001b[39mopen\u001b[39;49m(\n\u001b[0;32m    857\u001b[0m             handle,\n\u001b[0;32m    858\u001b[0m             ioargs\u001b[39m.\u001b[39;49mmode,\n\u001b[0;32m    859\u001b[0m             encoding\u001b[39m=\u001b[39;49mioargs\u001b[39m.\u001b[39;49mencoding,\n\u001b[0;32m    860\u001b[0m             errors\u001b[39m=\u001b[39;49merrors,\n\u001b[0;32m    861\u001b[0m             newline\u001b[39m=\u001b[39;49m\u001b[39m\"\u001b[39;49m\u001b[39m\"\u001b[39;49m,\n\u001b[0;32m    862\u001b[0m         )\n\u001b[0;32m    863\u001b[0m     \u001b[39melse\u001b[39;00m:\n\u001b[0;32m    864\u001b[0m         \u001b[39m# Binary mode\u001b[39;00m\n\u001b[0;32m    865\u001b[0m         handle \u001b[39m=\u001b[39m \u001b[39mopen\u001b[39m(handle, ioargs\u001b[39m.\u001b[39mmode)\n",
      "\u001b[1;31mFileNotFoundError\u001b[0m: [Errno 2] No such file or directory: '1_algebra.csv'"
     ]
    }
   ],
   "source": [
    "import pandas as pd\n",
    "\n",
    "grupo = pd.read_csv('1_algebra.csv')\n",
    "\n",
    "# Iterar sobre cada fila del DataFrame\n",
    "for estudiante in grupo.nombre:\n",
    "    print(estudiante)\n",
    "    grupo.tf[] = float(input('entre la nota del estudiante'))\n",
    "    "
   ]
  },
  {
   "cell_type": "code",
   "execution_count": 3,
   "id": "6f027710",
   "metadata": {
    "slideshow": {
     "slide_type": "slide"
    }
   },
   "outputs": [
    {
     "name": "stdout",
     "output_type": "stream",
     "text": [
      "Promedio general de todos los estudiantes: 4.033333333333333\n",
      "Promedio de Juan: 4.033333333333333\n"
     ]
    }
   ],
   "source": [
    "import pandas as pd \n",
    "\n",
    "\n",
    "class Estudiante:\n",
    "    def __init__(self, nombre, notas):\n",
    "        self.nombre = nombre\n",
    "        self.notas = notas\n",
    "\n",
    "    def promedio(self):\n",
    "        return sum(self.notas) / len(self.notas)\n",
    "\n",
    "class GestorEstudiantes:\n",
    "    def __init__(self):\n",
    "        self.estudiantes = []\n",
    "\n",
    "    def agregar_estudiante(self, estudiante):\n",
    "        self.estudiantes.append(estudiante)\n",
    "\n",
    "    def obtener_promedio_general(self):\n",
    "        promedios = [estudiante.promedio() for estudiante in self.estudiantes]\n",
    "        return sum(promedios) / len(promedios)\n",
    "\n",
    "    def obtener_promedio_estudiante(self, nombre):\n",
    "        for estudiante in self.estudiantes:\n",
    "            if estudiante.nombre == nombre:\n",
    "                return estudiante.promedio()\n",
    "        return None\n",
    "\n",
    "# Crear el gestor de estudiantes\n",
    "gestor = GestorEstudiantes()\n",
    "\n",
    "# Agregar estudiantes\n",
    "estudiante1 = Estudiante(\"Juan\", [4, 4.2, 3.9])\n",
    "estudiante2 = Estudiante(\"María\", [4, 4.2, 3.9])\n",
    "estudiante3 = Estudiante(\"Pedro\", [4, 4.2, 3.9])\n",
    "gestor.agregar_estudiante(estudiante1)\n",
    "gestor.agregar_estudiante(estudiante2)\n",
    "gestor.agregar_estudiante(estudiante3)\n",
    "\n",
    "# Obtener promedio general\n",
    "promedio_general = gestor.obtener_promedio_general()\n",
    "print(\"Promedio general de todos los estudiantes:\", promedio_general)\n",
    "\n",
    "# Obtener promedio de un estudiante específico\n",
    "nombre_estudiante = \"Juan\"\n",
    "promedio_estudiante = gestor.obtener_promedio_estudiante(nombre_estudiante)\n",
    "if promedio_estudiante is not None:\n",
    "    print(\"Promedio de\", nombre_estudiante + \":\", promedio_estudiante)\n",
    "else:\n",
    "    print(\"No se encontró al estudiante\", nombre_estudiante)\n"
   ]
  },
  {
   "attachments": {},
   "cell_type": "markdown",
   "id": "bf8d11a1",
   "metadata": {
    "slideshow": {
     "slide_type": "slide"
    }
   },
   "source": [
    "## Mapa conceptual de la clase elaborado en CMapTools"
   ]
  },
  {
   "attachments": {},
   "cell_type": "markdown",
   "id": "aac04d00",
   "metadata": {
    "slideshow": {
     "slide_type": "slide"
    }
   },
   "source": [
    "<img src = ''>"
   ]
  },
  {
   "attachments": {},
   "cell_type": "markdown",
   "id": "8a6f7ef9",
   "metadata": {
    "slideshow": {
     "slide_type": "slide"
    }
   },
   "source": [
    "## Tareas para realizar antes de la clase"
   ]
  },
  {
   "attachments": {},
   "cell_type": "markdown",
   "id": "90cae469",
   "metadata": {
    "slideshow": {
     "slide_type": "slide"
    }
   },
   "source": [
    "1. Ver los videos respectivos []()\n",
    "2. Memorizar las definiciones []()\n",
    "3. Sintetizar o resumir la información en mapas conceptuales. []()"
   ]
  },
  {
   "attachments": {},
   "cell_type": "markdown",
   "id": "fccb447c",
   "metadata": {
    "slideshow": {
     "slide_type": "slide"
    }
   },
   "source": [
    "# Tareas para realizar en clase"
   ]
  },
  {
   "attachments": {},
   "cell_type": "markdown",
   "id": "e5c48edf",
   "metadata": {
    "slideshow": {
     "slide_type": "slide"
    }
   },
   "source": [
    "* Modelación matemática \n",
    "* Trabajo en equipos"
   ]
  },
  {
   "attachments": {},
   "cell_type": "markdown",
   "id": "8b6b0112",
   "metadata": {
    "slideshow": {
     "slide_type": "slide"
    }
   },
   "source": [
    "# Tareas para realizar después de la realización de la clase"
   ]
  },
  {
   "attachments": {},
   "cell_type": "markdown",
   "id": "947460e3",
   "metadata": {
    "slideshow": {
     "slide_type": "slide"
    }
   },
   "source": [
    "* Actividades de memorización: \n",
    "  - escucha reiterada de grabaciones de formulas y resultados científicos. \n",
    "  - relectura de notas. \n",
    "  - ejercicios de mayor complejidad. \n",
    "  "
   ]
  },
  {
   "attachments": {},
   "cell_type": "markdown",
   "id": "935a5567",
   "metadata": {
    "slideshow": {
     "slide_type": "slide"
    }
   },
   "source": [
    "## Dificultades de aprendizaje detectados durante la clase"
   ]
  },
  {
   "attachments": {},
   "cell_type": "markdown",
   "id": "7d9c6c7f",
   "metadata": {
    "slideshow": {
     "slide_type": "slide"
    }
   },
   "source": [
    "* Comprender que en el proceso de modelamiento, se dan datos para poder determinar la constante que define el modelo particular que se utiliza para predecir. \n",
    "\n",
    "* Comprender que en la proporcionalidad directa entre dos variables, la constante de proporcionalidad se obtiene del cociente entre valores respectivos de las variables proporcionales. "
   ]
  },
  {
   "attachments": {},
   "cell_type": "markdown",
   "id": "fb9402bb",
   "metadata": {
    "slideshow": {
     "slide_type": "slide"
    }
   },
   "source": [
    "## Estrategias propuestas para la solución de las dificultades de aprendizaje detectadas"
   ]
  },
  {
   "attachments": {},
   "cell_type": "markdown",
   "id": "2dd3bd5c",
   "metadata": {
    "slideshow": {
     "slide_type": "slide"
    }
   },
   "source": [
    "* Colocar problemas de variación proporcional conjunta que el estudiante pueda evaluar la veracidad de una respuesta a través de razonamientos de compenzación. \n",
    "\n",
    "## Valor de un lote  \n",
    "\n",
    "El valor de un lote para construcción en una isla es conjuntamente proporcional a su área y a la cantidad de agua producida por un pozo que está en la propiedad.   \n",
    "\n",
    "Un lote de 200 pies por 300 pies tiene un pozo que produce 10 galones de agua por minuto, y está valuado en 48,000 dólares.   \n",
    "\n",
    "1. Determine el modelo que debe utilizarse para predicciones en esta situación real\n",
    "   (Defina la función de Python que represente este modelo)  \n",
    "\n",
    "   \n",
    "2. ¿Cuál es el valor de un lote de 400 pies por 300 pies si el pozo del lote produce 5 galones de agua por minuto?\n",
    "\n",
    "Es decir, hemos diseñado un ejercicio de modelación en donde se ha duplicado el área y se ha reducido a la mitad la cantidad de agua por minuto que da el pozo. "
   ]
  },
  {
   "cell_type": "code",
   "execution_count": 9,
   "id": "3e3d6444",
   "metadata": {},
   "outputs": [
    {
     "data": {
      "text/plain": [
       "48000.0"
      ]
     },
     "execution_count": 9,
     "metadata": {},
     "output_type": "execute_result"
    }
   ],
   "source": [
    "k = 48000/(200*300*10)\n",
    "def modelo_valor_lote(A, G):\n",
    "    return k*A*G\n",
    "modelo_valor_lote(400*300,5)"
   ]
  },
  {
   "attachments": {},
   "cell_type": "markdown",
   "id": "d11570a2",
   "metadata": {
    "slideshow": {
     "slide_type": "slide"
    }
   },
   "source": [
    "## Cuestionario para realizar labores de memorización y observación,  a la síntesis de la información"
   ]
  },
  {
   "attachments": {},
   "cell_type": "markdown",
   "id": "540f0ec1",
   "metadata": {
    "slideshow": {
     "slide_type": "slide"
    }
   },
   "source": [
    "1. ¿Qué condiciones son suficientes para poder implicar que una relación entre dos variables es de proporcionalidad directa?\n",
    "\n",
    "2. ¿Qué condiciones son suficientes para poder implicar que una relación entre dos variables es de proporcionalidad inversa? De un ejemplo. "
   ]
  },
  {
   "attachments": {},
   "cell_type": "markdown",
   "id": "236b43fc",
   "metadata": {
    "slideshow": {
     "slide_type": "slide"
    }
   },
   "source": [
    "## Grabaciones en audio para fomentar la capacidad de memorizar enunciados de teoremas y resultados científicos y la capacidad de parafrasear estos resultados. "
   ]
  },
  {
   "attachments": {},
   "cell_type": "markdown",
   "id": "319f2ffa",
   "metadata": {
    "slideshow": {
     "slide_type": "slide"
    }
   },
   "source": [
    "Se dispondrá de un lugar en Vocaroo para albergar los archivos de audio de fomento a la memorización, enunciación y parafraseo de los resultados científicos, prtopiedades, reglas, etc. \n",
    "\n",
    "* [Vocaroo](https://vocaroo.com/)\n",
    "* [Condiciones para que una relación entre dos variables sea de proporcionalidad directa](https://voca.ro/17y9OgLY0Iis)"
   ]
  },
  {
   "attachments": {},
   "cell_type": "markdown",
   "id": "564fa59d",
   "metadata": {
    "slideshow": {
     "slide_type": "slide"
    }
   },
   "source": [
    "### Comparta sus cuadernos y videos, evidencias de su aprendizaje [aquí](https://forms.office.com/Pages/ResponsePage.aspx?id=IefhmYRxjkmK_7KtTlPBwkanXIs1i1FEujpsZgO6dXpUMEMwTEZVMzEwVVBPTElWNVg5OVEyWUhMUy4u)"
   ]
  },
  {
   "cell_type": "code",
   "execution_count": null,
   "id": "5fe498b3",
   "metadata": {
    "slideshow": {
     "slide_type": "slide"
    }
   },
   "outputs": [],
   "source": []
  },
  {
   "attachments": {},
   "cell_type": "markdown",
   "id": "44be6d93",
   "metadata": {
    "slideshow": {
     "slide_type": "slide"
    }
   },
   "source": [
    "# Vocabulary "
   ]
  },
  {
   "attachments": {},
   "cell_type": "markdown",
   "id": "99b8dfed",
   "metadata": {
    "slideshow": {
     "slide_type": "slide"
    }
   },
   "source": [
    "Teacher: Good morning, John! Today, let's talk about the period of a simple pendulum and its relationship with the length of the pendulum. Are you familiar with this topic?\n",
    "\n",
    "Student: Good morning, sir! Yes, I've heard about it, but I would like to understand it better. As far as I know, the period is the time it takes for the pendulum to complete one full swing, right?\n"
   ]
  },
  {
   "attachments": {},
   "cell_type": "markdown",
   "id": "161e0fb8",
   "metadata": {},
   "source": [
    "\n",
    "Teacher: That's correct, John! The period is indeed the time it takes for a pendulum to complete one full oscillation or swing, which means it goes from one extreme point to the other and back again. Now, let's delve into the relationship between the period and the length of the pendulum. Have you heard anything about that?\n",
    "\n",
    "Student: I think I remember something about the period being related to the length of the pendulum. Is it true that the period is proportional to the square root of the length?\n",
    "\n",
    "Teacher: Exactly! You're on the right track, John. The period of a simple pendulum is indeed proportional to the square root of its length. This relationship is described by a formula: T = 2π√(L/g), where T represents the period, L is the length of the pendulum, and g is the acceleration due to gravity. The 2π factor is related to the circular motion of the pendulum.\n",
    "\n",
    "Student: I see. So, if I understand correctly, if we double the length of the pendulum, the period will increase by a factor of the square root of 2?\n",
    "\n",
    "Teacher: Almost, John. Doubling the length of the pendulum will actually cause the period to increase by a factor of square root of 2, which is approximately 1.414. In general, if you change the length of the pendulum by a certain factor, the period will change by the square root of that factor.\n",
    "\n",
    "Student: Okay, I think I got it now. So, if we have a shorter pendulum, it will swing back and forth more quickly compared to a longer pendulum with the same amplitude, right?\n",
    "\n",
    "Teacher: Yes, that's correct! A shorter pendulum will have a shorter period, meaning it will complete its swings more quickly. Conversely, a longer pendulum will take more time to complete each swing. It's interesting to observe how the length of the pendulum affects its motion.\n",
    "\n",
    "Student: That's really fascinating! I can imagine that the length of the pendulum must have been crucial for clockmakers in the past. They needed to adjust the pendulum length precisely to ensure accurate timekeeping.\n",
    "\n",
    "Teacher: Absolutely, John! The discovery of the relationship between the period and the length of the pendulum played a crucial role in the development of accurate timekeeping devices like pendulum clocks. Clockmakers had to meticulously adjust the length of the pendulum to achieve accurate timekeeping. Even today, pendulums are used in some precision clocks and scientific instruments.\n",
    "\n",
    "Student: Thank you for explaining this to me, sir. I have a much clearer understanding now. The relationship between the period and the length of a simple pendulum is quite intriguing.\n",
    "\n",
    "Teacher: You're welcome, John! I'm glad I could help. It's always a pleasure to see students enthusiastic about learning. If you have any more questions or if there's anything else you'd like to know, feel free to ask."
   ]
  },
  {
   "attachments": {},
   "cell_type": "markdown",
   "id": "97534ead",
   "metadata": {},
   "source": [
    "[Escuchar las conversaciones en inglés](https://www.languagereactor.com/text)"
   ]
  },
  {
   "attachments": {},
   "cell_type": "markdown",
   "id": "ee46cb9a",
   "metadata": {
    "slideshow": {
     "slide_type": "slide"
    }
   },
   "source": [
    "## Mapa conceptual que vincula los conceptos asoaciados al objetivo de aprendizaje"
   ]
  },
  {
   "cell_type": "code",
   "execution_count": null,
   "id": "bf552488",
   "metadata": {
    "slideshow": {
     "slide_type": "slide"
    }
   },
   "outputs": [],
   "source": []
  },
  {
   "attachments": {},
   "cell_type": "markdown",
   "id": "0266e3c5",
   "metadata": {
    "slideshow": {
     "slide_type": "slide"
    }
   },
   "source": [
    "## Quiz de 5 minutos para ejercitación y adquisición de habilidades "
   ]
  },
  {
   "attachments": {},
   "cell_type": "markdown",
   "id": "3a1b127f",
   "metadata": {
    "slideshow": {
     "slide_type": "slide"
    }
   },
   "source": []
  },
  {
   "attachments": {},
   "cell_type": "markdown",
   "id": "10bce0d0",
   "metadata": {
    "slideshow": {
     "slide_type": "slide"
    }
   },
   "source": [
    "## Referentes "
   ]
  },
  {
   "attachments": {},
   "cell_type": "markdown",
   "id": "1db3c468",
   "metadata": {
    "slideshow": {
     "slide_type": "slide"
    }
   },
   "source": [
    "* [stewart precálculo](https://udeaeduco-my.sharepoint.com/:b:/g/personal/marco_canas_udea_edu_co/ERHIq62I6qFNrmxy6LZb8ZMBci7kUsyNME1nIh9yCBMJ_w?e=0zMSla)  \n",
    "\n",
    "* [stewart cálculo](https://udeaeduco-my.sharepoint.com/:b:/g/personal/marco_canas_udea_edu_co/EZgXZjAp8QxPqOAim2hs6LcBNPLGjSHf-xwYnUVYkwa04w?e=RZdTCy)  \n",
    "\n",
    "* [larson](https://udeaeduco-my.sharepoint.com/:b:/g/personal/marco_canas_udea_edu_co/ES71ChFeO9ZDhW3TwC5Ijk8BjxUK3Pdqz_fjHxTTFAfIAg?e=VDEjfu)\n",
    "\n",
    "* [uzcategui](https://udeaeduco-my.sharepoint.com/:b:/g/personal/marco_canas_udea_edu_co/ETDikm-lVl1Or8XoEo9oyh0BEti9Zs8le-f0D-dBdtZmbA?e=bBsoyQ)\n",
    "\n",
    "* [Recomendación de la UNESCO sobre ciencia abierta](https://unesdoc.unesco.org/ark:/48223/pf0000379949_spa)"
   ]
  },
  {
   "attachments": {},
   "cell_type": "markdown",
   "id": "6b9e56a8",
   "metadata": {
    "slideshow": {
     "slide_type": "slide"
    }
   },
   "source": [
    "### [Evaluamos al profesor Marco Cañas Aquí](https://forms.office.com/Pages/ResponsePage.aspx?id=IefhmYRxjkmK_7KtTlPBwkanXIs1i1FEujpsZgO6dXpUREJPV1kxUk1JV1ozTFJIQVNIQjY5WEY3US4u)"
   ]
  },
  {
   "attachments": {},
   "cell_type": "markdown",
   "id": "071afa04",
   "metadata": {
    "slideshow": {
     "slide_type": "slide"
    }
   },
   "source": [
    "## [Evaluación luego de alcanzar estos objetivos de aprendizaje]()"
   ]
  },
  {
   "attachments": {},
   "cell_type": "markdown",
   "id": "10f43536",
   "metadata": {
    "slideshow": {
     "slide_type": "slide"
    }
   },
   "source": [
    "### Continue su aprendizaje en la siguiente clase a través del siguiente [vínculo]()"
   ]
  },
  {
   "attachments": {},
   "cell_type": "markdown",
   "id": "af751e30",
   "metadata": {
    "slideshow": {
     "slide_type": "slide"
    }
   },
   "source": [
    "# Conjeturas pedagógicas fruto de la aplicación del modelo de aprendizaje invertido y del enfoque hacia la ciencia de datos con python\n",
    "\n",
    "1. Todo cálculo o resultado debe ser interpretado en una línea markdown del cuaderno Jupyter, inmediatamente después de la enunciación del resultado y después de la presentación de una tabla o gráfico bidimensional, de tal menera que el estudiante explicite la comprensión verbal del resultado y las inferencias o estrategias que este resultado le sugieren.   "
   ]
  },
  {
   "attachments": {},
   "cell_type": "markdown",
   "id": "53cc9115",
   "metadata": {
    "slideshow": {
     "slide_type": "slide"
    }
   },
   "source": [
    "## Agradecimientos  \n",
    "\n",
    "Doy gracias a Dios por la vida de mi Hijo Joseph Cañas Osorio y la madurez que ha alcanzado.\n",
    "\n",
    "Y a mi esposa Yasmira por su apoyo, orientación y acompañamiento. "
   ]
  },
  {
   "attachments": {},
   "cell_type": "markdown",
   "id": "28d61906",
   "metadata": {
    "slideshow": {
     "slide_type": "slide"
    }
   },
   "source": [
    "# [How to integrate openai in Jupyter notebook](https://www.google.com/search?client=firefox-b-d&q=chatgpt+extension+for+jupyter+of+anaconda+prompt#fpstate=ive&vld=cid:4f216dcc,vid:2izXQUoXyjA)"
   ]
  },
  {
   "cell_type": "code",
   "execution_count": 5,
   "id": "51380709",
   "metadata": {
    "slideshow": {
     "slide_type": "slide"
    }
   },
   "outputs": [],
   "source": [
    "import openai"
   ]
  },
  {
   "cell_type": "code",
   "execution_count": 7,
   "id": "58d714df",
   "metadata": {
    "slideshow": {
     "slide_type": "slide"
    }
   },
   "outputs": [],
   "source": [
    "openai.api_key = 'JosephCanasOsorio1213Yasmira_Barboza'"
   ]
  },
  {
   "cell_type": "code",
   "execution_count": null,
   "id": "1ce86413",
   "metadata": {},
   "outputs": [],
   "source": [
    "def get_gpt_response(prompt):\n",
    "    "
   ]
  },
  {
   "attachments": {},
   "cell_type": "markdown",
   "id": "0f1f3d76",
   "metadata": {
    "slideshow": {
     "slide_type": "slide"
    }
   },
   "source": [
    "# [ChatGPT para Jupyter: la extensión de ChatGPT para Jupyter Notebooks La extensión que todo científico de datos necesita.](https://artificialcorner.com/chatgpt-for-jupyter-the-chatgpt-extension-for-jupyter-notebooks-4eb9ab481bd9)"
   ]
  },
  {
   "attachments": {},
   "cell_type": "markdown",
   "id": "a3f4a119",
   "metadata": {
    "slideshow": {
     "slide_type": "slide"
    }
   },
   "source": [
    "<img src = 'https://miro.medium.com/v2/resize:fit:1100/format:webp/1*n6CsGfhhefORfPXEU3GWGw.png'>"
   ]
  },
  {
   "attachments": {},
   "cell_type": "markdown",
   "id": "73744ee3",
   "metadata": {
    "slideshow": {
     "slide_type": "slide"
    }
   },
   "source": [
    "¡Has oído bien! Puede obtener las funcionalidades de ChatGPT, como formatear, explicar, depurar, completar y revisar el código directamente desde Jupyter Notebook.\n",
    "\n",
    "¡Vamos a sumergirnos en ello!"
   ]
  },
  {
   "attachments": {},
   "cell_type": "markdown",
   "id": "fda6eb06",
   "metadata": {
    "slideshow": {
     "slide_type": "slide"
    }
   },
   "source": [
    "## Cómo instalar la extensión ChatGPT para Jupyter Notebooks"
   ]
  },
  {
   "attachments": {},
   "cell_type": "markdown",
   "id": "5d5d7867",
   "metadata": {
    "slideshow": {
     "slide_type": "slide"
    }
   },
   "source": [
    "En primer lugar, esta es una extensión de navegador impulsada por GPT-4, lo que significa que tenemos que descargar la extensión de la tienda web."
   ]
  },
  {
   "attachments": {},
   "cell_type": "markdown",
   "id": "f6ab96de",
   "metadata": {},
   "source": [
    "Si eres usuario de Chrome, ve a este sitio web e instala la extensión, mientras que si eres un Firefox puedes instalarla localmente siguiendo los pasos aquí.\n",
    "\n",
    "Después de instalar la extensión, abra la ventana de configuración. Debe seleccionar OpenAI API, elegir un modelo que desee usar e insertar su clave OpenAI API, que puede encontrar aquí."
   ]
  }
 ],
 "metadata": {
  "celltoolbar": "Slideshow",
  "kernelspec": {
   "display_name": "Python 3 (ipykernel)",
   "language": "python",
   "name": "python3"
  },
  "language_info": {
   "codemirror_mode": {
    "name": "ipython",
    "version": 3
   },
   "file_extension": ".py",
   "mimetype": "text/x-python",
   "name": "python",
   "nbconvert_exporter": "python",
   "pygments_lexer": "ipython3",
   "version": "3.10.11"
  },
  "rise": {
   "enable_chalkboard": true,
   "theme": "sky",
   "transition": "zoom"
  }
 },
 "nbformat": 4,
 "nbformat_minor": 5
}
