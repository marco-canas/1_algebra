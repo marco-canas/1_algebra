{
  "cells": [
    {
      "cell_type": "markdown",
      "id": "ebf86521",
      "metadata": {
        "id": "ebf86521"
      },
      "source": [
        "<table align=\"left\">\n",
        "  <td>\n",
        "    <a href=\"https://colab.research.google.com/github/marco-canas/1_algebra/blob/main/classes/ciencia_datos/4_class/4_class_march_1_graficas_funciones.ipynb\" target=\"_parent\"><img src=\"https://colab.research.google.com/assets/colab-badge.svg\" alt=\"Open In Colab\"/></a>\n",
        "  </td>\n",
        "</table>"
      ]
    },
    {
      "cell_type": "code",
      "execution_count": 4,
      "id": "08b5ba45",
      "metadata": {
        "id": "08b5ba45",
        "colab": {
          "base_uri": "https://localhost:8080/",
          "height": 133
        },
        "outputId": "beb8f117-4031-4d7f-8414-4f8cdc76691b"
      },
      "outputs": [
        {
          "output_type": "error",
          "ename": "SyntaxError",
          "evalue": "ignored",
          "traceback": [
            "\u001b[0;36m  File \u001b[0;32m\"<ipython-input-4-d19df685ebd7>\"\u001b[0;36m, line \u001b[0;32m1\u001b[0m\n\u001b[0;31m    Este el cuaderno de  de Paula bula y es sólo mio\u001b[0m\n\u001b[0m         ^\u001b[0m\n\u001b[0;31mSyntaxError\u001b[0m\u001b[0;31m:\u001b[0m invalid syntax\n"
          ]
        }
      ],
      "source": [
        "Este el cuaderno de  de Paula bula y es sólo mio \n",
        "bulavergaramariapaula@gmail.com"
      ]
    },
    {
      "cell_type": "markdown",
      "id": "37cda332",
      "metadata": {
        "id": "37cda332"
      },
      "source": [
        "# Gráficos de funciones"
      ]
    },
    {
      "cell_type": "markdown",
      "id": "25c0785b",
      "metadata": {
        "id": "25c0785b"
      },
      "source": [
        "## Objetivo de aprendizaje\n",
        "\n",
        "* saber graficar a mano unos datos y saber interpretarlos. "
      ]
    },
    {
      "cell_type": "markdown",
      "id": "160056a6",
      "metadata": {
        "id": "160056a6"
      },
      "source": [
        "# Relación de sustancia cancerígena con índice de mortalidad\n",
        "\n",
        "*Marco*\n",
        "\n",
        "**Marco**"
      ]
    },
    {
      "cell_type": "code",
      "execution_count": 7,
      "id": "0c0553a2",
      "metadata": {
        "id": "0c0553a2"
      },
      "outputs": [],
      "source": [
        "indice_exposicion=[3.5,3.58,4.42,2.26,2.63,4.85,12.65,7.42,9.35]"
      ]
    },
    {
      "cell_type": "code",
      "source": [
        "indice_mortalidad =[150.1,133.1,132.9,116.7,140.7,165.5,210.7,181.0,231.4]"
      ],
      "metadata": {
        "id": "eEIB7j9Uz_Xd"
      },
      "id": "eEIB7j9Uz_Xd",
      "execution_count": 8,
      "outputs": []
    },
    {
      "cell_type": "code",
      "execution_count": 9,
      "id": "c1be8e8f",
      "metadata": {
        "id": "c1be8e8f",
        "colab": {
          "base_uri": "https://localhost:8080/"
        },
        "outputId": "4a848317-6956-456e-f4e1-a2b40116a1d0"
      },
      "outputs": [
        {
          "output_type": "execute_result",
          "data": {
            "text/plain": [
              "True"
            ]
          },
          "metadata": {},
          "execution_count": 9
        }
      ],
      "source": [
        "len(indice_exposicion)==len(indice_mortalidad)"
      ]
    },
    {
      "cell_type": "markdown",
      "source": [
        "es decir,los indices tienen la misma longitud"
      ],
      "metadata": {
        "id": "eXMukbX53a8L"
      },
      "id": "eXMukbX53a8L"
    },
    {
      "cell_type": "code",
      "execution_count": 10,
      "id": "d7679e10",
      "metadata": {
        "id": "d7679e10"
      },
      "outputs": [],
      "source": [
        "import pandas as pd"
      ]
    },
    {
      "cell_type": "code",
      "source": [
        "diccionario ={\"indice de exposicion\":indice_exposicion,\"indice de mortalidad\":indice_mortalidad}"
      ],
      "metadata": {
        "id": "CqmJD-Kz-am5"
      },
      "id": "CqmJD-Kz-am5",
      "execution_count": 11,
      "outputs": []
    },
    {
      "cell_type": "markdown",
      "source": [],
      "metadata": {
        "id": "8tTvPaRX9UtG"
      },
      "id": "8tTvPaRX9UtG"
    },
    {
      "cell_type": "markdown",
      "id": "3031ee87",
      "metadata": {
        "id": "3031ee87"
      },
      "source": [
        "[Evaluemos al profesor aquí](https://forms.office.com/Pages/ResponsePage.aspx?id=IefhmYRxjkmK_7KtTlPBwkanXIs1i1FEujpsZgO6dXpUREJPV1kxUk1JV1ozTFJIQVNIQjY5WEY3US4u)"
      ]
    },
    {
      "cell_type": "code",
      "execution_count": 12,
      "id": "86cd15b1",
      "metadata": {
        "id": "86cd15b1",
        "colab": {
          "base_uri": "https://localhost:8080/",
          "height": 331
        },
        "outputId": "146a1c4e-371f-4841-d3b4-6ed2324d8d84"
      },
      "outputs": [
        {
          "output_type": "execute_result",
          "data": {
            "text/plain": [
              "   indice de exposicion  indice de mortalidad\n",
              "0                  3.50                 150.1\n",
              "1                  3.58                 133.1\n",
              "2                  4.42                 132.9\n",
              "3                  2.26                 116.7\n",
              "4                  2.63                 140.7\n",
              "5                  4.85                 165.5\n",
              "6                 12.65                 210.7\n",
              "7                  7.42                 181.0\n",
              "8                  9.35                 231.4"
            ],
            "text/html": [
              "\n",
              "  <div id=\"df-b3f81d12-efd9-4104-b9a7-33cd46178ef9\">\n",
              "    <div class=\"colab-df-container\">\n",
              "      <div>\n",
              "<style scoped>\n",
              "    .dataframe tbody tr th:only-of-type {\n",
              "        vertical-align: middle;\n",
              "    }\n",
              "\n",
              "    .dataframe tbody tr th {\n",
              "        vertical-align: top;\n",
              "    }\n",
              "\n",
              "    .dataframe thead th {\n",
              "        text-align: right;\n",
              "    }\n",
              "</style>\n",
              "<table border=\"1\" class=\"dataframe\">\n",
              "  <thead>\n",
              "    <tr style=\"text-align: right;\">\n",
              "      <th></th>\n",
              "      <th>indice de exposicion</th>\n",
              "      <th>indice de mortalidad</th>\n",
              "    </tr>\n",
              "  </thead>\n",
              "  <tbody>\n",
              "    <tr>\n",
              "      <th>0</th>\n",
              "      <td>3.50</td>\n",
              "      <td>150.1</td>\n",
              "    </tr>\n",
              "    <tr>\n",
              "      <th>1</th>\n",
              "      <td>3.58</td>\n",
              "      <td>133.1</td>\n",
              "    </tr>\n",
              "    <tr>\n",
              "      <th>2</th>\n",
              "      <td>4.42</td>\n",
              "      <td>132.9</td>\n",
              "    </tr>\n",
              "    <tr>\n",
              "      <th>3</th>\n",
              "      <td>2.26</td>\n",
              "      <td>116.7</td>\n",
              "    </tr>\n",
              "    <tr>\n",
              "      <th>4</th>\n",
              "      <td>2.63</td>\n",
              "      <td>140.7</td>\n",
              "    </tr>\n",
              "    <tr>\n",
              "      <th>5</th>\n",
              "      <td>4.85</td>\n",
              "      <td>165.5</td>\n",
              "    </tr>\n",
              "    <tr>\n",
              "      <th>6</th>\n",
              "      <td>12.65</td>\n",
              "      <td>210.7</td>\n",
              "    </tr>\n",
              "    <tr>\n",
              "      <th>7</th>\n",
              "      <td>7.42</td>\n",
              "      <td>181.0</td>\n",
              "    </tr>\n",
              "    <tr>\n",
              "      <th>8</th>\n",
              "      <td>9.35</td>\n",
              "      <td>231.4</td>\n",
              "    </tr>\n",
              "  </tbody>\n",
              "</table>\n",
              "</div>\n",
              "      <button class=\"colab-df-convert\" onclick=\"convertToInteractive('df-b3f81d12-efd9-4104-b9a7-33cd46178ef9')\"\n",
              "              title=\"Convert this dataframe to an interactive table.\"\n",
              "              style=\"display:none;\">\n",
              "        \n",
              "  <svg xmlns=\"http://www.w3.org/2000/svg\" height=\"24px\"viewBox=\"0 0 24 24\"\n",
              "       width=\"24px\">\n",
              "    <path d=\"M0 0h24v24H0V0z\" fill=\"none\"/>\n",
              "    <path d=\"M18.56 5.44l.94 2.06.94-2.06 2.06-.94-2.06-.94-.94-2.06-.94 2.06-2.06.94zm-11 1L8.5 8.5l.94-2.06 2.06-.94-2.06-.94L8.5 2.5l-.94 2.06-2.06.94zm10 10l.94 2.06.94-2.06 2.06-.94-2.06-.94-.94-2.06-.94 2.06-2.06.94z\"/><path d=\"M17.41 7.96l-1.37-1.37c-.4-.4-.92-.59-1.43-.59-.52 0-1.04.2-1.43.59L10.3 9.45l-7.72 7.72c-.78.78-.78 2.05 0 2.83L4 21.41c.39.39.9.59 1.41.59.51 0 1.02-.2 1.41-.59l7.78-7.78 2.81-2.81c.8-.78.8-2.07 0-2.86zM5.41 20L4 18.59l7.72-7.72 1.47 1.35L5.41 20z\"/>\n",
              "  </svg>\n",
              "      </button>\n",
              "      \n",
              "  <style>\n",
              "    .colab-df-container {\n",
              "      display:flex;\n",
              "      flex-wrap:wrap;\n",
              "      gap: 12px;\n",
              "    }\n",
              "\n",
              "    .colab-df-convert {\n",
              "      background-color: #E8F0FE;\n",
              "      border: none;\n",
              "      border-radius: 50%;\n",
              "      cursor: pointer;\n",
              "      display: none;\n",
              "      fill: #1967D2;\n",
              "      height: 32px;\n",
              "      padding: 0 0 0 0;\n",
              "      width: 32px;\n",
              "    }\n",
              "\n",
              "    .colab-df-convert:hover {\n",
              "      background-color: #E2EBFA;\n",
              "      box-shadow: 0px 1px 2px rgba(60, 64, 67, 0.3), 0px 1px 3px 1px rgba(60, 64, 67, 0.15);\n",
              "      fill: #174EA6;\n",
              "    }\n",
              "\n",
              "    [theme=dark] .colab-df-convert {\n",
              "      background-color: #3B4455;\n",
              "      fill: #D2E3FC;\n",
              "    }\n",
              "\n",
              "    [theme=dark] .colab-df-convert:hover {\n",
              "      background-color: #434B5C;\n",
              "      box-shadow: 0px 1px 3px 1px rgba(0, 0, 0, 0.15);\n",
              "      filter: drop-shadow(0px 1px 2px rgba(0, 0, 0, 0.3));\n",
              "      fill: #FFFFFF;\n",
              "    }\n",
              "  </style>\n",
              "\n",
              "      <script>\n",
              "        const buttonEl =\n",
              "          document.querySelector('#df-b3f81d12-efd9-4104-b9a7-33cd46178ef9 button.colab-df-convert');\n",
              "        buttonEl.style.display =\n",
              "          google.colab.kernel.accessAllowed ? 'block' : 'none';\n",
              "\n",
              "        async function convertToInteractive(key) {\n",
              "          const element = document.querySelector('#df-b3f81d12-efd9-4104-b9a7-33cd46178ef9');\n",
              "          const dataTable =\n",
              "            await google.colab.kernel.invokeFunction('convertToInteractive',\n",
              "                                                     [key], {});\n",
              "          if (!dataTable) return;\n",
              "\n",
              "          const docLinkHtml = 'Like what you see? Visit the ' +\n",
              "            '<a target=\"_blank\" href=https://colab.research.google.com/notebooks/data_table.ipynb>data table notebook</a>'\n",
              "            + ' to learn more about interactive tables.';\n",
              "          element.innerHTML = '';\n",
              "          dataTable['output_type'] = 'display_data';\n",
              "          await google.colab.output.renderOutput(dataTable, element);\n",
              "          const docLink = document.createElement('div');\n",
              "          docLink.innerHTML = docLinkHtml;\n",
              "          element.appendChild(docLink);\n",
              "        }\n",
              "      </script>\n",
              "    </div>\n",
              "  </div>\n",
              "  "
            ]
          },
          "metadata": {},
          "execution_count": 12
        }
      ],
      "source": [
        "tabla=pd.DataFrame(diccionario)\n",
        "tabla"
      ]
    },
    {
      "cell_type": "markdown",
      "source": [
        "## Incluyamos algunas inferencias o interpretaciones de la tabla obtenida. \n",
        "\n",
        "1.  \n",
        "2.  \n",
        "3.  \n",
        "4.  \n",
        "\n"
      ],
      "metadata": {
        "id": "meEioWYhXbqm"
      },
      "id": "meEioWYhXbqm"
    },
    {
      "cell_type": "code",
      "source": [
        "import numpy as np \n",
        "\n",
        "import matplotlib.pyplot as plt \n",
        "\n",
        "plt.scatter(indice_exposicion, indice_mortalidad)"
      ],
      "metadata": {
        "colab": {
          "base_uri": "https://localhost:8080/",
          "height": 283
        },
        "id": "DYNQUh4VXkUi",
        "outputId": "b8aa7b5d-3b99-4713-bc5c-ed48a9a3a634"
      },
      "id": "DYNQUh4VXkUi",
      "execution_count": 13,
      "outputs": [
        {
          "output_type": "execute_result",
          "data": {
            "text/plain": [
              "<matplotlib.collections.PathCollection at 0x7fb174069d60>"
            ]
          },
          "metadata": {},
          "execution_count": 13
        },
        {
          "output_type": "display_data",
          "data": {
            "text/plain": [
              "<Figure size 432x288 with 1 Axes>"
            ],
            "image/png": "[encoded data removed]"
          },
          "metadata": {
            "needs_background": "light"
          }
        }
      ]
    },
    {
      "cell_type": "markdown",
      "source": [
        "## Realicemos algunas inferencias o interpretaciones del anterior diagrama de dispersión: \n",
        "\n",
        "1.  \n",
        "2.  \n",
        "3. \n",
        "4.  \n",
        "\n"
      ],
      "metadata": {
        "id": "lDgGf-voYIwV"
      },
      "id": "lDgGf-voYIwV"
    }
  ],
  "metadata": {
    "kernelspec": {
      "display_name": "Python 3 (ipykernel)",
      "language": "python",
      "name": "python3"
    },
    "language_info": {
      "codemirror_mode": {
        "name": "ipython",
        "version": 3
      },
      "file_extension": ".py",
      "mimetype": "text/x-python",
      "name": "python",
      "nbconvert_exporter": "python",
      "pygments_lexer": "ipython3",
      "version": "3.9.13"
    },
    "colab": {
      "provenance": []
    }
  },
  "nbformat": 4,
  "nbformat_minor": 5
}