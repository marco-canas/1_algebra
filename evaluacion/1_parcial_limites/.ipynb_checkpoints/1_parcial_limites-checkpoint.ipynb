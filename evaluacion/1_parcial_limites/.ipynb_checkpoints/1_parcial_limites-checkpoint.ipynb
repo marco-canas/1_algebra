{
 "cells": [
  {
   "cell_type": "markdown",
   "id": "b719236c",
   "metadata": {
    "slideshow": {
     "slide_type": "slide"
    }
   },
   "source": [
    "<table align=\"left\">\n",
    "  <td>\n",
    "    <a href=\"https://colab.research.google.com/github/marco-canas/algebra/blob/main/classes/ciencia_datos/1_class/1_class.ipynb\" target=\"_parent\"><img src=\"https://colab.research.google.com/assets/colab-badge.svg\" alt=\"Open In Colab\"/></a>\n",
    "  </td>\n",
    "</table>"
   ]
  },
  {
   "cell_type": "markdown",
   "id": "93eb813a",
   "metadata": {
    "slideshow": {
     "slide_type": "slide"
    }
   },
   "source": [
    "## [Video descriptivo del parcial 1: Límites]()\n",
    "\n",
    "* Punto teórico\n",
    "* punto procedimental\n",
    "* Punto aplicativo o de modelación"
   ]
  },
  {
   "cell_type": "markdown",
   "id": "3e107df6",
   "metadata": {
    "slideshow": {
     "slide_type": "slide"
    }
   },
   "source": [
    "# Punto teórico\n",
    "(20 puntos)\n",
    "\n",
    "En los ejercicios 1 y 2, determinar si el problema se puede resolver usando conocimientos previos al cálculo, o si se requiere el cálculo. \n",
    "\n",
    "Resolver el problema si se puede utilizar precálculo. En caso de que sea necesario el cálculo, explicar por qué. Encontrar la solución usando un método gráfico o numérico.  \n",
    "\n",
    " 1. Calcular la distancia entre los puntos (1, 1) y (3, 9) a lo largo de la curva $y = x^{2}$.  \n",
    " \n",
    " 2. Calcular la distancia entre los puntos (1, 1) y (3, 9) a lo largo de la recta $y = 4x - 3$.\n",
    "\n",
    "Tomado de la página 110 del Larson. \n"
   ]
  },
  {
   "cell_type": "markdown",
   "id": "c7cd5bda",
   "metadata": {
    "slideshow": {
     "slide_type": "slide"
    }
   },
   "source": [
    "## Punto procedimental  \n",
    "\n",
    "dibujar la gráfica de $f$. Después identificar los valores de $c$ para los que existe el límite $\\lim\\limits_{x \\to c} f(x)$\n",
    "\n",
    "$$ f(x) = \\begin{cases} x^{2} & x \\leq 2 \\\\ \n",
    "8 - 2x & 2 < x < 4 \\\\\n",
    "4 & x \\geq 4\n",
    "\\end{cases}\n",
    "$$"
   ]
  },
  {
   "cell_type": "markdown",
   "id": "a0d78759",
   "metadata": {
    "slideshow": {
     "slide_type": "slide"
    }
   },
   "source": [
    "## Punto de aplicación o modelado"
   ]
  },
  {
   "cell_type": "markdown",
   "id": "299bb162",
   "metadata": {
    "slideshow": {
     "slide_type": "slide"
    }
   },
   "source": [
    "Elaboración de modelos Un nadador cruza una piscina de una anchura $b$ nadando en línea recta desde $(0, 0)$ hasta $(2b, b)$ (ver la figura).\n",
    "\n",
    "<img src = 'https://github.com/marco-canas/1_algebra/blob/main/evaluacion/1_parcial_limites/nadar_1.png?raw=true'>   "
   ]
  },
  {
   "cell_type": "markdown",
   "id": "c390a5fd",
   "metadata": {
    "slideshow": {
     "slide_type": "slide"
    }
   },
   "source": [
    "a) Sea $f$ una función definida como la coordenada $y$ del punto sobre el lado más largo de la piscina que se encuentra más cerca del nadador en cualquier momento dado durante su trayecto a través de la piscina. Encontrar la función $f$ y construir su gráfica. ¿Se trata de una función continua? \n",
    "Explicar la respuesta.  "
   ]
  },
  {
   "cell_type": "markdown",
   "id": "d1cf0846",
   "metadata": {
    "slideshow": {
     "slide_type": "slide"
    }
   },
   "source": [
    "b) Sea $g$ la distancia mínima entre el nadador y el lado más largo de la piscina. Encontrar la función $g$ y construir la gráfica. ¿Se trata de una función continua? Explicar la respuesta.\n",
    "\n",
    "Página 101, ejercicio 114 del Larson. "
   ]
  },
  {
   "cell_type": "code",
   "execution_count": null,
   "id": "3c0ddb0b",
   "metadata": {
    "slideshow": {
     "slide_type": "slide"
    }
   },
   "outputs": [],
   "source": []
  },
  {
   "cell_type": "code",
   "execution_count": null,
   "id": "2b59d6a9",
   "metadata": {},
   "outputs": [],
   "source": []
  },
  {
   "cell_type": "code",
   "execution_count": null,
   "id": "e0e846ab",
   "metadata": {},
   "outputs": [],
   "source": []
  },
  {
   "cell_type": "code",
   "execution_count": null,
   "id": "4d76c452",
   "metadata": {},
   "outputs": [],
   "source": []
  },
  {
   "cell_type": "code",
   "execution_count": null,
   "id": "23292bde",
   "metadata": {},
   "outputs": [],
   "source": []
  },
  {
   "cell_type": "code",
   "execution_count": null,
   "id": "684f5af4",
   "metadata": {},
   "outputs": [],
   "source": []
  },
  {
   "cell_type": "code",
   "execution_count": null,
   "id": "88123cab",
   "metadata": {},
   "outputs": [],
   "source": []
  },
  {
   "cell_type": "markdown",
   "id": "49f53c34",
   "metadata": {
    "slideshow": {
     "slide_type": "slide"
    }
   },
   "source": [
    "# Parcial 1 de Álgebra y trigonometría"
   ]
  },
  {
   "cell_type": "markdown",
   "id": "208dda28",
   "metadata": {
    "slideshow": {
     "slide_type": "slide"
    }
   },
   "source": [
    "Altura de un árbol Un aserrador estima la altura de un árbol alto midiendo primero un árbol pequeño alejado 125 pies del árbol alto; luego se desplaza de tal manera que sus ojos estén en la visual de las copas de los árboles y mide después qué tan lejos está del árbol pequeño (véase la figura).  \n",
    "\n",
    "Suponga que el árbol pequeño mide 20 pies de altura, el hombre está a 25 pies del árbol pequeño y sus ojos están a\n",
    "5 pies por arriba del suelo. ¿Cuánto mide el árbol más alto?\n",
    "\n",
    "<img src = 'https://github.com/marco-canas/algebra/blob/main/classes/medicion/metodo_visual_altura.png?raw=true'>"
   ]
  },
  {
   "cell_type": "code",
   "execution_count": null,
   "id": "1fcb7d98",
   "metadata": {
    "slideshow": {
     "slide_type": "slide"
    }
   },
   "outputs": [],
   "source": []
  },
  {
   "cell_type": "code",
   "execution_count": null,
   "id": "55ac27c0",
   "metadata": {},
   "outputs": [],
   "source": []
  },
  {
   "cell_type": "code",
   "execution_count": null,
   "id": "aa3dc2df",
   "metadata": {},
   "outputs": [],
   "source": []
  }
 ],
 "metadata": {
  "celltoolbar": "Slideshow",
  "kernelspec": {
   "display_name": "Python 3 (ipykernel)",
   "language": "python",
   "name": "python3"
  },
  "language_info": {
   "codemirror_mode": {
    "name": "ipython",
    "version": 3
   },
   "file_extension": ".py",
   "mimetype": "text/x-python",
   "name": "python",
   "nbconvert_exporter": "python",
   "pygments_lexer": "ipython3",
   "version": "3.9.13"
  }
 },
 "nbformat": 4,
 "nbformat_minor": 5
}
